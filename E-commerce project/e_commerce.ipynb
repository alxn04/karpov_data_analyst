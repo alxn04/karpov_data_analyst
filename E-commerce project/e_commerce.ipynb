{
 "cells": [
  {
   "cell_type": "markdown",
   "id": "4f707b7e-7337-47b8-84f8-45ef16631850",
   "metadata": {},
   "source": [
    "# Проект e-commerce"
   ]
  },
  {
   "cell_type": "markdown",
   "id": "4d251aa4-af88-4de5-84c7-7353ab2f6ccd",
   "metadata": {},
   "source": [
    "## Задание"
   ]
  },
  {
   "cell_type": "markdown",
   "id": "b415903d-f136-474f-8cf1-6e4e54d2c247",
   "metadata": {},
   "source": [
    "Продакт-менеджер Василий попросил вас проанализировать совершенные покупки и ответить на следующие вопросы:\n",
    "\n",
    "1. Сколько у нас пользователей, которые совершили покупку только один раз? \n",
    "\n",
    "2. Сколько заказов в месяц в среднем не доставляется по разным причинам (вывести детализацию по причинам)? \n",
    "\n",
    "3. По каждому товару определить, в какой день недели товар чаще всего покупается. \n",
    "\n",
    "4. Сколько у каждого из пользователей в среднем покупок в неделю (по месяцам)? Не стоит забывать, что внутри месяца может быть не целое количество недель. Например, в ноябре 2021 года 4,28 недели. И внутри метрики это нужно учесть. \n",
    "\n",
    "5. Используя pandas, проведи когортный анализ пользователей. В период с января по декабрь выяви когорту с самым высоким retention на 3й месяц.\n",
    "\n",
    "6. Используя python, построй RFM-сегментацию пользователей, чтобы качественно оценить свою аудиторию. \n",
    "\n",
    "Для решения задачи проведи предварительное исследование данных и сформулируй, что должно считаться покупкой. Обосновать свой выбор ты можешь с помощью фактов оплат, статусов заказов и других имеющихся данных."
   ]
  },
  {
   "cell_type": "markdown",
   "id": "2e76285b-db50-41fd-84a1-3140539e779b",
   "metadata": {},
   "source": [
    "## Описание данных"
   ]
  },
  {
   "cell_type": "markdown",
   "id": "4f320d85-bd43-44b7-888c-a9d9300092e7",
   "metadata": {},
   "source": [
    "* olist_customers_dataset.csv - таблица с уникальными идентификаторами пользователей\n",
    "\n",
    "`customer_id` - позаказный идентификатор пользователя <br>\n",
    "\n",
    "`customer_unique_id` — уникальный идентификатор пользователя (аналог номера паспорта) <br>\n",
    "\n",
    "`customer_zip_code_prefix` — почтовый индекс пользователя <br>\n",
    "\n",
    "`customer_city ` — город доставки пользователя <br>\n",
    "\n",
    "`customer_state ` — штат доставки пользователя <br>"
   ]
  },
  {
   "cell_type": "markdown",
   "id": "be705cb7-9782-47c8-a699-bc7c9d584f89",
   "metadata": {},
   "source": [
    "* olist_orders_dataset.csv — таблица заказов\n",
    "\n",
    "`customer_id` - позаказный идентификатор пользователя <br>\n",
    "\n",
    "`order_id` — уникальный идентификатор заказа (номер чека) <br>\n",
    "\n",
    "`order_status` — статус заказа <br>\n",
    "\n",
    "`order_purchase_timestamp` — время создания заказа <br>\n",
    "\n",
    "`order_approved_at` — время подтверждения оплаты заказа <br>\n",
    "\n",
    "`order_delivered_carrier_date` — время передачи заказа в логистическую службу <br>\n",
    "\n",
    "`order_delivered_customer_date` — время доставки заказа <br> \n",
    "\n",
    "`order_estimated_delivery_date` — обещанная дата доставки <br>"
   ]
  },
  {
   "cell_type": "markdown",
   "id": "8aaa841d-eedc-4895-9d08-9b73d851f09e",
   "metadata": {},
   "source": [
    "* olist_order_items_dataset.csv — товарные позиции, входящие в заказы\n",
    "\n",
    "`order_id` — уникальный идентификатор заказа (номер чека) <br>\n",
    "\n",
    "`order_item_id` — идентификатор товара внутри одного заказа <br>\n",
    "\n",
    "`product_id` — ид товара (аналог штрихкода) <br>\n",
    "\n",
    "`seller_id` — ид производителя товара <br>\n",
    "\n",
    "`shipping_limit_date` — максимальная дата доставки продавцом для передачи заказа партнеру по логистике <br>\n",
    "\n",
    "`price` — цена за единицу товара <br>\n",
    "\n",
    "`freight_value` — вес товара <br>"
   ]
  },
  {
   "cell_type": "markdown",
   "id": "9dc88b1d-ddcf-429e-8097-576cd4f4e61d",
   "metadata": {},
   "source": [
    "## 1. Подготовка данных"
   ]
  },
  {
   "cell_type": "code",
   "execution_count": 12,
   "id": "296bd596-1d2f-4640-9343-c34530049c75",
   "metadata": {},
   "outputs": [],
   "source": [
    "import pandas as pd\n",
    "import seaborn as sns\n",
    "import matplotlib.dates as mdates\n",
    "import numpy as np\n",
    "import matplotlib.pyplot as plt\n",
    "%matplotlib inline"
   ]
  },
  {
   "cell_type": "markdown",
   "id": "bba2db9b-74a9-4faa-8fe7-50132e332c57",
   "metadata": {},
   "source": [
    "* Таблица с пользователями"
   ]
  },
  {
   "cell_type": "code",
   "execution_count": 14,
   "id": "c6dab9f1-3535-4669-b199-4a9c616689bf",
   "metadata": {},
   "outputs": [
    {
     "data": {
      "text/html": [
       "<div>\n",
       "<style scoped>\n",
       "    .dataframe tbody tr th:only-of-type {\n",
       "        vertical-align: middle;\n",
       "    }\n",
       "\n",
       "    .dataframe tbody tr th {\n",
       "        vertical-align: top;\n",
       "    }\n",
       "\n",
       "    .dataframe thead th {\n",
       "        text-align: right;\n",
       "    }\n",
       "</style>\n",
       "<table border=\"1\" class=\"dataframe\">\n",
       "  <thead>\n",
       "    <tr style=\"text-align: right;\">\n",
       "      <th></th>\n",
       "      <th>customer_id</th>\n",
       "      <th>customer_unique_id</th>\n",
       "      <th>customer_zip_code_prefix</th>\n",
       "      <th>customer_city</th>\n",
       "      <th>customer_state</th>\n",
       "    </tr>\n",
       "  </thead>\n",
       "  <tbody>\n",
       "    <tr>\n",
       "      <th>0</th>\n",
       "      <td>06b8999e2fba1a1fbc88172c00ba8bc7</td>\n",
       "      <td>861eff4711a542e4b93843c6dd7febb0</td>\n",
       "      <td>14409</td>\n",
       "      <td>franca</td>\n",
       "      <td>SP</td>\n",
       "    </tr>\n",
       "    <tr>\n",
       "      <th>1</th>\n",
       "      <td>18955e83d337fd6b2def6b18a428ac77</td>\n",
       "      <td>290c77bc529b7ac935b93aa66c333dc3</td>\n",
       "      <td>9790</td>\n",
       "      <td>sao bernardo do campo</td>\n",
       "      <td>SP</td>\n",
       "    </tr>\n",
       "    <tr>\n",
       "      <th>2</th>\n",
       "      <td>4e7b3e00288586ebd08712fdd0374a03</td>\n",
       "      <td>060e732b5b29e8181a18229c7b0b2b5e</td>\n",
       "      <td>1151</td>\n",
       "      <td>sao paulo</td>\n",
       "      <td>SP</td>\n",
       "    </tr>\n",
       "    <tr>\n",
       "      <th>3</th>\n",
       "      <td>b2b6027bc5c5109e529d4dc6358b12c3</td>\n",
       "      <td>259dac757896d24d7702b9acbbff3f3c</td>\n",
       "      <td>8775</td>\n",
       "      <td>mogi das cruzes</td>\n",
       "      <td>SP</td>\n",
       "    </tr>\n",
       "    <tr>\n",
       "      <th>4</th>\n",
       "      <td>4f2d8ab171c80ec8364f7c12e35b23ad</td>\n",
       "      <td>345ecd01c38d18a9036ed96c73b8d066</td>\n",
       "      <td>13056</td>\n",
       "      <td>campinas</td>\n",
       "      <td>SP</td>\n",
       "    </tr>\n",
       "  </tbody>\n",
       "</table>\n",
       "</div>"
      ],
      "text/plain": [
       "                        customer_id                customer_unique_id  \\\n",
       "0  06b8999e2fba1a1fbc88172c00ba8bc7  861eff4711a542e4b93843c6dd7febb0   \n",
       "1  18955e83d337fd6b2def6b18a428ac77  290c77bc529b7ac935b93aa66c333dc3   \n",
       "2  4e7b3e00288586ebd08712fdd0374a03  060e732b5b29e8181a18229c7b0b2b5e   \n",
       "3  b2b6027bc5c5109e529d4dc6358b12c3  259dac757896d24d7702b9acbbff3f3c   \n",
       "4  4f2d8ab171c80ec8364f7c12e35b23ad  345ecd01c38d18a9036ed96c73b8d066   \n",
       "\n",
       "   customer_zip_code_prefix          customer_city customer_state  \n",
       "0                     14409                 franca             SP  \n",
       "1                      9790  sao bernardo do campo             SP  \n",
       "2                      1151              sao paulo             SP  \n",
       "3                      8775        mogi das cruzes             SP  \n",
       "4                     13056               campinas             SP  "
      ]
     },
     "execution_count": 14,
     "metadata": {},
     "output_type": "execute_result"
    }
   ],
   "source": [
    "customer_data = pd.read_csv('olist_customers_dataset.csv')\n",
    "customer_data.head()"
   ]
  },
  {
   "cell_type": "code",
   "execution_count": 15,
   "id": "ddad2c3a-fe90-4440-adb1-8b771d500ff1",
   "metadata": {},
   "outputs": [
    {
     "data": {
      "text/plain": [
       "(99441, 5)"
      ]
     },
     "execution_count": 15,
     "metadata": {},
     "output_type": "execute_result"
    }
   ],
   "source": [
    "customer_data.shape"
   ]
  },
  {
   "cell_type": "code",
   "execution_count": 16,
   "id": "dbd81346-47bb-4f01-b204-256c4d38d200",
   "metadata": {},
   "outputs": [
    {
     "data": {
      "text/plain": [
       "customer_id                 object\n",
       "customer_unique_id          object\n",
       "customer_zip_code_prefix     int64\n",
       "customer_city               object\n",
       "customer_state              object\n",
       "dtype: object"
      ]
     },
     "execution_count": 16,
     "metadata": {},
     "output_type": "execute_result"
    }
   ],
   "source": [
    "customer_data.dtypes"
   ]
  },
  {
   "cell_type": "code",
   "execution_count": 17,
   "id": "0b5513ef-ce6b-448d-ad1d-4ceea15714d3",
   "metadata": {},
   "outputs": [
    {
     "data": {
      "text/plain": [
       "customer_id                 0\n",
       "customer_unique_id          0\n",
       "customer_zip_code_prefix    0\n",
       "customer_city               0\n",
       "customer_state              0\n",
       "dtype: int64"
      ]
     },
     "execution_count": 17,
     "metadata": {},
     "output_type": "execute_result"
    }
   ],
   "source": [
    "customer_data.isna().sum()"
   ]
  },
  {
   "cell_type": "markdown",
   "id": "7a980a29-5843-4b0a-9bfb-6470ab4d63bd",
   "metadata": {},
   "source": [
    "* Таблица с заказами"
   ]
  },
  {
   "cell_type": "code",
   "execution_count": 19,
   "id": "5b0dcf8a-9954-48c4-847d-a95844ed964b",
   "metadata": {},
   "outputs": [
    {
     "data": {
      "text/html": [
       "<div>\n",
       "<style scoped>\n",
       "    .dataframe tbody tr th:only-of-type {\n",
       "        vertical-align: middle;\n",
       "    }\n",
       "\n",
       "    .dataframe tbody tr th {\n",
       "        vertical-align: top;\n",
       "    }\n",
       "\n",
       "    .dataframe thead th {\n",
       "        text-align: right;\n",
       "    }\n",
       "</style>\n",
       "<table border=\"1\" class=\"dataframe\">\n",
       "  <thead>\n",
       "    <tr style=\"text-align: right;\">\n",
       "      <th></th>\n",
       "      <th>order_id</th>\n",
       "      <th>customer_id</th>\n",
       "      <th>order_status</th>\n",
       "      <th>order_purchase_timestamp</th>\n",
       "      <th>order_approved_at</th>\n",
       "      <th>order_delivered_carrier_date</th>\n",
       "      <th>order_delivered_customer_date</th>\n",
       "      <th>order_estimated_delivery_date</th>\n",
       "    </tr>\n",
       "  </thead>\n",
       "  <tbody>\n",
       "    <tr>\n",
       "      <th>0</th>\n",
       "      <td>e481f51cbdc54678b7cc49136f2d6af7</td>\n",
       "      <td>9ef432eb6251297304e76186b10a928d</td>\n",
       "      <td>delivered</td>\n",
       "      <td>2017-10-02 10:56:33</td>\n",
       "      <td>2017-10-02 11:07:15</td>\n",
       "      <td>2017-10-04 19:55:00</td>\n",
       "      <td>2017-10-10 21:25:13</td>\n",
       "      <td>2017-10-18</td>\n",
       "    </tr>\n",
       "    <tr>\n",
       "      <th>1</th>\n",
       "      <td>53cdb2fc8bc7dce0b6741e2150273451</td>\n",
       "      <td>b0830fb4747a6c6d20dea0b8c802d7ef</td>\n",
       "      <td>delivered</td>\n",
       "      <td>2018-07-24 20:41:37</td>\n",
       "      <td>2018-07-26 03:24:27</td>\n",
       "      <td>2018-07-26 14:31:00</td>\n",
       "      <td>2018-08-07 15:27:45</td>\n",
       "      <td>2018-08-13</td>\n",
       "    </tr>\n",
       "    <tr>\n",
       "      <th>2</th>\n",
       "      <td>47770eb9100c2d0c44946d9cf07ec65d</td>\n",
       "      <td>41ce2a54c0b03bf3443c3d931a367089</td>\n",
       "      <td>delivered</td>\n",
       "      <td>2018-08-08 08:38:49</td>\n",
       "      <td>2018-08-08 08:55:23</td>\n",
       "      <td>2018-08-08 13:50:00</td>\n",
       "      <td>2018-08-17 18:06:29</td>\n",
       "      <td>2018-09-04</td>\n",
       "    </tr>\n",
       "    <tr>\n",
       "      <th>3</th>\n",
       "      <td>949d5b44dbf5de918fe9c16f97b45f8a</td>\n",
       "      <td>f88197465ea7920adcdbec7375364d82</td>\n",
       "      <td>delivered</td>\n",
       "      <td>2017-11-18 19:28:06</td>\n",
       "      <td>2017-11-18 19:45:59</td>\n",
       "      <td>2017-11-22 13:39:59</td>\n",
       "      <td>2017-12-02 00:28:42</td>\n",
       "      <td>2017-12-15</td>\n",
       "    </tr>\n",
       "    <tr>\n",
       "      <th>4</th>\n",
       "      <td>ad21c59c0840e6cb83a9ceb5573f8159</td>\n",
       "      <td>8ab97904e6daea8866dbdbc4fb7aad2c</td>\n",
       "      <td>delivered</td>\n",
       "      <td>2018-02-13 21:18:39</td>\n",
       "      <td>2018-02-13 22:20:29</td>\n",
       "      <td>2018-02-14 19:46:34</td>\n",
       "      <td>2018-02-16 18:17:02</td>\n",
       "      <td>2018-02-26</td>\n",
       "    </tr>\n",
       "  </tbody>\n",
       "</table>\n",
       "</div>"
      ],
      "text/plain": [
       "                           order_id                       customer_id  \\\n",
       "0  e481f51cbdc54678b7cc49136f2d6af7  9ef432eb6251297304e76186b10a928d   \n",
       "1  53cdb2fc8bc7dce0b6741e2150273451  b0830fb4747a6c6d20dea0b8c802d7ef   \n",
       "2  47770eb9100c2d0c44946d9cf07ec65d  41ce2a54c0b03bf3443c3d931a367089   \n",
       "3  949d5b44dbf5de918fe9c16f97b45f8a  f88197465ea7920adcdbec7375364d82   \n",
       "4  ad21c59c0840e6cb83a9ceb5573f8159  8ab97904e6daea8866dbdbc4fb7aad2c   \n",
       "\n",
       "  order_status order_purchase_timestamp   order_approved_at  \\\n",
       "0    delivered      2017-10-02 10:56:33 2017-10-02 11:07:15   \n",
       "1    delivered      2018-07-24 20:41:37 2018-07-26 03:24:27   \n",
       "2    delivered      2018-08-08 08:38:49 2018-08-08 08:55:23   \n",
       "3    delivered      2017-11-18 19:28:06 2017-11-18 19:45:59   \n",
       "4    delivered      2018-02-13 21:18:39 2018-02-13 22:20:29   \n",
       "\n",
       "  order_delivered_carrier_date order_delivered_customer_date  \\\n",
       "0          2017-10-04 19:55:00           2017-10-10 21:25:13   \n",
       "1          2018-07-26 14:31:00           2018-08-07 15:27:45   \n",
       "2          2018-08-08 13:50:00           2018-08-17 18:06:29   \n",
       "3          2017-11-22 13:39:59           2017-12-02 00:28:42   \n",
       "4          2018-02-14 19:46:34           2018-02-16 18:17:02   \n",
       "\n",
       "  order_estimated_delivery_date  \n",
       "0                    2017-10-18  \n",
       "1                    2018-08-13  \n",
       "2                    2018-09-04  \n",
       "3                    2017-12-15  \n",
       "4                    2018-02-26  "
      ]
     },
     "execution_count": 19,
     "metadata": {},
     "output_type": "execute_result"
    }
   ],
   "source": [
    "order_data = pd.read_csv('olist_orders_dataset.csv', \n",
    "                         parse_dates = ['order_purchase_timestamp','order_approved_at',\n",
    "                                       'order_delivered_carrier_date','order_delivered_customer_date',\n",
    "                                       'order_estimated_delivery_date'])\n",
    "order_data.head()"
   ]
  },
  {
   "cell_type": "code",
   "execution_count": 20,
   "id": "08a82438-8f47-4d01-a197-508f69c3b536",
   "metadata": {},
   "outputs": [
    {
     "data": {
      "text/plain": [
       "(99441, 8)"
      ]
     },
     "execution_count": 20,
     "metadata": {},
     "output_type": "execute_result"
    }
   ],
   "source": [
    "order_data.shape"
   ]
  },
  {
   "cell_type": "code",
   "execution_count": 21,
   "id": "5e7a8d44-402d-4162-bfc7-f5b08bcf4c95",
   "metadata": {},
   "outputs": [
    {
     "data": {
      "text/plain": [
       "order_id                                 object\n",
       "customer_id                              object\n",
       "order_status                             object\n",
       "order_purchase_timestamp         datetime64[ns]\n",
       "order_approved_at                datetime64[ns]\n",
       "order_delivered_carrier_date     datetime64[ns]\n",
       "order_delivered_customer_date    datetime64[ns]\n",
       "order_estimated_delivery_date    datetime64[ns]\n",
       "dtype: object"
      ]
     },
     "execution_count": 21,
     "metadata": {},
     "output_type": "execute_result"
    }
   ],
   "source": [
    "order_data.dtypes"
   ]
  },
  {
   "cell_type": "markdown",
   "id": "25f79cad-6d10-46a5-b73f-a7527f65b4da",
   "metadata": {},
   "source": [
    "Отсутствуют значения в следующих столбцах: \n",
    "\n",
    "1. `order_approved_at` - отсутствие значения значит, что заказ не оплачен\n",
    "2. `order_delivered_carrier_date` - отсутствия значения значит, что заказ не передан службе доставки\n",
    "3. `order_delivered_customer_date` - отсутствие значения значит, что заказ еще не доставлен"
   ]
  },
  {
   "cell_type": "code",
   "execution_count": 23,
   "id": "88aa565d-6bc7-4d03-a869-01d47856a421",
   "metadata": {},
   "outputs": [
    {
     "data": {
      "text/plain": [
       "order_id                            0\n",
       "customer_id                         0\n",
       "order_status                        0\n",
       "order_purchase_timestamp            0\n",
       "order_approved_at                 160\n",
       "order_delivered_carrier_date     1783\n",
       "order_delivered_customer_date    2965\n",
       "order_estimated_delivery_date       0\n",
       "dtype: int64"
      ]
     },
     "execution_count": 23,
     "metadata": {},
     "output_type": "execute_result"
    }
   ],
   "source": [
    "order_data.isna().sum()"
   ]
  },
  {
   "cell_type": "markdown",
   "id": "ccceabea-50e6-4908-a19a-5649b6858250",
   "metadata": {},
   "source": [
    "* Таблица с товарами в заказах"
   ]
  },
  {
   "cell_type": "code",
   "execution_count": 25,
   "id": "d1f1cb0c-0e7b-49f0-a06f-4c5d213e081a",
   "metadata": {},
   "outputs": [
    {
     "data": {
      "text/html": [
       "<div>\n",
       "<style scoped>\n",
       "    .dataframe tbody tr th:only-of-type {\n",
       "        vertical-align: middle;\n",
       "    }\n",
       "\n",
       "    .dataframe tbody tr th {\n",
       "        vertical-align: top;\n",
       "    }\n",
       "\n",
       "    .dataframe thead th {\n",
       "        text-align: right;\n",
       "    }\n",
       "</style>\n",
       "<table border=\"1\" class=\"dataframe\">\n",
       "  <thead>\n",
       "    <tr style=\"text-align: right;\">\n",
       "      <th></th>\n",
       "      <th>order_id</th>\n",
       "      <th>order_item_id</th>\n",
       "      <th>product_id</th>\n",
       "      <th>seller_id</th>\n",
       "      <th>shipping_limit_date</th>\n",
       "      <th>price</th>\n",
       "      <th>freight_value</th>\n",
       "    </tr>\n",
       "  </thead>\n",
       "  <tbody>\n",
       "    <tr>\n",
       "      <th>0</th>\n",
       "      <td>00010242fe8c5a6d1ba2dd792cb16214</td>\n",
       "      <td>1</td>\n",
       "      <td>4244733e06e7ecb4970a6e2683c13e61</td>\n",
       "      <td>48436dade18ac8b2bce089ec2a041202</td>\n",
       "      <td>2017-09-19 09:45:35</td>\n",
       "      <td>58.90</td>\n",
       "      <td>13.29</td>\n",
       "    </tr>\n",
       "    <tr>\n",
       "      <th>1</th>\n",
       "      <td>00018f77f2f0320c557190d7a144bdd3</td>\n",
       "      <td>1</td>\n",
       "      <td>e5f2d52b802189ee658865ca93d83a8f</td>\n",
       "      <td>dd7ddc04e1b6c2c614352b383efe2d36</td>\n",
       "      <td>2017-05-03 11:05:13</td>\n",
       "      <td>239.90</td>\n",
       "      <td>19.93</td>\n",
       "    </tr>\n",
       "    <tr>\n",
       "      <th>2</th>\n",
       "      <td>000229ec398224ef6ca0657da4fc703e</td>\n",
       "      <td>1</td>\n",
       "      <td>c777355d18b72b67abbeef9df44fd0fd</td>\n",
       "      <td>5b51032eddd242adc84c38acab88f23d</td>\n",
       "      <td>2018-01-18 14:48:30</td>\n",
       "      <td>199.00</td>\n",
       "      <td>17.87</td>\n",
       "    </tr>\n",
       "    <tr>\n",
       "      <th>3</th>\n",
       "      <td>00024acbcdf0a6daa1e931b038114c75</td>\n",
       "      <td>1</td>\n",
       "      <td>7634da152a4610f1595efa32f14722fc</td>\n",
       "      <td>9d7a1d34a5052409006425275ba1c2b4</td>\n",
       "      <td>2018-08-15 10:10:18</td>\n",
       "      <td>12.99</td>\n",
       "      <td>12.79</td>\n",
       "    </tr>\n",
       "    <tr>\n",
       "      <th>4</th>\n",
       "      <td>00042b26cf59d7ce69dfabb4e55b4fd9</td>\n",
       "      <td>1</td>\n",
       "      <td>ac6c3623068f30de03045865e4e10089</td>\n",
       "      <td>df560393f3a51e74553ab94004ba5c87</td>\n",
       "      <td>2017-02-13 13:57:51</td>\n",
       "      <td>199.90</td>\n",
       "      <td>18.14</td>\n",
       "    </tr>\n",
       "  </tbody>\n",
       "</table>\n",
       "</div>"
      ],
      "text/plain": [
       "                           order_id  order_item_id  \\\n",
       "0  00010242fe8c5a6d1ba2dd792cb16214              1   \n",
       "1  00018f77f2f0320c557190d7a144bdd3              1   \n",
       "2  000229ec398224ef6ca0657da4fc703e              1   \n",
       "3  00024acbcdf0a6daa1e931b038114c75              1   \n",
       "4  00042b26cf59d7ce69dfabb4e55b4fd9              1   \n",
       "\n",
       "                         product_id                         seller_id  \\\n",
       "0  4244733e06e7ecb4970a6e2683c13e61  48436dade18ac8b2bce089ec2a041202   \n",
       "1  e5f2d52b802189ee658865ca93d83a8f  dd7ddc04e1b6c2c614352b383efe2d36   \n",
       "2  c777355d18b72b67abbeef9df44fd0fd  5b51032eddd242adc84c38acab88f23d   \n",
       "3  7634da152a4610f1595efa32f14722fc  9d7a1d34a5052409006425275ba1c2b4   \n",
       "4  ac6c3623068f30de03045865e4e10089  df560393f3a51e74553ab94004ba5c87   \n",
       "\n",
       "  shipping_limit_date   price  freight_value  \n",
       "0 2017-09-19 09:45:35   58.90          13.29  \n",
       "1 2017-05-03 11:05:13  239.90          19.93  \n",
       "2 2018-01-18 14:48:30  199.00          17.87  \n",
       "3 2018-08-15 10:10:18   12.99          12.79  \n",
       "4 2017-02-13 13:57:51  199.90          18.14  "
      ]
     },
     "execution_count": 25,
     "metadata": {},
     "output_type": "execute_result"
    }
   ],
   "source": [
    "product_data = pd.read_csv('olist_order_items_dataset.csv', parse_dates = ['shipping_limit_date'])\n",
    "product_data.head()"
   ]
  },
  {
   "cell_type": "code",
   "execution_count": 26,
   "id": "d8ecac8e-164e-4137-829d-d6f7dfb79e87",
   "metadata": {},
   "outputs": [
    {
     "data": {
      "text/plain": [
       "(112650, 7)"
      ]
     },
     "execution_count": 26,
     "metadata": {},
     "output_type": "execute_result"
    }
   ],
   "source": [
    "product_data.shape"
   ]
  },
  {
   "cell_type": "code",
   "execution_count": 27,
   "id": "74cb77dc-ae94-408b-a9d5-b01a40cfb40e",
   "metadata": {},
   "outputs": [
    {
     "data": {
      "text/plain": [
       "order_id                       object\n",
       "order_item_id                   int64\n",
       "product_id                     object\n",
       "seller_id                      object\n",
       "shipping_limit_date    datetime64[ns]\n",
       "price                         float64\n",
       "freight_value                 float64\n",
       "dtype: object"
      ]
     },
     "execution_count": 27,
     "metadata": {},
     "output_type": "execute_result"
    }
   ],
   "source": [
    "product_data.dtypes"
   ]
  },
  {
   "cell_type": "code",
   "execution_count": 28,
   "id": "d5314c0f-a2bb-45c2-9d5e-c8df677859b9",
   "metadata": {},
   "outputs": [
    {
     "data": {
      "text/plain": [
       "order_id               0\n",
       "order_item_id          0\n",
       "product_id             0\n",
       "seller_id              0\n",
       "shipping_limit_date    0\n",
       "price                  0\n",
       "freight_value          0\n",
       "dtype: int64"
      ]
     },
     "execution_count": 28,
     "metadata": {},
     "output_type": "execute_result"
    }
   ],
   "source": [
    "product_data.isna().sum()"
   ]
  },
  {
   "cell_type": "markdown",
   "id": "decac6bb-43ed-4d4e-a3f7-8733a0856c23",
   "metadata": {},
   "source": [
    "## 2. EDA. Что должно считаться покупкой?"
   ]
  },
  {
   "cell_type": "code",
   "execution_count": 30,
   "id": "45e75084-f331-4221-b231-b6005938bf9f",
   "metadata": {},
   "outputs": [
    {
     "data": {
      "text/html": [
       "<div>\n",
       "<style scoped>\n",
       "    .dataframe tbody tr th:only-of-type {\n",
       "        vertical-align: middle;\n",
       "    }\n",
       "\n",
       "    .dataframe tbody tr th {\n",
       "        vertical-align: top;\n",
       "    }\n",
       "\n",
       "    .dataframe thead th {\n",
       "        text-align: right;\n",
       "    }\n",
       "</style>\n",
       "<table border=\"1\" class=\"dataframe\">\n",
       "  <thead>\n",
       "    <tr style=\"text-align: right;\">\n",
       "      <th></th>\n",
       "      <th>order_id</th>\n",
       "      <th>customer_id</th>\n",
       "      <th>order_status</th>\n",
       "      <th>order_purchase_timestamp</th>\n",
       "      <th>order_approved_at</th>\n",
       "      <th>order_delivered_carrier_date</th>\n",
       "      <th>order_delivered_customer_date</th>\n",
       "      <th>order_estimated_delivery_date</th>\n",
       "    </tr>\n",
       "  </thead>\n",
       "  <tbody>\n",
       "    <tr>\n",
       "      <th>0</th>\n",
       "      <td>e481f51cbdc54678b7cc49136f2d6af7</td>\n",
       "      <td>9ef432eb6251297304e76186b10a928d</td>\n",
       "      <td>delivered</td>\n",
       "      <td>2017-10-02 10:56:33</td>\n",
       "      <td>2017-10-02 11:07:15</td>\n",
       "      <td>2017-10-04 19:55:00</td>\n",
       "      <td>2017-10-10 21:25:13</td>\n",
       "      <td>2017-10-18</td>\n",
       "    </tr>\n",
       "    <tr>\n",
       "      <th>1</th>\n",
       "      <td>53cdb2fc8bc7dce0b6741e2150273451</td>\n",
       "      <td>b0830fb4747a6c6d20dea0b8c802d7ef</td>\n",
       "      <td>delivered</td>\n",
       "      <td>2018-07-24 20:41:37</td>\n",
       "      <td>2018-07-26 03:24:27</td>\n",
       "      <td>2018-07-26 14:31:00</td>\n",
       "      <td>2018-08-07 15:27:45</td>\n",
       "      <td>2018-08-13</td>\n",
       "    </tr>\n",
       "    <tr>\n",
       "      <th>2</th>\n",
       "      <td>47770eb9100c2d0c44946d9cf07ec65d</td>\n",
       "      <td>41ce2a54c0b03bf3443c3d931a367089</td>\n",
       "      <td>delivered</td>\n",
       "      <td>2018-08-08 08:38:49</td>\n",
       "      <td>2018-08-08 08:55:23</td>\n",
       "      <td>2018-08-08 13:50:00</td>\n",
       "      <td>2018-08-17 18:06:29</td>\n",
       "      <td>2018-09-04</td>\n",
       "    </tr>\n",
       "    <tr>\n",
       "      <th>3</th>\n",
       "      <td>949d5b44dbf5de918fe9c16f97b45f8a</td>\n",
       "      <td>f88197465ea7920adcdbec7375364d82</td>\n",
       "      <td>delivered</td>\n",
       "      <td>2017-11-18 19:28:06</td>\n",
       "      <td>2017-11-18 19:45:59</td>\n",
       "      <td>2017-11-22 13:39:59</td>\n",
       "      <td>2017-12-02 00:28:42</td>\n",
       "      <td>2017-12-15</td>\n",
       "    </tr>\n",
       "    <tr>\n",
       "      <th>4</th>\n",
       "      <td>ad21c59c0840e6cb83a9ceb5573f8159</td>\n",
       "      <td>8ab97904e6daea8866dbdbc4fb7aad2c</td>\n",
       "      <td>delivered</td>\n",
       "      <td>2018-02-13 21:18:39</td>\n",
       "      <td>2018-02-13 22:20:29</td>\n",
       "      <td>2018-02-14 19:46:34</td>\n",
       "      <td>2018-02-16 18:17:02</td>\n",
       "      <td>2018-02-26</td>\n",
       "    </tr>\n",
       "  </tbody>\n",
       "</table>\n",
       "</div>"
      ],
      "text/plain": [
       "                           order_id                       customer_id  \\\n",
       "0  e481f51cbdc54678b7cc49136f2d6af7  9ef432eb6251297304e76186b10a928d   \n",
       "1  53cdb2fc8bc7dce0b6741e2150273451  b0830fb4747a6c6d20dea0b8c802d7ef   \n",
       "2  47770eb9100c2d0c44946d9cf07ec65d  41ce2a54c0b03bf3443c3d931a367089   \n",
       "3  949d5b44dbf5de918fe9c16f97b45f8a  f88197465ea7920adcdbec7375364d82   \n",
       "4  ad21c59c0840e6cb83a9ceb5573f8159  8ab97904e6daea8866dbdbc4fb7aad2c   \n",
       "\n",
       "  order_status order_purchase_timestamp   order_approved_at  \\\n",
       "0    delivered      2017-10-02 10:56:33 2017-10-02 11:07:15   \n",
       "1    delivered      2018-07-24 20:41:37 2018-07-26 03:24:27   \n",
       "2    delivered      2018-08-08 08:38:49 2018-08-08 08:55:23   \n",
       "3    delivered      2017-11-18 19:28:06 2017-11-18 19:45:59   \n",
       "4    delivered      2018-02-13 21:18:39 2018-02-13 22:20:29   \n",
       "\n",
       "  order_delivered_carrier_date order_delivered_customer_date  \\\n",
       "0          2017-10-04 19:55:00           2017-10-10 21:25:13   \n",
       "1          2018-07-26 14:31:00           2018-08-07 15:27:45   \n",
       "2          2018-08-08 13:50:00           2018-08-17 18:06:29   \n",
       "3          2017-11-22 13:39:59           2017-12-02 00:28:42   \n",
       "4          2018-02-14 19:46:34           2018-02-16 18:17:02   \n",
       "\n",
       "  order_estimated_delivery_date  \n",
       "0                    2017-10-18  \n",
       "1                    2018-08-13  \n",
       "2                    2018-09-04  \n",
       "3                    2017-12-15  \n",
       "4                    2018-02-26  "
      ]
     },
     "execution_count": 30,
     "metadata": {},
     "output_type": "execute_result"
    }
   ],
   "source": [
    "order_data.head()"
   ]
  },
  {
   "cell_type": "markdown",
   "id": "ee08a479-c52e-4fae-8e17-12681ee157e8",
   "metadata": {},
   "source": [
    "Покупкой считается оплаченный заказ (есть значение в order_approved_at), и имеющие статус заказа \"delivered\", \"shipped\", \"processing\"\n",
    "\n",
    "Статусы 'invoiced', 'created' и 'approve' не гарантируют дальнейшей оплаты заказа, и что клиент в дальнейшем не откажется от него."
   ]
  },
  {
   "cell_type": "code",
   "execution_count": 32,
   "id": "1942f701-68d0-49d3-8ae1-efd4f583a5af",
   "metadata": {},
   "outputs": [
    {
     "data": {
      "text/plain": [
       "order_status\n",
       "delivered      96478\n",
       "shipped         1107\n",
       "canceled         625\n",
       "unavailable      609\n",
       "invoiced         314\n",
       "processing       301\n",
       "created            5\n",
       "approved           2\n",
       "Name: count, dtype: int64"
      ]
     },
     "execution_count": 32,
     "metadata": {},
     "output_type": "execute_result"
    }
   ],
   "source": [
    "order_data.order_status.value_counts()"
   ]
  },
  {
   "cell_type": "markdown",
   "id": "4e82ff5a-9017-4c47-a0c4-6854815a3558",
   "metadata": {},
   "source": [
    "Отберём подходящие под определение покупки заказы и присоединим к каждому заказу уникальный идентификатор пользователя (customer_unique_id)"
   ]
  },
  {
   "cell_type": "code",
   "execution_count": 34,
   "id": "8f45a947-ab61-4be4-89bc-38b9de36f673",
   "metadata": {},
   "outputs": [],
   "source": [
    "purchases_data = order_data.query('(order_status == \"delivered\" | order_status == \"shipped\" | order_status == \"processing\") & order_approved_at.notna()')"
   ]
  },
  {
   "cell_type": "code",
   "execution_count": 35,
   "id": "cdc57b5b-717f-41e1-8214-3c4f0a1c8604",
   "metadata": {},
   "outputs": [],
   "source": [
    "purchases_data = purchases_data.merge(customer_data[['customer_id', 'customer_unique_id']], how = 'left', on = 'customer_id')"
   ]
  },
  {
   "cell_type": "code",
   "execution_count": 36,
   "id": "837a8909-758a-4eea-a321-7f095b3538f7",
   "metadata": {},
   "outputs": [
    {
     "data": {
      "text/plain": [
       "order_id                            0\n",
       "customer_id                         0\n",
       "order_status                        0\n",
       "order_purchase_timestamp            0\n",
       "order_approved_at                   0\n",
       "order_delivered_carrier_date      303\n",
       "order_delivered_customer_date    1416\n",
       "order_estimated_delivery_date       0\n",
       "customer_unique_id                  0\n",
       "dtype: int64"
      ]
     },
     "execution_count": 36,
     "metadata": {},
     "output_type": "execute_result"
    }
   ],
   "source": [
    "purchases_data.isna().sum()"
   ]
  },
  {
   "cell_type": "markdown",
   "id": "6b6659e6-24c5-4a2f-825c-8fac81cff25b",
   "metadata": {},
   "source": [
    "## 3. Анализ данных"
   ]
  },
  {
   "cell_type": "markdown",
   "id": "be7c2889-cbbc-478d-aa1a-519bbe9cf40f",
   "metadata": {},
   "source": [
    "#### 1. Сколько у нас пользователей, которые совершили покупку только один раз?"
   ]
  },
  {
   "cell_type": "code",
   "execution_count": 39,
   "id": "8b735797-3da7-42b8-8008-92b8da42c007",
   "metadata": {},
   "outputs": [
    {
     "data": {
      "text/html": [
       "<div>\n",
       "<style scoped>\n",
       "    .dataframe tbody tr th:only-of-type {\n",
       "        vertical-align: middle;\n",
       "    }\n",
       "\n",
       "    .dataframe tbody tr th {\n",
       "        vertical-align: top;\n",
       "    }\n",
       "\n",
       "    .dataframe thead th {\n",
       "        text-align: right;\n",
       "    }\n",
       "</style>\n",
       "<table border=\"1\" class=\"dataframe\">\n",
       "  <thead>\n",
       "    <tr style=\"text-align: right;\">\n",
       "      <th></th>\n",
       "      <th>order_id</th>\n",
       "      <th>customer_id</th>\n",
       "      <th>order_status</th>\n",
       "      <th>order_purchase_timestamp</th>\n",
       "      <th>order_approved_at</th>\n",
       "      <th>order_delivered_carrier_date</th>\n",
       "      <th>order_delivered_customer_date</th>\n",
       "      <th>order_estimated_delivery_date</th>\n",
       "      <th>customer_unique_id</th>\n",
       "    </tr>\n",
       "  </thead>\n",
       "  <tbody>\n",
       "    <tr>\n",
       "      <th>0</th>\n",
       "      <td>e481f51cbdc54678b7cc49136f2d6af7</td>\n",
       "      <td>9ef432eb6251297304e76186b10a928d</td>\n",
       "      <td>delivered</td>\n",
       "      <td>2017-10-02 10:56:33</td>\n",
       "      <td>2017-10-02 11:07:15</td>\n",
       "      <td>2017-10-04 19:55:00</td>\n",
       "      <td>2017-10-10 21:25:13</td>\n",
       "      <td>2017-10-18</td>\n",
       "      <td>7c396fd4830fd04220f754e42b4e5bff</td>\n",
       "    </tr>\n",
       "    <tr>\n",
       "      <th>1</th>\n",
       "      <td>53cdb2fc8bc7dce0b6741e2150273451</td>\n",
       "      <td>b0830fb4747a6c6d20dea0b8c802d7ef</td>\n",
       "      <td>delivered</td>\n",
       "      <td>2018-07-24 20:41:37</td>\n",
       "      <td>2018-07-26 03:24:27</td>\n",
       "      <td>2018-07-26 14:31:00</td>\n",
       "      <td>2018-08-07 15:27:45</td>\n",
       "      <td>2018-08-13</td>\n",
       "      <td>af07308b275d755c9edb36a90c618231</td>\n",
       "    </tr>\n",
       "    <tr>\n",
       "      <th>2</th>\n",
       "      <td>47770eb9100c2d0c44946d9cf07ec65d</td>\n",
       "      <td>41ce2a54c0b03bf3443c3d931a367089</td>\n",
       "      <td>delivered</td>\n",
       "      <td>2018-08-08 08:38:49</td>\n",
       "      <td>2018-08-08 08:55:23</td>\n",
       "      <td>2018-08-08 13:50:00</td>\n",
       "      <td>2018-08-17 18:06:29</td>\n",
       "      <td>2018-09-04</td>\n",
       "      <td>3a653a41f6f9fc3d2a113cf8398680e8</td>\n",
       "    </tr>\n",
       "    <tr>\n",
       "      <th>3</th>\n",
       "      <td>949d5b44dbf5de918fe9c16f97b45f8a</td>\n",
       "      <td>f88197465ea7920adcdbec7375364d82</td>\n",
       "      <td>delivered</td>\n",
       "      <td>2017-11-18 19:28:06</td>\n",
       "      <td>2017-11-18 19:45:59</td>\n",
       "      <td>2017-11-22 13:39:59</td>\n",
       "      <td>2017-12-02 00:28:42</td>\n",
       "      <td>2017-12-15</td>\n",
       "      <td>7c142cf63193a1473d2e66489a9ae977</td>\n",
       "    </tr>\n",
       "    <tr>\n",
       "      <th>4</th>\n",
       "      <td>ad21c59c0840e6cb83a9ceb5573f8159</td>\n",
       "      <td>8ab97904e6daea8866dbdbc4fb7aad2c</td>\n",
       "      <td>delivered</td>\n",
       "      <td>2018-02-13 21:18:39</td>\n",
       "      <td>2018-02-13 22:20:29</td>\n",
       "      <td>2018-02-14 19:46:34</td>\n",
       "      <td>2018-02-16 18:17:02</td>\n",
       "      <td>2018-02-26</td>\n",
       "      <td>72632f0f9dd73dfee390c9b22eb56dd6</td>\n",
       "    </tr>\n",
       "  </tbody>\n",
       "</table>\n",
       "</div>"
      ],
      "text/plain": [
       "                           order_id                       customer_id  \\\n",
       "0  e481f51cbdc54678b7cc49136f2d6af7  9ef432eb6251297304e76186b10a928d   \n",
       "1  53cdb2fc8bc7dce0b6741e2150273451  b0830fb4747a6c6d20dea0b8c802d7ef   \n",
       "2  47770eb9100c2d0c44946d9cf07ec65d  41ce2a54c0b03bf3443c3d931a367089   \n",
       "3  949d5b44dbf5de918fe9c16f97b45f8a  f88197465ea7920adcdbec7375364d82   \n",
       "4  ad21c59c0840e6cb83a9ceb5573f8159  8ab97904e6daea8866dbdbc4fb7aad2c   \n",
       "\n",
       "  order_status order_purchase_timestamp   order_approved_at  \\\n",
       "0    delivered      2017-10-02 10:56:33 2017-10-02 11:07:15   \n",
       "1    delivered      2018-07-24 20:41:37 2018-07-26 03:24:27   \n",
       "2    delivered      2018-08-08 08:38:49 2018-08-08 08:55:23   \n",
       "3    delivered      2017-11-18 19:28:06 2017-11-18 19:45:59   \n",
       "4    delivered      2018-02-13 21:18:39 2018-02-13 22:20:29   \n",
       "\n",
       "  order_delivered_carrier_date order_delivered_customer_date  \\\n",
       "0          2017-10-04 19:55:00           2017-10-10 21:25:13   \n",
       "1          2018-07-26 14:31:00           2018-08-07 15:27:45   \n",
       "2          2018-08-08 13:50:00           2018-08-17 18:06:29   \n",
       "3          2017-11-22 13:39:59           2017-12-02 00:28:42   \n",
       "4          2018-02-14 19:46:34           2018-02-16 18:17:02   \n",
       "\n",
       "  order_estimated_delivery_date                customer_unique_id  \n",
       "0                    2017-10-18  7c396fd4830fd04220f754e42b4e5bff  \n",
       "1                    2018-08-13  af07308b275d755c9edb36a90c618231  \n",
       "2                    2018-09-04  3a653a41f6f9fc3d2a113cf8398680e8  \n",
       "3                    2017-12-15  7c142cf63193a1473d2e66489a9ae977  \n",
       "4                    2018-02-26  72632f0f9dd73dfee390c9b22eb56dd6  "
      ]
     },
     "execution_count": 39,
     "metadata": {},
     "output_type": "execute_result"
    }
   ],
   "source": [
    "purchases_data.head()"
   ]
  },
  {
   "cell_type": "markdown",
   "id": "f6b5332b-84f8-49ad-8b2e-647381058f50",
   "metadata": {},
   "source": [
    "Для начала подсчитаем общее число уникальных пользователей."
   ]
  },
  {
   "cell_type": "code",
   "execution_count": 41,
   "id": "7b28adb1-b9f2-49ce-90b3-668d0305a887",
   "metadata": {},
   "outputs": [
    {
     "data": {
      "text/plain": [
       "94673"
      ]
     },
     "execution_count": 41,
     "metadata": {},
     "output_type": "execute_result"
    }
   ],
   "source": [
    "count_users = purchases_data.customer_unique_id.nunique()\n",
    "count_users"
   ]
  },
  {
   "cell_type": "code",
   "execution_count": 42,
   "id": "5331b219-5acf-4ba9-982c-d5980ca11a09",
   "metadata": {},
   "outputs": [
    {
     "data": {
      "text/html": [
       "<div>\n",
       "<style scoped>\n",
       "    .dataframe tbody tr th:only-of-type {\n",
       "        vertical-align: middle;\n",
       "    }\n",
       "\n",
       "    .dataframe tbody tr th {\n",
       "        vertical-align: top;\n",
       "    }\n",
       "\n",
       "    .dataframe thead th {\n",
       "        text-align: right;\n",
       "    }\n",
       "</style>\n",
       "<table border=\"1\" class=\"dataframe\">\n",
       "  <thead>\n",
       "    <tr style=\"text-align: right;\">\n",
       "      <th></th>\n",
       "      <th>customer_unique_id</th>\n",
       "      <th>count_orders</th>\n",
       "    </tr>\n",
       "  </thead>\n",
       "  <tbody>\n",
       "    <tr>\n",
       "      <th>52180</th>\n",
       "      <td>8d50f5eadf50201ccdcedfb9e2ac8455</td>\n",
       "      <td>16</td>\n",
       "    </tr>\n",
       "    <tr>\n",
       "      <th>23125</th>\n",
       "      <td>3e43e6105506432c953e165fb2acf44c</td>\n",
       "      <td>9</td>\n",
       "    </tr>\n",
       "    <tr>\n",
       "      <th>37253</th>\n",
       "      <td>6469f99c1f9dfae7733b25662e7f1782</td>\n",
       "      <td>7</td>\n",
       "    </tr>\n",
       "    <tr>\n",
       "      <th>74965</th>\n",
       "      <td>ca77025e7201e3b30c44b472ff346268</td>\n",
       "      <td>7</td>\n",
       "    </tr>\n",
       "    <tr>\n",
       "      <th>10204</th>\n",
       "      <td>1b6c7548a2a1f9037c1fd3ddfed95f33</td>\n",
       "      <td>7</td>\n",
       "    </tr>\n",
       "  </tbody>\n",
       "</table>\n",
       "</div>"
      ],
      "text/plain": [
       "                     customer_unique_id  count_orders\n",
       "52180  8d50f5eadf50201ccdcedfb9e2ac8455            16\n",
       "23125  3e43e6105506432c953e165fb2acf44c             9\n",
       "37253  6469f99c1f9dfae7733b25662e7f1782             7\n",
       "74965  ca77025e7201e3b30c44b472ff346268             7\n",
       "10204  1b6c7548a2a1f9037c1fd3ddfed95f33             7"
      ]
     },
     "execution_count": 42,
     "metadata": {},
     "output_type": "execute_result"
    }
   ],
   "source": [
    "count_purchases = purchases_data.groupby('customer_unique_id', as_index = False)\\\n",
    "                  .order_id.count()\\\n",
    "                  .rename(columns = {'order_id':'count_orders'})\\\n",
    "                  .sort_values('count_orders', ascending = False)\n",
    "count_purchases.head()"
   ]
  },
  {
   "cell_type": "markdown",
   "id": "bdd49000-006a-49c4-b55d-14583d869fad",
   "metadata": {},
   "source": [
    "Число пользователей, совершивших только одну покупку: **91802**"
   ]
  },
  {
   "cell_type": "code",
   "execution_count": 44,
   "id": "b7131bf5-1700-466f-8ed2-3dbb4e91f17a",
   "metadata": {},
   "outputs": [
    {
     "data": {
      "text/plain": [
       "91802"
      ]
     },
     "execution_count": 44,
     "metadata": {},
     "output_type": "execute_result"
    }
   ],
   "source": [
    "count_purchases.query('count_orders == 1').count().iloc[0]"
   ]
  },
  {
   "cell_type": "markdown",
   "id": "3fe1a259-6b8a-4587-b0ac-1c9e6e34fc99",
   "metadata": {},
   "source": [
    "Для большего понимания того, как много заказов делают пользователи, подсчитаем процент людей совершивших определенное число заказов от всех пользователей.\n",
    "\n",
    "Более 95% процентов пользователей совершили только одну покупку, по какой-то причине пользователи не возвращаются к продукту."
   ]
  },
  {
   "cell_type": "code",
   "execution_count": 46,
   "id": "b4cac283-b15e-4719-be06-fee199616b90",
   "metadata": {},
   "outputs": [
    {
     "data": {
      "text/plain": [
       "count_orders\n",
       "1     96.967%\n",
       "2      2.784%\n",
       "3      0.198%\n",
       "4      0.031%\n",
       "5       0.01%\n",
       "6      0.005%\n",
       "7      0.003%\n",
       "16     0.001%\n",
       "9      0.001%\n",
       "Name: count, dtype: object"
      ]
     },
     "execution_count": 46,
     "metadata": {},
     "output_type": "execute_result"
    }
   ],
   "source": [
    "(round(count_purchases.count_orders.value_counts() / count_users * 100,3)).astype('str') + '%'"
   ]
  },
  {
   "cell_type": "markdown",
   "id": "8342e1cf-7038-462b-ad9f-0e172f59e492",
   "metadata": {},
   "source": [
    "#### 2. Сколько заказов в месяц в среднем не доставляется по разным причинам (вывести детализацию по причинам)"
   ]
  },
  {
   "cell_type": "markdown",
   "id": "3fd5b952-6728-4191-84bb-74247c26ee11",
   "metadata": {},
   "source": [
    "Не доставленный заказ = статус заказа 'canceled' либо 'unavailable'"
   ]
  },
  {
   "cell_type": "code",
   "execution_count": 49,
   "id": "842bc107-65bf-41f2-b9b2-67d945d6ed59",
   "metadata": {},
   "outputs": [
    {
     "data": {
      "text/plain": [
       "order_status\n",
       "delivered      96478\n",
       "shipped         1107\n",
       "canceled         625\n",
       "unavailable      609\n",
       "invoiced         314\n",
       "processing       301\n",
       "created            5\n",
       "approved           2\n",
       "Name: count, dtype: int64"
      ]
     },
     "execution_count": 49,
     "metadata": {},
     "output_type": "execute_result"
    }
   ],
   "source": [
    "order_data.order_status.value_counts()"
   ]
  },
  {
   "cell_type": "code",
   "execution_count": 50,
   "id": "e185de11-d3fa-46d5-8959-1b1bacd17927",
   "metadata": {},
   "outputs": [
    {
     "data": {
      "text/plain": [
       "1.24"
      ]
     },
     "execution_count": 50,
     "metadata": {},
     "output_type": "execute_result"
    }
   ],
   "source": [
    "round(len(order_data.query('order_status == \"canceled\" | order_status == \"unavailable\"')) / len(order_data) * 100,2)"
   ]
  },
  {
   "cell_type": "markdown",
   "id": "7f547532-7c20-4159-b03b-8178628ca90d",
   "metadata": {},
   "source": [
    "Процент не доставленных заказов от всех заказов = **1.24%**, посмотрим сколько в среднем заказов не доставляется в месяц по разным причинам."
   ]
  },
  {
   "cell_type": "code",
   "execution_count": 52,
   "id": "7f33f03d-1e2a-4380-b609-1024d716966c",
   "metadata": {},
   "outputs": [],
   "source": [
    "order_data['purchase_month'] = order_data.order_purchase_timestamp.dt.strftime('%Y-%m')"
   ]
  },
  {
   "cell_type": "markdown",
   "id": "4cb0e793-3e4a-4770-baed-f2aff96abdad",
   "metadata": {},
   "source": [
    "**Причины, по которым заказы не были доставлены** :\n",
    "1. **Клиент отказался от заказа**"
   ]
  },
  {
   "cell_type": "markdown",
   "id": "8e93d108-d492-4ce8-a57e-197a8b2fe414",
   "metadata": {},
   "source": [
    "В среднем по этой причине не доставляется 26 заказов в месяц."
   ]
  },
  {
   "cell_type": "code",
   "execution_count": 55,
   "id": "02e23c27-e497-469a-92e1-b40a54dd7526",
   "metadata": {},
   "outputs": [
    {
     "data": {
      "text/plain": [
       "26.041666666666668"
      ]
     },
     "execution_count": 55,
     "metadata": {},
     "output_type": "execute_result"
    }
   ],
   "source": [
    "order_data[order_data.order_status == 'canceled'].groupby('purchase_month').order_id.count().mean()"
   ]
  },
  {
   "cell_type": "markdown",
   "id": "6b292b1b-72b3-4f6c-99b4-cab94db3fd1c",
   "metadata": {},
   "source": [
    "2. **Заказ недоступен по неизвестной причине (например, потеря на этапе доставки)**"
   ]
  },
  {
   "cell_type": "markdown",
   "id": "d823b317-920a-46ba-8150-3367a1854fcf",
   "metadata": {},
   "source": [
    "В среднем по этой причине не доставляется 29 заказов в месяц."
   ]
  },
  {
   "cell_type": "code",
   "execution_count": 58,
   "id": "c3746410-cb5e-4ad6-bf8b-c527373fdd2d",
   "metadata": {},
   "outputs": [
    {
     "data": {
      "text/plain": [
       "29.0"
      ]
     },
     "execution_count": 58,
     "metadata": {},
     "output_type": "execute_result"
    }
   ],
   "source": [
    "order_data[order_data.order_status == 'unavailable'].groupby('purchase_month').order_id.count().mean()"
   ]
  },
  {
   "cell_type": "markdown",
   "id": "822f4095-352a-48d7-a84e-b645e4476103",
   "metadata": {},
   "source": [
    "#### 3. По каждому товару определить, в какой день недели товар чаще всего покупается."
   ]
  },
  {
   "cell_type": "markdown",
   "id": "cdac50d6-6361-48d4-85d6-49ad0269c117",
   "metadata": {},
   "source": [
    "Присоединим данные о товарах к данным о заказах, для ответа на вопрос понадобится дата подтверждения заказа и ID товара."
   ]
  },
  {
   "cell_type": "code",
   "execution_count": 61,
   "id": "5b940467-a42e-4007-93c1-f5129c5f83cb",
   "metadata": {},
   "outputs": [
    {
     "data": {
      "text/html": [
       "<div>\n",
       "<style scoped>\n",
       "    .dataframe tbody tr th:only-of-type {\n",
       "        vertical-align: middle;\n",
       "    }\n",
       "\n",
       "    .dataframe tbody tr th {\n",
       "        vertical-align: top;\n",
       "    }\n",
       "\n",
       "    .dataframe thead th {\n",
       "        text-align: right;\n",
       "    }\n",
       "</style>\n",
       "<table border=\"1\" class=\"dataframe\">\n",
       "  <thead>\n",
       "    <tr style=\"text-align: right;\">\n",
       "      <th></th>\n",
       "      <th>order_approved_at</th>\n",
       "      <th>product_id</th>\n",
       "    </tr>\n",
       "  </thead>\n",
       "  <tbody>\n",
       "    <tr>\n",
       "      <th>0</th>\n",
       "      <td>2017-10-02 11:07:15</td>\n",
       "      <td>87285b34884572647811a353c7ac498a</td>\n",
       "    </tr>\n",
       "    <tr>\n",
       "      <th>1</th>\n",
       "      <td>2018-07-26 03:24:27</td>\n",
       "      <td>595fac2a385ac33a80bd5114aec74eb8</td>\n",
       "    </tr>\n",
       "    <tr>\n",
       "      <th>2</th>\n",
       "      <td>2018-08-08 08:55:23</td>\n",
       "      <td>aa4383b373c6aca5d8797843e5594415</td>\n",
       "    </tr>\n",
       "    <tr>\n",
       "      <th>3</th>\n",
       "      <td>2017-11-18 19:45:59</td>\n",
       "      <td>d0b61bfb1de832b15ba9d266ca96e5b0</td>\n",
       "    </tr>\n",
       "    <tr>\n",
       "      <th>4</th>\n",
       "      <td>2018-02-13 22:20:29</td>\n",
       "      <td>65266b2da20d04dbe00c5c2d3bb7859e</td>\n",
       "    </tr>\n",
       "  </tbody>\n",
       "</table>\n",
       "</div>"
      ],
      "text/plain": [
       "    order_approved_at                        product_id\n",
       "0 2017-10-02 11:07:15  87285b34884572647811a353c7ac498a\n",
       "1 2018-07-26 03:24:27  595fac2a385ac33a80bd5114aec74eb8\n",
       "2 2018-08-08 08:55:23  aa4383b373c6aca5d8797843e5594415\n",
       "3 2017-11-18 19:45:59  d0b61bfb1de832b15ba9d266ca96e5b0\n",
       "4 2018-02-13 22:20:29  65266b2da20d04dbe00c5c2d3bb7859e"
      ]
     },
     "execution_count": 61,
     "metadata": {},
     "output_type": "execute_result"
    }
   ],
   "source": [
    "orders_products = order_data.merge(product_data[['order_id','product_id']], on = 'order_id')[['order_approved_at','product_id']]\n",
    "orders_products.head()"
   ]
  },
  {
   "cell_type": "markdown",
   "id": "6e07ccfc-c76f-415b-a87f-066e8945268e",
   "metadata": {},
   "source": [
    "Проверим данные на пропуски, если будет пропущена дата подтверждения заказа - строки нужно будет удалить, так как мы не сможем получить день недели без даты."
   ]
  },
  {
   "cell_type": "code",
   "execution_count": 63,
   "id": "b311b8c7-7eeb-48be-b1b3-353d2d408261",
   "metadata": {},
   "outputs": [
    {
     "data": {
      "text/plain": [
       "order_approved_at    15\n",
       "product_id            0\n",
       "dtype: int64"
      ]
     },
     "execution_count": 63,
     "metadata": {},
     "output_type": "execute_result"
    }
   ],
   "source": [
    "orders_products.isna().sum()"
   ]
  },
  {
   "cell_type": "code",
   "execution_count": 64,
   "id": "8edd6297-0aab-40f1-a797-c7f43cfe1560",
   "metadata": {},
   "outputs": [],
   "source": [
    "orders_products.dropna(inplace = True)"
   ]
  },
  {
   "cell_type": "markdown",
   "id": "d104db69-2762-4ff3-bb48-faaa29b822cb",
   "metadata": {},
   "source": [
    "Для каждого заказа укажем день недели"
   ]
  },
  {
   "cell_type": "code",
   "execution_count": 66,
   "id": "6ad7aded-6dc3-4db0-873c-1555eff561c4",
   "metadata": {},
   "outputs": [
    {
     "data": {
      "text/html": [
       "<div>\n",
       "<style scoped>\n",
       "    .dataframe tbody tr th:only-of-type {\n",
       "        vertical-align: middle;\n",
       "    }\n",
       "\n",
       "    .dataframe tbody tr th {\n",
       "        vertical-align: top;\n",
       "    }\n",
       "\n",
       "    .dataframe thead th {\n",
       "        text-align: right;\n",
       "    }\n",
       "</style>\n",
       "<table border=\"1\" class=\"dataframe\">\n",
       "  <thead>\n",
       "    <tr style=\"text-align: right;\">\n",
       "      <th></th>\n",
       "      <th>order_approved_at</th>\n",
       "      <th>product_id</th>\n",
       "      <th>purchase_weekday</th>\n",
       "    </tr>\n",
       "  </thead>\n",
       "  <tbody>\n",
       "    <tr>\n",
       "      <th>0</th>\n",
       "      <td>2017-10-02 11:07:15</td>\n",
       "      <td>87285b34884572647811a353c7ac498a</td>\n",
       "      <td>0</td>\n",
       "    </tr>\n",
       "    <tr>\n",
       "      <th>1</th>\n",
       "      <td>2018-07-26 03:24:27</td>\n",
       "      <td>595fac2a385ac33a80bd5114aec74eb8</td>\n",
       "      <td>3</td>\n",
       "    </tr>\n",
       "    <tr>\n",
       "      <th>2</th>\n",
       "      <td>2018-08-08 08:55:23</td>\n",
       "      <td>aa4383b373c6aca5d8797843e5594415</td>\n",
       "      <td>2</td>\n",
       "    </tr>\n",
       "    <tr>\n",
       "      <th>3</th>\n",
       "      <td>2017-11-18 19:45:59</td>\n",
       "      <td>d0b61bfb1de832b15ba9d266ca96e5b0</td>\n",
       "      <td>5</td>\n",
       "    </tr>\n",
       "    <tr>\n",
       "      <th>4</th>\n",
       "      <td>2018-02-13 22:20:29</td>\n",
       "      <td>65266b2da20d04dbe00c5c2d3bb7859e</td>\n",
       "      <td>1</td>\n",
       "    </tr>\n",
       "  </tbody>\n",
       "</table>\n",
       "</div>"
      ],
      "text/plain": [
       "    order_approved_at                        product_id  purchase_weekday\n",
       "0 2017-10-02 11:07:15  87285b34884572647811a353c7ac498a                 0\n",
       "1 2018-07-26 03:24:27  595fac2a385ac33a80bd5114aec74eb8                 3\n",
       "2 2018-08-08 08:55:23  aa4383b373c6aca5d8797843e5594415                 2\n",
       "3 2017-11-18 19:45:59  d0b61bfb1de832b15ba9d266ca96e5b0                 5\n",
       "4 2018-02-13 22:20:29  65266b2da20d04dbe00c5c2d3bb7859e                 1"
      ]
     },
     "execution_count": 66,
     "metadata": {},
     "output_type": "execute_result"
    }
   ],
   "source": [
    "orders_products['purchase_weekday'] = orders_products.order_approved_at.dt.weekday\n",
    "orders_products.head()"
   ]
  },
  {
   "cell_type": "markdown",
   "id": "92437825-59ae-4bef-b4ff-4606bf8e17d2",
   "metadata": {},
   "source": [
    "С помощью группировки найдем, сколько раз покупался каждый продукт в определенный день недели."
   ]
  },
  {
   "cell_type": "code",
   "execution_count": 68,
   "id": "ab35c208-7808-4ab5-bf54-acf32d036da9",
   "metadata": {},
   "outputs": [
    {
     "data": {
      "text/html": [
       "<div>\n",
       "<style scoped>\n",
       "    .dataframe tbody tr th:only-of-type {\n",
       "        vertical-align: middle;\n",
       "    }\n",
       "\n",
       "    .dataframe tbody tr th {\n",
       "        vertical-align: top;\n",
       "    }\n",
       "\n",
       "    .dataframe thead th {\n",
       "        text-align: right;\n",
       "    }\n",
       "</style>\n",
       "<table border=\"1\" class=\"dataframe\">\n",
       "  <thead>\n",
       "    <tr style=\"text-align: right;\">\n",
       "      <th></th>\n",
       "      <th>product_id</th>\n",
       "      <th>purchase_weekday</th>\n",
       "      <th>weekday_count</th>\n",
       "    </tr>\n",
       "  </thead>\n",
       "  <tbody>\n",
       "    <tr>\n",
       "      <th>0</th>\n",
       "      <td>00066f42aeeb9f3007548bb9d3f33c38</td>\n",
       "      <td>6</td>\n",
       "      <td>1</td>\n",
       "    </tr>\n",
       "    <tr>\n",
       "      <th>1</th>\n",
       "      <td>00088930e925c41fd95ebfe695fd2655</td>\n",
       "      <td>1</td>\n",
       "      <td>1</td>\n",
       "    </tr>\n",
       "    <tr>\n",
       "      <th>2</th>\n",
       "      <td>0009406fd7479715e4bef61dd91f2462</td>\n",
       "      <td>4</td>\n",
       "      <td>1</td>\n",
       "    </tr>\n",
       "    <tr>\n",
       "      <th>3</th>\n",
       "      <td>000b8f95fcb9e0096488278317764d19</td>\n",
       "      <td>2</td>\n",
       "      <td>1</td>\n",
       "    </tr>\n",
       "    <tr>\n",
       "      <th>4</th>\n",
       "      <td>000b8f95fcb9e0096488278317764d19</td>\n",
       "      <td>4</td>\n",
       "      <td>1</td>\n",
       "    </tr>\n",
       "  </tbody>\n",
       "</table>\n",
       "</div>"
      ],
      "text/plain": [
       "                         product_id  purchase_weekday  weekday_count\n",
       "0  00066f42aeeb9f3007548bb9d3f33c38                 6              1\n",
       "1  00088930e925c41fd95ebfe695fd2655                 1              1\n",
       "2  0009406fd7479715e4bef61dd91f2462                 4              1\n",
       "3  000b8f95fcb9e0096488278317764d19                 2              1\n",
       "4  000b8f95fcb9e0096488278317764d19                 4              1"
      ]
     },
     "execution_count": 68,
     "metadata": {},
     "output_type": "execute_result"
    }
   ],
   "source": [
    "weekday_products = orders_products.groupby(['product_id','purchase_weekday'], as_index = False).purchase_weekday\\\n",
    "                .value_counts()\\\n",
    "                .rename(columns={'count':'weekday_count'})\n",
    "weekday_products.head()"
   ]
  },
  {
   "cell_type": "code",
   "execution_count": 69,
   "id": "a71acbe7-c114-4ff1-a5c1-91e4b48dded7",
   "metadata": {},
   "outputs": [
    {
     "data": {
      "text/html": [
       "<div>\n",
       "<style scoped>\n",
       "    .dataframe tbody tr th:only-of-type {\n",
       "        vertical-align: middle;\n",
       "    }\n",
       "\n",
       "    .dataframe tbody tr th {\n",
       "        vertical-align: top;\n",
       "    }\n",
       "\n",
       "    .dataframe thead th {\n",
       "        text-align: right;\n",
       "    }\n",
       "</style>\n",
       "<table border=\"1\" class=\"dataframe\">\n",
       "  <thead>\n",
       "    <tr style=\"text-align: right;\">\n",
       "      <th></th>\n",
       "      <th>product_id</th>\n",
       "      <th>purchase_weekday</th>\n",
       "      <th>weekday_count</th>\n",
       "      <th>max_count</th>\n",
       "    </tr>\n",
       "  </thead>\n",
       "  <tbody>\n",
       "    <tr>\n",
       "      <th>0</th>\n",
       "      <td>00066f42aeeb9f3007548bb9d3f33c38</td>\n",
       "      <td>6</td>\n",
       "      <td>1</td>\n",
       "      <td>1</td>\n",
       "    </tr>\n",
       "    <tr>\n",
       "      <th>1</th>\n",
       "      <td>00088930e925c41fd95ebfe695fd2655</td>\n",
       "      <td>1</td>\n",
       "      <td>1</td>\n",
       "      <td>1</td>\n",
       "    </tr>\n",
       "    <tr>\n",
       "      <th>2</th>\n",
       "      <td>0009406fd7479715e4bef61dd91f2462</td>\n",
       "      <td>4</td>\n",
       "      <td>1</td>\n",
       "      <td>1</td>\n",
       "    </tr>\n",
       "    <tr>\n",
       "      <th>3</th>\n",
       "      <td>000b8f95fcb9e0096488278317764d19</td>\n",
       "      <td>2</td>\n",
       "      <td>1</td>\n",
       "      <td>1</td>\n",
       "    </tr>\n",
       "    <tr>\n",
       "      <th>4</th>\n",
       "      <td>000b8f95fcb9e0096488278317764d19</td>\n",
       "      <td>4</td>\n",
       "      <td>1</td>\n",
       "      <td>1</td>\n",
       "    </tr>\n",
       "  </tbody>\n",
       "</table>\n",
       "</div>"
      ],
      "text/plain": [
       "                         product_id  purchase_weekday  weekday_count  \\\n",
       "0  00066f42aeeb9f3007548bb9d3f33c38                 6              1   \n",
       "1  00088930e925c41fd95ebfe695fd2655                 1              1   \n",
       "2  0009406fd7479715e4bef61dd91f2462                 4              1   \n",
       "3  000b8f95fcb9e0096488278317764d19                 2              1   \n",
       "4  000b8f95fcb9e0096488278317764d19                 4              1   \n",
       "\n",
       "   max_count  \n",
       "0          1  \n",
       "1          1  \n",
       "2          1  \n",
       "3          1  \n",
       "4          1  "
      ]
     },
     "execution_count": 69,
     "metadata": {},
     "output_type": "execute_result"
    }
   ],
   "source": [
    "max_weekday_count = weekday_products.groupby('product_id', as_index = False).weekday_count.max().rename(columns = {'weekday_count':'max_count'})\n",
    "max_weekday_count = weekday_products.merge(max_weekday_count, how = 'left', on = 'product_id')\n",
    "max_weekday_count.head()"
   ]
  },
  {
   "cell_type": "markdown",
   "id": "ff3071f9-d875-49ea-8670-b7faacb3d20b",
   "metadata": {},
   "source": [
    "Половина значений максимального количества покупок по дням недели = 1, с большой вероятностью возникнет ситуация, что **у одного товара максимальное количество покупок будет совпадать с покупками по нескольким дням недели**(например: товар купили один раз во вторник и среду, максимальное число покупок товара по дням недели = 1, этому значению соответствует несколько дней недели). Необходимо составить таблицу, которая будет предусматривать такие случаи."
   ]
  },
  {
   "cell_type": "code",
   "execution_count": 71,
   "id": "86f9f93e-09a5-44b8-81a4-d0d4df6425fc",
   "metadata": {},
   "outputs": [
    {
     "data": {
      "text/plain": [
       "count    61143.000000\n",
       "mean         2.674419\n",
       "std          4.348981\n",
       "min          1.000000\n",
       "25%          1.000000\n",
       "50%          1.000000\n",
       "75%          3.000000\n",
       "max        119.000000\n",
       "Name: max_count, dtype: float64"
      ]
     },
     "execution_count": 71,
     "metadata": {},
     "output_type": "execute_result"
    }
   ],
   "source": [
    "max_weekday_count.max_count.describe()"
   ]
  },
  {
   "cell_type": "code",
   "execution_count": 72,
   "id": "dde5fb9b-bd47-48f9-91b7-ec77ed0a1402",
   "metadata": {},
   "outputs": [
    {
     "data": {
      "text/html": [
       "<div>\n",
       "<style scoped>\n",
       "    .dataframe tbody tr th:only-of-type {\n",
       "        vertical-align: middle;\n",
       "    }\n",
       "\n",
       "    .dataframe tbody tr th {\n",
       "        vertical-align: top;\n",
       "    }\n",
       "\n",
       "    .dataframe thead th {\n",
       "        text-align: right;\n",
       "    }\n",
       "</style>\n",
       "<table border=\"1\" class=\"dataframe\">\n",
       "  <thead>\n",
       "    <tr style=\"text-align: right;\">\n",
       "      <th></th>\n",
       "      <th>product_id</th>\n",
       "      <th>purchase_weekday</th>\n",
       "    </tr>\n",
       "  </thead>\n",
       "  <tbody>\n",
       "    <tr>\n",
       "      <th>0</th>\n",
       "      <td>00066f42aeeb9f3007548bb9d3f33c38</td>\n",
       "      <td>6</td>\n",
       "    </tr>\n",
       "    <tr>\n",
       "      <th>1</th>\n",
       "      <td>00088930e925c41fd95ebfe695fd2655</td>\n",
       "      <td>1</td>\n",
       "    </tr>\n",
       "    <tr>\n",
       "      <th>2</th>\n",
       "      <td>0009406fd7479715e4bef61dd91f2462</td>\n",
       "      <td>4</td>\n",
       "    </tr>\n",
       "    <tr>\n",
       "      <th>3</th>\n",
       "      <td>000b8f95fcb9e0096488278317764d19</td>\n",
       "      <td>2</td>\n",
       "    </tr>\n",
       "    <tr>\n",
       "      <th>4</th>\n",
       "      <td>000b8f95fcb9e0096488278317764d19</td>\n",
       "      <td>4</td>\n",
       "    </tr>\n",
       "  </tbody>\n",
       "</table>\n",
       "</div>"
      ],
      "text/plain": [
       "                         product_id  purchase_weekday\n",
       "0  00066f42aeeb9f3007548bb9d3f33c38                 6\n",
       "1  00088930e925c41fd95ebfe695fd2655                 1\n",
       "2  0009406fd7479715e4bef61dd91f2462                 4\n",
       "3  000b8f95fcb9e0096488278317764d19                 2\n",
       "4  000b8f95fcb9e0096488278317764d19                 4"
      ]
     },
     "execution_count": 72,
     "metadata": {},
     "output_type": "execute_result"
    }
   ],
   "source": [
    "products_max_weekday_count = max_weekday_count.query('weekday_count == max_count').drop(columns=['weekday_count', 'max_count'])\n",
    "products_max_weekday_count.head()"
   ]
  },
  {
   "cell_type": "code",
   "execution_count": 73,
   "id": "4e166c79-cfb3-4276-a380-6f2e1c32d745",
   "metadata": {},
   "outputs": [
    {
     "data": {
      "image/png": "[encoded data removed]",
      "text/plain": [
       "<Figure size 1500x600 with 1 Axes>"
      ]
     },
     "metadata": {},
     "output_type": "display_data"
    }
   ],
   "source": [
    "weekdays = ('Monday' , 'Tuesday', 'Wednesday', 'Thursday', 'Friday', 'Saturday', 'Sunday')\n",
    "fig,ax = plt.subplots(figsize=(15,6))\n",
    "plt.title(\"Количество товаров с максимальным числом покупок в определенный день недели\")\n",
    "sns.countplot(products_max_weekday_count, x = 'purchase_weekday', ax = ax)\n",
    "ax.set_xticks(np.arange(7),weekdays)\n",
    "plt.show()"
   ]
  },
  {
   "cell_type": "markdown",
   "id": "36d174e2-0cc5-4789-a00b-21ab42714eca",
   "metadata": {},
   "source": [
    "Чаще всего товары покупают во вторник, реже всего в воскресенье"
   ]
  },
  {
   "cell_type": "markdown",
   "id": "1876cf68-b509-45ac-a7e1-14bf393c4975",
   "metadata": {},
   "source": [
    "#### 4. Сколько у каждого из пользователей в среднем покупок в неделю (по месяцам)?"
   ]
  },
  {
   "cell_type": "markdown",
   "id": "0fab2894-dfb7-47c6-98e5-103fdab6520d",
   "metadata": {},
   "source": [
    "Не стоит забывать, что внутри месяца может быть не целое количество недель."
   ]
  },
  {
   "cell_type": "markdown",
   "id": "0c947ce6-3aca-46d2-b988-3bb42195800f",
   "metadata": {},
   "source": [
    "Соберем данные о заказах каждого пользователя вместе с датой подтверждения заказа."
   ]
  },
  {
   "cell_type": "code",
   "execution_count": 78,
   "id": "2e4bdbdc-2539-48ea-a0c4-289567ad0b37",
   "metadata": {},
   "outputs": [
    {
     "data": {
      "text/html": [
       "<div>\n",
       "<style scoped>\n",
       "    .dataframe tbody tr th:only-of-type {\n",
       "        vertical-align: middle;\n",
       "    }\n",
       "\n",
       "    .dataframe tbody tr th {\n",
       "        vertical-align: top;\n",
       "    }\n",
       "\n",
       "    .dataframe thead th {\n",
       "        text-align: right;\n",
       "    }\n",
       "</style>\n",
       "<table border=\"1\" class=\"dataframe\">\n",
       "  <thead>\n",
       "    <tr style=\"text-align: right;\">\n",
       "      <th></th>\n",
       "      <th>customer_unique_id</th>\n",
       "      <th>order_approved_at</th>\n",
       "    </tr>\n",
       "  </thead>\n",
       "  <tbody>\n",
       "    <tr>\n",
       "      <th>0</th>\n",
       "      <td>7c396fd4830fd04220f754e42b4e5bff</td>\n",
       "      <td>2017-10-02 11:07:15</td>\n",
       "    </tr>\n",
       "    <tr>\n",
       "      <th>1</th>\n",
       "      <td>af07308b275d755c9edb36a90c618231</td>\n",
       "      <td>2018-07-26 03:24:27</td>\n",
       "    </tr>\n",
       "    <tr>\n",
       "      <th>2</th>\n",
       "      <td>3a653a41f6f9fc3d2a113cf8398680e8</td>\n",
       "      <td>2018-08-08 08:55:23</td>\n",
       "    </tr>\n",
       "    <tr>\n",
       "      <th>3</th>\n",
       "      <td>7c142cf63193a1473d2e66489a9ae977</td>\n",
       "      <td>2017-11-18 19:45:59</td>\n",
       "    </tr>\n",
       "    <tr>\n",
       "      <th>4</th>\n",
       "      <td>72632f0f9dd73dfee390c9b22eb56dd6</td>\n",
       "      <td>2018-02-13 22:20:29</td>\n",
       "    </tr>\n",
       "  </tbody>\n",
       "</table>\n",
       "</div>"
      ],
      "text/plain": [
       "                 customer_unique_id   order_approved_at\n",
       "0  7c396fd4830fd04220f754e42b4e5bff 2017-10-02 11:07:15\n",
       "1  af07308b275d755c9edb36a90c618231 2018-07-26 03:24:27\n",
       "2  3a653a41f6f9fc3d2a113cf8398680e8 2018-08-08 08:55:23\n",
       "3  7c142cf63193a1473d2e66489a9ae977 2017-11-18 19:45:59\n",
       "4  72632f0f9dd73dfee390c9b22eb56dd6 2018-02-13 22:20:29"
      ]
     },
     "execution_count": 78,
     "metadata": {},
     "output_type": "execute_result"
    }
   ],
   "source": [
    "customers_orders = order_data.merge(customer_data, on = 'customer_id', how = 'left')[['customer_unique_id','order_approved_at']]\n",
    "customers_orders.head()"
   ]
  },
  {
   "cell_type": "markdown",
   "id": "6eb61e00-b4f8-428b-a58a-851d68c20139",
   "metadata": {},
   "source": [
    "Добавим столбцы с месяцем и годом покупки, также необходим столбец с количеством недель в месяце (т.к. внутри месяца может быть не целое количество недель)"
   ]
  },
  {
   "cell_type": "code",
   "execution_count": 80,
   "id": "ecf13c62-7937-48f3-967f-de48e5051e93",
   "metadata": {},
   "outputs": [],
   "source": [
    "customers_orders['order_month'] = customers_orders.order_approved_at.dt.strftime('%Y-%m')"
   ]
  },
  {
   "cell_type": "code",
   "execution_count": 81,
   "id": "298ffcd3-b116-432b-af0a-abeaaf55bad5",
   "metadata": {},
   "outputs": [
    {
     "data": {
      "text/html": [
       "<div>\n",
       "<style scoped>\n",
       "    .dataframe tbody tr th:only-of-type {\n",
       "        vertical-align: middle;\n",
       "    }\n",
       "\n",
       "    .dataframe tbody tr th {\n",
       "        vertical-align: top;\n",
       "    }\n",
       "\n",
       "    .dataframe thead th {\n",
       "        text-align: right;\n",
       "    }\n",
       "</style>\n",
       "<table border=\"1\" class=\"dataframe\">\n",
       "  <thead>\n",
       "    <tr style=\"text-align: right;\">\n",
       "      <th></th>\n",
       "      <th>customer_unique_id</th>\n",
       "      <th>order_approved_at</th>\n",
       "      <th>order_month</th>\n",
       "    </tr>\n",
       "  </thead>\n",
       "  <tbody>\n",
       "    <tr>\n",
       "      <th>0</th>\n",
       "      <td>7c396fd4830fd04220f754e42b4e5bff</td>\n",
       "      <td>2017-10-02 11:07:15</td>\n",
       "      <td>2017-10</td>\n",
       "    </tr>\n",
       "    <tr>\n",
       "      <th>1</th>\n",
       "      <td>af07308b275d755c9edb36a90c618231</td>\n",
       "      <td>2018-07-26 03:24:27</td>\n",
       "      <td>2018-07</td>\n",
       "    </tr>\n",
       "    <tr>\n",
       "      <th>2</th>\n",
       "      <td>3a653a41f6f9fc3d2a113cf8398680e8</td>\n",
       "      <td>2018-08-08 08:55:23</td>\n",
       "      <td>2018-08</td>\n",
       "    </tr>\n",
       "    <tr>\n",
       "      <th>3</th>\n",
       "      <td>7c142cf63193a1473d2e66489a9ae977</td>\n",
       "      <td>2017-11-18 19:45:59</td>\n",
       "      <td>2017-11</td>\n",
       "    </tr>\n",
       "    <tr>\n",
       "      <th>4</th>\n",
       "      <td>72632f0f9dd73dfee390c9b22eb56dd6</td>\n",
       "      <td>2018-02-13 22:20:29</td>\n",
       "      <td>2018-02</td>\n",
       "    </tr>\n",
       "  </tbody>\n",
       "</table>\n",
       "</div>"
      ],
      "text/plain": [
       "                 customer_unique_id   order_approved_at order_month\n",
       "0  7c396fd4830fd04220f754e42b4e5bff 2017-10-02 11:07:15     2017-10\n",
       "1  af07308b275d755c9edb36a90c618231 2018-07-26 03:24:27     2018-07\n",
       "2  3a653a41f6f9fc3d2a113cf8398680e8 2018-08-08 08:55:23     2018-08\n",
       "3  7c142cf63193a1473d2e66489a9ae977 2017-11-18 19:45:59     2017-11\n",
       "4  72632f0f9dd73dfee390c9b22eb56dd6 2018-02-13 22:20:29     2018-02"
      ]
     },
     "execution_count": 81,
     "metadata": {},
     "output_type": "execute_result"
    }
   ],
   "source": [
    "customers_orders.head()"
   ]
  },
  {
   "cell_type": "markdown",
   "id": "fc937d26-65bc-47a2-bebf-3818e41f2013",
   "metadata": {},
   "source": [
    "Сначала получим количество покупок каждого пользователя по месяцам"
   ]
  },
  {
   "cell_type": "code",
   "execution_count": 83,
   "id": "880ceb48-d0b8-43f4-8e55-d4328cc6018d",
   "metadata": {},
   "outputs": [
    {
     "data": {
      "text/html": [
       "<div>\n",
       "<style scoped>\n",
       "    .dataframe tbody tr th:only-of-type {\n",
       "        vertical-align: middle;\n",
       "    }\n",
       "\n",
       "    .dataframe tbody tr th {\n",
       "        vertical-align: top;\n",
       "    }\n",
       "\n",
       "    .dataframe thead th {\n",
       "        text-align: right;\n",
       "    }\n",
       "</style>\n",
       "<table border=\"1\" class=\"dataframe\">\n",
       "  <thead>\n",
       "    <tr style=\"text-align: right;\">\n",
       "      <th></th>\n",
       "      <th>customer_unique_id</th>\n",
       "      <th>order_month</th>\n",
       "      <th>orders_count</th>\n",
       "    </tr>\n",
       "  </thead>\n",
       "  <tbody>\n",
       "    <tr>\n",
       "      <th>7316</th>\n",
       "      <td>12f5d6e1cbf93dafd9dcc19095df0b3d</td>\n",
       "      <td>2017-01</td>\n",
       "      <td>6</td>\n",
       "    </tr>\n",
       "    <tr>\n",
       "      <th>14471</th>\n",
       "      <td>25a560b9a6006157838aab1bdbd68624</td>\n",
       "      <td>2017-04</td>\n",
       "      <td>4</td>\n",
       "    </tr>\n",
       "    <tr>\n",
       "      <th>67664</th>\n",
       "      <td>b08fab27d47a1eb6deda07bfd965ad43</td>\n",
       "      <td>2017-09</td>\n",
       "      <td>4</td>\n",
       "    </tr>\n",
       "    <tr>\n",
       "      <th>50560</th>\n",
       "      <td>83e7958a94bd7f74a9414d8782f87628</td>\n",
       "      <td>2017-01</td>\n",
       "      <td>4</td>\n",
       "    </tr>\n",
       "    <tr>\n",
       "      <th>76689</th>\n",
       "      <td>c8460e4251689ba205045f3ea17884a1</td>\n",
       "      <td>2018-08</td>\n",
       "      <td>4</td>\n",
       "    </tr>\n",
       "  </tbody>\n",
       "</table>\n",
       "</div>"
      ],
      "text/plain": [
       "                     customer_unique_id order_month  orders_count\n",
       "7316   12f5d6e1cbf93dafd9dcc19095df0b3d     2017-01             6\n",
       "14471  25a560b9a6006157838aab1bdbd68624     2017-04             4\n",
       "67664  b08fab27d47a1eb6deda07bfd965ad43     2017-09             4\n",
       "50560  83e7958a94bd7f74a9414d8782f87628     2017-01             4\n",
       "76689  c8460e4251689ba205045f3ea17884a1     2018-08             4"
      ]
     },
     "execution_count": 83,
     "metadata": {},
     "output_type": "execute_result"
    }
   ],
   "source": [
    "customers_orders = customers_orders.groupby(['customer_unique_id','order_month'], as_index = False)\\\n",
    "                .order_approved_at.count()\\\n",
    "                .rename(columns={'order_approved_at':'orders_count'})\\\n",
    "                .sort_values('orders_count', ascending = False)\n",
    "customers_orders.head()"
   ]
  },
  {
   "cell_type": "markdown",
   "id": "2847fc52-b301-47a1-aade-ba1c013c21c8",
   "metadata": {},
   "source": [
    "Добавим столбец с количеством недель в месяце для расчетов среднего числа покупок в неделю, т.к. в месяце может быть не целое число недель."
   ]
  },
  {
   "cell_type": "code",
   "execution_count": 85,
   "id": "a8144078-2e8b-41cd-ac00-e85281597da7",
   "metadata": {},
   "outputs": [],
   "source": [
    "customers_orders['week_in_month'] = round(pd.to_datetime(customers_orders.order_month).dt.days_in_month / 7, 2)"
   ]
  },
  {
   "cell_type": "code",
   "execution_count": 86,
   "id": "c84197b6-8a7b-4076-8000-bc19242ec94d",
   "metadata": {},
   "outputs": [],
   "source": [
    "customers_orders['avg_orders_per_week'] = customers_orders.orders_count / customers_orders.week_in_month"
   ]
  },
  {
   "cell_type": "code",
   "execution_count": 87,
   "id": "7d6b7bb2-7d48-478d-8f67-00cf76f11d73",
   "metadata": {},
   "outputs": [
    {
     "data": {
      "text/html": [
       "<div>\n",
       "<style scoped>\n",
       "    .dataframe tbody tr th:only-of-type {\n",
       "        vertical-align: middle;\n",
       "    }\n",
       "\n",
       "    .dataframe tbody tr th {\n",
       "        vertical-align: top;\n",
       "    }\n",
       "\n",
       "    .dataframe thead th {\n",
       "        text-align: right;\n",
       "    }\n",
       "</style>\n",
       "<table border=\"1\" class=\"dataframe\">\n",
       "  <thead>\n",
       "    <tr style=\"text-align: right;\">\n",
       "      <th></th>\n",
       "      <th>customer_unique_id</th>\n",
       "      <th>order_month</th>\n",
       "      <th>orders_count</th>\n",
       "      <th>week_in_month</th>\n",
       "      <th>avg_orders_per_week</th>\n",
       "    </tr>\n",
       "  </thead>\n",
       "  <tbody>\n",
       "    <tr>\n",
       "      <th>7316</th>\n",
       "      <td>12f5d6e1cbf93dafd9dcc19095df0b3d</td>\n",
       "      <td>2017-01</td>\n",
       "      <td>6</td>\n",
       "      <td>4.43</td>\n",
       "      <td>1.354402</td>\n",
       "    </tr>\n",
       "    <tr>\n",
       "      <th>14471</th>\n",
       "      <td>25a560b9a6006157838aab1bdbd68624</td>\n",
       "      <td>2017-04</td>\n",
       "      <td>4</td>\n",
       "      <td>4.29</td>\n",
       "      <td>0.932401</td>\n",
       "    </tr>\n",
       "    <tr>\n",
       "      <th>67664</th>\n",
       "      <td>b08fab27d47a1eb6deda07bfd965ad43</td>\n",
       "      <td>2017-09</td>\n",
       "      <td>4</td>\n",
       "      <td>4.29</td>\n",
       "      <td>0.932401</td>\n",
       "    </tr>\n",
       "    <tr>\n",
       "      <th>50560</th>\n",
       "      <td>83e7958a94bd7f74a9414d8782f87628</td>\n",
       "      <td>2017-01</td>\n",
       "      <td>4</td>\n",
       "      <td>4.43</td>\n",
       "      <td>0.902935</td>\n",
       "    </tr>\n",
       "    <tr>\n",
       "      <th>76689</th>\n",
       "      <td>c8460e4251689ba205045f3ea17884a1</td>\n",
       "      <td>2018-08</td>\n",
       "      <td>4</td>\n",
       "      <td>4.43</td>\n",
       "      <td>0.902935</td>\n",
       "    </tr>\n",
       "  </tbody>\n",
       "</table>\n",
       "</div>"
      ],
      "text/plain": [
       "                     customer_unique_id order_month  orders_count  \\\n",
       "7316   12f5d6e1cbf93dafd9dcc19095df0b3d     2017-01             6   \n",
       "14471  25a560b9a6006157838aab1bdbd68624     2017-04             4   \n",
       "67664  b08fab27d47a1eb6deda07bfd965ad43     2017-09             4   \n",
       "50560  83e7958a94bd7f74a9414d8782f87628     2017-01             4   \n",
       "76689  c8460e4251689ba205045f3ea17884a1     2018-08             4   \n",
       "\n",
       "       week_in_month  avg_orders_per_week  \n",
       "7316            4.43             1.354402  \n",
       "14471           4.29             0.932401  \n",
       "67664           4.29             0.932401  \n",
       "50560           4.43             0.902935  \n",
       "76689           4.43             0.902935  "
      ]
     },
     "execution_count": 87,
     "metadata": {},
     "output_type": "execute_result"
    }
   ],
   "source": [
    "customers_orders.head()"
   ]
  },
  {
   "cell_type": "markdown",
   "id": "9ab632d8-efaa-47ae-b7b5-6944e3e60e18",
   "metadata": {},
   "source": [
    "#### 5. Используя pandas, проведи когортный анализ пользователей. В период с января по декабрь выяви когорту с самым высоким retention на 3й месяц. "
   ]
  },
  {
   "cell_type": "markdown",
   "id": "36e09b99-5080-41a8-83e8-3d5574bdd492",
   "metadata": {},
   "source": [
    "Для начала необходимо определиться с периодом, найдем год, в котором присутствуют данные о покупках с января по декабрь."
   ]
  },
  {
   "cell_type": "code",
   "execution_count": 90,
   "id": "41e030fc-3274-4993-9192-b94537ba9ca6",
   "metadata": {},
   "outputs": [
    {
     "data": {
      "text/plain": [
       "30710    2016-09\n",
       "89768    2016-10\n",
       "39761    2016-12\n",
       "73647    2017-01\n",
       "20203    2017-02\n",
       "73915    2017-03\n",
       "45768    2017-04\n",
       "65486    2017-05\n",
       "68758    2017-06\n",
       "61864    2017-07\n",
       "44275    2017-08\n",
       "45839    2017-09\n",
       "87935    2017-10\n",
       "59030    2017-11\n",
       "49303    2017-12\n",
       "16131    2018-01\n",
       "70652    2018-02\n",
       "70812    2018-03\n",
       "13970    2018-04\n",
       "6912     2018-05\n",
       "56845    2018-06\n",
       "69729    2018-07\n",
       "98045    2018-08\n",
       "62360    2018-09\n",
       "1130         NaN\n",
       "Name: order_approved_at, dtype: object"
      ]
     },
     "execution_count": 90,
     "metadata": {},
     "output_type": "execute_result"
    }
   ],
   "source": [
    "order_data.order_approved_at.dt.strftime('%Y-%m').sort_values().drop_duplicates()"
   ]
  },
  {
   "cell_type": "code",
   "execution_count": 91,
   "id": "fa220b2b-91ad-4a5a-91e7-a93ab59b4ac9",
   "metadata": {},
   "outputs": [
    {
     "data": {
      "text/plain": [
       "customer_id                 99441\n",
       "customer_unique_id          96096\n",
       "customer_zip_code_prefix    14994\n",
       "customer_city                4119\n",
       "customer_state                 27\n",
       "dtype: int64"
      ]
     },
     "execution_count": 91,
     "metadata": {},
     "output_type": "execute_result"
    }
   ],
   "source": [
    "customer_data.nunique()"
   ]
  },
  {
   "cell_type": "markdown",
   "id": "19159f27-33f7-445a-8b78-155fbec8fda3",
   "metadata": {},
   "source": [
    "Под условие подходит только 2017 год => Retention будет проводиться по месяцам 2017 года."
   ]
  },
  {
   "cell_type": "markdown",
   "id": "b7fbc552-8548-448a-af5b-acfbcdc38416",
   "metadata": {},
   "source": [
    "Считается, что пользователь вернулся, если он совершил покупку в месяце, по которому считается Retention."
   ]
  },
  {
   "cell_type": "markdown",
   "id": "d61197e6-a674-4085-9e7b-1d502a28062e",
   "metadata": {},
   "source": [
    "Определим принадлежность пользователя к определенной когорте по месяцу, в котором он совершил первую покупку. "
   ]
  },
  {
   "cell_type": "code",
   "execution_count": 95,
   "id": "b25b2824-1420-4b20-a01c-de09a222e8ec",
   "metadata": {},
   "outputs": [
    {
     "data": {
      "text/html": [
       "<div>\n",
       "<style scoped>\n",
       "    .dataframe tbody tr th:only-of-type {\n",
       "        vertical-align: middle;\n",
       "    }\n",
       "\n",
       "    .dataframe tbody tr th {\n",
       "        vertical-align: top;\n",
       "    }\n",
       "\n",
       "    .dataframe thead th {\n",
       "        text-align: right;\n",
       "    }\n",
       "</style>\n",
       "<table border=\"1\" class=\"dataframe\">\n",
       "  <thead>\n",
       "    <tr style=\"text-align: right;\">\n",
       "      <th></th>\n",
       "      <th>customer_unique_id</th>\n",
       "      <th>order_approved_at</th>\n",
       "    </tr>\n",
       "  </thead>\n",
       "  <tbody>\n",
       "    <tr>\n",
       "      <th>0</th>\n",
       "      <td>7c396fd4830fd04220f754e42b4e5bff</td>\n",
       "      <td>2017-10-01</td>\n",
       "    </tr>\n",
       "    <tr>\n",
       "      <th>3</th>\n",
       "      <td>7c142cf63193a1473d2e66489a9ae977</td>\n",
       "      <td>2017-11-01</td>\n",
       "    </tr>\n",
       "    <tr>\n",
       "      <th>5</th>\n",
       "      <td>80bb27c7c16e8f973207a5086ab329e2</td>\n",
       "      <td>2017-07-01</td>\n",
       "    </tr>\n",
       "    <tr>\n",
       "      <th>6</th>\n",
       "      <td>36edbb3fb164b1f16485364b6fb04c73</td>\n",
       "      <td>2017-04-01</td>\n",
       "    </tr>\n",
       "    <tr>\n",
       "      <th>7</th>\n",
       "      <td>932afa1e708222e5821dac9cd5db4cae</td>\n",
       "      <td>2017-05-01</td>\n",
       "    </tr>\n",
       "  </tbody>\n",
       "</table>\n",
       "</div>"
      ],
      "text/plain": [
       "                 customer_unique_id order_approved_at\n",
       "0  7c396fd4830fd04220f754e42b4e5bff        2017-10-01\n",
       "3  7c142cf63193a1473d2e66489a9ae977        2017-11-01\n",
       "5  80bb27c7c16e8f973207a5086ab329e2        2017-07-01\n",
       "6  36edbb3fb164b1f16485364b6fb04c73        2017-04-01\n",
       "7  932afa1e708222e5821dac9cd5db4cae        2017-05-01"
      ]
     },
     "execution_count": 95,
     "metadata": {},
     "output_type": "execute_result"
    }
   ],
   "source": [
    "customers_orders = order_data.merge(customer_data, on = 'customer_id', how = 'left')[['customer_unique_id','order_approved_at']]\n",
    "customers_orders['order_approved_at'] = pd.to_datetime(customers_orders.order_approved_at.dt.strftime('%Y-%m'))\n",
    "customers_orders = customers_orders.query(\"order_approved_at.astype('str').str.startswith('2017')\")\n",
    "customers_orders.head()"
   ]
  },
  {
   "cell_type": "code",
   "execution_count": 96,
   "id": "1e0bd526-e441-40f2-a42c-6f9a8c220e21",
   "metadata": {},
   "outputs": [
    {
     "data": {
      "text/html": [
       "<div>\n",
       "<style scoped>\n",
       "    .dataframe tbody tr th:only-of-type {\n",
       "        vertical-align: middle;\n",
       "    }\n",
       "\n",
       "    .dataframe tbody tr th {\n",
       "        vertical-align: top;\n",
       "    }\n",
       "\n",
       "    .dataframe thead th {\n",
       "        text-align: right;\n",
       "    }\n",
       "</style>\n",
       "<table border=\"1\" class=\"dataframe\">\n",
       "  <thead>\n",
       "    <tr style=\"text-align: right;\">\n",
       "      <th></th>\n",
       "      <th>customer_unique_id</th>\n",
       "      <th>cohort</th>\n",
       "    </tr>\n",
       "  </thead>\n",
       "  <tbody>\n",
       "    <tr>\n",
       "      <th>0</th>\n",
       "      <td>0000f46a3911fa3c0805444483337064</td>\n",
       "      <td>2017-03-01</td>\n",
       "    </tr>\n",
       "    <tr>\n",
       "      <th>1</th>\n",
       "      <td>0000f6ccb0745a6a4b88665a16c9f078</td>\n",
       "      <td>2017-10-01</td>\n",
       "    </tr>\n",
       "    <tr>\n",
       "      <th>2</th>\n",
       "      <td>0004aac84e0df4da2b147fca70cf8255</td>\n",
       "      <td>2017-11-01</td>\n",
       "    </tr>\n",
       "    <tr>\n",
       "      <th>3</th>\n",
       "      <td>0005e1862207bf6ccc02e4228effd9a0</td>\n",
       "      <td>2017-03-01</td>\n",
       "    </tr>\n",
       "    <tr>\n",
       "      <th>4</th>\n",
       "      <td>0006fdc98a402fceb4eb0ee528f6a8d4</td>\n",
       "      <td>2017-07-01</td>\n",
       "    </tr>\n",
       "    <tr>\n",
       "      <th>...</th>\n",
       "      <td>...</td>\n",
       "      <td>...</td>\n",
       "    </tr>\n",
       "    <tr>\n",
       "      <th>43597</th>\n",
       "      <td>fffbf87b7a1a6fa8b03f081c5f51a201</td>\n",
       "      <td>2017-12-01</td>\n",
       "    </tr>\n",
       "    <tr>\n",
       "      <th>43598</th>\n",
       "      <td>fffcf5a5ff07b0908bd4e2dbc735a684</td>\n",
       "      <td>2017-06-01</td>\n",
       "    </tr>\n",
       "    <tr>\n",
       "      <th>43599</th>\n",
       "      <td>fffea47cd6d3cc0a88bd621562a9d061</td>\n",
       "      <td>2017-12-01</td>\n",
       "    </tr>\n",
       "    <tr>\n",
       "      <th>43600</th>\n",
       "      <td>ffff371b4d645b6ecea244b27531430a</td>\n",
       "      <td>2017-02-01</td>\n",
       "    </tr>\n",
       "    <tr>\n",
       "      <th>43601</th>\n",
       "      <td>ffffd2657e2aad2907e67c3e9daecbeb</td>\n",
       "      <td>2017-05-01</td>\n",
       "    </tr>\n",
       "  </tbody>\n",
       "</table>\n",
       "<p>43602 rows × 2 columns</p>\n",
       "</div>"
      ],
      "text/plain": [
       "                     customer_unique_id     cohort\n",
       "0      0000f46a3911fa3c0805444483337064 2017-03-01\n",
       "1      0000f6ccb0745a6a4b88665a16c9f078 2017-10-01\n",
       "2      0004aac84e0df4da2b147fca70cf8255 2017-11-01\n",
       "3      0005e1862207bf6ccc02e4228effd9a0 2017-03-01\n",
       "4      0006fdc98a402fceb4eb0ee528f6a8d4 2017-07-01\n",
       "...                                 ...        ...\n",
       "43597  fffbf87b7a1a6fa8b03f081c5f51a201 2017-12-01\n",
       "43598  fffcf5a5ff07b0908bd4e2dbc735a684 2017-06-01\n",
       "43599  fffea47cd6d3cc0a88bd621562a9d061 2017-12-01\n",
       "43600  ffff371b4d645b6ecea244b27531430a 2017-02-01\n",
       "43601  ffffd2657e2aad2907e67c3e9daecbeb 2017-05-01\n",
       "\n",
       "[43602 rows x 2 columns]"
      ]
     },
     "execution_count": 96,
     "metadata": {},
     "output_type": "execute_result"
    }
   ],
   "source": [
    "customers_cohorts = customers_orders.groupby('customer_unique_id', as_index = False)\\\n",
    "                                    .order_approved_at.min()\\\n",
    "                                    .rename(columns={'order_approved_at':'cohort'})\n",
    "customers_cohorts"
   ]
  },
  {
   "cell_type": "markdown",
   "id": "86b68204-6a1f-4483-bf92-31ae8a944139",
   "metadata": {},
   "source": [
    "Проверим, что когорты отобрались только для 2017 года"
   ]
  },
  {
   "cell_type": "code",
   "execution_count": 98,
   "id": "05a3cc9c-4fcc-4f04-8d2a-73f421f8f7db",
   "metadata": {},
   "outputs": [
    {
     "data": {
      "text/plain": [
       "count                            43602\n",
       "mean     2017-07-30 19:24:23.877804032\n",
       "min                2017-01-01 00:00:00\n",
       "25%                2017-05-01 00:00:00\n",
       "50%                2017-08-01 00:00:00\n",
       "75%                2017-11-01 00:00:00\n",
       "max                2017-12-01 00:00:00\n",
       "Name: cohort, dtype: object"
      ]
     },
     "execution_count": 98,
     "metadata": {},
     "output_type": "execute_result"
    }
   ],
   "source": [
    "customers_cohorts.cohort.describe()"
   ]
  },
  {
   "cell_type": "code",
   "execution_count": 99,
   "id": "5dfb2946-e768-4733-bac5-8f436199544c",
   "metadata": {},
   "outputs": [
    {
     "data": {
      "text/html": [
       "<div>\n",
       "<style scoped>\n",
       "    .dataframe tbody tr th:only-of-type {\n",
       "        vertical-align: middle;\n",
       "    }\n",
       "\n",
       "    .dataframe tbody tr th {\n",
       "        vertical-align: top;\n",
       "    }\n",
       "\n",
       "    .dataframe thead th {\n",
       "        text-align: right;\n",
       "    }\n",
       "</style>\n",
       "<table border=\"1\" class=\"dataframe\">\n",
       "  <thead>\n",
       "    <tr style=\"text-align: right;\">\n",
       "      <th></th>\n",
       "      <th>customer_unique_id</th>\n",
       "      <th>order_approved_at</th>\n",
       "      <th>cohort</th>\n",
       "      <th>retention_month</th>\n",
       "    </tr>\n",
       "  </thead>\n",
       "  <tbody>\n",
       "    <tr>\n",
       "      <th>0</th>\n",
       "      <td>7c396fd4830fd04220f754e42b4e5bff</td>\n",
       "      <td>2017-10-01</td>\n",
       "      <td>2017-09-01</td>\n",
       "      <td>1</td>\n",
       "    </tr>\n",
       "    <tr>\n",
       "      <th>1</th>\n",
       "      <td>7c142cf63193a1473d2e66489a9ae977</td>\n",
       "      <td>2017-11-01</td>\n",
       "      <td>2017-11-01</td>\n",
       "      <td>0</td>\n",
       "    </tr>\n",
       "    <tr>\n",
       "      <th>2</th>\n",
       "      <td>80bb27c7c16e8f973207a5086ab329e2</td>\n",
       "      <td>2017-07-01</td>\n",
       "      <td>2017-07-01</td>\n",
       "      <td>0</td>\n",
       "    </tr>\n",
       "    <tr>\n",
       "      <th>3</th>\n",
       "      <td>36edbb3fb164b1f16485364b6fb04c73</td>\n",
       "      <td>2017-04-01</td>\n",
       "      <td>2017-04-01</td>\n",
       "      <td>0</td>\n",
       "    </tr>\n",
       "    <tr>\n",
       "      <th>4</th>\n",
       "      <td>932afa1e708222e5821dac9cd5db4cae</td>\n",
       "      <td>2017-05-01</td>\n",
       "      <td>2017-05-01</td>\n",
       "      <td>0</td>\n",
       "    </tr>\n",
       "  </tbody>\n",
       "</table>\n",
       "</div>"
      ],
      "text/plain": [
       "                 customer_unique_id order_approved_at      cohort  \\\n",
       "0  7c396fd4830fd04220f754e42b4e5bff        2017-10-01  2017-09-01   \n",
       "1  7c142cf63193a1473d2e66489a9ae977        2017-11-01  2017-11-01   \n",
       "2  80bb27c7c16e8f973207a5086ab329e2        2017-07-01  2017-07-01   \n",
       "3  36edbb3fb164b1f16485364b6fb04c73        2017-04-01  2017-04-01   \n",
       "4  932afa1e708222e5821dac9cd5db4cae        2017-05-01  2017-05-01   \n",
       "\n",
       "   retention_month  \n",
       "0                1  \n",
       "1                0  \n",
       "2                0  \n",
       "3                0  \n",
       "4                0  "
      ]
     },
     "execution_count": 99,
     "metadata": {},
     "output_type": "execute_result"
    }
   ],
   "source": [
    "cohort_retention = customers_orders.merge(customers_cohorts, on = 'customer_unique_id', how = 'left').dropna()\n",
    "cohort_retention['retention_month'] = cohort_retention.order_approved_at.dt.month - cohort_retention.cohort.dt.month\n",
    "cohort_retention['cohort'] = cohort_retention['cohort'].astype('str')\n",
    "cohort_retention.head()"
   ]
  },
  {
   "cell_type": "markdown",
   "id": "4160c454-62d0-44d6-9ab1-183f83a4ba2a",
   "metadata": {},
   "source": [
    "Теперь для каждой когорты пользователей построим таблицу с процентом retention по месяцам 2017 года."
   ]
  },
  {
   "cell_type": "code",
   "execution_count": 101,
   "id": "c2fade3d-5bc6-45dd-b966-24badd91151a",
   "metadata": {},
   "outputs": [
    {
     "data": {
      "text/html": [
       "<div>\n",
       "<style scoped>\n",
       "    .dataframe tbody tr th:only-of-type {\n",
       "        vertical-align: middle;\n",
       "    }\n",
       "\n",
       "    .dataframe tbody tr th {\n",
       "        vertical-align: top;\n",
       "    }\n",
       "\n",
       "    .dataframe thead th {\n",
       "        text-align: right;\n",
       "    }\n",
       "</style>\n",
       "<table border=\"1\" class=\"dataframe\">\n",
       "  <thead>\n",
       "    <tr style=\"text-align: right;\">\n",
       "      <th>retention_month</th>\n",
       "      <th>0</th>\n",
       "      <th>1</th>\n",
       "      <th>2</th>\n",
       "      <th>3</th>\n",
       "      <th>4</th>\n",
       "      <th>5</th>\n",
       "      <th>6</th>\n",
       "      <th>7</th>\n",
       "      <th>8</th>\n",
       "      <th>9</th>\n",
       "      <th>10</th>\n",
       "      <th>11</th>\n",
       "    </tr>\n",
       "    <tr>\n",
       "      <th>cohort</th>\n",
       "      <th></th>\n",
       "      <th></th>\n",
       "      <th></th>\n",
       "      <th></th>\n",
       "      <th></th>\n",
       "      <th></th>\n",
       "      <th></th>\n",
       "      <th></th>\n",
       "      <th></th>\n",
       "      <th></th>\n",
       "      <th></th>\n",
       "      <th></th>\n",
       "    </tr>\n",
       "  </thead>\n",
       "  <tbody>\n",
       "    <tr>\n",
       "      <th>2017-01-01</th>\n",
       "      <td>1.0</td>\n",
       "      <td>0.005263</td>\n",
       "      <td>0.002632</td>\n",
       "      <td>0.001316</td>\n",
       "      <td>0.003947</td>\n",
       "      <td>0.001316</td>\n",
       "      <td>0.005263</td>\n",
       "      <td>0.001316</td>\n",
       "      <td>0.001316</td>\n",
       "      <td>NaN</td>\n",
       "      <td>0.002632</td>\n",
       "      <td>0.002632</td>\n",
       "    </tr>\n",
       "    <tr>\n",
       "      <th>2017-02-01</th>\n",
       "      <td>1.0</td>\n",
       "      <td>0.002271</td>\n",
       "      <td>0.002271</td>\n",
       "      <td>0.001704</td>\n",
       "      <td>0.003975</td>\n",
       "      <td>0.001136</td>\n",
       "      <td>0.002271</td>\n",
       "      <td>0.001704</td>\n",
       "      <td>0.001136</td>\n",
       "      <td>0.002271</td>\n",
       "      <td>0.001136</td>\n",
       "      <td>NaN</td>\n",
       "    </tr>\n",
       "    <tr>\n",
       "      <th>2017-03-01</th>\n",
       "      <td>1.0</td>\n",
       "      <td>0.005218</td>\n",
       "      <td>0.003354</td>\n",
       "      <td>0.004100</td>\n",
       "      <td>0.003354</td>\n",
       "      <td>0.001491</td>\n",
       "      <td>0.001491</td>\n",
       "      <td>0.002982</td>\n",
       "      <td>0.002982</td>\n",
       "      <td>0.001118</td>\n",
       "      <td>NaN</td>\n",
       "      <td>NaN</td>\n",
       "    </tr>\n",
       "    <tr>\n",
       "      <th>2017-04-01</th>\n",
       "      <td>1.0</td>\n",
       "      <td>0.006369</td>\n",
       "      <td>0.002548</td>\n",
       "      <td>0.002123</td>\n",
       "      <td>0.002972</td>\n",
       "      <td>0.002548</td>\n",
       "      <td>0.003822</td>\n",
       "      <td>0.002548</td>\n",
       "      <td>0.003397</td>\n",
       "      <td>NaN</td>\n",
       "      <td>NaN</td>\n",
       "      <td>NaN</td>\n",
       "    </tr>\n",
       "    <tr>\n",
       "      <th>2017-05-01</th>\n",
       "      <td>1.0</td>\n",
       "      <td>0.005460</td>\n",
       "      <td>0.005733</td>\n",
       "      <td>0.003822</td>\n",
       "      <td>0.003003</td>\n",
       "      <td>0.004095</td>\n",
       "      <td>0.004641</td>\n",
       "      <td>0.001638</td>\n",
       "      <td>NaN</td>\n",
       "      <td>NaN</td>\n",
       "      <td>NaN</td>\n",
       "      <td>NaN</td>\n",
       "    </tr>\n",
       "    <tr>\n",
       "      <th>2017-06-01</th>\n",
       "      <td>1.0</td>\n",
       "      <td>0.004677</td>\n",
       "      <td>0.003742</td>\n",
       "      <td>0.004054</td>\n",
       "      <td>0.002495</td>\n",
       "      <td>0.003430</td>\n",
       "      <td>0.003742</td>\n",
       "      <td>NaN</td>\n",
       "      <td>NaN</td>\n",
       "      <td>NaN</td>\n",
       "      <td>NaN</td>\n",
       "      <td>NaN</td>\n",
       "    </tr>\n",
       "    <tr>\n",
       "      <th>2017-07-01</th>\n",
       "      <td>1.0</td>\n",
       "      <td>0.005615</td>\n",
       "      <td>0.003318</td>\n",
       "      <td>0.002042</td>\n",
       "      <td>0.003828</td>\n",
       "      <td>0.001787</td>\n",
       "      <td>NaN</td>\n",
       "      <td>NaN</td>\n",
       "      <td>NaN</td>\n",
       "      <td>NaN</td>\n",
       "      <td>NaN</td>\n",
       "      <td>NaN</td>\n",
       "    </tr>\n",
       "    <tr>\n",
       "      <th>2017-08-01</th>\n",
       "      <td>1.0</td>\n",
       "      <td>0.006536</td>\n",
       "      <td>0.003968</td>\n",
       "      <td>0.002568</td>\n",
       "      <td>0.003735</td>\n",
       "      <td>NaN</td>\n",
       "      <td>NaN</td>\n",
       "      <td>NaN</td>\n",
       "      <td>NaN</td>\n",
       "      <td>NaN</td>\n",
       "      <td>NaN</td>\n",
       "      <td>NaN</td>\n",
       "    </tr>\n",
       "    <tr>\n",
       "      <th>2017-09-01</th>\n",
       "      <td>1.0</td>\n",
       "      <td>0.006395</td>\n",
       "      <td>0.004737</td>\n",
       "      <td>0.004263</td>\n",
       "      <td>NaN</td>\n",
       "      <td>NaN</td>\n",
       "      <td>NaN</td>\n",
       "      <td>NaN</td>\n",
       "      <td>NaN</td>\n",
       "      <td>NaN</td>\n",
       "      <td>NaN</td>\n",
       "      <td>NaN</td>\n",
       "    </tr>\n",
       "    <tr>\n",
       "      <th>2017-10-01</th>\n",
       "      <td>1.0</td>\n",
       "      <td>0.007117</td>\n",
       "      <td>0.002891</td>\n",
       "      <td>NaN</td>\n",
       "      <td>NaN</td>\n",
       "      <td>NaN</td>\n",
       "      <td>NaN</td>\n",
       "      <td>NaN</td>\n",
       "      <td>NaN</td>\n",
       "      <td>NaN</td>\n",
       "      <td>NaN</td>\n",
       "      <td>NaN</td>\n",
       "    </tr>\n",
       "    <tr>\n",
       "      <th>2017-11-01</th>\n",
       "      <td>1.0</td>\n",
       "      <td>0.005640</td>\n",
       "      <td>NaN</td>\n",
       "      <td>NaN</td>\n",
       "      <td>NaN</td>\n",
       "      <td>NaN</td>\n",
       "      <td>NaN</td>\n",
       "      <td>NaN</td>\n",
       "      <td>NaN</td>\n",
       "      <td>NaN</td>\n",
       "      <td>NaN</td>\n",
       "      <td>NaN</td>\n",
       "    </tr>\n",
       "    <tr>\n",
       "      <th>2017-12-01</th>\n",
       "      <td>1.0</td>\n",
       "      <td>NaN</td>\n",
       "      <td>NaN</td>\n",
       "      <td>NaN</td>\n",
       "      <td>NaN</td>\n",
       "      <td>NaN</td>\n",
       "      <td>NaN</td>\n",
       "      <td>NaN</td>\n",
       "      <td>NaN</td>\n",
       "      <td>NaN</td>\n",
       "      <td>NaN</td>\n",
       "      <td>NaN</td>\n",
       "    </tr>\n",
       "  </tbody>\n",
       "</table>\n",
       "</div>"
      ],
      "text/plain": [
       "retention_month   0         1         2         3         4         5   \\\n",
       "cohort                                                                   \n",
       "2017-01-01       1.0  0.005263  0.002632  0.001316  0.003947  0.001316   \n",
       "2017-02-01       1.0  0.002271  0.002271  0.001704  0.003975  0.001136   \n",
       "2017-03-01       1.0  0.005218  0.003354  0.004100  0.003354  0.001491   \n",
       "2017-04-01       1.0  0.006369  0.002548  0.002123  0.002972  0.002548   \n",
       "2017-05-01       1.0  0.005460  0.005733  0.003822  0.003003  0.004095   \n",
       "2017-06-01       1.0  0.004677  0.003742  0.004054  0.002495  0.003430   \n",
       "2017-07-01       1.0  0.005615  0.003318  0.002042  0.003828  0.001787   \n",
       "2017-08-01       1.0  0.006536  0.003968  0.002568  0.003735       NaN   \n",
       "2017-09-01       1.0  0.006395  0.004737  0.004263       NaN       NaN   \n",
       "2017-10-01       1.0  0.007117  0.002891       NaN       NaN       NaN   \n",
       "2017-11-01       1.0  0.005640       NaN       NaN       NaN       NaN   \n",
       "2017-12-01       1.0       NaN       NaN       NaN       NaN       NaN   \n",
       "\n",
       "retention_month        6         7         8         9         10        11  \n",
       "cohort                                                                       \n",
       "2017-01-01       0.005263  0.001316  0.001316       NaN  0.002632  0.002632  \n",
       "2017-02-01       0.002271  0.001704  0.001136  0.002271  0.001136       NaN  \n",
       "2017-03-01       0.001491  0.002982  0.002982  0.001118       NaN       NaN  \n",
       "2017-04-01       0.003822  0.002548  0.003397       NaN       NaN       NaN  \n",
       "2017-05-01       0.004641  0.001638       NaN       NaN       NaN       NaN  \n",
       "2017-06-01       0.003742       NaN       NaN       NaN       NaN       NaN  \n",
       "2017-07-01            NaN       NaN       NaN       NaN       NaN       NaN  \n",
       "2017-08-01            NaN       NaN       NaN       NaN       NaN       NaN  \n",
       "2017-09-01            NaN       NaN       NaN       NaN       NaN       NaN  \n",
       "2017-10-01            NaN       NaN       NaN       NaN       NaN       NaN  \n",
       "2017-11-01            NaN       NaN       NaN       NaN       NaN       NaN  \n",
       "2017-12-01            NaN       NaN       NaN       NaN       NaN       NaN  "
      ]
     },
     "execution_count": 101,
     "metadata": {},
     "output_type": "execute_result"
    }
   ],
   "source": [
    "retention_table = pd.pivot_table(cohort_retention, index = 'cohort', columns = 'retention_month', values = 'customer_unique_id', aggfunc = \"count\")\n",
    "retention_table = retention_table.divide(retention_table[0], axis = 0)\n",
    "retention_table"
   ]
  },
  {
   "cell_type": "code",
   "execution_count": 102,
   "id": "e29b0c17-025a-4af2-92db-06330a11517c",
   "metadata": {},
   "outputs": [
    {
     "data": {
      "text/plain": [
       "<Axes: title={'center': 'Purchases retention 2017 \\n'}, xlabel='retention_month', ylabel='cohort'>"
      ]
     },
     "execution_count": 102,
     "metadata": {},
     "output_type": "execute_result"
    },
    {
     "data": {
      "image/png": "[encoded data removed]",
      "text/plain": [
       "<Figure size 1200x800 with 2 Axes>"
      ]
     },
     "metadata": {},
     "output_type": "display_data"
    }
   ],
   "source": [
    "fig, ax = plt.subplots(figsize=(12,8))\n",
    "ax.set_title('Purchases retention 2017 \\n', fontsize = 15)\n",
    "ax.xaxis.tick_top()\n",
    "sns.heatmap(retention_table, vmin = 0.001, vmax = 0.008, annot = True, linewidth = 0.5, fmt = '.2%', cmap = 'crest')"
   ]
  },
  {
   "cell_type": "markdown",
   "id": "b7740a8e-28b0-423c-814c-52d48cbe75af",
   "metadata": {},
   "source": [
    "В период с января по декабрь когорта с самым высоким retention на 3й месяц: 2017-06-01"
   ]
  },
  {
   "cell_type": "markdown",
   "id": "761e07f1-e9f5-4419-8602-95feb209b6dd",
   "metadata": {},
   "source": [
    "Для всех когорт общая тенденция: retention резко падает до < 1% на следующий месяц после первой покупки и далее не повышается. Можно сделать вывод, что большинство пользователей совершает только одну покупку."
   ]
  },
  {
   "cell_type": "markdown",
   "id": "9fbd4497-9d41-4b34-9c3f-d587749eb7f5",
   "metadata": {},
   "source": [
    "#### 6. Используя python, построй RFM-сегментацию пользователей, чтобы качественно оценить свою аудиторию."
   ]
  },
  {
   "cell_type": "markdown",
   "id": "9dc99f92-f112-423c-8d67-046a5c03aa83",
   "metadata": {},
   "source": [
    "* Recency - время от последней покупки пользователя до текущей даты (т.к. данные старые, текущей датой будем считать последнюю дату среди всех заказов)"
   ]
  },
  {
   "cell_type": "markdown",
   "id": "02292002-f1c5-4460-8b0d-f9f58db97197",
   "metadata": {},
   "source": [
    "* Frequency - суммарное количество покупок у пользователя за всё время"
   ]
  },
  {
   "cell_type": "markdown",
   "id": "656d51e5-39bc-408d-b3ab-3bddad36033b",
   "metadata": {},
   "source": [
    "* Monetary - сумма покупок пользователя за всё время"
   ]
  },
  {
   "cell_type": "markdown",
   "id": "c905d409-01a4-42dd-b806-29b4fd21b055",
   "metadata": {},
   "source": [
    "Соединим пользователей с их заказами и ценами товаров в них"
   ]
  },
  {
   "cell_type": "code",
   "execution_count": 110,
   "id": "0f8a5ae6-1c14-4d20-abc3-15e6cb5dc057",
   "metadata": {},
   "outputs": [
    {
     "data": {
      "text/html": [
       "<div>\n",
       "<style scoped>\n",
       "    .dataframe tbody tr th:only-of-type {\n",
       "        vertical-align: middle;\n",
       "    }\n",
       "\n",
       "    .dataframe tbody tr th {\n",
       "        vertical-align: top;\n",
       "    }\n",
       "\n",
       "    .dataframe thead th {\n",
       "        text-align: right;\n",
       "    }\n",
       "</style>\n",
       "<table border=\"1\" class=\"dataframe\">\n",
       "  <thead>\n",
       "    <tr style=\"text-align: right;\">\n",
       "      <th></th>\n",
       "      <th>customer_unique_id</th>\n",
       "      <th>order_id</th>\n",
       "      <th>order_approved_at</th>\n",
       "      <th>price</th>\n",
       "    </tr>\n",
       "  </thead>\n",
       "  <tbody>\n",
       "    <tr>\n",
       "      <th>0</th>\n",
       "      <td>0000366f3b9a7992bf8c76cfdf3221e2</td>\n",
       "      <td>e22acc9c116caa3f2b7121bbb380d08e</td>\n",
       "      <td>2018-05-10 11:11:18</td>\n",
       "      <td>129.90</td>\n",
       "    </tr>\n",
       "    <tr>\n",
       "      <th>1</th>\n",
       "      <td>0000b849f77a49e4a4ce2b2a4ca5be3f</td>\n",
       "      <td>3594e05a005ac4d06a72673270ef9ec9</td>\n",
       "      <td>2018-05-07 18:25:44</td>\n",
       "      <td>18.90</td>\n",
       "    </tr>\n",
       "    <tr>\n",
       "      <th>2</th>\n",
       "      <td>0000f46a3911fa3c0805444483337064</td>\n",
       "      <td>b33ec3b699337181488304f362a6b734</td>\n",
       "      <td>2017-03-10 21:05:03</td>\n",
       "      <td>69.00</td>\n",
       "    </tr>\n",
       "    <tr>\n",
       "      <th>3</th>\n",
       "      <td>0000f6ccb0745a6a4b88665a16c9f078</td>\n",
       "      <td>41272756ecddd9a9ed0180413cc22fb6</td>\n",
       "      <td>2017-10-12 20:49:17</td>\n",
       "      <td>25.99</td>\n",
       "    </tr>\n",
       "    <tr>\n",
       "      <th>4</th>\n",
       "      <td>0004aac84e0df4da2b147fca70cf8255</td>\n",
       "      <td>d957021f1127559cd947b62533f484f7</td>\n",
       "      <td>2017-11-14 20:06:52</td>\n",
       "      <td>180.00</td>\n",
       "    </tr>\n",
       "    <tr>\n",
       "      <th>...</th>\n",
       "      <td>...</td>\n",
       "      <td>...</td>\n",
       "      <td>...</td>\n",
       "      <td>...</td>\n",
       "    </tr>\n",
       "    <tr>\n",
       "      <th>99436</th>\n",
       "      <td>fffcf5a5ff07b0908bd4e2dbc735a684</td>\n",
       "      <td>725cf8e9c24e679a8a5a32cb92c9ce1e</td>\n",
       "      <td>2017-06-08 21:15:16</td>\n",
       "      <td>1570.00</td>\n",
       "    </tr>\n",
       "    <tr>\n",
       "      <th>99437</th>\n",
       "      <td>fffea47cd6d3cc0a88bd621562a9d061</td>\n",
       "      <td>c71b9252fd7b3b263aaa4cb09319a323</td>\n",
       "      <td>2017-12-10 20:16:20</td>\n",
       "      <td>64.89</td>\n",
       "    </tr>\n",
       "    <tr>\n",
       "      <th>99438</th>\n",
       "      <td>ffff371b4d645b6ecea244b27531430a</td>\n",
       "      <td>fdc45e6c7555e6cb3cc0daca2557dbe1</td>\n",
       "      <td>2017-02-07 16:02:44</td>\n",
       "      <td>89.90</td>\n",
       "    </tr>\n",
       "    <tr>\n",
       "      <th>99439</th>\n",
       "      <td>ffff5962728ec6157033ef9805bacc48</td>\n",
       "      <td>94d3ee0bc2a0af9d4fa47a4d63616e8d</td>\n",
       "      <td>2018-05-02 15:58:47</td>\n",
       "      <td>115.00</td>\n",
       "    </tr>\n",
       "    <tr>\n",
       "      <th>99440</th>\n",
       "      <td>ffffd2657e2aad2907e67c3e9daecbeb</td>\n",
       "      <td>f79a35da168301ae56922475da21117b</td>\n",
       "      <td>2017-05-03 15:15:13</td>\n",
       "      <td>56.99</td>\n",
       "    </tr>\n",
       "  </tbody>\n",
       "</table>\n",
       "<p>99281 rows × 4 columns</p>\n",
       "</div>"
      ],
      "text/plain": [
       "                     customer_unique_id                          order_id  \\\n",
       "0      0000366f3b9a7992bf8c76cfdf3221e2  e22acc9c116caa3f2b7121bbb380d08e   \n",
       "1      0000b849f77a49e4a4ce2b2a4ca5be3f  3594e05a005ac4d06a72673270ef9ec9   \n",
       "2      0000f46a3911fa3c0805444483337064  b33ec3b699337181488304f362a6b734   \n",
       "3      0000f6ccb0745a6a4b88665a16c9f078  41272756ecddd9a9ed0180413cc22fb6   \n",
       "4      0004aac84e0df4da2b147fca70cf8255  d957021f1127559cd947b62533f484f7   \n",
       "...                                 ...                               ...   \n",
       "99436  fffcf5a5ff07b0908bd4e2dbc735a684  725cf8e9c24e679a8a5a32cb92c9ce1e   \n",
       "99437  fffea47cd6d3cc0a88bd621562a9d061  c71b9252fd7b3b263aaa4cb09319a323   \n",
       "99438  ffff371b4d645b6ecea244b27531430a  fdc45e6c7555e6cb3cc0daca2557dbe1   \n",
       "99439  ffff5962728ec6157033ef9805bacc48  94d3ee0bc2a0af9d4fa47a4d63616e8d   \n",
       "99440  ffffd2657e2aad2907e67c3e9daecbeb  f79a35da168301ae56922475da21117b   \n",
       "\n",
       "        order_approved_at    price  \n",
       "0     2018-05-10 11:11:18   129.90  \n",
       "1     2018-05-07 18:25:44    18.90  \n",
       "2     2017-03-10 21:05:03    69.00  \n",
       "3     2017-10-12 20:49:17    25.99  \n",
       "4     2017-11-14 20:06:52   180.00  \n",
       "...                   ...      ...  \n",
       "99436 2017-06-08 21:15:16  1570.00  \n",
       "99437 2017-12-10 20:16:20    64.89  \n",
       "99438 2017-02-07 16:02:44    89.90  \n",
       "99439 2018-05-02 15:58:47   115.00  \n",
       "99440 2017-05-03 15:15:13    56.99  \n",
       "\n",
       "[99281 rows x 4 columns]"
      ]
     },
     "execution_count": 110,
     "metadata": {},
     "output_type": "execute_result"
    }
   ],
   "source": [
    "customers_segments = order_data.merge(customer_data, on = 'customer_id', how = 'left')[['customer_unique_id','order_approved_at','order_id']]\n",
    "customers_segments = customers_segments.merge(product_data[['order_id','price']], how = 'left', on = 'order_id')\n",
    "customers_segments = customers_segments.groupby(['customer_unique_id','order_id'], as_index = False).agg({'order_approved_at': \"max\", 'price' : \"sum\"})\n",
    "customers_segments.dropna(inplace = True)\n",
    "customers_segments"
   ]
  },
  {
   "cell_type": "markdown",
   "id": "1c6ab634-9138-45e6-b688-1c2ba497881f",
   "metadata": {},
   "source": [
    "Для каждого пользователя рассчитаем его значения Recency, Frequency и Monetary"
   ]
  },
  {
   "cell_type": "code",
   "execution_count": 111,
   "id": "5957b871-9089-440a-9269-e0bd6f153423",
   "metadata": {},
   "outputs": [
    {
     "data": {
      "text/plain": [
       "Timestamp('2018-09-03 17:40:06')"
      ]
     },
     "execution_count": 111,
     "metadata": {},
     "output_type": "execute_result"
    }
   ],
   "source": [
    "current_date = customers_segments.order_approved_at.max()\n",
    "current_date"
   ]
  },
  {
   "cell_type": "code",
   "execution_count": 112,
   "id": "ce53bbf0-2273-41fa-ab63-165b674f439a",
   "metadata": {},
   "outputs": [
    {
     "data": {
      "text/html": [
       "<div>\n",
       "<style scoped>\n",
       "    .dataframe tbody tr th:only-of-type {\n",
       "        vertical-align: middle;\n",
       "    }\n",
       "\n",
       "    .dataframe tbody tr th {\n",
       "        vertical-align: top;\n",
       "    }\n",
       "\n",
       "    .dataframe thead th {\n",
       "        text-align: right;\n",
       "    }\n",
       "</style>\n",
       "<table border=\"1\" class=\"dataframe\">\n",
       "  <thead>\n",
       "    <tr style=\"text-align: right;\">\n",
       "      <th></th>\n",
       "      <th>customer_unique_id</th>\n",
       "      <th>recency</th>\n",
       "      <th>frequency</th>\n",
       "      <th>monetary</th>\n",
       "    </tr>\n",
       "  </thead>\n",
       "  <tbody>\n",
       "    <tr>\n",
       "      <th>0</th>\n",
       "      <td>0000366f3b9a7992bf8c76cfdf3221e2</td>\n",
       "      <td>116</td>\n",
       "      <td>1</td>\n",
       "      <td>129.90</td>\n",
       "    </tr>\n",
       "    <tr>\n",
       "      <th>1</th>\n",
       "      <td>0000b849f77a49e4a4ce2b2a4ca5be3f</td>\n",
       "      <td>118</td>\n",
       "      <td>1</td>\n",
       "      <td>18.90</td>\n",
       "    </tr>\n",
       "    <tr>\n",
       "      <th>2</th>\n",
       "      <td>0000f46a3911fa3c0805444483337064</td>\n",
       "      <td>541</td>\n",
       "      <td>1</td>\n",
       "      <td>69.00</td>\n",
       "    </tr>\n",
       "    <tr>\n",
       "      <th>3</th>\n",
       "      <td>0000f6ccb0745a6a4b88665a16c9f078</td>\n",
       "      <td>325</td>\n",
       "      <td>1</td>\n",
       "      <td>25.99</td>\n",
       "    </tr>\n",
       "    <tr>\n",
       "      <th>4</th>\n",
       "      <td>0004aac84e0df4da2b147fca70cf8255</td>\n",
       "      <td>292</td>\n",
       "      <td>1</td>\n",
       "      <td>180.00</td>\n",
       "    </tr>\n",
       "  </tbody>\n",
       "</table>\n",
       "</div>"
      ],
      "text/plain": [
       "                 customer_unique_id  recency  frequency  monetary\n",
       "0  0000366f3b9a7992bf8c76cfdf3221e2      116          1    129.90\n",
       "1  0000b849f77a49e4a4ce2b2a4ca5be3f      118          1     18.90\n",
       "2  0000f46a3911fa3c0805444483337064      541          1     69.00\n",
       "3  0000f6ccb0745a6a4b88665a16c9f078      325          1     25.99\n",
       "4  0004aac84e0df4da2b147fca70cf8255      292          1    180.00"
      ]
     },
     "execution_count": 112,
     "metadata": {},
     "output_type": "execute_result"
    }
   ],
   "source": [
    "customers_stat = customers_segments.groupby('customer_unique_id', as_index = False)\\\n",
    "                                   .agg({'order_approved_at' : lambda x: int((current_date - x.max()).days), \n",
    "                                         'order_id' : 'count',\n",
    "                                         'price' : 'sum'})\n",
    "customers_stat = customers_stat.rename(columns = {'order_approved_at' : 'recency', 'order_id' : 'frequency', 'price' : 'monetary'})\n",
    "customers_stat.head()\n"
   ]
  },
  {
   "cell_type": "markdown",
   "id": "8d1ef2aa-9702-4926-bd24-30345ce99b3f",
   "metadata": {},
   "source": [
    "#### Выделение кластеров по Recency"
   ]
  },
  {
   "cell_type": "code",
   "execution_count": 113,
   "id": "86bc79dc-48f4-429c-afa6-d541eb9e7670",
   "metadata": {},
   "outputs": [
    {
     "data": {
      "text/plain": [
       "count    95997.000000\n",
       "mean       243.250904\n",
       "std        153.282280\n",
       "min          0.000000\n",
       "25%        119.000000\n",
       "50%        224.000000\n",
       "75%        353.000000\n",
       "max        718.000000\n",
       "Name: recency, dtype: float64"
      ]
     },
     "execution_count": 113,
     "metadata": {},
     "output_type": "execute_result"
    }
   ],
   "source": [
    "customers_stat.recency.describe()"
   ]
  },
  {
   "cell_type": "code",
   "execution_count": 178,
   "id": "33f65582-f467-425d-a510-ef74d7bb9b42",
   "metadata": {},
   "outputs": [
    {
     "data": {
      "text/plain": [
       "<Axes: xlabel='recency', ylabel='Count'>"
      ]
     },
     "execution_count": 178,
     "metadata": {},
     "output_type": "execute_result"
    },
    {
     "data": {
      "image/png": "[encoded data removed]",
      "text/plain": [
       "<Figure size 640x480 with 1 Axes>"
      ]
     },
     "metadata": {},
     "output_type": "display_data"
    }
   ],
   "source": [
    "sns.histplot(customers_stat.recency)"
   ]
  },
  {
   "cell_type": "markdown",
   "id": "5a506d57-44e1-4661-829c-c084fbb579c3",
   "metadata": {},
   "source": [
    "Кластера для recency можно выделить по квартилям:\n",
    "\n",
    "1 кластер: последняя покупка менее 120 дней назад <br>\n",
    "2 кластер: последняя покупка от 120 до 224 дней назад <br>\n",
    "3 кластер: последняя покупка более 224 дней назад <br>"
   ]
  },
  {
   "cell_type": "markdown",
   "id": "f7a9d910-ebd4-4f30-91f2-d60295e7ca62",
   "metadata": {},
   "source": [
    "#### Выделение кластеров по Frequency"
   ]
  },
  {
   "cell_type": "code",
   "execution_count": 114,
   "id": "e6e59d02-dc35-48d1-8ecd-f9d191aafdef",
   "metadata": {},
   "outputs": [
    {
     "data": {
      "text/plain": [
       "count    95997.000000\n",
       "mean         1.034209\n",
       "std          0.212521\n",
       "min          1.000000\n",
       "25%          1.000000\n",
       "50%          1.000000\n",
       "75%          1.000000\n",
       "max         17.000000\n",
       "Name: frequency, dtype: float64"
      ]
     },
     "execution_count": 114,
     "metadata": {},
     "output_type": "execute_result"
    }
   ],
   "source": [
    "customers_stat.frequency.describe()"
   ]
  },
  {
   "cell_type": "markdown",
   "id": "f389e230-42d4-4871-882c-4b20e3ceb83c",
   "metadata": {},
   "source": [
    "Большинство пользователей совершают всего одну покупку, поэтому целесообразно выделить всего два кластера\n",
    "\n",
    "1 кластер: пользователь совершил более чем 1 покупку <br>\n",
    "2 кластер: пользователь совершил только 1 покупку"
   ]
  },
  {
   "cell_type": "markdown",
   "id": "f802549a-8866-43a5-a972-ece4f4cc3879",
   "metadata": {},
   "source": [
    "Пользователей из 1 кластера всего 3% от общего числа пользователей, можно считать их лояльными к продукту."
   ]
  },
  {
   "cell_type": "code",
   "execution_count": 256,
   "id": "a2c5a0e4-e176-4486-8273-015b2e1635c9",
   "metadata": {},
   "outputs": [
    {
     "data": {
      "text/plain": [
       "3.0709292998739546"
      ]
     },
     "execution_count": 256,
     "metadata": {},
     "output_type": "execute_result"
    }
   ],
   "source": [
    "customers_stat.query('frequency > 1').shape[0] / len(customers_stat) * 100"
   ]
  },
  {
   "cell_type": "markdown",
   "id": "457a9e96-f457-436b-8f73-c8d649e7ec67",
   "metadata": {},
   "source": [
    "#### Выделение кластеров по Monetary"
   ]
  },
  {
   "cell_type": "code",
   "execution_count": 115,
   "id": "fbe249e1-a282-47cc-a2ec-0f756e8b3c4e",
   "metadata": {},
   "outputs": [
    {
     "data": {
      "text/plain": [
       "count    95997.000000\n",
       "mean       141.566646\n",
       "std        217.282723\n",
       "min          0.000000\n",
       "25%         46.400000\n",
       "50%         89.000000\n",
       "75%        154.170000\n",
       "max      13440.000000\n",
       "Name: monetary, dtype: float64"
      ]
     },
     "execution_count": 115,
     "metadata": {},
     "output_type": "execute_result"
    }
   ],
   "source": [
    "customers_stat.monetary.describe()"
   ]
  },
  {
   "cell_type": "code",
   "execution_count": 279,
   "id": "7185bdd3-0995-47cd-b0b6-bd2ec618e87b",
   "metadata": {},
   "outputs": [],
   "source": [
    "maxi = customers_stat.monetary.quantile(0.975)"
   ]
  },
  {
   "cell_type": "code",
   "execution_count": 283,
   "id": "779668dd-7227-40bd-bcf1-61672a38e26d",
   "metadata": {},
   "outputs": [
    {
     "data": {
      "text/plain": [
       "<Axes: xlabel='monetary', ylabel='Count'>"
      ]
     },
     "execution_count": 283,
     "metadata": {},
     "output_type": "execute_result"
    },
    {
     "data": {
      "image/png": "[encoded data removed]",
      "text/plain": [
       "<Figure size 640x480 with 1 Axes>"
      ]
     },
     "metadata": {},
     "output_type": "display_data"
    }
   ],
   "source": [
    "sns.histplot(customers_stat.query('monetary < @maxi').monetary, bins = 50)"
   ]
  },
  {
   "cell_type": "markdown",
   "id": "fefb9567-4b5b-4895-a5e3-3ced7c88c404",
   "metadata": {},
   "source": [
    "Распределение monetary подходит для деления по квартилям.\n",
    "\n",
    "1 кластер: общая сумма покупок > 155 <br>\n",
    "2 кластер: 89 < общая сумма покупок <= 155 <br>\n",
    "3 кластер: 46 < общая сумма покупок <= 89 <br>\n",
    "4 кластер: общая сумма покупок <= 46 <br>"
   ]
  },
  {
   "cell_type": "markdown",
   "id": "4506b3ea-4478-4754-b899-596111e9430c",
   "metadata": {},
   "source": [
    "Разделим пользователей по RFM-сегментам"
   ]
  },
  {
   "cell_type": "code",
   "execution_count": 301,
   "id": "630f5713-aa33-4e2e-8983-0e1ea086f86b",
   "metadata": {},
   "outputs": [],
   "source": [
    "def set_recency_cluster(recency):\n",
    "    if recency < 120:\n",
    "        return 1\n",
    "    if recency <= 224:\n",
    "        return 2\n",
    "    else:\n",
    "        return 3\n",
    "\n",
    "def set_frequency_cluster(frequency):\n",
    "    if frequency > 1:\n",
    "        return 1\n",
    "    else:\n",
    "        return 2\n",
    "\n",
    "def set_monetary_cluster(monetary):\n",
    "    if monetary <= 46:\n",
    "        return 4\n",
    "    if monetary <= 89:\n",
    "        return 3\n",
    "    if monetary <= 155:\n",
    "        return 2\n",
    "    else:\n",
    "        return 1"
   ]
  },
  {
   "cell_type": "code",
   "execution_count": 305,
   "id": "6aff7997-f430-4d03-8b3d-e688fbbb044e",
   "metadata": {},
   "outputs": [],
   "source": [
    "customers_stat['R_cluster'] = customers_stat['recency'].apply(set_recency_cluster)\n",
    "customers_stat['F_cluster'] = customers_stat['frequency'].apply(set_frequency_cluster)\n",
    "customers_stat['M_cluster'] = customers_stat['monetary'].apply(set_monetary_cluster)"
   ]
  },
  {
   "cell_type": "code",
   "execution_count": 317,
   "id": "6e978ee2-83bf-4ee3-a2bb-3155432a1f0f",
   "metadata": {},
   "outputs": [],
   "source": [
    "customers_stat['RFM_class'] = customers_stat['R_cluster'].astype('str') + customers_stat['F_cluster'].astype('str') + customers_stat['M_cluster'].astype('str')"
   ]
  },
  {
   "cell_type": "markdown",
   "id": "67ec8459-a78d-43c5-b80a-1f7a8f8ed451",
   "metadata": {},
   "source": [
    "Оценка классов варьируется от 111 - лучший по RFM параметрам к 324 - худший."
   ]
  },
  {
   "cell_type": "code",
   "execution_count": 319,
   "id": "af63907e-5f9e-4357-97ee-5db3bbadaf36",
   "metadata": {},
   "outputs": [
    {
     "data": {
      "text/html": [
       "<div>\n",
       "<style scoped>\n",
       "    .dataframe tbody tr th:only-of-type {\n",
       "        vertical-align: middle;\n",
       "    }\n",
       "\n",
       "    .dataframe tbody tr th {\n",
       "        vertical-align: top;\n",
       "    }\n",
       "\n",
       "    .dataframe thead th {\n",
       "        text-align: right;\n",
       "    }\n",
       "</style>\n",
       "<table border=\"1\" class=\"dataframe\">\n",
       "  <thead>\n",
       "    <tr style=\"text-align: right;\">\n",
       "      <th></th>\n",
       "      <th>customer_unique_id</th>\n",
       "      <th>recency</th>\n",
       "      <th>frequency</th>\n",
       "      <th>monetary</th>\n",
       "      <th>R_cluster</th>\n",
       "      <th>F_cluster</th>\n",
       "      <th>M_cluster</th>\n",
       "      <th>RFM_class</th>\n",
       "    </tr>\n",
       "  </thead>\n",
       "  <tbody>\n",
       "    <tr>\n",
       "      <th>0</th>\n",
       "      <td>0000366f3b9a7992bf8c76cfdf3221e2</td>\n",
       "      <td>116</td>\n",
       "      <td>1</td>\n",
       "      <td>129.90</td>\n",
       "      <td>1</td>\n",
       "      <td>2</td>\n",
       "      <td>2</td>\n",
       "      <td>122</td>\n",
       "    </tr>\n",
       "    <tr>\n",
       "      <th>1</th>\n",
       "      <td>0000b849f77a49e4a4ce2b2a4ca5be3f</td>\n",
       "      <td>118</td>\n",
       "      <td>1</td>\n",
       "      <td>18.90</td>\n",
       "      <td>1</td>\n",
       "      <td>2</td>\n",
       "      <td>4</td>\n",
       "      <td>124</td>\n",
       "    </tr>\n",
       "    <tr>\n",
       "      <th>2</th>\n",
       "      <td>0000f46a3911fa3c0805444483337064</td>\n",
       "      <td>541</td>\n",
       "      <td>1</td>\n",
       "      <td>69.00</td>\n",
       "      <td>3</td>\n",
       "      <td>2</td>\n",
       "      <td>3</td>\n",
       "      <td>323</td>\n",
       "    </tr>\n",
       "    <tr>\n",
       "      <th>3</th>\n",
       "      <td>0000f6ccb0745a6a4b88665a16c9f078</td>\n",
       "      <td>325</td>\n",
       "      <td>1</td>\n",
       "      <td>25.99</td>\n",
       "      <td>3</td>\n",
       "      <td>2</td>\n",
       "      <td>4</td>\n",
       "      <td>324</td>\n",
       "    </tr>\n",
       "    <tr>\n",
       "      <th>4</th>\n",
       "      <td>0004aac84e0df4da2b147fca70cf8255</td>\n",
       "      <td>292</td>\n",
       "      <td>1</td>\n",
       "      <td>180.00</td>\n",
       "      <td>3</td>\n",
       "      <td>2</td>\n",
       "      <td>1</td>\n",
       "      <td>321</td>\n",
       "    </tr>\n",
       "  </tbody>\n",
       "</table>\n",
       "</div>"
      ],
      "text/plain": [
       "                 customer_unique_id  recency  frequency  monetary  R_cluster  \\\n",
       "0  0000366f3b9a7992bf8c76cfdf3221e2      116          1    129.90          1   \n",
       "1  0000b849f77a49e4a4ce2b2a4ca5be3f      118          1     18.90          1   \n",
       "2  0000f46a3911fa3c0805444483337064      541          1     69.00          3   \n",
       "3  0000f6ccb0745a6a4b88665a16c9f078      325          1     25.99          3   \n",
       "4  0004aac84e0df4da2b147fca70cf8255      292          1    180.00          3   \n",
       "\n",
       "   F_cluster  M_cluster RFM_class  \n",
       "0          2          2       122  \n",
       "1          2          4       124  \n",
       "2          2          3       323  \n",
       "3          2          4       324  \n",
       "4          2          1       321  "
      ]
     },
     "execution_count": 319,
     "metadata": {},
     "output_type": "execute_result"
    }
   ],
   "source": [
    "customers_stat.head()"
   ]
  },
  {
   "cell_type": "markdown",
   "id": "929aace1-8801-4a8d-aeeb-bcc2da896fdc",
   "metadata": {},
   "source": [
    "Рассмотрим получившиеся классы детальнее"
   ]
  },
  {
   "cell_type": "code",
   "execution_count": 372,
   "id": "63cc4272-fa2e-4612-9e48-14f8be0d8da9",
   "metadata": {},
   "outputs": [
    {
     "data": {
      "text/html": [
       "<div>\n",
       "<style scoped>\n",
       "    .dataframe tbody tr th:only-of-type {\n",
       "        vertical-align: middle;\n",
       "    }\n",
       "\n",
       "    .dataframe tbody tr th {\n",
       "        vertical-align: top;\n",
       "    }\n",
       "\n",
       "    .dataframe thead th {\n",
       "        text-align: right;\n",
       "    }\n",
       "</style>\n",
       "<table border=\"1\" class=\"dataframe\">\n",
       "  <thead>\n",
       "    <tr style=\"text-align: right;\">\n",
       "      <th></th>\n",
       "      <th>RFM_class</th>\n",
       "      <th>count_users</th>\n",
       "      <th>percent</th>\n",
       "    </tr>\n",
       "  </thead>\n",
       "  <tbody>\n",
       "    <tr>\n",
       "      <th>22</th>\n",
       "      <td>323</td>\n",
       "      <td>11997</td>\n",
       "      <td>12.50</td>\n",
       "    </tr>\n",
       "    <tr>\n",
       "      <th>23</th>\n",
       "      <td>324</td>\n",
       "      <td>11984</td>\n",
       "      <td>12.48</td>\n",
       "    </tr>\n",
       "    <tr>\n",
       "      <th>21</th>\n",
       "      <td>322</td>\n",
       "      <td>11389</td>\n",
       "      <td>11.86</td>\n",
       "    </tr>\n",
       "    <tr>\n",
       "      <th>20</th>\n",
       "      <td>321</td>\n",
       "      <td>11088</td>\n",
       "      <td>11.55</td>\n",
       "    </tr>\n",
       "    <tr>\n",
       "      <th>13</th>\n",
       "      <td>222</td>\n",
       "      <td>6032</td>\n",
       "      <td>6.28</td>\n",
       "    </tr>\n",
       "  </tbody>\n",
       "</table>\n",
       "</div>"
      ],
      "text/plain": [
       "   RFM_class  count_users  percent\n",
       "22       323        11997    12.50\n",
       "23       324        11984    12.48\n",
       "21       322        11389    11.86\n",
       "20       321        11088    11.55\n",
       "13       222         6032     6.28"
      ]
     },
     "execution_count": 372,
     "metadata": {},
     "output_type": "execute_result"
    }
   ],
   "source": [
    "rfm_table = customers_stat.groupby('RFM_class', as_index = False).customer_unique_id.count()\\\n",
    "               .rename(columns={'customer_unique_id' : 'count_users'})\\\n",
    "               .sort_values('count_users', ascending = False)\n",
    "rfm_table['percent'] = round(rfm_table.count_users / len(customers_stat) * 100,2)\n",
    "rfm_table.head()"
   ]
  },
  {
   "cell_type": "code",
   "execution_count": 370,
   "id": "7ebdc715-275c-49fd-8fbb-3b9ae31d0554",
   "metadata": {},
   "outputs": [
    {
     "name": "stderr",
     "output_type": "stream",
     "text": [
      "C:\\Users\\фвьшт\\AppData\\Local\\Temp\\ipykernel_16404\\3432453499.py:3: FutureWarning: \n",
      "\n",
      "Passing `palette` without assigning `hue` is deprecated and will be removed in v0.14.0. Assign the `x` variable to `hue` and set `legend=False` for the same effect.\n",
      "\n",
      "  sns.barplot(rfm_table, x = 'RFM_class', y = 'percent', palette = 'flare')\n"
     ]
    },
    {
     "data": {
      "text/plain": [
       "<Axes: title={'center': 'Percentage of each RFM class'}, xlabel='RFM_class', ylabel='percent'>"
      ]
     },
     "execution_count": 370,
     "metadata": {},
     "output_type": "execute_result"
    },
    {
     "data": {
      "image/png": "[encoded data removed]",
      "text/plain": [
       "<Figure size 1400x800 with 1 Axes>"
      ]
     },
     "metadata": {},
     "output_type": "display_data"
    }
   ],
   "source": [
    "fig,ax = plt.subplots(figsize=(14,8))\n",
    "plt.title('Percentage of each RFM class')\n",
    "sns.barplot(rfm_table, x = 'RFM_class', y = 'percent', palette = 'flare')"
   ]
  },
  {
   "cell_type": "markdown",
   "id": "2cc33769-95ad-4852-a788-17d5d1152ee5",
   "metadata": {},
   "source": [
    "**Самые популярные классы:** <br>\n",
    "1. `323` - совершили одну недорогую покупку более чем 225 дней назад\n",
    "2. `324` - совершили одну дешевую покупку более чем 225 дней назад, худший класс\n",
    "3. `322` - совершили одну покупку до 155 долларов более чем 225 дней назад\n",
    "4. `321` - совершили одну дорогую покупку более чем 225 дней назад\n",
    "5. `222` - совершили одну покупку до 155 долларов от 120 до 225 дней назад"
   ]
  },
  {
   "cell_type": "markdown",
   "id": "0351ab99-e89e-41a1-89f7-4c566e78803f",
   "metadata": {},
   "source": [
    "К сожалению, самые популярные классы состоят из пользователей, которые совершили только одну покупку и больше не возвращались к продукту длительное время."
   ]
  },
  {
   "cell_type": "markdown",
   "id": "2c774d29-5520-4bbd-8349-0004e5bdf41f",
   "metadata": {},
   "source": [
    "**Классы, на которые стоит обратить внимание:**\n",
    "\n",
    "1. Все классы, у которых F = 1 и R != 4, это менее чем 3% пользователей, которые совершили повторную покупку и еще не до конца \"отвалились\", их необходимо сохранить. Самый лояльный класс - `111`\n",
    "2. `121` - совершили дорогую первую покупку менее чем 120 дней назад, есть шанс конвертировать их в лояльных пользователей с высокими тратами\n",
    "3. `122`,`123`, `124` - совершили первую покупку менее чем 120 дней назад, но на небольшую сумму, есть шанс конвертировать их в лояльных пользователей"
   ]
  }
 ],
 "metadata": {
  "kernelspec": {
   "display_name": "Python 3 (ipykernel)",
   "language": "python",
   "name": "python3"
  },
  "language_info": {
   "codemirror_mode": {
    "name": "ipython",
    "version": 3
   },
   "file_extension": ".py",
   "mimetype": "text/x-python",
   "name": "python",
   "nbconvert_exporter": "python",
   "pygments_lexer": "ipython3",
   "version": "3.11.7"
  }
 },
 "nbformat": 4,
 "nbformat_minor": 5
}
