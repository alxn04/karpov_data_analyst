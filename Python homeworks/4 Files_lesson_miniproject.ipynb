{
 "cells": [
  {
   "cell_type": "code",
   "execution_count": 1,
   "id": "a66a8e1a-c202-45b3-8108-9fdcb70f0c0f",
   "metadata": {},
   "outputs": [],
   "source": [
    "import pandas as pd\n",
    "import seaborn as sns\n",
    "import matplotlib.pyplot as plt\n",
    "import os\n"
   ]
  },
  {
   "cell_type": "markdown",
   "id": "6d03c40f-6f9b-4ba2-9027-82f03618cbe1",
   "metadata": {},
   "source": [
    "# Минипроект"
   ]
  },
  {
   "cell_type": "markdown",
   "id": "e17baa75-45c3-48a6-9d26-6641c4c78918",
   "metadata": {},
   "source": [
    "### Задачи\n",
    "1.\tСоберите все данные из папки data в один датафрэйм, имеющий следующие столбцы: колонки из самих файлов (product_id, quantity), а также имя пользователя (name), и дата этих покупок (date), соответствует названию папки, где лежит папка с пользователем) <br>\n",
    "2.\tВыясните, какой пользователь купил больше всего товаров. Если их несколько, то перечислите имена через запятую с пробелом и в алфавитном порядке. <br>\n",
    "3.\tНайдите топ-10 товаров по числу проданных единиц за всё время и постройте барплот. Сколько было продано единиц товара с product_id==56? <br>\n",
    "4.\tВизуализируйте продажи по дням. <br>\n",
    "5.\tСколько пользователей приобрели какой-либо товар повторно (более 1 раза)? Повтором будем считать покупку товара с одинаковым product_id, совершенную  <br>\n"
   ]
  },
  {
   "cell_type": "code",
   "execution_count": 3,
   "id": "60e89443-a769-4793-8d22-9f3966b0f578",
   "metadata": {},
   "outputs": [
    {
     "data": {
      "text/plain": [
       "['2020-12-03',\n",
       " '2020-12-04',\n",
       " '2020-12-05',\n",
       " '2020-12-06',\n",
       " '2020-12-07',\n",
       " '2020-12-08',\n",
       " '2020-12-09']"
      ]
     },
     "execution_count": 3,
     "metadata": {},
     "output_type": "execute_result"
    }
   ],
   "source": [
    "# 1. Соберите все данные из папки data в один датафрэйм, \n",
    "# имеющий следующие столбцы: колонки из самих файлов (product_id, quantity), \n",
    "#а также имя пользователя (name),\n",
    "# и дата этих покупок (date), соответствует названию папки, где лежит папка с пользователем)\n",
    "columns_name = ['date', 'name', 'product_id', 'quantity']\n",
    "# Получение дат через названия папок\n",
    "date = os.listdir('data/4_data/data')\n",
    "date"
   ]
  },
  {
   "cell_type": "code",
   "execution_count": 7,
   "id": "b35ac90e-3b21-43ec-9f39-5b0a350772b8",
   "metadata": {},
   "outputs": [
    {
     "data": {
      "text/plain": [
       "['Vasiliy_Petrov',\n",
       " 'Petr_Ivanov',\n",
       " 'Alexey_Petrov',\n",
       " 'Rostislav_Smirnov',\n",
       " 'Vasiliy_Ivanov',\n",
       " 'Petr_Smirnov',\n",
       " 'Rostislav_Ivanov',\n",
       " 'Petr_Fedorov',\n",
       " 'Petr_Petrov',\n",
       " 'Anton_Smirnov',\n",
       " 'Kirill_Smirnov',\n",
       " 'Anton_Ivanov',\n",
       " 'Rostislav_Petrov',\n",
       " 'Vasiliy_Fedorov',\n",
       " 'Kirill_Petrov',\n",
       " 'Alexey_Fedorov',\n",
       " 'Alexey_Ivanov',\n",
       " 'Anton_Petrov',\n",
       " 'Kirill_Fedorov',\n",
       " 'Rostislav_Fedorov',\n",
       " 'Alexey_Smirnov']"
      ]
     },
     "execution_count": 7,
     "metadata": {},
     "output_type": "execute_result"
    }
   ],
   "source": [
    "# Получение имен через названия папок\n",
    "name = []\n",
    "for i in date:\n",
    "    for j in os.listdir(f'data/4_data/data/{i}'):\n",
    "        name.append(j)\n",
    "name = list(set(name))\n",
    "name"
   ]
  },
  {
   "cell_type": "code",
   "execution_count": 9,
   "id": "59c65e41-6c4e-4e0c-abbd-75b0da87cbb9",
   "metadata": {},
   "outputs": [
    {
     "data": {
      "text/html": [
       "<div>\n",
       "<style scoped>\n",
       "    .dataframe tbody tr th:only-of-type {\n",
       "        vertical-align: middle;\n",
       "    }\n",
       "\n",
       "    .dataframe tbody tr th {\n",
       "        vertical-align: top;\n",
       "    }\n",
       "\n",
       "    .dataframe thead th {\n",
       "        text-align: right;\n",
       "    }\n",
       "</style>\n",
       "<table border=\"1\" class=\"dataframe\">\n",
       "  <thead>\n",
       "    <tr style=\"text-align: right;\">\n",
       "      <th></th>\n",
       "      <th>date</th>\n",
       "      <th>name</th>\n",
       "      <th>product_id</th>\n",
       "      <th>quantity</th>\n",
       "    </tr>\n",
       "  </thead>\n",
       "  <tbody>\n",
       "    <tr>\n",
       "      <th>0</th>\n",
       "      <td>2020-12-03</td>\n",
       "      <td>Alexey_Smirnov</td>\n",
       "      <td>47</td>\n",
       "      <td>1</td>\n",
       "    </tr>\n",
       "    <tr>\n",
       "      <th>1</th>\n",
       "      <td>2020-12-03</td>\n",
       "      <td>Alexey_Smirnov</td>\n",
       "      <td>57</td>\n",
       "      <td>1</td>\n",
       "    </tr>\n",
       "    <tr>\n",
       "      <th>2</th>\n",
       "      <td>2020-12-03</td>\n",
       "      <td>Alexey_Smirnov</td>\n",
       "      <td>14</td>\n",
       "      <td>2</td>\n",
       "    </tr>\n",
       "    <tr>\n",
       "      <th>3</th>\n",
       "      <td>2020-12-03</td>\n",
       "      <td>Alexey_Smirnov</td>\n",
       "      <td>52</td>\n",
       "      <td>1</td>\n",
       "    </tr>\n",
       "    <tr>\n",
       "      <th>4</th>\n",
       "      <td>2020-12-03</td>\n",
       "      <td>Alexey_Smirnov</td>\n",
       "      <td>1</td>\n",
       "      <td>4</td>\n",
       "    </tr>\n",
       "    <tr>\n",
       "      <th>...</th>\n",
       "      <td>...</td>\n",
       "      <td>...</td>\n",
       "      <td>...</td>\n",
       "      <td>...</td>\n",
       "    </tr>\n",
       "    <tr>\n",
       "      <th>156</th>\n",
       "      <td>2020-12-09</td>\n",
       "      <td>Rostislav_Petrov</td>\n",
       "      <td>66</td>\n",
       "      <td>4</td>\n",
       "    </tr>\n",
       "    <tr>\n",
       "      <th>157</th>\n",
       "      <td>2020-12-09</td>\n",
       "      <td>Rostislav_Petrov</td>\n",
       "      <td>39</td>\n",
       "      <td>2</td>\n",
       "    </tr>\n",
       "    <tr>\n",
       "      <th>158</th>\n",
       "      <td>2020-12-09</td>\n",
       "      <td>Vasiliy_Ivanov</td>\n",
       "      <td>82</td>\n",
       "      <td>4</td>\n",
       "    </tr>\n",
       "    <tr>\n",
       "      <th>159</th>\n",
       "      <td>2020-12-09</td>\n",
       "      <td>Vasiliy_Ivanov</td>\n",
       "      <td>74</td>\n",
       "      <td>2</td>\n",
       "    </tr>\n",
       "    <tr>\n",
       "      <th>160</th>\n",
       "      <td>2020-12-09</td>\n",
       "      <td>Vasiliy_Ivanov</td>\n",
       "      <td>54</td>\n",
       "      <td>3</td>\n",
       "    </tr>\n",
       "  </tbody>\n",
       "</table>\n",
       "<p>161 rows × 4 columns</p>\n",
       "</div>"
      ],
      "text/plain": [
       "           date              name product_id quantity\n",
       "0    2020-12-03    Alexey_Smirnov         47        1\n",
       "1    2020-12-03    Alexey_Smirnov         57        1\n",
       "2    2020-12-03    Alexey_Smirnov         14        2\n",
       "3    2020-12-03    Alexey_Smirnov         52        1\n",
       "4    2020-12-03    Alexey_Smirnov          1        4\n",
       "..          ...               ...        ...      ...\n",
       "156  2020-12-09  Rostislav_Petrov         66        4\n",
       "157  2020-12-09  Rostislav_Petrov         39        2\n",
       "158  2020-12-09    Vasiliy_Ivanov         82        4\n",
       "159  2020-12-09    Vasiliy_Ivanov         74        2\n",
       "160  2020-12-09    Vasiliy_Ivanov         54        3\n",
       "\n",
       "[161 rows x 4 columns]"
      ]
     },
     "execution_count": 9,
     "metadata": {},
     "output_type": "execute_result"
    }
   ],
   "source": [
    "\n",
    "data = pd.DataFrame(columns = columns_name)\n",
    "for cur_date in date:\n",
    "    for name in os.listdir(f'data/4_data/data/{cur_date}'):\n",
    "        sample_data = pd.read_csv(f'data/4_data/data/{cur_date}/{name}/data.csv')\n",
    "        sample_data.insert(0,'date',cur_date)\n",
    "        sample_data.insert(1,'name',name)\n",
    "        sample_data = sample_data.loc[:, ~sample_data.columns.str.contains('^Unnamed')]\n",
    "        data = pd.concat([data,sample_data])\n",
    "data = data.reset_index().drop(columns=['index'])\n",
    "data\n"
   ]
  },
  {
   "cell_type": "code",
   "execution_count": 11,
   "id": "42e69500-1ebb-42cd-812c-e5cfd4cff91f",
   "metadata": {},
   "outputs": [
    {
     "data": {
      "text/html": [
       "<div>\n",
       "<style scoped>\n",
       "    .dataframe tbody tr th:only-of-type {\n",
       "        vertical-align: middle;\n",
       "    }\n",
       "\n",
       "    .dataframe tbody tr th {\n",
       "        vertical-align: top;\n",
       "    }\n",
       "\n",
       "    .dataframe thead th {\n",
       "        text-align: right;\n",
       "    }\n",
       "</style>\n",
       "<table border=\"1\" class=\"dataframe\">\n",
       "  <thead>\n",
       "    <tr style=\"text-align: right;\">\n",
       "      <th></th>\n",
       "      <th>name</th>\n",
       "      <th>quantity</th>\n",
       "    </tr>\n",
       "  </thead>\n",
       "  <tbody>\n",
       "    <tr>\n",
       "      <th>3</th>\n",
       "      <td>Alexey_Smirnov</td>\n",
       "      <td>52</td>\n",
       "    </tr>\n",
       "    <tr>\n",
       "      <th>13</th>\n",
       "      <td>Petr_Smirnov</td>\n",
       "      <td>52</td>\n",
       "    </tr>\n",
       "    <tr>\n",
       "      <th>6</th>\n",
       "      <td>Anton_Smirnov</td>\n",
       "      <td>45</td>\n",
       "    </tr>\n",
       "    <tr>\n",
       "      <th>10</th>\n",
       "      <td>Petr_Fedorov</td>\n",
       "      <td>34</td>\n",
       "    </tr>\n",
       "    <tr>\n",
       "      <th>7</th>\n",
       "      <td>Kirill_Fedorov</td>\n",
       "      <td>28</td>\n",
       "    </tr>\n",
       "  </tbody>\n",
       "</table>\n",
       "</div>"
      ],
      "text/plain": [
       "              name quantity\n",
       "3   Alexey_Smirnov       52\n",
       "13    Petr_Smirnov       52\n",
       "6    Anton_Smirnov       45\n",
       "10    Petr_Fedorov       34\n",
       "7   Kirill_Fedorov       28"
      ]
     },
     "execution_count": 11,
     "metadata": {},
     "output_type": "execute_result"
    }
   ],
   "source": [
    "# 2. Выясните, какой пользователь купил больше всего товаров. \n",
    "# Если их несколько, то перечислите имена через запятую с пробелом и в алфавитном порядке.\n",
    "users_quantity = data.groupby('name', as_index = False).quantity.sum() \\\n",
    "                .sort_values('quantity', ascending = False).head()\n",
    "users_quantity"
   ]
  },
  {
   "cell_type": "code",
   "execution_count": 13,
   "id": "67ef8192-6561-4da4-bc53-eb209be49c03",
   "metadata": {},
   "outputs": [
    {
     "data": {
      "text/plain": [
       "52"
      ]
     },
     "execution_count": 13,
     "metadata": {},
     "output_type": "execute_result"
    }
   ],
   "source": [
    "# Получаем максимальное значение количества покупок\n",
    "max_quantity = data.groupby('name').quantity.sum().max()\n",
    "max_quantity"
   ]
  },
  {
   "cell_type": "code",
   "execution_count": 15,
   "id": "6fc360eb-2291-4f92-b670-bc3eb87615b8",
   "metadata": {},
   "outputs": [
    {
     "data": {
      "text/plain": [
       "['Alexey_Smirnov', 'Petr_Smirnov']"
      ]
     },
     "execution_count": 15,
     "metadata": {},
     "output_type": "execute_result"
    }
   ],
   "source": [
    "# Вычисляем пользователей с максимальным значением покупок\n",
    "list(users_quantity.query(f'quantity == {max_quantity}').name)"
   ]
  },
  {
   "cell_type": "code",
   "execution_count": 336,
   "id": "da0cf34e-1914-482e-9051-544714e885e4",
   "metadata": {},
   "outputs": [
    {
     "data": {
      "text/html": [
       "<div>\n",
       "<style scoped>\n",
       "    .dataframe tbody tr th:only-of-type {\n",
       "        vertical-align: middle;\n",
       "    }\n",
       "\n",
       "    .dataframe tbody tr th {\n",
       "        vertical-align: top;\n",
       "    }\n",
       "\n",
       "    .dataframe thead th {\n",
       "        text-align: right;\n",
       "    }\n",
       "</style>\n",
       "<table border=\"1\" class=\"dataframe\">\n",
       "  <thead>\n",
       "    <tr style=\"text-align: right;\">\n",
       "      <th></th>\n",
       "      <th>product_id</th>\n",
       "      <th>quantity</th>\n",
       "    </tr>\n",
       "  </thead>\n",
       "  <tbody>\n",
       "    <tr>\n",
       "      <th>22</th>\n",
       "      <td>27</td>\n",
       "      <td>20</td>\n",
       "    </tr>\n",
       "    <tr>\n",
       "      <th>42</th>\n",
       "      <td>56</td>\n",
       "      <td>18</td>\n",
       "    </tr>\n",
       "    <tr>\n",
       "      <th>21</th>\n",
       "      <td>24</td>\n",
       "      <td>15</td>\n",
       "    </tr>\n",
       "    <tr>\n",
       "      <th>51</th>\n",
       "      <td>74</td>\n",
       "      <td>15</td>\n",
       "    </tr>\n",
       "    <tr>\n",
       "      <th>32</th>\n",
       "      <td>41</td>\n",
       "      <td>14</td>\n",
       "    </tr>\n",
       "    <tr>\n",
       "      <th>27</th>\n",
       "      <td>34</td>\n",
       "      <td>13</td>\n",
       "    </tr>\n",
       "    <tr>\n",
       "      <th>66</th>\n",
       "      <td>94</td>\n",
       "      <td>13</td>\n",
       "    </tr>\n",
       "    <tr>\n",
       "      <th>46</th>\n",
       "      <td>66</td>\n",
       "      <td>13</td>\n",
       "    </tr>\n",
       "    <tr>\n",
       "      <th>65</th>\n",
       "      <td>92</td>\n",
       "      <td>12</td>\n",
       "    </tr>\n",
       "    <tr>\n",
       "      <th>38</th>\n",
       "      <td>50</td>\n",
       "      <td>12</td>\n",
       "    </tr>\n",
       "  </tbody>\n",
       "</table>\n",
       "</div>"
      ],
      "text/plain": [
       "   product_id quantity\n",
       "22         27       20\n",
       "42         56       18\n",
       "21         24       15\n",
       "51         74       15\n",
       "32         41       14\n",
       "27         34       13\n",
       "66         94       13\n",
       "46         66       13\n",
       "65         92       12\n",
       "38         50       12"
      ]
     },
     "execution_count": 336,
     "metadata": {},
     "output_type": "execute_result"
    }
   ],
   "source": [
    "# 3.Найдите топ-10 товаров по числу проданных единиц за всё время и постройте барплот. \n",
    "# Сколько было продано единиц товара с product_id==56?\n",
    "top_products = data.groupby('product_id', as_index = False).quantity.sum() \\\n",
    "                .sort_values('quantity', ascending = False).head(10)\n",
    "top_products"
   ]
  },
  {
   "cell_type": "code",
   "execution_count": 342,
   "id": "c40d4d97-bad1-4a90-b62e-965b2f348cf8",
   "metadata": {},
   "outputs": [
    {
     "data": {
      "text/plain": [
       "42    18\n",
       "Name: quantity, dtype: object"
      ]
     },
     "execution_count": 342,
     "metadata": {},
     "output_type": "execute_result"
    }
   ],
   "source": [
    "# Сколько раз купили продукт с id == 56\n",
    "top_products.loc[top_products.product_id == 56].quantity"
   ]
  },
  {
   "cell_type": "code",
   "execution_count": 376,
   "id": "6c9fea4f-9f0a-4da1-9435-90feef2c5883",
   "metadata": {},
   "outputs": [
    {
     "data": {
      "text/plain": [
       "Text(0.5, 1.0, 'Топ-10 покупаемых товаров')"
      ]
     },
     "execution_count": 376,
     "metadata": {},
     "output_type": "execute_result"
    },
    {
     "data": {
      "image/png": "[encoded data removed]",
      "text/plain": [
       "<Figure size 1700x500 with 1 Axes>"
      ]
     },
     "metadata": {},
     "output_type": "display_data"
    }
   ],
   "source": [
    "fig,ax = plt.subplots(figsize=(17,5))\n",
    "sns.barplot(x = top_products['product_id'], y = top_products['quantity'], ax = ax)\n",
    "ax.bar_label(ax.containers[0])\n",
    "ax.set_title('Топ-10 покупаемых товаров')"
   ]
  },
  {
   "cell_type": "code",
   "execution_count": 380,
   "id": "720ea29c-5b35-4828-b57d-bc924c82b03a",
   "metadata": {},
   "outputs": [
    {
     "data": {
      "text/html": [
       "<div>\n",
       "<style scoped>\n",
       "    .dataframe tbody tr th:only-of-type {\n",
       "        vertical-align: middle;\n",
       "    }\n",
       "\n",
       "    .dataframe tbody tr th {\n",
       "        vertical-align: top;\n",
       "    }\n",
       "\n",
       "    .dataframe thead th {\n",
       "        text-align: right;\n",
       "    }\n",
       "</style>\n",
       "<table border=\"1\" class=\"dataframe\">\n",
       "  <thead>\n",
       "    <tr style=\"text-align: right;\">\n",
       "      <th></th>\n",
       "      <th>date</th>\n",
       "      <th>quantity</th>\n",
       "    </tr>\n",
       "  </thead>\n",
       "  <tbody>\n",
       "    <tr>\n",
       "      <th>0</th>\n",
       "      <td>2020-12-03</td>\n",
       "      <td>60</td>\n",
       "    </tr>\n",
       "    <tr>\n",
       "      <th>1</th>\n",
       "      <td>2020-12-04</td>\n",
       "      <td>113</td>\n",
       "    </tr>\n",
       "    <tr>\n",
       "      <th>2</th>\n",
       "      <td>2020-12-05</td>\n",
       "      <td>61</td>\n",
       "    </tr>\n",
       "    <tr>\n",
       "      <th>3</th>\n",
       "      <td>2020-12-06</td>\n",
       "      <td>15</td>\n",
       "    </tr>\n",
       "    <tr>\n",
       "      <th>4</th>\n",
       "      <td>2020-12-07</td>\n",
       "      <td>94</td>\n",
       "    </tr>\n",
       "    <tr>\n",
       "      <th>5</th>\n",
       "      <td>2020-12-08</td>\n",
       "      <td>68</td>\n",
       "    </tr>\n",
       "    <tr>\n",
       "      <th>6</th>\n",
       "      <td>2020-12-09</td>\n",
       "      <td>69</td>\n",
       "    </tr>\n",
       "  </tbody>\n",
       "</table>\n",
       "</div>"
      ],
      "text/plain": [
       "         date quantity\n",
       "0  2020-12-03       60\n",
       "1  2020-12-04      113\n",
       "2  2020-12-05       61\n",
       "3  2020-12-06       15\n",
       "4  2020-12-07       94\n",
       "5  2020-12-08       68\n",
       "6  2020-12-09       69"
      ]
     },
     "execution_count": 380,
     "metadata": {},
     "output_type": "execute_result"
    }
   ],
   "source": [
    "# 4. Визуализируйте продажи по дням\n",
    "quantity_date = data.groupby('date', as_index = False).agg({'quantity':'sum'})\n",
    "quantity_date"
   ]
  },
  {
   "cell_type": "code",
   "execution_count": 390,
   "id": "431033af-61a8-4e40-97ce-f19da3bfa775",
   "metadata": {},
   "outputs": [
    {
     "data": {
      "text/plain": [
       "Text(0.5, 1.0, 'Покупки по дням')"
      ]
     },
     "execution_count": 390,
     "metadata": {},
     "output_type": "execute_result"
    },
    {
     "data": {
      "image/png": "[encoded data removed]",
      "text/plain": [
       "<Figure size 1000x500 with 1 Axes>"
      ]
     },
     "metadata": {},
     "output_type": "display_data"
    }
   ],
   "source": [
    "fig, ax = plt.subplots(figsize=(10,5))\n",
    "sns.barplot(data = quantity_date, x = 'date', y = 'quantity', ax=ax,\n",
    "           order = quantity_date.date)\n",
    "ax.bar_label(ax.containers[0])\n",
    "ax.tick_params(axis = 'x', rotation = 45)\n",
    "ax.set_title('Покупки по дням')"
   ]
  },
  {
   "cell_type": "code",
   "execution_count": 392,
   "id": "f467929c-dfbc-47c7-bd15-5ecd28535239",
   "metadata": {},
   "outputs": [
    {
     "name": "stdout",
     "output_type": "stream",
     "text": [
      "161\n"
     ]
    }
   ],
   "source": [
    "# 5. Сколько пользователей приобрели какой-либо товар повторно (более 1 раза)? \n",
    "# Повтором будем считать покупку товара с одинаковым product_id, совершенную в разные дни. \n",
    "print(len(data))"
   ]
  },
  {
   "cell_type": "code",
   "execution_count": 394,
   "id": "0808d87c-89b3-4f82-83be-bcab2ddc6129",
   "metadata": {},
   "outputs": [
    {
     "name": "stdout",
     "output_type": "stream",
     "text": [
      "160\n"
     ]
    }
   ],
   "source": [
    "data = data.drop_duplicates(subset=['date','name','product_id'])\n",
    "print(len(data))"
   ]
  },
  {
   "cell_type": "code",
   "execution_count": 404,
   "id": "3d27e382-cf04-49db-80f6-481225602ed4",
   "metadata": {},
   "outputs": [
    {
     "data": {
      "text/html": [
       "<div>\n",
       "<style scoped>\n",
       "    .dataframe tbody tr th:only-of-type {\n",
       "        vertical-align: middle;\n",
       "    }\n",
       "\n",
       "    .dataframe tbody tr th {\n",
       "        vertical-align: top;\n",
       "    }\n",
       "\n",
       "    .dataframe thead th {\n",
       "        text-align: right;\n",
       "    }\n",
       "</style>\n",
       "<table border=\"1\" class=\"dataframe\">\n",
       "  <thead>\n",
       "    <tr style=\"text-align: right;\">\n",
       "      <th></th>\n",
       "      <th>date</th>\n",
       "      <th>name</th>\n",
       "      <th>product_id</th>\n",
       "      <th>quantity</th>\n",
       "    </tr>\n",
       "  </thead>\n",
       "  <tbody>\n",
       "    <tr>\n",
       "      <th>96</th>\n",
       "      <td>2020-12-07</td>\n",
       "      <td>Anton_Ivanov</td>\n",
       "      <td>15</td>\n",
       "      <td>4</td>\n",
       "    </tr>\n",
       "    <tr>\n",
       "      <th>143</th>\n",
       "      <td>2020-12-09</td>\n",
       "      <td>Anton_Ivanov</td>\n",
       "      <td>92</td>\n",
       "      <td>4</td>\n",
       "    </tr>\n",
       "    <tr>\n",
       "      <th>144</th>\n",
       "      <td>2020-12-09</td>\n",
       "      <td>Anton_Ivanov</td>\n",
       "      <td>88</td>\n",
       "      <td>3</td>\n",
       "    </tr>\n",
       "    <tr>\n",
       "      <th>145</th>\n",
       "      <td>2020-12-09</td>\n",
       "      <td>Anton_Ivanov</td>\n",
       "      <td>24</td>\n",
       "      <td>5</td>\n",
       "    </tr>\n",
       "    <tr>\n",
       "      <th>146</th>\n",
       "      <td>2020-12-09</td>\n",
       "      <td>Anton_Ivanov</td>\n",
       "      <td>36</td>\n",
       "      <td>1</td>\n",
       "    </tr>\n",
       "    <tr>\n",
       "      <th>147</th>\n",
       "      <td>2020-12-09</td>\n",
       "      <td>Anton_Ivanov</td>\n",
       "      <td>15</td>\n",
       "      <td>3</td>\n",
       "    </tr>\n",
       "    <tr>\n",
       "      <th>148</th>\n",
       "      <td>2020-12-09</td>\n",
       "      <td>Anton_Ivanov</td>\n",
       "      <td>90</td>\n",
       "      <td>3</td>\n",
       "    </tr>\n",
       "  </tbody>\n",
       "</table>\n",
       "</div>"
      ],
      "text/plain": [
       "           date          name product_id quantity\n",
       "96   2020-12-07  Anton_Ivanov         15        4\n",
       "143  2020-12-09  Anton_Ivanov         92        4\n",
       "144  2020-12-09  Anton_Ivanov         88        3\n",
       "145  2020-12-09  Anton_Ivanov         24        5\n",
       "146  2020-12-09  Anton_Ivanov         36        1\n",
       "147  2020-12-09  Anton_Ivanov         15        3\n",
       "148  2020-12-09  Anton_Ivanov         90        3"
      ]
     },
     "execution_count": 404,
     "metadata": {},
     "output_type": "execute_result"
    }
   ],
   "source": [
    "data.query('name == \"Anton_Ivanov\"')"
   ]
  },
  {
   "cell_type": "code",
   "execution_count": 420,
   "id": "0bd08d63-a1bd-4bcc-8c43-daf80f01253a",
   "metadata": {},
   "outputs": [
    {
     "data": {
      "text/html": [
       "<div>\n",
       "<style scoped>\n",
       "    .dataframe tbody tr th:only-of-type {\n",
       "        vertical-align: middle;\n",
       "    }\n",
       "\n",
       "    .dataframe tbody tr th {\n",
       "        vertical-align: top;\n",
       "    }\n",
       "\n",
       "    .dataframe thead th {\n",
       "        text-align: right;\n",
       "    }\n",
       "</style>\n",
       "<table border=\"1\" class=\"dataframe\">\n",
       "  <thead>\n",
       "    <tr style=\"text-align: right;\">\n",
       "      <th></th>\n",
       "      <th>name</th>\n",
       "      <th>product_id</th>\n",
       "      <th>quantity</th>\n",
       "    </tr>\n",
       "  </thead>\n",
       "  <tbody>\n",
       "    <tr>\n",
       "      <th>37</th>\n",
       "      <td>Anton_Ivanov</td>\n",
       "      <td>15</td>\n",
       "      <td>2</td>\n",
       "    </tr>\n",
       "    <tr>\n",
       "      <th>92</th>\n",
       "      <td>Petr_Fedorov</td>\n",
       "      <td>94</td>\n",
       "      <td>2</td>\n",
       "    </tr>\n",
       "  </tbody>\n",
       "</table>\n",
       "</div>"
      ],
      "text/plain": [
       "            name product_id  quantity\n",
       "37  Anton_Ivanov         15         2\n",
       "92  Petr_Fedorov         94         2"
      ]
     },
     "execution_count": 420,
     "metadata": {},
     "output_type": "execute_result"
    }
   ],
   "source": [
    "data.groupby(['name','product_id'],as_index = False) \\\n",
    "            .quantity.count() \\\n",
    "            .query('quantity >= 2')"
   ]
  },
  {
   "cell_type": "code",
   "execution_count": 422,
   "id": "74349b87-d908-47f6-beb1-dbcacf31efa2",
   "metadata": {},
   "outputs": [
    {
     "data": {
      "text/plain": [
       "array(['Anton_Ivanov', 'Petr_Fedorov'], dtype=object)"
      ]
     },
     "execution_count": 422,
     "metadata": {},
     "output_type": "execute_result"
    }
   ],
   "source": [
    "data.groupby(['name','product_id'],as_index = False).quantity.count() \\\n",
    "            .query('quantity >= 2').name.unique()"
   ]
  },
  {
   "cell_type": "markdown",
   "id": "51c46e0a-eeb4-4b7f-b3c2-60cfbe867f05",
   "metadata": {},
   "source": [
    "# Дополнительное задание"
   ]
  },
  {
   "cell_type": "markdown",
   "id": "fc471014-5bc7-4bbc-9817-3b180d36f17f",
   "metadata": {},
   "source": [
    "Имеется таблица с записями о компаниях, включая их ИНН, и отдельный текстовый файл с набором ИНН (колонка head_inn), которые хранятся в папке 4_inn. <br>\n",
    "•\tinn.xls — таблица в экселевском формате <br> \n",
    "•\tnecessary_inn.txt — перечень необходимых ИНН в текстовом формате <br>\n",
    "Задачи: <br>\n",
    "•\tизвлечь из таблицы записи с ИНН, указанными в текстовом файле <br>\n",
    "•\tзаписать результат в файл selected_inn.csv <br>\n"
   ]
  },
  {
   "cell_type": "code",
   "execution_count": 17,
   "id": "d9ae90cc-6b18-43b7-a87a-42ea41e457c7",
   "metadata": {},
   "outputs": [
    {
     "data": {
      "text/plain": [
       "[394609645484,\n",
       " 281578625230,\n",
       " 923769811917,\n",
       " 998694734508,\n",
       " 271011690615,\n",
       " 924952812367,\n",
       " 646685244561,\n",
       " 581531230312,\n",
       " 841967395801,\n",
       " 962179889311,\n",
       " 873191383820,\n",
       " 590538076039,\n",
       " 194319975048,\n",
       " 614658394086,\n",
       " 571270160555,\n",
       " 609400911893,\n",
       " 595260069852,\n",
       " 706966142477,\n",
       " 173050718969,\n",
       " 968048428696,\n",
       " 806967744814,\n",
       " 575198252501,\n",
       " 283081417246,\n",
       " 663119569897,\n",
       " 600958529354,\n",
       " 280452832937,\n",
       " 415557497037,\n",
       " 195142638722,\n",
       " 472181033836,\n",
       " 722903871682,\n",
       " 442387408954,\n",
       " 196518820495,\n",
       " 653798670054,\n",
       " 126259856639,\n",
       " 175482780898,\n",
       " 192518356612,\n",
       " 817648134701,\n",
       " 321724220657,\n",
       " 864970037680,\n",
       " 822991191528,\n",
       " 205472219644,\n",
       " 532801459453,\n",
       " 657038381012,\n",
       " 197916669463,\n",
       " 849814898285,\n",
       " 617082656257,\n",
       " 500480544925,\n",
       " 765833725639,\n",
       " 263518962896,\n",
       " 415856290529,\n",
       " 812729265571,\n",
       " 688172366656,\n",
       " 837771137752,\n",
       " 456294893364,\n",
       " 668157292633,\n",
       " 491435460276,\n",
       " 323896131459,\n",
       " 664667769879,\n",
       " 293128896936,\n",
       " 833493884251,\n",
       " 120708914823,\n",
       " 860475372268,\n",
       " 172328288163,\n",
       " 452188261986,\n",
       " 818829342640,\n",
       " 948029225406,\n",
       " 310163740295,\n",
       " 973834903297,\n",
       " 499074920916,\n",
       " 124852843647,\n",
       " 172587252836,\n",
       " 270813334693,\n",
       " 696676566941,\n",
       " 299222521497,\n",
       " 682181592872,\n",
       " 599455346647,\n",
       " 429358855495,\n",
       " 607756744365,\n",
       " 301872309187,\n",
       " 377093087035,\n",
       " 157426408379,\n",
       " 915717036011,\n",
       " 336147486322,\n",
       " 725452097724,\n",
       " 391753469823,\n",
       " 111910860945,\n",
       " 430987130018,\n",
       " 597922572504,\n",
       " 879473672756,\n",
       " 424269684543,\n",
       " 544509469640,\n",
       " 728283180187,\n",
       " 149255676155,\n",
       " 246181878243,\n",
       " 641538282011,\n",
       " 666673563650,\n",
       " 935815591544,\n",
       " 782372718125,\n",
       " 897420523262,\n",
       " 871503698182,\n",
       " 766327301251,\n",
       " 581865132298,\n",
       " 703895742672,\n",
       " 683933366928,\n",
       " 884977586630,\n",
       " 391131415604,\n",
       " 500226023773,\n",
       " 776902992723,\n",
       " 798315862776,\n",
       " 829796290544,\n",
       " 664306216794,\n",
       " 991951385204,\n",
       " 129413497752,\n",
       " 447901012904,\n",
       " 63403761468]"
      ]
     },
     "execution_count": 17,
     "metadata": {},
     "output_type": "execute_result"
    }
   ],
   "source": [
    "inn_txt_path = \"data/4_necessary_inn.txt\"\n",
    "inn_txt_data = [int(value[0:-1]) for value in open(inn_txt_path).readlines()]\n",
    "inn_txt_data"
   ]
  },
  {
   "cell_type": "code",
   "execution_count": 19,
   "id": "a0793c43-331a-42eb-9629-8462583839e5",
   "metadata": {},
   "outputs": [
    {
     "data": {
      "text/html": [
       "<div>\n",
       "<style scoped>\n",
       "    .dataframe tbody tr th:only-of-type {\n",
       "        vertical-align: middle;\n",
       "    }\n",
       "\n",
       "    .dataframe tbody tr th {\n",
       "        vertical-align: top;\n",
       "    }\n",
       "\n",
       "    .dataframe thead th {\n",
       "        text-align: right;\n",
       "    }\n",
       "</style>\n",
       "<table border=\"1\" class=\"dataframe\">\n",
       "  <thead>\n",
       "    <tr style=\"text-align: right;\">\n",
       "      <th></th>\n",
       "      <th>name</th>\n",
       "      <th>reg_number</th>\n",
       "      <th>address</th>\n",
       "      <th>head</th>\n",
       "      <th>head_job</th>\n",
       "      <th>head_inn</th>\n",
       "      <th>phone</th>\n",
       "      <th>email</th>\n",
       "      <th>site</th>\n",
       "      <th>registration_date</th>\n",
       "      <th>nalogoplatelschik_code</th>\n",
       "      <th>oktmo_code</th>\n",
       "      <th>okato_code</th>\n",
       "      <th>registration_region</th>\n",
       "      <th>okato_name</th>\n",
       "      <th>field</th>\n",
       "      <th>capital,RUB</th>\n",
       "      <th>income,RUB</th>\n",
       "    </tr>\n",
       "    <tr>\n",
       "      <th>#</th>\n",
       "      <th></th>\n",
       "      <th></th>\n",
       "      <th></th>\n",
       "      <th></th>\n",
       "      <th></th>\n",
       "      <th></th>\n",
       "      <th></th>\n",
       "      <th></th>\n",
       "      <th></th>\n",
       "      <th></th>\n",
       "      <th></th>\n",
       "      <th></th>\n",
       "      <th></th>\n",
       "      <th></th>\n",
       "      <th></th>\n",
       "      <th></th>\n",
       "      <th></th>\n",
       "      <th></th>\n",
       "    </tr>\n",
       "  </thead>\n",
       "  <tbody>\n",
       "    <tr>\n",
       "      <th>0</th>\n",
       "      <td>ЗАО «Власова, Макаров и Шашков»</td>\n",
       "      <td>1143692580560</td>\n",
       "      <td>д. Кирово-Чепецк, пр. Металлургов, д. 537 к. 3...</td>\n",
       "      <td>Жданов Карл Виленович</td>\n",
       "      <td>Маммолог</td>\n",
       "      <td>109092209811</td>\n",
       "      <td>+7 (559) 338-87-76</td>\n",
       "      <td>bogdanovavtonom@yahoo.com</td>\n",
       "      <td>ooo.info</td>\n",
       "      <td>2015-01-07</td>\n",
       "      <td>2006-10-04</td>\n",
       "      <td>21112877268</td>\n",
       "      <td>73423615032</td>\n",
       "      <td>Ulan-Ude</td>\n",
       "      <td>к. Тосно, ул. Пушкинская, д. 896, 617222</td>\n",
       "      <td>Синхронизация критически важных отношений</td>\n",
       "      <td>54875526078</td>\n",
       "      <td>32205872896</td>\n",
       "    </tr>\n",
       "    <tr>\n",
       "      <th>1</th>\n",
       "      <td>РАО «Тимофеева, Алексеева и Кузнецова»</td>\n",
       "      <td>9342309660697</td>\n",
       "      <td>г. Арзамас, наб. Фестивальная, д. 7 стр. 8/2, ...</td>\n",
       "      <td>Рожков Харлампий Алексеевич</td>\n",
       "      <td>Воспитатель</td>\n",
       "      <td>704229465069</td>\n",
       "      <td>8 (632) 620-8879</td>\n",
       "      <td>safonovantonin@rao.org</td>\n",
       "      <td>ooo.net</td>\n",
       "      <td>1990-05-16</td>\n",
       "      <td>2019-01-18</td>\n",
       "      <td>18393547520</td>\n",
       "      <td>19072454279</td>\n",
       "      <td>Tyoply Stan</td>\n",
       "      <td>ст. Кяхта, бул. Нефтяников, д. 24, 768742</td>\n",
       "      <td>Формирование заказных методик</td>\n",
       "      <td>33876448811</td>\n",
       "      <td>47437574301</td>\n",
       "    </tr>\n",
       "    <tr>\n",
       "      <th>2</th>\n",
       "      <td>РАО «Юдин-Ефимова»</td>\n",
       "      <td>1277485323451</td>\n",
       "      <td>п. Меренга, алл. Достоевского, д. 3/4 к. 497, ...</td>\n",
       "      <td>Филимон Фадеевич Дьячков</td>\n",
       "      <td>Автослесарь</td>\n",
       "      <td>267655036377</td>\n",
       "      <td>+74925330378</td>\n",
       "      <td>kdorofeev@npo.ru</td>\n",
       "      <td>ao.com</td>\n",
       "      <td>1982-11-04</td>\n",
       "      <td>1986-06-19</td>\n",
       "      <td>56104355836</td>\n",
       "      <td>18629292792</td>\n",
       "      <td>Danilov</td>\n",
       "      <td>клх Усолье Сибирское, алл. Шишкина, д. 3/9 к. ...</td>\n",
       "      <td>Максимизация корпоративных метрик</td>\n",
       "      <td>94073834991</td>\n",
       "      <td>7701710065</td>\n",
       "    </tr>\n",
       "    <tr>\n",
       "      <th>3</th>\n",
       "      <td>Доронин Инкорпорэйтед</td>\n",
       "      <td>7139161431511</td>\n",
       "      <td>д. Иваново, ул. Красных Партизан, д. 83 к. 4, ...</td>\n",
       "      <td>Крылов Глеб Якубович</td>\n",
       "      <td>Тюремный надзиратель</td>\n",
       "      <td>362024991175</td>\n",
       "      <td>+7 118 643 21 48</td>\n",
       "      <td>nkulakova@mail.ru</td>\n",
       "      <td>ooo.ru</td>\n",
       "      <td>2005-01-02</td>\n",
       "      <td>2004-04-06</td>\n",
       "      <td>10398489351</td>\n",
       "      <td>32502585383</td>\n",
       "      <td>Beryozovsky</td>\n",
       "      <td>г. Заводоуковск, ул. Гражданская, д. 7 к. 8/5,...</td>\n",
       "      <td>Разработка ориентированных на пользователя инт...</td>\n",
       "      <td>86971505490</td>\n",
       "      <td>61148002572</td>\n",
       "    </tr>\n",
       "    <tr>\n",
       "      <th>4</th>\n",
       "      <td>Объединенная энергетическая компания</td>\n",
       "      <td>6114798049639</td>\n",
       "      <td>к. Энгельс, наб. Шишкина, д. 120, 823828</td>\n",
       "      <td>Субботин Вячеслав Федотович</td>\n",
       "      <td>Инженер-электрик</td>\n",
       "      <td>257948948010</td>\n",
       "      <td>8 642 249 2134</td>\n",
       "      <td>evgraf_18@yahoo.com</td>\n",
       "      <td>gerasimova.biz</td>\n",
       "      <td>1983-07-02</td>\n",
       "      <td>1992-06-20</td>\n",
       "      <td>20074507047</td>\n",
       "      <td>40083207999</td>\n",
       "      <td>Bavly</td>\n",
       "      <td>к. Соль-Илецк, пер. Пригородный, д. 804 к. 1/3...</td>\n",
       "      <td>Монетизация интуитивных веб-сервисов</td>\n",
       "      <td>36351136214</td>\n",
       "      <td>34861533393</td>\n",
       "    </tr>\n",
       "  </tbody>\n",
       "</table>\n",
       "</div>"
      ],
      "text/plain": [
       "                                     name     reg_number  \\\n",
       "#                                                          \n",
       "0         ЗАО «Власова, Макаров и Шашков»  1143692580560   \n",
       "1  РАО «Тимофеева, Алексеева и Кузнецова»  9342309660697   \n",
       "2                      РАО «Юдин-Ефимова»  1277485323451   \n",
       "3                   Доронин Инкорпорэйтед  7139161431511   \n",
       "4    Объединенная энергетическая компания  6114798049639   \n",
       "\n",
       "                                             address  \\\n",
       "#                                                      \n",
       "0  д. Кирово-Чепецк, пр. Металлургов, д. 537 к. 3...   \n",
       "1  г. Арзамас, наб. Фестивальная, д. 7 стр. 8/2, ...   \n",
       "2  п. Меренга, алл. Достоевского, д. 3/4 к. 497, ...   \n",
       "3  д. Иваново, ул. Красных Партизан, д. 83 к. 4, ...   \n",
       "4           к. Энгельс, наб. Шишкина, д. 120, 823828   \n",
       "\n",
       "                          head              head_job      head_inn  \\\n",
       "#                                                                    \n",
       "0        Жданов Карл Виленович              Маммолог  109092209811   \n",
       "1  Рожков Харлампий Алексеевич           Воспитатель  704229465069   \n",
       "2     Филимон Фадеевич Дьячков           Автослесарь  267655036377   \n",
       "3         Крылов Глеб Якубович  Тюремный надзиратель  362024991175   \n",
       "4  Субботин Вячеслав Федотович      Инженер-электрик  257948948010   \n",
       "\n",
       "                phone                      email            site  \\\n",
       "#                                                                  \n",
       "0  +7 (559) 338-87-76  bogdanovavtonom@yahoo.com        ooo.info   \n",
       "1    8 (632) 620-8879     safonovantonin@rao.org         ooo.net   \n",
       "2        +74925330378           kdorofeev@npo.ru          ao.com   \n",
       "3    +7 118 643 21 48          nkulakova@mail.ru          ooo.ru   \n",
       "4      8 642 249 2134        evgraf_18@yahoo.com  gerasimova.biz   \n",
       "\n",
       "  registration_date nalogoplatelschik_code   oktmo_code   okato_code  \\\n",
       "#                                                                      \n",
       "0        2015-01-07             2006-10-04  21112877268  73423615032   \n",
       "1        1990-05-16             2019-01-18  18393547520  19072454279   \n",
       "2        1982-11-04             1986-06-19  56104355836  18629292792   \n",
       "3        2005-01-02             2004-04-06  10398489351  32502585383   \n",
       "4        1983-07-02             1992-06-20  20074507047  40083207999   \n",
       "\n",
       "  registration_region                                         okato_name  \\\n",
       "#                                                                          \n",
       "0            Ulan-Ude           к. Тосно, ул. Пушкинская, д. 896, 617222   \n",
       "1         Tyoply Stan          ст. Кяхта, бул. Нефтяников, д. 24, 768742   \n",
       "2             Danilov  клх Усолье Сибирское, алл. Шишкина, д. 3/9 к. ...   \n",
       "3         Beryozovsky  г. Заводоуковск, ул. Гражданская, д. 7 к. 8/5,...   \n",
       "4               Bavly  к. Соль-Илецк, пер. Пригородный, д. 804 к. 1/3...   \n",
       "\n",
       "                                               field  capital,RUB   income,RUB  \n",
       "#                                                                               \n",
       "0          Синхронизация критически важных отношений  54875526078  32205872896  \n",
       "1                      Формирование заказных методик  33876448811  47437574301  \n",
       "2                  Максимизация корпоративных метрик  94073834991   7701710065  \n",
       "3  Разработка ориентированных на пользователя инт...  86971505490  61148002572  \n",
       "4               Монетизация интуитивных веб-сервисов  36351136214  34861533393  "
      ]
     },
     "execution_count": 19,
     "metadata": {},
     "output_type": "execute_result"
    }
   ],
   "source": [
    "inn_xls_data = pd.read_excel(\"data/4_inn.xls\", index_col = 1)\n",
    "inn_xls_data = inn_xls_data.drop(columns = \"Unnamed: 0\")\n",
    "inn_xls_data.head()"
   ]
  },
  {
   "cell_type": "code",
   "execution_count": 117,
   "id": "2c2f0dd4-6d85-43b3-a8ef-53d27a36af34",
   "metadata": {},
   "outputs": [
    {
     "data": {
      "text/plain": [
       "(114, 18)"
      ]
     },
     "execution_count": 117,
     "metadata": {},
     "output_type": "execute_result"
    }
   ],
   "source": [
    "data = inn_xls_data.loc[inn_xls_data.head_inn.isin(inn_txt_data)]\n",
    "data.shape"
   ]
  },
  {
   "cell_type": "code",
   "execution_count": 21,
   "id": "886f35e9-3df2-4ad6-aa94-f6914d8248b6",
   "metadata": {},
   "outputs": [],
   "source": [
    "data.to_csv(\"res.csv\")"
   ]
  }
 ],
 "metadata": {
  "kernelspec": {
   "display_name": "Python 3 (ipykernel)",
   "language": "python",
   "name": "python3"
  },
  "language_info": {
   "codemirror_mode": {
    "name": "ipython",
    "version": 3
   },
   "file_extension": ".py",
   "mimetype": "text/x-python",
   "name": "python",
   "nbconvert_exporter": "python",
   "pygments_lexer": "ipython3",
   "version": "3.11.7"
  }
 },
 "nbformat": 4,
 "nbformat_minor": 5
}
