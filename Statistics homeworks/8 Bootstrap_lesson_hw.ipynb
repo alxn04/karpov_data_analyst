{
 "cells": [
  {
   "cell_type": "code",
   "execution_count": 50,
   "id": "b4896f63-b00b-4db7-a937-702ef3c7f8dc",
   "metadata": {},
   "outputs": [],
   "source": [
    "import numpy as np\n",
    "import pandas as pd\n",
    "import matplotlib.pyplot as plt\n",
    "import seaborn as sns\n",
    "from scipy.stats import norm, mannwhitneyu\n",
    "from scipy.stats import bootstrap\n",
    "from tqdm.auto import tqdm\n",
    "import scipy.stats as sps\n",
    "from pingouin import compute_bootci\n",
    "\n",
    "import warnings\n",
    "warnings.filterwarnings(\"ignore\")\n",
    "\n",
    "plt.style.use('ggplot')"
   ]
  },
  {
   "cell_type": "markdown",
   "id": "388c86e9-d9a6-4c01-89cd-68815f3f0e2a",
   "metadata": {},
   "source": [
    "Перед вами таблица, где числовая переменная – непрерывная. Задача – сравнить группы двумя способами: бутстрапом и u-тестом <br>\n",
    "\n",
    "Описание колонок <br>\n",
    "value – значения метрики <br>\n",
    "experimentVariant – Вариант теста (Control – контроль, Treatment – тест)  <br>\n",
    "\n",
    "### Задача:\n",
    "\n",
    "1. Сравните результат между тестом и контролем по двум кейсам:  <br>\n",
    "Примените бутстрап (с np.mean) и критерий mann-whitney, а потом сравните p-value  <br>\n",
    "Примените бутстрап (с np.median) и критерий mann-whitney, а потом сравните p-value.  <br>\n",
    "2. Напишите выводы, которые можно сделать на основе анализа примененных критериевитериев"
   ]
  },
  {
   "cell_type": "code",
   "execution_count": 7,
   "id": "f625e352-1394-4d2f-87bb-2f5686a5f7c6",
   "metadata": {},
   "outputs": [
    {
     "data": {
      "text/html": [
       "<div>\n",
       "<style scoped>\n",
       "    .dataframe tbody tr th:only-of-type {\n",
       "        vertical-align: middle;\n",
       "    }\n",
       "\n",
       "    .dataframe tbody tr th {\n",
       "        vertical-align: top;\n",
       "    }\n",
       "\n",
       "    .dataframe thead th {\n",
       "        text-align: right;\n",
       "    }\n",
       "</style>\n",
       "<table border=\"1\" class=\"dataframe\">\n",
       "  <thead>\n",
       "    <tr style=\"text-align: right;\">\n",
       "      <th></th>\n",
       "      <th>Unnamed: 0</th>\n",
       "      <th>value</th>\n",
       "      <th>experimentVariant</th>\n",
       "    </tr>\n",
       "  </thead>\n",
       "  <tbody>\n",
       "    <tr>\n",
       "      <th>0</th>\n",
       "      <td>1</td>\n",
       "      <td>10,3804953740268</td>\n",
       "      <td>Control</td>\n",
       "    </tr>\n",
       "    <tr>\n",
       "      <th>1</th>\n",
       "      <td>2</td>\n",
       "      <td>9,54686666784264</td>\n",
       "      <td>Control</td>\n",
       "    </tr>\n",
       "    <tr>\n",
       "      <th>2</th>\n",
       "      <td>3</td>\n",
       "      <td>11,0882146509904</td>\n",
       "      <td>Control</td>\n",
       "    </tr>\n",
       "    <tr>\n",
       "      <th>3</th>\n",
       "      <td>4</td>\n",
       "      <td>10,1472740570122</td>\n",
       "      <td>Control</td>\n",
       "    </tr>\n",
       "    <tr>\n",
       "      <th>4</th>\n",
       "      <td>5</td>\n",
       "      <td>9,78980767524929</td>\n",
       "      <td>Control</td>\n",
       "    </tr>\n",
       "  </tbody>\n",
       "</table>\n",
       "</div>"
      ],
      "text/plain": [
       "   Unnamed: 0             value experimentVariant\n",
       "0           1  10,3804953740268           Control\n",
       "1           2  9,54686666784264           Control\n",
       "2           3  11,0882146509904           Control\n",
       "3           4  10,1472740570122           Control\n",
       "4           5  9,78980767524929           Control"
      ]
     },
     "execution_count": 7,
     "metadata": {},
     "output_type": "execute_result"
    }
   ],
   "source": [
    "data = pd.read_csv('hw_bootstrap.csv', sep = ';')\n",
    "data.head()"
   ]
  },
  {
   "cell_type": "code",
   "execution_count": 18,
   "id": "ee3b92dd-b69c-40c3-b912-a301f9396fcf",
   "metadata": {},
   "outputs": [
    {
     "data": {
      "text/html": [
       "<div>\n",
       "<style scoped>\n",
       "    .dataframe tbody tr th:only-of-type {\n",
       "        vertical-align: middle;\n",
       "    }\n",
       "\n",
       "    .dataframe tbody tr th {\n",
       "        vertical-align: top;\n",
       "    }\n",
       "\n",
       "    .dataframe thead th {\n",
       "        text-align: right;\n",
       "    }\n",
       "</style>\n",
       "<table border=\"1\" class=\"dataframe\">\n",
       "  <thead>\n",
       "    <tr style=\"text-align: right;\">\n",
       "      <th></th>\n",
       "      <th>Unnamed: 0</th>\n",
       "      <th>value</th>\n",
       "      <th>experimentVariant</th>\n",
       "    </tr>\n",
       "  </thead>\n",
       "  <tbody>\n",
       "    <tr>\n",
       "      <th>0</th>\n",
       "      <td>1</td>\n",
       "      <td>10.380495</td>\n",
       "      <td>Control</td>\n",
       "    </tr>\n",
       "    <tr>\n",
       "      <th>1</th>\n",
       "      <td>2</td>\n",
       "      <td>9.546867</td>\n",
       "      <td>Control</td>\n",
       "    </tr>\n",
       "    <tr>\n",
       "      <th>2</th>\n",
       "      <td>3</td>\n",
       "      <td>11.088215</td>\n",
       "      <td>Control</td>\n",
       "    </tr>\n",
       "    <tr>\n",
       "      <th>3</th>\n",
       "      <td>4</td>\n",
       "      <td>10.147274</td>\n",
       "      <td>Control</td>\n",
       "    </tr>\n",
       "    <tr>\n",
       "      <th>4</th>\n",
       "      <td>5</td>\n",
       "      <td>9.789808</td>\n",
       "      <td>Control</td>\n",
       "    </tr>\n",
       "  </tbody>\n",
       "</table>\n",
       "</div>"
      ],
      "text/plain": [
       "   Unnamed: 0      value experimentVariant\n",
       "0           1  10.380495           Control\n",
       "1           2   9.546867           Control\n",
       "2           3  11.088215           Control\n",
       "3           4  10.147274           Control\n",
       "4           5   9.789808           Control"
      ]
     },
     "execution_count": 18,
     "metadata": {},
     "output_type": "execute_result"
    }
   ],
   "source": [
    "data['value'] = data['value'].str.replace(',', '.').astype('float')\n",
    "data.head()"
   ]
  },
  {
   "cell_type": "code",
   "execution_count": 20,
   "id": "ccc0d4a3-50dd-4b66-84e6-041cfe9a235c",
   "metadata": {},
   "outputs": [
    {
     "data": {
      "text/plain": [
       "experimentVariant\n",
       "Control      500\n",
       "Treatment    500\n",
       "Name: count, dtype: int64"
      ]
     },
     "execution_count": 20,
     "metadata": {},
     "output_type": "execute_result"
    }
   ],
   "source": [
    "data.experimentVariant.value_counts()"
   ]
  },
  {
   "cell_type": "code",
   "execution_count": 22,
   "id": "4ed2f0d9-81c0-47ea-85c4-b2c81d0b5498",
   "metadata": {},
   "outputs": [],
   "source": [
    "control = data[data.experimentVariant == 'Control']\n",
    "treat = data[data.experimentVariant == 'Treatment']"
   ]
  },
  {
   "cell_type": "code",
   "execution_count": 24,
   "id": "2a269997-98a8-4848-9b81-b79c0ff5c452",
   "metadata": {},
   "outputs": [
    {
     "data": {
      "text/plain": [
       "<Axes: xlabel='value', ylabel='Density'>"
      ]
     },
     "execution_count": 24,
     "metadata": {},
     "output_type": "execute_result"
    },
    {
     "data": {
      "image/png": "[encoded data removed]",
      "text/plain": [
       "<Figure size 640x480 with 1 Axes>"
      ]
     },
     "metadata": {},
     "output_type": "display_data"
    }
   ],
   "source": [
    "sns.distplot(control.value)"
   ]
  },
  {
   "cell_type": "code",
   "execution_count": 32,
   "id": "a2b82548-9396-448a-bab1-30e6b8e5b054",
   "metadata": {},
   "outputs": [
    {
     "data": {
      "text/plain": [
       "<Axes: xlabel='value', ylabel='Density'>"
      ]
     },
     "execution_count": 32,
     "metadata": {},
     "output_type": "execute_result"
    },
    {
     "data": {
      "image/png": "[encoded data removed]",
      "text/plain": [
       "<Figure size 640x480 with 1 Axes>"
      ]
     },
     "metadata": {},
     "output_type": "display_data"
    }
   ],
   "source": [
    "sns.distplot(treat.value)"
   ]
  },
  {
   "cell_type": "markdown",
   "id": "7f206425-45cc-4d61-bc6a-e4844427112a",
   "metadata": {},
   "source": [
    "### Применим bootstrap mean"
   ]
  },
  {
   "cell_type": "markdown",
   "id": "55ca8eb6-214b-49b2-a28b-f218c1d48833",
   "metadata": {},
   "source": [
    "Доверительные интервалы не пересекаются, значения средних сильно отличаются"
   ]
  },
  {
   "cell_type": "code",
   "execution_count": 39,
   "id": "7bbaa9f5-2f76-492f-a9f2-b9f9dc862ff6",
   "metadata": {},
   "outputs": [
    {
     "data": {
      "text/plain": [
       "BootstrapResult(confidence_interval=ConfidenceInterval(low=15.958133063468445, high=53.189983482507), bootstrap_distribution=array([19.30881008, 26.70958003, 22.98262882, ..., 28.7598745 ,\n",
       "       25.90024682, 37.8377144 ]), standard_error=8.373623906480713)"
      ]
     },
     "execution_count": 39,
     "metadata": {},
     "output_type": "execute_result"
    }
   ],
   "source": [
    "bootstrap((treat.value, ),np.mean)"
   ]
  },
  {
   "cell_type": "code",
   "execution_count": 41,
   "id": "6541e8c9-405c-482d-b6ca-999aeaf41ed1",
   "metadata": {},
   "outputs": [
    {
     "data": {
      "text/plain": [
       "BootstrapResult(confidence_interval=ConfidenceInterval(low=9.9421809161867, high=10.113189736227982), bootstrap_distribution=array([10.03363485, 10.05054059, 10.0323662 , ..., 10.05498831,\n",
       "       10.02207257, 10.05863136]), standard_error=0.04366624135851915)"
      ]
     },
     "execution_count": 41,
     "metadata": {},
     "output_type": "execute_result"
    }
   ],
   "source": [
    "bootstrap((control.value, ),np.mean)"
   ]
  },
  {
   "cell_type": "code",
   "execution_count": 54,
   "id": "75c78f9c-cce4-4b25-9f45-45f79c8efbac",
   "metadata": {},
   "outputs": [
    {
     "data": {
      "text/plain": [
       "array([ 9.94, 10.11])"
      ]
     },
     "execution_count": 54,
     "metadata": {},
     "output_type": "execute_result"
    }
   ],
   "source": [
    "compute_bootci(control.value, func = 'mean')"
   ]
  },
  {
   "cell_type": "code",
   "execution_count": 60,
   "id": "a75ddc0b-a46e-4299-a938-e72ef515f80f",
   "metadata": {},
   "outputs": [
    {
     "data": {
      "text/plain": [
       "array([14.8 , 46.87])"
      ]
     },
     "execution_count": 60,
     "metadata": {},
     "output_type": "execute_result"
    }
   ],
   "source": [
    "compute_bootci(treat.value, func = 'mean')"
   ]
  },
  {
   "cell_type": "markdown",
   "id": "dcff013c-e6d0-4d94-862d-c46c9ca2f237",
   "metadata": {},
   "source": [
    "### Применим bootstrap median"
   ]
  },
  {
   "cell_type": "markdown",
   "id": "87b358fe-464b-44eb-9973-844a75893f18",
   "metadata": {},
   "source": [
    "Доверительный интервал практически идентичен, медианы не отличаются"
   ]
  },
  {
   "cell_type": "code",
   "execution_count": 62,
   "id": "93610a3c-a198-4084-a74e-eea5ea2ce311",
   "metadata": {},
   "outputs": [
    {
     "data": {
      "text/plain": [
       "BootstrapResult(confidence_interval=ConfidenceInterval(low=9.932260575866824, high=10.1170586779806), bootstrap_distribution=array([10.05221579, 10.06067593, 10.09194821, ..., 10.03445051,\n",
       "       10.00818546, 10.05688911]), standard_error=0.045335386979762984)"
      ]
     },
     "execution_count": 62,
     "metadata": {},
     "output_type": "execute_result"
    }
   ],
   "source": [
    "bootstrap((treat.value, ),np.median)"
   ]
  },
  {
   "cell_type": "code",
   "execution_count": 64,
   "id": "37d1b206-44a8-4d47-ba53-ab66e529c438",
   "metadata": {},
   "outputs": [
    {
     "data": {
      "text/plain": [
       "BootstrapResult(confidence_interval=ConfidenceInterval(low=9.92503787937038, high=10.11350947752885), bootstrap_distribution=array([10.01021175, 10.11705868, 10.01578014, ...,  9.96433692,\n",
       "       10.0428465 , 10.04882517]), standard_error=0.04576227323081713)"
      ]
     },
     "execution_count": 64,
     "metadata": {},
     "output_type": "execute_result"
    }
   ],
   "source": [
    "bootstrap((control.value, ),np.median)"
   ]
  },
  {
   "cell_type": "markdown",
   "id": "f7cbcf85-502d-4495-928e-d3fa198502ed",
   "metadata": {},
   "source": [
    "### Сравниваем тестовую и контрольную группы с помощью U-критерия Манна-Уитни"
   ]
  },
  {
   "cell_type": "markdown",
   "id": "b4b3daad-51da-4d7a-a07d-ecd6ef448938",
   "metadata": {},
   "source": [
    "Значение p-value > 0.05 говорит об отсутствии статистически значимых различий между контрольной и тестовой группами (значение U-критерия больше, чем пороговое). Мы не имеем оснований отвергнуть нулевую гипотезу, то есть группы не отличаются."
   ]
  },
  {
   "cell_type": "code",
   "execution_count": 69,
   "id": "6ca4bc08-85ff-4cb8-a5ab-e6636da95ba2",
   "metadata": {},
   "outputs": [
    {
     "data": {
      "text/plain": [
       "MannwhitneyuResult(statistic=124189.5, pvalue=0.8592148582485579)"
      ]
     },
     "execution_count": 69,
     "metadata": {},
     "output_type": "execute_result"
    }
   ],
   "source": [
    "sps.mannwhitneyu(control.value, treat.value)"
   ]
  },
  {
   "cell_type": "markdown",
   "id": "ff007501-a9ef-488d-8e97-0abb8f2d416d",
   "metadata": {},
   "source": [
    "### Общие выводы, сравнение методов"
   ]
  },
  {
   "cell_type": "markdown",
   "id": "12ffaa76-cc5b-48c6-9ef1-e4bb51dc491f",
   "metadata": {},
   "source": [
    "Можно заметить, что контрольная и тестовая группы имеют разные значения только у последних 5 наблюдений:"
   ]
  },
  {
   "cell_type": "code",
   "execution_count": 98,
   "id": "f4fcb39c-9763-4926-9ad6-245e1cccc940",
   "metadata": {},
   "outputs": [
    {
     "data": {
      "text/html": [
       "<div>\n",
       "<style scoped>\n",
       "    .dataframe tbody tr th:only-of-type {\n",
       "        vertical-align: middle;\n",
       "    }\n",
       "\n",
       "    .dataframe tbody tr th {\n",
       "        vertical-align: top;\n",
       "    }\n",
       "\n",
       "    .dataframe thead th {\n",
       "        text-align: right;\n",
       "    }\n",
       "</style>\n",
       "<table border=\"1\" class=\"dataframe\">\n",
       "  <thead>\n",
       "    <tr style=\"text-align: right;\">\n",
       "      <th></th>\n",
       "      <th>index</th>\n",
       "      <th>value</th>\n",
       "    </tr>\n",
       "  </thead>\n",
       "  <tbody>\n",
       "    <tr>\n",
       "      <th>0</th>\n",
       "      <td>500</td>\n",
       "      <td>0.000000</td>\n",
       "    </tr>\n",
       "    <tr>\n",
       "      <th>1</th>\n",
       "      <td>500</td>\n",
       "      <td>0.000000</td>\n",
       "    </tr>\n",
       "    <tr>\n",
       "      <th>2</th>\n",
       "      <td>500</td>\n",
       "      <td>0.000000</td>\n",
       "    </tr>\n",
       "    <tr>\n",
       "      <th>3</th>\n",
       "      <td>500</td>\n",
       "      <td>0.000000</td>\n",
       "    </tr>\n",
       "    <tr>\n",
       "      <th>4</th>\n",
       "      <td>500</td>\n",
       "      <td>0.000000</td>\n",
       "    </tr>\n",
       "    <tr>\n",
       "      <th>...</th>\n",
       "      <td>...</td>\n",
       "      <td>...</td>\n",
       "    </tr>\n",
       "    <tr>\n",
       "      <th>495</th>\n",
       "      <td>500</td>\n",
       "      <td>989.026071</td>\n",
       "    </tr>\n",
       "    <tr>\n",
       "      <th>496</th>\n",
       "      <td>500</td>\n",
       "      <td>1189.738926</td>\n",
       "    </tr>\n",
       "    <tr>\n",
       "      <th>497</th>\n",
       "      <td>500</td>\n",
       "      <td>1491.219910</td>\n",
       "    </tr>\n",
       "    <tr>\n",
       "      <th>498</th>\n",
       "      <td>500</td>\n",
       "      <td>1988.830922</td>\n",
       "    </tr>\n",
       "    <tr>\n",
       "      <th>499</th>\n",
       "      <td>500</td>\n",
       "      <td>2988.500434</td>\n",
       "    </tr>\n",
       "  </tbody>\n",
       "</table>\n",
       "<p>500 rows × 2 columns</p>\n",
       "</div>"
      ],
      "text/plain": [
       "     index        value\n",
       "0      500     0.000000\n",
       "1      500     0.000000\n",
       "2      500     0.000000\n",
       "3      500     0.000000\n",
       "4      500     0.000000\n",
       "..     ...          ...\n",
       "495    500   989.026071\n",
       "496    500  1189.738926\n",
       "497    500  1491.219910\n",
       "498    500  1988.830922\n",
       "499    500  2988.500434\n",
       "\n",
       "[500 rows x 2 columns]"
      ]
     },
     "execution_count": 98,
     "metadata": {},
     "output_type": "execute_result"
    }
   ],
   "source": [
    "treat.value.reset_index() - control.value.reset_index()"
   ]
  },
  {
   "cell_type": "markdown",
   "id": "d7006791-25de-482f-b7eb-45f2be7db538",
   "metadata": {},
   "source": [
    "Причем эти различия являются выбросами. Поэтому тест по среднему показывает значимые различия. <br>\n",
    "Медиана устойчива к выбросам, поэтому бутстрап показал, что выборки не отличаются <br>\n",
    "Критерий Манна-Уитни так же устойчив к выбросам и шумам в данных, поэтому показал, что выборки не отличаются"
   ]
  }
 ],
 "metadata": {
  "kernelspec": {
   "display_name": "Python 3 (ipykernel)",
   "language": "python",
   "name": "python3"
  },
  "language_info": {
   "codemirror_mode": {
    "name": "ipython",
    "version": 3
   },
   "file_extension": ".py",
   "mimetype": "text/x-python",
   "name": "python",
   "nbconvert_exporter": "python",
   "pygments_lexer": "ipython3",
   "version": "3.11.7"
  }
 },
 "nbformat": 4,
 "nbformat_minor": 5
}
