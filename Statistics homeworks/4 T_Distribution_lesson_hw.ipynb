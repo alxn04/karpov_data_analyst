{
 "cells": [
  {
   "cell_type": "code",
   "execution_count": 57,
   "id": "dec68820-95c9-4169-93f8-57e4dda06e6b",
   "metadata": {},
   "outputs": [],
   "source": [
    "import pandas as pd\n",
    "from scipy import stats\n",
    "import numpy as np\n",
    "import seaborn as sns\n",
    "import matplotlib.pyplot as plt\n",
    "import pingouin as pg\n",
    "%matplotlib inline"
   ]
  },
  {
   "cell_type": "markdown",
   "id": "6cd33b55-9163-4edd-a05d-24a14e6c1bbc",
   "metadata": {},
   "source": [
    "Data scientist-ы придумали новый алгоритм, который позволяет курьерам запланировать свои последние заказы перед окончанием рабочего дня так, чтобы их маршрут доставки совпадал с маршрутом до дома. То есть, чтобы курьеры доставляли последние свои заказы за день как бы \"по пути\" домой. <br> <br>\r\n",
    " Часть курьеров использует старый алгоритм без опции \"по пути\", другие видят в своем приложении эту опцию и могут ее выбрать"
   ]
  },
  {
   "cell_type": "code",
   "execution_count": 5,
   "id": "8ab74962-36c5-4a0e-9576-77fa7032a454",
   "metadata": {},
   "outputs": [
    {
     "data": {
      "text/html": [
       "<div>\n",
       "<style scoped>\n",
       "    .dataframe tbody tr th:only-of-type {\n",
       "        vertical-align: middle;\n",
       "    }\n",
       "\n",
       "    .dataframe tbody tr th {\n",
       "        vertical-align: top;\n",
       "    }\n",
       "\n",
       "    .dataframe thead th {\n",
       "        text-align: right;\n",
       "    }\n",
       "</style>\n",
       "<table border=\"1\" class=\"dataframe\">\n",
       "  <thead>\n",
       "    <tr style=\"text-align: right;\">\n",
       "      <th></th>\n",
       "      <th>order_id</th>\n",
       "      <th>delivery_time</th>\n",
       "      <th>district</th>\n",
       "      <th>experiment_group</th>\n",
       "    </tr>\n",
       "  </thead>\n",
       "  <tbody>\n",
       "    <tr>\n",
       "      <th>0</th>\n",
       "      <td>3159</td>\n",
       "      <td>44.0</td>\n",
       "      <td>Purlieus</td>\n",
       "      <td>control</td>\n",
       "    </tr>\n",
       "    <tr>\n",
       "      <th>1</th>\n",
       "      <td>10426</td>\n",
       "      <td>51.0</td>\n",
       "      <td>Purlieus</td>\n",
       "      <td>control</td>\n",
       "    </tr>\n",
       "    <tr>\n",
       "      <th>2</th>\n",
       "      <td>9155</td>\n",
       "      <td>46.0</td>\n",
       "      <td>Purlieus</td>\n",
       "      <td>control</td>\n",
       "    </tr>\n",
       "    <tr>\n",
       "      <th>3</th>\n",
       "      <td>10699</td>\n",
       "      <td>34.0</td>\n",
       "      <td>Purlieus</td>\n",
       "      <td>control</td>\n",
       "    </tr>\n",
       "    <tr>\n",
       "      <th>4</th>\n",
       "      <td>10061</td>\n",
       "      <td>43.0</td>\n",
       "      <td>Purlieus</td>\n",
       "      <td>control</td>\n",
       "    </tr>\n",
       "  </tbody>\n",
       "</table>\n",
       "</div>"
      ],
      "text/plain": [
       "   order_id  delivery_time  district experiment_group\n",
       "0      3159           44.0  Purlieus          control\n",
       "1     10426           51.0  Purlieus          control\n",
       "2      9155           46.0  Purlieus          control\n",
       "3     10699           34.0  Purlieus          control\n",
       "4     10061           43.0  Purlieus          control"
      ]
     },
     "execution_count": 5,
     "metadata": {},
     "output_type": "execute_result"
    }
   ],
   "source": [
    "data = pd.read_csv('experiment_lesson_4.csv')\n",
    "data.head()"
   ]
  },
  {
   "cell_type": "markdown",
   "id": "4bf165ad-7126-4d1b-9582-0d0d0473ed09",
   "metadata": {},
   "source": [
    "Сформируем гипотезы <br>\n",
    "H0: Обновление не влияет на время доставки. <br>\n",
    "H1: Обновление влияет на время доставки."
   ]
  },
  {
   "cell_type": "code",
   "execution_count": 16,
   "id": "57af0d6e-52ca-4800-92b5-a56c5d0dd0f5",
   "metadata": {},
   "outputs": [
    {
     "data": {
      "text/plain": [
       "experiment_group\n",
       "control    10092\n",
       "test       10104\n",
       "Name: delivery_time, dtype: int64"
      ]
     },
     "execution_count": 16,
     "metadata": {},
     "output_type": "execute_result"
    }
   ],
   "source": [
    "data.groupby('experiment_group').delivery_time.count()"
   ]
  },
  {
   "cell_type": "code",
   "execution_count": 43,
   "id": "418e372b-86b2-4e3a-be85-9bcf7d4b4f0c",
   "metadata": {},
   "outputs": [
    {
     "data": {
      "text/plain": [
       "experiment_group\n",
       "control    45.065101\n",
       "test       39.046813\n",
       "Name: delivery_time, dtype: float64"
      ]
     },
     "execution_count": 43,
     "metadata": {},
     "output_type": "execute_result"
    }
   ],
   "source": [
    "# Сравним среднее время доставки у групп, оно различается, но значимы ли эти различия?\n",
    "data.groupby('experiment_group').delivery_time.mean()"
   ]
  },
  {
   "cell_type": "code",
   "execution_count": 30,
   "id": "d880afcd-8bf1-430c-955b-a83bf7f0ff9d",
   "metadata": {},
   "outputs": [
    {
     "data": {
      "text/plain": [
       "0    44.0\n",
       "1    51.0\n",
       "2    46.0\n",
       "3    34.0\n",
       "4    43.0\n",
       "Name: delivery_time, dtype: float64"
      ]
     },
     "execution_count": 30,
     "metadata": {},
     "output_type": "execute_result"
    }
   ],
   "source": [
    "control_time = data.query('experiment_group == \"control\"').delivery_time\n",
    "control_time.head()"
   ]
  },
  {
   "cell_type": "code",
   "execution_count": 32,
   "id": "fd6ca74d-6437-46cd-8d1e-c1e65228467f",
   "metadata": {},
   "outputs": [
    {
     "data": {
      "text/plain": [
       "10092    38.0\n",
       "10093    31.0\n",
       "10094    39.0\n",
       "10095    29.0\n",
       "10096    31.0\n",
       "Name: delivery_time, dtype: float64"
      ]
     },
     "execution_count": 32,
     "metadata": {},
     "output_type": "execute_result"
    }
   ],
   "source": [
    "test_time = data.query('experiment_group == \"test\"').delivery_time\n",
    "test_time.head()"
   ]
  },
  {
   "cell_type": "markdown",
   "id": "35ba78ab-a3b1-45af-91b4-96c1c662607a",
   "metadata": {},
   "source": [
    "### Получили выборки данных. Теперь проверим их на нормальность"
   ]
  },
  {
   "cell_type": "code",
   "execution_count": 38,
   "id": "0107fffe-e599-4dab-a8da-f3cb02cf399e",
   "metadata": {},
   "outputs": [
    {
     "name": "stderr",
     "output_type": "stream",
     "text": [
      "D:\\Anaconda\\Lib\\site-packages\\seaborn\\_oldcore.py:1119: FutureWarning: use_inf_as_na option is deprecated and will be removed in a future version. Convert inf values to NaN before operating instead.\n",
      "  with pd.option_context('mode.use_inf_as_na', True):\n"
     ]
    },
    {
     "data": {
      "text/plain": [
       "<Axes: xlabel='delivery_time', ylabel='Count'>"
      ]
     },
     "execution_count": 38,
     "metadata": {},
     "output_type": "execute_result"
    },
    {
     "data": {
      "image/png": "[encoded data removed]",
      "text/plain": [
       "<Figure size 640x480 with 1 Axes>"
      ]
     },
     "metadata": {},
     "output_type": "display_data"
    }
   ],
   "source": [
    "sns.histplot(test_time)"
   ]
  },
  {
   "cell_type": "code",
   "execution_count": 40,
   "id": "3ba47278-723e-4359-b944-59eae3aad60c",
   "metadata": {},
   "outputs": [
    {
     "name": "stderr",
     "output_type": "stream",
     "text": [
      "D:\\Anaconda\\Lib\\site-packages\\seaborn\\_oldcore.py:1119: FutureWarning: use_inf_as_na option is deprecated and will be removed in a future version. Convert inf values to NaN before operating instead.\n",
      "  with pd.option_context('mode.use_inf_as_na', True):\n"
     ]
    },
    {
     "data": {
      "text/plain": [
       "<Axes: xlabel='delivery_time', ylabel='Count'>"
      ]
     },
     "execution_count": 40,
     "metadata": {},
     "output_type": "execute_result"
    },
    {
     "data": {
      "image/png": "[encoded data removed]",
      "text/plain": [
       "<Figure size 640x480 with 1 Axes>"
      ]
     },
     "metadata": {},
     "output_type": "display_data"
    }
   ],
   "source": [
    "sns.histplot(control_time)"
   ]
  },
  {
   "cell_type": "markdown",
   "id": "8509a4c0-395b-4f77-9953-3a4bf2c81811",
   "metadata": {},
   "source": [
    "Мы получили статистически значимые различия. Новый алгоритм с опцией \"по пути\" действительно уменьшает среднее время доставки для нашего A/B теста."
   ]
  },
  {
   "cell_type": "code",
   "execution_count": 47,
   "id": "623dd1f4-326b-4272-99e3-9f92040af5cf",
   "metadata": {},
   "outputs": [
    {
     "data": {
      "text/plain": [
       "TtestResult(statistic=43.03582663183714, pvalue=0.0, df=20194.0)"
      ]
     },
     "execution_count": 47,
     "metadata": {},
     "output_type": "execute_result"
    }
   ],
   "source": [
    "stats.ttest_ind(control_time, test_time)"
   ]
  },
  {
   "cell_type": "code",
   "execution_count": 63,
   "id": "7dd81625-3231-4d93-b059-798bc1132e10",
   "metadata": {},
   "outputs": [
    {
     "data": {
      "text/html": [
       "<div>\n",
       "<style scoped>\n",
       "    .dataframe tbody tr th:only-of-type {\n",
       "        vertical-align: middle;\n",
       "    }\n",
       "\n",
       "    .dataframe tbody tr th {\n",
       "        vertical-align: top;\n",
       "    }\n",
       "\n",
       "    .dataframe thead th {\n",
       "        text-align: right;\n",
       "    }\n",
       "</style>\n",
       "<table border=\"1\" class=\"dataframe\">\n",
       "  <thead>\n",
       "    <tr style=\"text-align: right;\">\n",
       "      <th></th>\n",
       "      <th>T</th>\n",
       "      <th>dof</th>\n",
       "      <th>alternative</th>\n",
       "      <th>p-val</th>\n",
       "      <th>CI95%</th>\n",
       "      <th>cohen-d</th>\n",
       "      <th>BF10</th>\n",
       "      <th>power</th>\n",
       "    </tr>\n",
       "  </thead>\n",
       "  <tbody>\n",
       "    <tr>\n",
       "      <th>T-test</th>\n",
       "      <td>43.035552</td>\n",
       "      <td>20191.127788</td>\n",
       "      <td>two-sided</td>\n",
       "      <td>0.0</td>\n",
       "      <td>[5.74, 6.29]</td>\n",
       "      <td>0.605658</td>\n",
       "      <td>inf</td>\n",
       "      <td>1.0</td>\n",
       "    </tr>\n",
       "  </tbody>\n",
       "</table>\n",
       "</div>"
      ],
      "text/plain": [
       "                T           dof alternative  p-val         CI95%   cohen-d  \\\n",
       "T-test  43.035552  20191.127788   two-sided    0.0  [5.74, 6.29]  0.605658   \n",
       "\n",
       "       BF10  power  \n",
       "T-test  inf    1.0  "
      ]
     },
     "execution_count": 63,
     "metadata": {},
     "output_type": "execute_result"
    }
   ],
   "source": [
    "pg.ttest(control_time, test_time) # среднее уменьшение скорости доставки попадает в интервал [5.74 - 6.29] с 95 процентов вероятности"
   ]
  },
  {
   "cell_type": "code",
   "execution_count": 67,
   "id": "6f099552-5a9e-4946-aac9-9b48c1b7966a",
   "metadata": {},
   "outputs": [
    {
     "data": {
      "text/plain": [
       "TtestResult(statistic=42.16055367343425, pvalue=0.0, df=12118.0)"
      ]
     },
     "execution_count": 67,
     "metadata": {},
     "output_type": "execute_result"
    }
   ],
   "source": [
    "# trim - отбрасываем 20 процентов слева и справа, т.к. это могут быть выбросы\n",
    "stats.ttest_ind(control_time, test_time, trim = 0.2)"
   ]
  },
  {
   "cell_type": "markdown",
   "id": "c275d3d5-0468-4ffe-9ec3-1d5b6f5b6968",
   "metadata": {},
   "source": [
    "На сколько процентов изменилось среднее время доставки?"
   ]
  },
  {
   "cell_type": "code",
   "execution_count": 78,
   "id": "d38906b9-b65e-43b9-a554-d17f4754d07d",
   "metadata": {},
   "outputs": [
    {
     "data": {
      "text/plain": [
       "13.354653121660808"
      ]
     },
     "execution_count": 78,
     "metadata": {},
     "output_type": "execute_result"
    }
   ],
   "source": [
    "(1 - test_time.mean() / control_time.mean()) * 100"
   ]
  },
  {
   "cell_type": "code",
   "execution_count": null,
   "id": "c4ec04e1-6b87-49c2-bdfe-46ae3d9f77e8",
   "metadata": {},
   "outputs": [],
   "source": []
  }
 ],
 "metadata": {
  "kernelspec": {
   "display_name": "Python 3 (ipykernel)",
   "language": "python",
   "name": "python3"
  },
  "language_info": {
   "codemirror_mode": {
    "name": "ipython",
    "version": 3
   },
   "file_extension": ".py",
   "mimetype": "text/x-python",
   "name": "python",
   "nbconvert_exporter": "python",
   "pygments_lexer": "ipython3",
   "version": "3.11.7"
  }
 },
 "nbformat": 4,
 "nbformat_minor": 5
}
