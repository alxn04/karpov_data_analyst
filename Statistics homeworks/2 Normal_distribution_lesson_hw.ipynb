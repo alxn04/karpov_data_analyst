{
 "cells": [
  {
   "cell_type": "code",
   "execution_count": 27,
   "id": "6654bf47-b59e-4af4-9ad5-f131ec907b8c",
   "metadata": {},
   "outputs": [],
   "source": [
    "import pandas as pd\n",
    "import matplotlib.pyplot as plt\n",
    "import seaborn as sns\n",
    "import numpy as np\n",
    "%matplotlib inline"
   ]
  },
  {
   "cell_type": "markdown",
   "id": "68a242c0-5bb0-484d-8e0b-f028ca712db8",
   "metadata": {},
   "source": [
    "1. Загрузите данные, проверьте число наблюдений и столбцов, типы данных, наличие пропущенных значений, какие уникальные значения встречаются."
   ]
  },
  {
   "cell_type": "code",
   "execution_count": 6,
   "id": "f94ef8b2-4dbd-4f65-aada-cf62e546b950",
   "metadata": {},
   "outputs": [
    {
     "data": {
      "text/html": [
       "<div>\n",
       "<style scoped>\n",
       "    .dataframe tbody tr th:only-of-type {\n",
       "        vertical-align: middle;\n",
       "    }\n",
       "\n",
       "    .dataframe tbody tr th {\n",
       "        vertical-align: top;\n",
       "    }\n",
       "\n",
       "    .dataframe thead th {\n",
       "        text-align: right;\n",
       "    }\n",
       "</style>\n",
       "<table border=\"1\" class=\"dataframe\">\n",
       "  <thead>\n",
       "    <tr style=\"text-align: right;\">\n",
       "      <th></th>\n",
       "      <th>ad_id</th>\n",
       "      <th>xyz_campaign_id</th>\n",
       "      <th>fb_campaign_id</th>\n",
       "      <th>age</th>\n",
       "      <th>gender</th>\n",
       "      <th>interest</th>\n",
       "      <th>Impressions</th>\n",
       "      <th>Clicks</th>\n",
       "      <th>Spent</th>\n",
       "      <th>Total_Conversion</th>\n",
       "      <th>Approved_Conversion</th>\n",
       "    </tr>\n",
       "  </thead>\n",
       "  <tbody>\n",
       "    <tr>\n",
       "      <th>0</th>\n",
       "      <td>708746</td>\n",
       "      <td>916</td>\n",
       "      <td>103916</td>\n",
       "      <td>30-34</td>\n",
       "      <td>M</td>\n",
       "      <td>15</td>\n",
       "      <td>7350</td>\n",
       "      <td>1</td>\n",
       "      <td>1.43</td>\n",
       "      <td>2</td>\n",
       "      <td>1</td>\n",
       "    </tr>\n",
       "    <tr>\n",
       "      <th>1</th>\n",
       "      <td>708749</td>\n",
       "      <td>916</td>\n",
       "      <td>103917</td>\n",
       "      <td>30-34</td>\n",
       "      <td>M</td>\n",
       "      <td>16</td>\n",
       "      <td>17861</td>\n",
       "      <td>2</td>\n",
       "      <td>1.82</td>\n",
       "      <td>2</td>\n",
       "      <td>0</td>\n",
       "    </tr>\n",
       "    <tr>\n",
       "      <th>2</th>\n",
       "      <td>708771</td>\n",
       "      <td>916</td>\n",
       "      <td>103920</td>\n",
       "      <td>30-34</td>\n",
       "      <td>M</td>\n",
       "      <td>20</td>\n",
       "      <td>693</td>\n",
       "      <td>0</td>\n",
       "      <td>0.00</td>\n",
       "      <td>1</td>\n",
       "      <td>0</td>\n",
       "    </tr>\n",
       "    <tr>\n",
       "      <th>3</th>\n",
       "      <td>708815</td>\n",
       "      <td>916</td>\n",
       "      <td>103928</td>\n",
       "      <td>30-34</td>\n",
       "      <td>M</td>\n",
       "      <td>28</td>\n",
       "      <td>4259</td>\n",
       "      <td>1</td>\n",
       "      <td>1.25</td>\n",
       "      <td>1</td>\n",
       "      <td>0</td>\n",
       "    </tr>\n",
       "    <tr>\n",
       "      <th>4</th>\n",
       "      <td>708818</td>\n",
       "      <td>916</td>\n",
       "      <td>103928</td>\n",
       "      <td>30-34</td>\n",
       "      <td>M</td>\n",
       "      <td>28</td>\n",
       "      <td>4133</td>\n",
       "      <td>1</td>\n",
       "      <td>1.29</td>\n",
       "      <td>1</td>\n",
       "      <td>1</td>\n",
       "    </tr>\n",
       "  </tbody>\n",
       "</table>\n",
       "</div>"
      ],
      "text/plain": [
       "    ad_id  xyz_campaign_id  fb_campaign_id    age gender  interest  \\\n",
       "0  708746              916          103916  30-34      M        15   \n",
       "1  708749              916          103917  30-34      M        16   \n",
       "2  708771              916          103920  30-34      M        20   \n",
       "3  708815              916          103928  30-34      M        28   \n",
       "4  708818              916          103928  30-34      M        28   \n",
       "\n",
       "   Impressions  Clicks  Spent  Total_Conversion  Approved_Conversion  \n",
       "0         7350       1   1.43                 2                    1  \n",
       "1        17861       2   1.82                 2                    0  \n",
       "2          693       0   0.00                 1                    0  \n",
       "3         4259       1   1.25                 1                    0  \n",
       "4         4133       1   1.29                 1                    1  "
      ]
     },
     "execution_count": 6,
     "metadata": {},
     "output_type": "execute_result"
    }
   ],
   "source": [
    "data = pd.read_csv('conversion.csv')\n",
    "data.head()"
   ]
  },
  {
   "cell_type": "code",
   "execution_count": 9,
   "id": "6832feaf-2cb1-439e-8787-d8d602cd1b68",
   "metadata": {},
   "outputs": [
    {
     "data": {
      "text/plain": [
       "ad_id                    int64\n",
       "xyz_campaign_id          int64\n",
       "fb_campaign_id           int64\n",
       "age                     object\n",
       "gender                  object\n",
       "interest                 int64\n",
       "Impressions              int64\n",
       "Clicks                   int64\n",
       "Spent                  float64\n",
       "Total_Conversion         int64\n",
       "Approved_Conversion      int64\n",
       "dtype: object"
      ]
     },
     "execution_count": 9,
     "metadata": {},
     "output_type": "execute_result"
    }
   ],
   "source": [
    "data.dtypes"
   ]
  },
  {
   "cell_type": "code",
   "execution_count": 11,
   "id": "8209c5e3-2761-41ab-8cdb-34cf6ece41f2",
   "metadata": {},
   "outputs": [
    {
     "data": {
      "text/plain": [
       "(1143, 11)"
      ]
     },
     "execution_count": 11,
     "metadata": {},
     "output_type": "execute_result"
    }
   ],
   "source": [
    "data.shape"
   ]
  },
  {
   "cell_type": "code",
   "execution_count": 15,
   "id": "3bde63cc-319e-4cc5-a32a-e40737be9698",
   "metadata": {},
   "outputs": [
    {
     "data": {
      "text/plain": [
       "ad_id                  0\n",
       "xyz_campaign_id        0\n",
       "fb_campaign_id         0\n",
       "age                    0\n",
       "gender                 0\n",
       "interest               0\n",
       "Impressions            0\n",
       "Clicks                 0\n",
       "Spent                  0\n",
       "Total_Conversion       0\n",
       "Approved_Conversion    0\n",
       "dtype: int64"
      ]
     },
     "execution_count": 15,
     "metadata": {},
     "output_type": "execute_result"
    }
   ],
   "source": [
    "data.isna().sum()"
   ]
  },
  {
   "cell_type": "code",
   "execution_count": 23,
   "id": "12e6eb52-5aa9-413d-ad64-c5da56dda162",
   "metadata": {},
   "outputs": [
    {
     "data": {
      "text/plain": [
       "ad_id                  1143\n",
       "xyz_campaign_id           3\n",
       "fb_campaign_id          691\n",
       "age                       4\n",
       "gender                    2\n",
       "interest                 40\n",
       "Impressions            1130\n",
       "Clicks                  183\n",
       "Spent                   869\n",
       "Total_Conversion         32\n",
       "Approved_Conversion      16\n",
       "dtype: int64"
      ]
     },
     "execution_count": 23,
     "metadata": {},
     "output_type": "execute_result"
    }
   ],
   "source": [
    "data.nunique()"
   ]
  },
  {
   "cell_type": "markdown",
   "id": "d501a72e-06f8-4650-bbd0-3de5bb98c067",
   "metadata": {},
   "source": [
    "2. Постройте график распределения числа показов (Impressions) для каждой рекламы, прологарифмировав значения."
   ]
  },
  {
   "cell_type": "code",
   "execution_count": 29,
   "id": "7b6ba541-c3e5-4222-8610-45e60211397c",
   "metadata": {},
   "outputs": [
    {
     "data": {
      "text/html": [
       "<div>\n",
       "<style scoped>\n",
       "    .dataframe tbody tr th:only-of-type {\n",
       "        vertical-align: middle;\n",
       "    }\n",
       "\n",
       "    .dataframe tbody tr th {\n",
       "        vertical-align: top;\n",
       "    }\n",
       "\n",
       "    .dataframe thead th {\n",
       "        text-align: right;\n",
       "    }\n",
       "</style>\n",
       "<table border=\"1\" class=\"dataframe\">\n",
       "  <thead>\n",
       "    <tr style=\"text-align: right;\">\n",
       "      <th></th>\n",
       "      <th>ad_id</th>\n",
       "      <th>xyz_campaign_id</th>\n",
       "      <th>fb_campaign_id</th>\n",
       "      <th>age</th>\n",
       "      <th>gender</th>\n",
       "      <th>interest</th>\n",
       "      <th>Impressions</th>\n",
       "      <th>Clicks</th>\n",
       "      <th>Spent</th>\n",
       "      <th>Total_Conversion</th>\n",
       "      <th>Approved_Conversion</th>\n",
       "    </tr>\n",
       "  </thead>\n",
       "  <tbody>\n",
       "    <tr>\n",
       "      <th>0</th>\n",
       "      <td>708746</td>\n",
       "      <td>916</td>\n",
       "      <td>103916</td>\n",
       "      <td>30-34</td>\n",
       "      <td>M</td>\n",
       "      <td>15</td>\n",
       "      <td>7350</td>\n",
       "      <td>1</td>\n",
       "      <td>1.43</td>\n",
       "      <td>2</td>\n",
       "      <td>1</td>\n",
       "    </tr>\n",
       "    <tr>\n",
       "      <th>1</th>\n",
       "      <td>708749</td>\n",
       "      <td>916</td>\n",
       "      <td>103917</td>\n",
       "      <td>30-34</td>\n",
       "      <td>M</td>\n",
       "      <td>16</td>\n",
       "      <td>17861</td>\n",
       "      <td>2</td>\n",
       "      <td>1.82</td>\n",
       "      <td>2</td>\n",
       "      <td>0</td>\n",
       "    </tr>\n",
       "    <tr>\n",
       "      <th>2</th>\n",
       "      <td>708771</td>\n",
       "      <td>916</td>\n",
       "      <td>103920</td>\n",
       "      <td>30-34</td>\n",
       "      <td>M</td>\n",
       "      <td>20</td>\n",
       "      <td>693</td>\n",
       "      <td>0</td>\n",
       "      <td>0.00</td>\n",
       "      <td>1</td>\n",
       "      <td>0</td>\n",
       "    </tr>\n",
       "    <tr>\n",
       "      <th>3</th>\n",
       "      <td>708815</td>\n",
       "      <td>916</td>\n",
       "      <td>103928</td>\n",
       "      <td>30-34</td>\n",
       "      <td>M</td>\n",
       "      <td>28</td>\n",
       "      <td>4259</td>\n",
       "      <td>1</td>\n",
       "      <td>1.25</td>\n",
       "      <td>1</td>\n",
       "      <td>0</td>\n",
       "    </tr>\n",
       "    <tr>\n",
       "      <th>4</th>\n",
       "      <td>708818</td>\n",
       "      <td>916</td>\n",
       "      <td>103928</td>\n",
       "      <td>30-34</td>\n",
       "      <td>M</td>\n",
       "      <td>28</td>\n",
       "      <td>4133</td>\n",
       "      <td>1</td>\n",
       "      <td>1.29</td>\n",
       "      <td>1</td>\n",
       "      <td>1</td>\n",
       "    </tr>\n",
       "  </tbody>\n",
       "</table>\n",
       "</div>"
      ],
      "text/plain": [
       "    ad_id  xyz_campaign_id  fb_campaign_id    age gender  interest  \\\n",
       "0  708746              916          103916  30-34      M        15   \n",
       "1  708749              916          103917  30-34      M        16   \n",
       "2  708771              916          103920  30-34      M        20   \n",
       "3  708815              916          103928  30-34      M        28   \n",
       "4  708818              916          103928  30-34      M        28   \n",
       "\n",
       "   Impressions  Clicks  Spent  Total_Conversion  Approved_Conversion  \n",
       "0         7350       1   1.43                 2                    1  \n",
       "1        17861       2   1.82                 2                    0  \n",
       "2          693       0   0.00                 1                    0  \n",
       "3         4259       1   1.25                 1                    0  \n",
       "4         4133       1   1.29                 1                    1  "
      ]
     },
     "execution_count": 29,
     "metadata": {},
     "output_type": "execute_result"
    }
   ],
   "source": [
    "data.head()"
   ]
  },
  {
   "cell_type": "code",
   "execution_count": 166,
   "id": "55093c28-be5c-46c4-8da2-206d4977ba22",
   "metadata": {},
   "outputs": [
    {
     "name": "stderr",
     "output_type": "stream",
     "text": [
      "D:\\Anaconda\\Lib\\site-packages\\seaborn\\_oldcore.py:1119: FutureWarning: use_inf_as_na option is deprecated and will be removed in a future version. Convert inf values to NaN before operating instead.\n",
      "  with pd.option_context('mode.use_inf_as_na', True):\n"
     ]
    },
    {
     "data": {
      "text/plain": [
       "<Axes: xlabel='Impressions', ylabel='Count'>"
      ]
     },
     "execution_count": 166,
     "metadata": {},
     "output_type": "execute_result"
    },
    {
     "data": {
      "image/png": "[encoded data removed]",
      "text/plain": [
       "<Figure size 640x480 with 1 Axes>"
      ]
     },
     "metadata": {},
     "output_type": "display_data"
    }
   ],
   "source": [
    "sns.histplot(data = np.log(data.groupby('fb_campaign_id').Impressions.sum()),bins = 50)"
   ]
  },
  {
   "cell_type": "markdown",
   "id": "2a4a604f-8817-4381-b37d-96ab91af673d",
   "metadata": {},
   "source": [
    "3.\tСоздайте новую колонку c CTR. Посмотрите на описательные статистики и распределение."
   ]
  },
  {
   "cell_type": "code",
   "execution_count": 60,
   "id": "71f2bcb9-2529-41ee-ae50-5124f7feb8e9",
   "metadata": {},
   "outputs": [],
   "source": [
    "data['CTR'] = (data['Clicks'] / data['Impressions'])"
   ]
  },
  {
   "cell_type": "code",
   "execution_count": 62,
   "id": "6cc02c68-7665-4a85-a0fc-201dd6a62eb7",
   "metadata": {},
   "outputs": [
    {
     "data": {
      "text/html": [
       "<div>\n",
       "<style scoped>\n",
       "    .dataframe tbody tr th:only-of-type {\n",
       "        vertical-align: middle;\n",
       "    }\n",
       "\n",
       "    .dataframe tbody tr th {\n",
       "        vertical-align: top;\n",
       "    }\n",
       "\n",
       "    .dataframe thead th {\n",
       "        text-align: right;\n",
       "    }\n",
       "</style>\n",
       "<table border=\"1\" class=\"dataframe\">\n",
       "  <thead>\n",
       "    <tr style=\"text-align: right;\">\n",
       "      <th></th>\n",
       "      <th>ad_id</th>\n",
       "      <th>xyz_campaign_id</th>\n",
       "      <th>fb_campaign_id</th>\n",
       "      <th>age</th>\n",
       "      <th>gender</th>\n",
       "      <th>interest</th>\n",
       "      <th>Impressions</th>\n",
       "      <th>Clicks</th>\n",
       "      <th>Spent</th>\n",
       "      <th>Total_Conversion</th>\n",
       "      <th>Approved_Conversion</th>\n",
       "      <th>CTR</th>\n",
       "    </tr>\n",
       "  </thead>\n",
       "  <tbody>\n",
       "    <tr>\n",
       "      <th>0</th>\n",
       "      <td>708746</td>\n",
       "      <td>916</td>\n",
       "      <td>103916</td>\n",
       "      <td>30-34</td>\n",
       "      <td>M</td>\n",
       "      <td>15</td>\n",
       "      <td>7350</td>\n",
       "      <td>1</td>\n",
       "      <td>1.43</td>\n",
       "      <td>2</td>\n",
       "      <td>1</td>\n",
       "      <td>0.000136</td>\n",
       "    </tr>\n",
       "    <tr>\n",
       "      <th>1</th>\n",
       "      <td>708749</td>\n",
       "      <td>916</td>\n",
       "      <td>103917</td>\n",
       "      <td>30-34</td>\n",
       "      <td>M</td>\n",
       "      <td>16</td>\n",
       "      <td>17861</td>\n",
       "      <td>2</td>\n",
       "      <td>1.82</td>\n",
       "      <td>2</td>\n",
       "      <td>0</td>\n",
       "      <td>0.000112</td>\n",
       "    </tr>\n",
       "    <tr>\n",
       "      <th>2</th>\n",
       "      <td>708771</td>\n",
       "      <td>916</td>\n",
       "      <td>103920</td>\n",
       "      <td>30-34</td>\n",
       "      <td>M</td>\n",
       "      <td>20</td>\n",
       "      <td>693</td>\n",
       "      <td>0</td>\n",
       "      <td>0.00</td>\n",
       "      <td>1</td>\n",
       "      <td>0</td>\n",
       "      <td>0.000000</td>\n",
       "    </tr>\n",
       "    <tr>\n",
       "      <th>3</th>\n",
       "      <td>708815</td>\n",
       "      <td>916</td>\n",
       "      <td>103928</td>\n",
       "      <td>30-34</td>\n",
       "      <td>M</td>\n",
       "      <td>28</td>\n",
       "      <td>4259</td>\n",
       "      <td>1</td>\n",
       "      <td>1.25</td>\n",
       "      <td>1</td>\n",
       "      <td>0</td>\n",
       "      <td>0.000235</td>\n",
       "    </tr>\n",
       "    <tr>\n",
       "      <th>4</th>\n",
       "      <td>708818</td>\n",
       "      <td>916</td>\n",
       "      <td>103928</td>\n",
       "      <td>30-34</td>\n",
       "      <td>M</td>\n",
       "      <td>28</td>\n",
       "      <td>4133</td>\n",
       "      <td>1</td>\n",
       "      <td>1.29</td>\n",
       "      <td>1</td>\n",
       "      <td>1</td>\n",
       "      <td>0.000242</td>\n",
       "    </tr>\n",
       "  </tbody>\n",
       "</table>\n",
       "</div>"
      ],
      "text/plain": [
       "    ad_id  xyz_campaign_id  fb_campaign_id    age gender  interest  \\\n",
       "0  708746              916          103916  30-34      M        15   \n",
       "1  708749              916          103917  30-34      M        16   \n",
       "2  708771              916          103920  30-34      M        20   \n",
       "3  708815              916          103928  30-34      M        28   \n",
       "4  708818              916          103928  30-34      M        28   \n",
       "\n",
       "   Impressions  Clicks  Spent  Total_Conversion  Approved_Conversion       CTR  \n",
       "0         7350       1   1.43                 2                    1  0.000136  \n",
       "1        17861       2   1.82                 2                    0  0.000112  \n",
       "2          693       0   0.00                 1                    0  0.000000  \n",
       "3         4259       1   1.25                 1                    0  0.000235  \n",
       "4         4133       1   1.29                 1                    1  0.000242  "
      ]
     },
     "execution_count": 62,
     "metadata": {},
     "output_type": "execute_result"
    }
   ],
   "source": [
    "data.head()"
   ]
  },
  {
   "cell_type": "code",
   "execution_count": 64,
   "id": "b9d82d66-0bf9-4188-83d7-413fa63ddc44",
   "metadata": {},
   "outputs": [
    {
     "data": {
      "text/plain": [
       "count    1143.000000\n",
       "mean        0.000164\n",
       "std         0.000115\n",
       "min         0.000000\n",
       "25%         0.000100\n",
       "50%         0.000160\n",
       "75%         0.000234\n",
       "max         0.001059\n",
       "Name: CTR, dtype: float64"
      ]
     },
     "execution_count": 64,
     "metadata": {},
     "output_type": "execute_result"
    }
   ],
   "source": [
    "data.CTR.describe()"
   ]
  },
  {
   "cell_type": "code",
   "execution_count": 88,
   "id": "92a5c33d-67db-4177-94f2-46c020a794eb",
   "metadata": {},
   "outputs": [
    {
     "name": "stderr",
     "output_type": "stream",
     "text": [
      "D:\\Anaconda\\Lib\\site-packages\\seaborn\\_oldcore.py:1119: FutureWarning: use_inf_as_na option is deprecated and will be removed in a future version. Convert inf values to NaN before operating instead.\n",
      "  with pd.option_context('mode.use_inf_as_na', True):\n"
     ]
    },
    {
     "data": {
      "text/plain": [
       "<Axes: xlabel='CTR', ylabel='Count'>"
      ]
     },
     "execution_count": 88,
     "metadata": {},
     "output_type": "execute_result"
    },
    {
     "data": {
      "image/png": "[encoded data removed]",
      "text/plain": [
       "<Figure size 640x480 with 1 Axes>"
      ]
     },
     "metadata": {},
     "output_type": "display_data"
    }
   ],
   "source": [
    "sns.histplot(data.CTR)"
   ]
  },
  {
   "cell_type": "code",
   "execution_count": 172,
   "id": "92c98f27-c0e8-45ae-8044-e6f2a70d809c",
   "metadata": {},
   "outputs": [
    {
     "name": "stderr",
     "output_type": "stream",
     "text": [
      "D:\\Anaconda\\Lib\\site-packages\\seaborn\\_oldcore.py:1119: FutureWarning: use_inf_as_na option is deprecated and will be removed in a future version. Convert inf values to NaN before operating instead.\n",
      "  with pd.option_context('mode.use_inf_as_na', True):\n"
     ]
    },
    {
     "data": {
      "text/plain": [
       "<Axes: xlabel='CTR', ylabel='Count'>"
      ]
     },
     "execution_count": 172,
     "metadata": {},
     "output_type": "execute_result"
    },
    {
     "data": {
      "image/png": "[encoded data removed]",
      "text/plain": [
       "<Figure size 640x480 with 1 Axes>"
      ]
     },
     "metadata": {},
     "output_type": "display_data"
    }
   ],
   "source": [
    "sns.histplot(x = data.CTR, hue = data['xyz_campaign_id'], palette = 'Accent')"
   ]
  },
  {
   "cell_type": "markdown",
   "id": "03fb7e9e-cbe2-46ac-ab8a-f040bc645d88",
   "metadata": {},
   "source": [
    "4.\tПроанализируйте CTR с разбивкой по рекламной кампании."
   ]
  },
  {
   "cell_type": "code",
   "execution_count": 93,
   "id": "00b1ad41-172f-4e7b-ab3b-2dc7af25274d",
   "metadata": {},
   "outputs": [
    {
     "data": {
      "text/plain": [
       "xyz_campaign_id\n",
       "916     0.000180\n",
       "936     0.000165\n",
       "1178    0.000162\n",
       "Name: CTR, dtype: float64"
      ]
     },
     "execution_count": 93,
     "metadata": {},
     "output_type": "execute_result"
    }
   ],
   "source": [
    "data.groupby('xyz_campaign_id').CTR.mean()"
   ]
  },
  {
   "cell_type": "markdown",
   "id": "5b9f16bf-0643-4b1a-821a-61295df27f5b",
   "metadata": {},
   "source": [
    "5.\tПосчитайте стоимость за клик пользователя по объявлению (CPC). Изучите полученные значения, используя меры центральной тенденции и меры изменчивости. "
   ]
  },
  {
   "cell_type": "code",
   "execution_count": 110,
   "id": "1d7ab513-722f-462c-b769-b0ed662cb9e3",
   "metadata": {},
   "outputs": [],
   "source": [
    "data['CPC'] = (data['Spent'] / data['Clicks']).dropna()"
   ]
  },
  {
   "cell_type": "code",
   "execution_count": 112,
   "id": "ee6b4f46-49fa-4f53-9d99-10a84fcab09b",
   "metadata": {},
   "outputs": [
    {
     "data": {
      "text/plain": [
       "count    936.000000\n",
       "mean       1.499347\n",
       "std        0.232879\n",
       "min        0.180000\n",
       "25%        1.390000\n",
       "50%        1.498273\n",
       "75%        1.644364\n",
       "max        2.212000\n",
       "Name: CPC, dtype: float64"
      ]
     },
     "execution_count": 112,
     "metadata": {},
     "output_type": "execute_result"
    }
   ],
   "source": [
    "data.CPC.describe()"
   ]
  },
  {
   "cell_type": "code",
   "execution_count": 182,
   "id": "42d3fcba-3f15-44d1-b990-37c5fa361873",
   "metadata": {},
   "outputs": [
    {
     "data": {
      "text/plain": [
       "0.2543636990499998"
      ]
     },
     "execution_count": 182,
     "metadata": {},
     "output_type": "execute_result"
    }
   ],
   "source": [
    "data.CPC.dropna().quantile(0.75) - data.CPC.dropna().quantile(0.25)"
   ]
  },
  {
   "cell_type": "code",
   "execution_count": 126,
   "id": "32e818e5-3835-405e-a119-0751a5e12ce5",
   "metadata": {},
   "outputs": [
    {
     "data": {
      "text/plain": [
       "ad_id                    777105\n",
       "xyz_campaign_id             936\n",
       "fb_campaign_id           115615\n",
       "age                       45-49\n",
       "gender                        M\n",
       "interest                     63\n",
       "Impressions                4333\n",
       "Clicks                        1\n",
       "Spent                      0.18\n",
       "Total_Conversion              1\n",
       "Approved_Conversion           1\n",
       "CTR                    0.000231\n",
       "CPC                        0.18\n",
       "Name: 267, dtype: object"
      ]
     },
     "execution_count": 126,
     "metadata": {},
     "output_type": "execute_result"
    }
   ],
   "source": [
    "data.iloc[data.CPC.idxmin()]"
   ]
  },
  {
   "cell_type": "markdown",
   "id": "0e72f20b-f6c3-4310-b961-ffdf850e2dc4",
   "metadata": {},
   "source": [
    "6.\tВизуализируйте CPC с разбивкой по полу пользователей, которым были показаны объявления. "
   ]
  },
  {
   "cell_type": "code",
   "execution_count": 184,
   "id": "e3a58b63-80ec-4e74-b3c3-de4cbed0020e",
   "metadata": {},
   "outputs": [
    {
     "name": "stderr",
     "output_type": "stream",
     "text": [
      "D:\\Anaconda\\Lib\\site-packages\\seaborn\\_oldcore.py:1119: FutureWarning: use_inf_as_na option is deprecated and will be removed in a future version. Convert inf values to NaN before operating instead.\n",
      "  with pd.option_context('mode.use_inf_as_na', True):\n"
     ]
    },
    {
     "data": {
      "text/plain": [
       "<Axes: xlabel='CPC', ylabel='Count'>"
      ]
     },
     "execution_count": 184,
     "metadata": {},
     "output_type": "execute_result"
    },
    {
     "data": {
      "image/png": "[encoded data removed]",
      "text/plain": [
       "<Figure size 640x480 with 1 Axes>"
      ]
     },
     "metadata": {},
     "output_type": "display_data"
    }
   ],
   "source": [
    "sns.histplot(x = data.CPC.dropna(), hue = data.gender)"
   ]
  },
  {
   "cell_type": "markdown",
   "id": "521c67b1-dda7-487f-bb3f-949689557bfe",
   "metadata": {},
   "source": [
    "7.\tПосчитайте конверсию из клика в покупку."
   ]
  },
  {
   "cell_type": "code",
   "execution_count": 156,
   "id": "da21f6bb-8485-428c-8182-dcd8975762c1",
   "metadata": {},
   "outputs": [],
   "source": [
    "data['conversion'] = (data['Approved_Conversion'] / data['Clicks']).dropna()"
   ]
  },
  {
   "cell_type": "code",
   "execution_count": 158,
   "id": "03c2bde9-c8d4-4981-8d27-1abf2a2a8d9f",
   "metadata": {},
   "outputs": [
    {
     "data": {
      "text/plain": [
       "count    1007.000000\n",
       "mean             inf\n",
       "std              NaN\n",
       "min         0.000000\n",
       "25%         0.000000\n",
       "50%         0.018018\n",
       "75%         0.100000\n",
       "max              inf\n",
       "Name: conversion, dtype: float64"
      ]
     },
     "execution_count": 158,
     "metadata": {},
     "output_type": "execute_result"
    }
   ],
   "source": [
    "data.conversion.describe()"
   ]
  }
 ],
 "metadata": {
  "kernelspec": {
   "display_name": "Python 3 (ipykernel)",
   "language": "python",
   "name": "python3"
  },
  "language_info": {
   "codemirror_mode": {
    "name": "ipython",
    "version": 3
   },
   "file_extension": ".py",
   "mimetype": "text/x-python",
   "name": "python",
   "nbconvert_exporter": "python",
   "pygments_lexer": "ipython3",
   "version": "3.11.7"
  }
 },
 "nbformat": 4,
 "nbformat_minor": 5
}
