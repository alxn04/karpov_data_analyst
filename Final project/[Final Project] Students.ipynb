{
 "cells": [
  {
   "cell_type": "markdown",
   "id": "70967343-d7d1-4639-8f91-6a859479b347",
   "metadata": {},
   "source": [
    "# Финальный проект. Вариант 2"
   ]
  },
  {
   "cell_type": "code",
   "execution_count": 978,
   "id": "c3c264fc-aa8c-4dde-a9b2-788a2478ebd0",
   "metadata": {},
   "outputs": [],
   "source": [
    "import pandas as pd\n",
    "import seaborn as sns\n",
    "import matplotlib.pyplot as plt\n",
    "import pingouin as pg\n",
    "import pandahouse as ph\n",
    "from random import random, randrange\n",
    "import datetime\n",
    "import numpy as np\n",
    "from urllib.parse import urlencode\n",
    "import requests"
   ]
  },
  {
   "cell_type": "markdown",
   "id": "8ab6fe2b-8400-4244-8648-1728a49ba355",
   "metadata": {},
   "source": [
    "## Задание 1. A/B–тестирование"
   ]
  },
  {
   "cell_type": "markdown",
   "id": "90f7c191-fbb6-494b-aeeb-f3d3c9cca713",
   "metadata": {},
   "source": [
    "Одной из основных задач аналитика в нашей команде является корректное проведение экспериментов. Для этого мы применяем метод A/B–тестирования. В ходе тестирования одной гипотезы целевой группе была предложена **новая механика оплаты услуг на сайте**, у контрольной группы оставалась базовая механика. В качестве задания Вам необходимо проанализировать итоги эксперимента и сделать вывод, стоит ли запускать новую механику оплаты на всех пользователей."
   ]
  },
  {
   "cell_type": "markdown",
   "id": "e97dad6e-5e0a-4311-813a-fc76fb06750a",
   "metadata": {},
   "source": [
    "Вопросы:\n",
    "\n",
    "*\tНа какие метрики Вы смотрите в ходе анализа и почему?\n",
    "*\tИмеются ли различия в показателях и с чем они могут быть связаны?\n",
    "*\tЯвляются ли эти различия статистически значимыми?\n",
    "*\tСтоит ли запускать новую механику на всех пользователей?ей?\r\n"
   ]
  },
  {
   "cell_type": "markdown",
   "id": "ca845fed-d21c-418f-a145-22aa0e922484",
   "metadata": {},
   "source": [
    "### 1.1 Данные"
   ]
  },
  {
   "cell_type": "markdown",
   "id": "6fd861b5-f61e-46b9-817a-06ef1ce35e1c",
   "metadata": {},
   "source": [
    "*\tgroups.csv - файл с информацией о принадлежности пользователя к контрольной или экспериментальной группе (А – контроль, B – целевая группа) \n",
    "*\tgroups_add.csv - дополнительный файл с пользователями, который вам прислали спустя 2 дня после передачи данных\n",
    "*\tactive_studs.csv - файл с информацией о пользователях, которые зашли на платформу в дни проведения эксперимента. \n",
    "*\tchecks.csv - файл с информацией об оплатах пользователей в дни проведения эксперимента. "
   ]
  },
  {
   "cell_type": "markdown",
   "id": "946d2f75-077f-4b22-a3f7-9cc5337003ac",
   "metadata": {},
   "source": [
    "### 1.2 EDA"
   ]
  },
  {
   "cell_type": "markdown",
   "id": "8043d9b2-a673-41e2-aaa2-2327fb62c556",
   "metadata": {},
   "source": [
    "* Датафрейм `groups_full` - принадлежность пользователей к группе"
   ]
  },
  {
   "cell_type": "markdown",
   "id": "5830865f-acea-4562-b313-fb3e684de689",
   "metadata": {},
   "source": [
    "Так как данные о принадлежности пользователей к группам находятся в двух разных файлах, сначала нужно объединить эти данные в один датафрейм."
   ]
  },
  {
   "cell_type": "code",
   "execution_count": 13,
   "id": "b4964979-c231-4e94-b25f-5495bde98a45",
   "metadata": {},
   "outputs": [],
   "source": [
    "groups = pd.read_csv('Проект_2_groups.csv', sep = ';')\n",
    "groups_add = pd.read_csv('Проект_2_group_add.csv', sep = ',')"
   ]
  },
  {
   "cell_type": "code",
   "execution_count": 15,
   "id": "7ab8ee54-650e-49ec-a302-5660a17c619c",
   "metadata": {},
   "outputs": [
    {
     "data": {
      "text/html": [
       "<div>\n",
       "<style scoped>\n",
       "    .dataframe tbody tr th:only-of-type {\n",
       "        vertical-align: middle;\n",
       "    }\n",
       "\n",
       "    .dataframe tbody tr th {\n",
       "        vertical-align: top;\n",
       "    }\n",
       "\n",
       "    .dataframe thead th {\n",
       "        text-align: right;\n",
       "    }\n",
       "</style>\n",
       "<table border=\"1\" class=\"dataframe\">\n",
       "  <thead>\n",
       "    <tr style=\"text-align: right;\">\n",
       "      <th></th>\n",
       "      <th>id</th>\n",
       "      <th>grp</th>\n",
       "    </tr>\n",
       "  </thead>\n",
       "  <tbody>\n",
       "    <tr>\n",
       "      <th>0</th>\n",
       "      <td>1489</td>\n",
       "      <td>B</td>\n",
       "    </tr>\n",
       "    <tr>\n",
       "      <th>1</th>\n",
       "      <td>1627</td>\n",
       "      <td>A</td>\n",
       "    </tr>\n",
       "    <tr>\n",
       "      <th>2</th>\n",
       "      <td>1768</td>\n",
       "      <td>B</td>\n",
       "    </tr>\n",
       "    <tr>\n",
       "      <th>3</th>\n",
       "      <td>1783</td>\n",
       "      <td>B</td>\n",
       "    </tr>\n",
       "    <tr>\n",
       "      <th>4</th>\n",
       "      <td>1794</td>\n",
       "      <td>A</td>\n",
       "    </tr>\n",
       "  </tbody>\n",
       "</table>\n",
       "</div>"
      ],
      "text/plain": [
       "     id grp\n",
       "0  1489   B\n",
       "1  1627   A\n",
       "2  1768   B\n",
       "3  1783   B\n",
       "4  1794   A"
      ]
     },
     "execution_count": 15,
     "metadata": {},
     "output_type": "execute_result"
    }
   ],
   "source": [
    "groups_full = pd.concat([groups,groups_add], axis = 0)\n",
    "groups_full.head()"
   ]
  },
  {
   "cell_type": "markdown",
   "id": "5eba1cec-23a5-4b19-9dc0-c3f8fb8c80d4",
   "metadata": {},
   "source": [
    "Проверка, что в объединенном датасете присутствуют все пользователи."
   ]
  },
  {
   "cell_type": "code",
   "execution_count": 14,
   "id": "39d9e66e-deb5-4f6c-8ed8-ae6dbb2f8e2a",
   "metadata": {},
   "outputs": [
    {
     "data": {
      "text/plain": [
       "74576"
      ]
     },
     "execution_count": 14,
     "metadata": {},
     "output_type": "execute_result"
    }
   ],
   "source": [
    "groups.shape[0] + groups_add.shape[0]"
   ]
  },
  {
   "cell_type": "code",
   "execution_count": 16,
   "id": "d6222998-7e6e-4af1-9827-22875c81d6c6",
   "metadata": {},
   "outputs": [
    {
     "data": {
      "text/plain": [
       "74576"
      ]
     },
     "execution_count": 16,
     "metadata": {},
     "output_type": "execute_result"
    }
   ],
   "source": [
    "groups_full.shape[0]"
   ]
  },
  {
   "cell_type": "markdown",
   "id": "d6fc2245-17cc-45da-a412-b45693036bf1",
   "metadata": {},
   "source": [
    "* Датафрейм `active_users` - информация об активности пользователей в дни проведения эксперимента:"
   ]
  },
  {
   "cell_type": "code",
   "execution_count": 18,
   "id": "2eab4c64-0358-48ab-9c43-74da71f91c82",
   "metadata": {},
   "outputs": [],
   "source": [
    "active_users = pd.read_csv('Проект_2_active_studs.csv')"
   ]
  },
  {
   "cell_type": "code",
   "execution_count": 19,
   "id": "9f32843b-4319-491e-bd56-06bf0533853c",
   "metadata": {},
   "outputs": [
    {
     "data": {
      "text/html": [
       "<div>\n",
       "<style scoped>\n",
       "    .dataframe tbody tr th:only-of-type {\n",
       "        vertical-align: middle;\n",
       "    }\n",
       "\n",
       "    .dataframe tbody tr th {\n",
       "        vertical-align: top;\n",
       "    }\n",
       "\n",
       "    .dataframe thead th {\n",
       "        text-align: right;\n",
       "    }\n",
       "</style>\n",
       "<table border=\"1\" class=\"dataframe\">\n",
       "  <thead>\n",
       "    <tr style=\"text-align: right;\">\n",
       "      <th></th>\n",
       "      <th>student_id</th>\n",
       "    </tr>\n",
       "  </thead>\n",
       "  <tbody>\n",
       "    <tr>\n",
       "      <th>0</th>\n",
       "      <td>581585</td>\n",
       "    </tr>\n",
       "    <tr>\n",
       "      <th>1</th>\n",
       "      <td>5723133</td>\n",
       "    </tr>\n",
       "    <tr>\n",
       "      <th>2</th>\n",
       "      <td>3276743</td>\n",
       "    </tr>\n",
       "    <tr>\n",
       "      <th>3</th>\n",
       "      <td>4238589</td>\n",
       "    </tr>\n",
       "    <tr>\n",
       "      <th>4</th>\n",
       "      <td>4475369</td>\n",
       "    </tr>\n",
       "  </tbody>\n",
       "</table>\n",
       "</div>"
      ],
      "text/plain": [
       "   student_id\n",
       "0      581585\n",
       "1     5723133\n",
       "2     3276743\n",
       "3     4238589\n",
       "4     4475369"
      ]
     },
     "execution_count": 19,
     "metadata": {},
     "output_type": "execute_result"
    }
   ],
   "source": [
    "active_users.head()"
   ]
  },
  {
   "cell_type": "markdown",
   "id": "0465d97c-cb81-4176-ac58-1ce1cd953ace",
   "metadata": {},
   "source": [
    "Всего 8341 пользователей, активных в период эксперимента, это 11% от всех пользователей, распределенных по группам для эксперимента."
   ]
  },
  {
   "cell_type": "code",
   "execution_count": 377,
   "id": "bda5ac01-16aa-4f16-a3f1-2084c65ddef8",
   "metadata": {},
   "outputs": [
    {
     "data": {
      "text/plain": [
       "11.18"
      ]
     },
     "execution_count": 377,
     "metadata": {},
     "output_type": "execute_result"
    }
   ],
   "source": [
    "round(active_users.shape[0] / groups_full.shape[0] * 100, 2)"
   ]
  },
  {
   "cell_type": "code",
   "execution_count": 20,
   "id": "0fab176a-6e55-4996-a515-c30d0ecbc6cd",
   "metadata": {},
   "outputs": [
    {
     "name": "stdout",
     "output_type": "stream",
     "text": [
      "<class 'pandas.core.frame.DataFrame'>\n",
      "RangeIndex: 8341 entries, 0 to 8340\n",
      "Data columns (total 1 columns):\n",
      " #   Column      Non-Null Count  Dtype\n",
      "---  ------      --------------  -----\n",
      " 0   student_id  8341 non-null   int64\n",
      "dtypes: int64(1)\n",
      "memory usage: 65.3 KB\n"
     ]
    }
   ],
   "source": [
    "active_users.info()"
   ]
  },
  {
   "cell_type": "markdown",
   "id": "1aa1209c-e8e9-43e6-a456-3989a6f86d39",
   "metadata": {},
   "source": [
    "* Датафрейм `checks` - информация об оплатах пользователей в дни проведения экспериментов"
   ]
  },
  {
   "cell_type": "code",
   "execution_count": 22,
   "id": "93a56561-7a25-4279-b511-226d774eec02",
   "metadata": {},
   "outputs": [
    {
     "data": {
      "text/html": [
       "<div>\n",
       "<style scoped>\n",
       "    .dataframe tbody tr th:only-of-type {\n",
       "        vertical-align: middle;\n",
       "    }\n",
       "\n",
       "    .dataframe tbody tr th {\n",
       "        vertical-align: top;\n",
       "    }\n",
       "\n",
       "    .dataframe thead th {\n",
       "        text-align: right;\n",
       "    }\n",
       "</style>\n",
       "<table border=\"1\" class=\"dataframe\">\n",
       "  <thead>\n",
       "    <tr style=\"text-align: right;\">\n",
       "      <th></th>\n",
       "      <th>student_id</th>\n",
       "      <th>rev</th>\n",
       "    </tr>\n",
       "  </thead>\n",
       "  <tbody>\n",
       "    <tr>\n",
       "      <th>0</th>\n",
       "      <td>1627</td>\n",
       "      <td>990.0</td>\n",
       "    </tr>\n",
       "    <tr>\n",
       "      <th>1</th>\n",
       "      <td>3185</td>\n",
       "      <td>690.0</td>\n",
       "    </tr>\n",
       "    <tr>\n",
       "      <th>2</th>\n",
       "      <td>25973</td>\n",
       "      <td>690.0</td>\n",
       "    </tr>\n",
       "    <tr>\n",
       "      <th>3</th>\n",
       "      <td>26280</td>\n",
       "      <td>690.0</td>\n",
       "    </tr>\n",
       "    <tr>\n",
       "      <th>4</th>\n",
       "      <td>100300</td>\n",
       "      <td>990.0</td>\n",
       "    </tr>\n",
       "  </tbody>\n",
       "</table>\n",
       "</div>"
      ],
      "text/plain": [
       "   student_id    rev\n",
       "0        1627  990.0\n",
       "1        3185  690.0\n",
       "2       25973  690.0\n",
       "3       26280  690.0\n",
       "4      100300  990.0"
      ]
     },
     "execution_count": 22,
     "metadata": {},
     "output_type": "execute_result"
    }
   ],
   "source": [
    "checks = pd.read_csv('Проект_2_checks.csv', sep = ';')\n",
    "checks.head()"
   ]
  },
  {
   "cell_type": "code",
   "execution_count": 24,
   "id": "52f0bef2-f72c-4b40-99b4-37eb9d6f37e9",
   "metadata": {},
   "outputs": [
    {
     "name": "stdout",
     "output_type": "stream",
     "text": [
      "<class 'pandas.core.frame.DataFrame'>\n",
      "RangeIndex: 541 entries, 0 to 540\n",
      "Data columns (total 2 columns):\n",
      " #   Column      Non-Null Count  Dtype  \n",
      "---  ------      --------------  -----  \n",
      " 0   student_id  541 non-null    int64  \n",
      " 1   rev         541 non-null    float64\n",
      "dtypes: float64(1), int64(1)\n",
      "memory usage: 8.6 KB\n"
     ]
    }
   ],
   "source": [
    "checks.info()"
   ]
  },
  {
   "cell_type": "code",
   "execution_count": 25,
   "id": "4a379242-2dfc-4e7a-a05f-7cb6ad9735c4",
   "metadata": {},
   "outputs": [
    {
     "data": {
      "text/plain": [
       "count     541.000000\n",
       "mean     1059.752317\n",
       "std       762.712359\n",
       "min       199.000000\n",
       "25%       290.000000\n",
       "50%       840.000000\n",
       "75%      1900.000000\n",
       "max      4650.000000\n",
       "Name: rev, dtype: float64"
      ]
     },
     "execution_count": 25,
     "metadata": {},
     "output_type": "execute_result"
    }
   ],
   "source": [
    "checks.rev.describe()"
   ]
  },
  {
   "cell_type": "markdown",
   "id": "d542eabb-3899-4db7-94d9-de7c7cace8b1",
   "metadata": {},
   "source": [
    "* Итоги EDA, объединение данных"
   ]
  },
  {
   "cell_type": "markdown",
   "id": "264fcd1a-fe60-46e8-9cbd-58be1106797a",
   "metadata": {},
   "source": [
    "Для эксперимента понадобятся данные об активных и платящих пользователей, сначала соединим информацию об активности пользователей с их группами.\n",
    "\n",
    "Не учитываются пользователи, которые не были активными, но производили оплаты, т.к. влияние эксперимента на них оценить не удастся."
   ]
  },
  {
   "cell_type": "code",
   "execution_count": 412,
   "id": "fe2ce669-cbef-49fc-aa60-3ae21fa36057",
   "metadata": {},
   "outputs": [
    {
     "data": {
      "text/html": [
       "<div>\n",
       "<style scoped>\n",
       "    .dataframe tbody tr th:only-of-type {\n",
       "        vertical-align: middle;\n",
       "    }\n",
       "\n",
       "    .dataframe tbody tr th {\n",
       "        vertical-align: top;\n",
       "    }\n",
       "\n",
       "    .dataframe thead th {\n",
       "        text-align: right;\n",
       "    }\n",
       "</style>\n",
       "<table border=\"1\" class=\"dataframe\">\n",
       "  <thead>\n",
       "    <tr style=\"text-align: right;\">\n",
       "      <th></th>\n",
       "      <th>id</th>\n",
       "      <th>grp</th>\n",
       "    </tr>\n",
       "  </thead>\n",
       "  <tbody>\n",
       "    <tr>\n",
       "      <th>0</th>\n",
       "      <td>1627</td>\n",
       "      <td>A</td>\n",
       "    </tr>\n",
       "    <tr>\n",
       "      <th>1</th>\n",
       "      <td>2085</td>\n",
       "      <td>B</td>\n",
       "    </tr>\n",
       "    <tr>\n",
       "      <th>2</th>\n",
       "      <td>2215</td>\n",
       "      <td>B</td>\n",
       "    </tr>\n",
       "    <tr>\n",
       "      <th>3</th>\n",
       "      <td>3391</td>\n",
       "      <td>A</td>\n",
       "    </tr>\n",
       "    <tr>\n",
       "      <th>4</th>\n",
       "      <td>3401</td>\n",
       "      <td>B</td>\n",
       "    </tr>\n",
       "  </tbody>\n",
       "</table>\n",
       "</div>"
      ],
      "text/plain": [
       "     id grp\n",
       "0  1627   A\n",
       "1  2085   B\n",
       "2  2215   B\n",
       "3  3391   A\n",
       "4  3401   B"
      ]
     },
     "execution_count": 412,
     "metadata": {},
     "output_type": "execute_result"
    }
   ],
   "source": [
    "users_info = pd.merge(left = groups_full, right = active_users, left_on = 'id', right_on = 'student_id').drop(columns='student_id')\n",
    "users_info.head()"
   ]
  },
  {
   "cell_type": "markdown",
   "id": "7daa8c56-e761-44fa-b590-2de90099afed",
   "metadata": {},
   "source": [
    "Количество человек в контрольной и тестовой группе сильно различаются, большая группа может давать более стабильный результат и вносить несправедливость в эксперимент при применении классического t-test, для достоверности сравнения лучше применить Bootstrap."
   ]
  },
  {
   "cell_type": "code",
   "execution_count": 414,
   "id": "3ef34d77-9416-45d4-a210-2c932d28bb2c",
   "metadata": {},
   "outputs": [
    {
     "data": {
      "text/plain": [
       "grp\n",
       "B    6803\n",
       "A    1538\n",
       "Name: count, dtype: int64"
      ]
     },
     "execution_count": 414,
     "metadata": {},
     "output_type": "execute_result"
    }
   ],
   "source": [
    "users_info.grp.value_counts()"
   ]
  },
  {
   "cell_type": "markdown",
   "id": "74bb24e8-cdf4-4b95-80fc-8f9015c97d81",
   "metadata": {},
   "source": [
    "Теперь присоединим информацию об оплатах, колонка `is_purchase` необходима для расчета CR - значение 1 указывает на то, что пользователь совершил оплату во время эксперимента."
   ]
  },
  {
   "cell_type": "code",
   "execution_count": 416,
   "id": "870b810d-1320-47bd-b5dd-22b85d3dff7e",
   "metadata": {},
   "outputs": [
    {
     "data": {
      "text/html": [
       "<div>\n",
       "<style scoped>\n",
       "    .dataframe tbody tr th:only-of-type {\n",
       "        vertical-align: middle;\n",
       "    }\n",
       "\n",
       "    .dataframe tbody tr th {\n",
       "        vertical-align: top;\n",
       "    }\n",
       "\n",
       "    .dataframe thead th {\n",
       "        text-align: right;\n",
       "    }\n",
       "</style>\n",
       "<table border=\"1\" class=\"dataframe\">\n",
       "  <thead>\n",
       "    <tr style=\"text-align: right;\">\n",
       "      <th></th>\n",
       "      <th>id</th>\n",
       "      <th>grp</th>\n",
       "      <th>rev</th>\n",
       "      <th>is_purchase</th>\n",
       "    </tr>\n",
       "  </thead>\n",
       "  <tbody>\n",
       "    <tr>\n",
       "      <th>0</th>\n",
       "      <td>1627</td>\n",
       "      <td>A</td>\n",
       "      <td>990.0</td>\n",
       "      <td>1</td>\n",
       "    </tr>\n",
       "    <tr>\n",
       "      <th>1</th>\n",
       "      <td>2085</td>\n",
       "      <td>B</td>\n",
       "      <td>0.0</td>\n",
       "      <td>0</td>\n",
       "    </tr>\n",
       "    <tr>\n",
       "      <th>2</th>\n",
       "      <td>2215</td>\n",
       "      <td>B</td>\n",
       "      <td>0.0</td>\n",
       "      <td>0</td>\n",
       "    </tr>\n",
       "    <tr>\n",
       "      <th>3</th>\n",
       "      <td>3391</td>\n",
       "      <td>A</td>\n",
       "      <td>0.0</td>\n",
       "      <td>0</td>\n",
       "    </tr>\n",
       "    <tr>\n",
       "      <th>4</th>\n",
       "      <td>3401</td>\n",
       "      <td>B</td>\n",
       "      <td>0.0</td>\n",
       "      <td>0</td>\n",
       "    </tr>\n",
       "  </tbody>\n",
       "</table>\n",
       "</div>"
      ],
      "text/plain": [
       "     id grp    rev  is_purchase\n",
       "0  1627   A  990.0            1\n",
       "1  2085   B    0.0            0\n",
       "2  2215   B    0.0            0\n",
       "3  3391   A    0.0            0\n",
       "4  3401   B    0.0            0"
      ]
     },
     "execution_count": 416,
     "metadata": {},
     "output_type": "execute_result"
    }
   ],
   "source": [
    "users_info = users_info.merge(checks, left_on = 'id', right_on = 'student_id', how = 'left').drop(columns='student_id').fillna(0)\n",
    "users_info['is_purchase'] = (users_info.rev != 0).astype(int)\n",
    "users_info.head()"
   ]
  },
  {
   "cell_type": "markdown",
   "id": "ce9a7a0e-ba64-4428-b69b-2ac0dcfcdf98",
   "metadata": {},
   "source": [
    "95% активных пользователей не производили оплату в период эксперимента."
   ]
  },
  {
   "cell_type": "code",
   "execution_count": 401,
   "id": "145c3908-6e55-451c-9b01-f7943364b08a",
   "metadata": {},
   "outputs": [
    {
     "data": {
      "text/plain": [
       "95.3"
      ]
     },
     "execution_count": 401,
     "metadata": {},
     "output_type": "execute_result"
    }
   ],
   "source": [
    "round(len(users_info.query('rev == 0')) / len(users_info) * 100,2)"
   ]
  },
  {
   "cell_type": "markdown",
   "id": "d5103d91-1396-4754-9531-1139a6c8a378",
   "metadata": {},
   "source": [
    "### 1.3 Выбор метрик"
   ]
  },
  {
   "cell_type": "markdown",
   "id": "05f7528f-69f0-4204-8e0e-e16f74d52d58",
   "metadata": {},
   "source": [
    "**Изменение:** новая механика оплаты услуг на сайте <br>\n",
    "**Доступная информация:** сумма покупок каждого пользователя и факт активности пользователей в период эксперимента"
   ]
  },
  {
   "cell_type": "markdown",
   "id": "88f54ebd-12e7-4852-841b-342add35e48a",
   "metadata": {},
   "source": [
    "Исходя из доступной информации можно выбрать три метрики для измерения результата эксперимента:\n",
    "\n",
    "1. `CR` - конверсия из активности в покупку\n",
    "2. `ARPU` - средний доход на пользователя\n",
    "3. `ARPPU` - средний поход на платящего пользователя"
   ]
  },
  {
   "cell_type": "markdown",
   "id": "a9f7f90b-caf5-4eba-94c4-c76f2174f7eb",
   "metadata": {},
   "source": [
    "### 1.4 Функции для подсчета метрик"
   ]
  },
  {
   "cell_type": "code",
   "execution_count": 563,
   "id": "35de53f2-7aaa-4e01-9e1e-e17e980c9d19",
   "metadata": {},
   "outputs": [],
   "source": [
    "''' Функция подсчета значения CR для данных по одной группе '''\n",
    "def calc_cr(group_data):\n",
    "    return group_data.is_purchase.sum() / group_data.shape[0]"
   ]
  },
  {
   "cell_type": "code",
   "execution_count": 517,
   "id": "cd785231-1d6e-47f5-8434-5d0ee8103f2b",
   "metadata": {},
   "outputs": [],
   "source": [
    "''' Функция подсчета значения ARPU для данных по одной группе '''\n",
    "def calc_arpu(group_data):\n",
    "    return group_data.rev.sum() / group_data.shape[0]\n",
    "    "
   ]
  },
  {
   "cell_type": "code",
   "execution_count": 519,
   "id": "f537d632-af5f-405b-928f-09d5b9180a34",
   "metadata": {},
   "outputs": [],
   "source": [
    "''' Функция подсчета значения ARPPU для данных по одной группе '''\n",
    "def calc_arppu(group_data):\n",
    "    return group_data.rev.sum() / group_data.query('is_purchase == 1').shape[0]"
   ]
  },
  {
   "cell_type": "code",
   "execution_count": 561,
   "id": "a1fe153b-db23-4221-903f-a42026e5a03d",
   "metadata": {},
   "outputs": [],
   "source": [
    "''' \n",
    "Функция подсчета значений определенной метрики по группе\n",
    "\n",
    "Входные параметры: датасет с атрибутами [id, grp, rev, is_purchase], название метрики\n",
    "\n",
    "Возвращает словарь с ключами:\n",
    "metric_control - значение метрики в контрольной группе\n",
    "metric_test - значение метрики в тестовой группе\n",
    "metric_diff - разница между значением метрики в тестовой и контрольных группах\n",
    "metric_diff_perc - разница между значением метрики в тестовой и контрольных группах в процентах\n",
    "'''\n",
    "def calculate_metric(users_data, metric):\n",
    "    group_control = users_data[users_data.grp == 'A']\n",
    "    group_test = users_data[users_data.grp == 'B']\n",
    "    func_dict = {\n",
    "        'cr' : calc_cr,\n",
    "        'arpu' : calc_arpu,\n",
    "        'arppu' : calc_arppu\n",
    "    }\n",
    "    if metric.lower() not in func_dict.keys():\n",
    "        raise KeyError(f\"Для данной метрики нет функции подсчета. Используйте метрики из списка: {func_dict.keys()}\")\n",
    "        \n",
    "    metric_control = round(func_dict[metric.lower()](group_control),4)\n",
    "    metric_test = round(func_dict[metric.lower()](group_test),4)\n",
    "    metric_difference = round(metric_test - metric_control,2)\n",
    "    metric_difference_perc = round((metric_test - metric_control) / metric_test * 100,2)\n",
    "    metric_dict = {f'{metric}_control' : metric_control,\n",
    "               f'{metric}_test' : metric_test,\n",
    "               f'{metric}_diff' : metric_difference,\n",
    "               f'{metric}_diff_perc' : metric_difference_perc}\n",
    "    return metric_dict"
   ]
  },
  {
   "cell_type": "markdown",
   "id": "50a5ccaa-c586-4e1f-86af-17b8b2f86f06",
   "metadata": {},
   "source": [
    "### 1.4 Конверсия в покупку"
   ]
  },
  {
   "cell_type": "markdown",
   "id": "34e8d302-30f9-4ed4-8659-2c3f4e0d19fd",
   "metadata": {},
   "source": [
    "Конверсия = отношение числа покупок к числу пользователей"
   ]
  },
  {
   "cell_type": "markdown",
   "id": "e3f6eed7-36ac-470f-8f12-2a9a079bdebd",
   "metadata": {},
   "source": [
    "Выделим информацию о пользователях каждой группы и подсчитаем для них CR"
   ]
  },
  {
   "cell_type": "code",
   "execution_count": 565,
   "id": "349581d7-2c3a-4504-8f2d-a483e88b754f",
   "metadata": {},
   "outputs": [],
   "source": [
    "cr_groups = calculate_metric(users_info, 'cr')"
   ]
  },
  {
   "cell_type": "markdown",
   "id": "b8f5f7ee-cabb-4420-a403-5cf5beeaea22",
   "metadata": {},
   "source": [
    "Конверсия в покупку в тестовой группе уменьшилась на 9.74%, необходимо проверить данный результат на статистическую значимость"
   ]
  },
  {
   "cell_type": "code",
   "execution_count": 567,
   "id": "c0535b78-0361-47b6-a61d-40f0337b8341",
   "metadata": {},
   "outputs": [
    {
     "name": "stdout",
     "output_type": "stream",
     "text": [
      "Конверсия в контрольной группе: 0.0507\n",
      "Конверсия в тестовой группе: 0.0462\n",
      "Разница по сравнению с контрольной группой: -9.74%\n"
     ]
    }
   ],
   "source": [
    "print(f\"Конверсия в контрольной группе: {cr_groups['cr_control']}\")\n",
    "print(f\"Конверсия в тестовой группе: {cr_groups['cr_test']}\")\n",
    "print(f\"Разница по сравнению с контрольной группой: {cr_groups['cr_diff_perc']}%\")"
   ]
  },
  {
   "cell_type": "markdown",
   "id": "1fd7468a-729d-4fc2-adde-6de95801654a",
   "metadata": {},
   "source": [
    "**Гипотеза H0**: Конверсия в покупку в тестовой группе не отличается от конверсии в контрольной\n",
    "\n",
    "**Гипотеза H1**: Конверсия в покупку в тестовой группе отличается.\n",
    "\n",
    "**Уровень значимости** : 0.05"
   ]
  },
  {
   "cell_type": "code",
   "execution_count": 569,
   "id": "500b4f1c-4f8c-4243-b156-dbaa1d421447",
   "metadata": {},
   "outputs": [
    {
     "data": {
      "text/plain": [
       "(grp                    A            B\n",
       " is_purchase                          \n",
       " 0            1465.718979  6483.281021\n",
       " 1              72.281021   319.718979,\n",
       " grp               A       B\n",
       " is_purchase                \n",
       " 0            1460.5  6488.5\n",
       " 1              77.5   314.5,\n",
       "                  test    lambda      chi2  dof      pval    cramer     power\n",
       " 0             pearson  1.000000  0.484808  1.0  0.486252  0.007624  0.107123\n",
       " 1        cressie-read  0.666667  0.482018  1.0  0.487510  0.007602  0.106787\n",
       " 2      log-likelihood  0.000000  0.476541  1.0  0.489993  0.007559  0.106127\n",
       " 3       freeman-tukey -0.500000  0.472522  1.0  0.491829  0.007527  0.105643\n",
       " 4  mod-log-likelihood -1.000000  0.468578  1.0  0.493642  0.007495  0.105168\n",
       " 5              neyman -2.000000  0.460909  1.0  0.497200  0.007434  0.104245)"
      ]
     },
     "execution_count": 569,
     "metadata": {},
     "output_type": "execute_result"
    }
   ],
   "source": [
    "pg.chi2_independence(users_info, 'is_purchase','grp')"
   ]
  },
  {
   "cell_type": "markdown",
   "id": "abfb65a9-b892-4369-8012-41a99509dacc",
   "metadata": {},
   "source": [
    "Статистические тесты показали pval выше заданного уровня значимости (0.05), в данном эксперименте мы не можем отвергнуть нулевую гипотезу. \n",
    "\n",
    "**Вывод**: статистически значимых различий между конверсиями в покупку между группами не найдено."
   ]
  },
  {
   "cell_type": "markdown",
   "id": "a78c6726-ebb5-4012-8751-84750bee89ec",
   "metadata": {},
   "source": [
    "### 1.5 ARPU"
   ]
  },
  {
   "cell_type": "markdown",
   "id": "3705b8d9-64ff-4721-ab23-9ff311ebfaec",
   "metadata": {},
   "source": [
    "ARPU - средний доход на привлеченного пользователя. Отношение суммы дохода к количеству пользователей."
   ]
  },
  {
   "cell_type": "markdown",
   "id": "d7e7260b-2a06-4de5-b4c6-1c5f214b524d",
   "metadata": {},
   "source": [
    "Отберем данные о пользователях каждой группы и посчитаем ARPU для контрольной и тестовых групп"
   ]
  },
  {
   "cell_type": "code",
   "execution_count": 571,
   "id": "5644065f-5833-47b6-b8c1-7bdefbd04ec1",
   "metadata": {},
   "outputs": [],
   "source": [
    "arpu_groups = calculate_metric(users_info, 'arpu')"
   ]
  },
  {
   "cell_type": "markdown",
   "id": "52deaac5-054e-4c07-8d4e-38e028b30ace",
   "metadata": {},
   "source": [
    "Средний доход на привлеченного пользователя в тестовой группе вырос на 10.7 руб., необходимо проверить результат на статистическую значимость."
   ]
  },
  {
   "cell_type": "code",
   "execution_count": 573,
   "id": "04904f33-097e-41c2-90fe-142dd7aa97e7",
   "metadata": {},
   "outputs": [
    {
     "name": "stdout",
     "output_type": "stream",
     "text": [
      "ARPU в контрольной группе: 47.3472\n",
      "ARPU в тестовой группе: 58.0588\n",
      "Разница по сравнению с контрольной группой: 10.71\n"
     ]
    }
   ],
   "source": [
    "print(f\"ARPU в контрольной группе: {arpu_groups['arpu_control']}\")\n",
    "print(f\"ARPU в тестовой группе: {arpu_groups['arpu_test']}\")\n",
    "print(f\"Разница по сравнению с контрольной группой: {arpu_groups['arpu_diff']}\")"
   ]
  },
  {
   "cell_type": "markdown",
   "id": "fb916bfb-e6af-4ff1-bea1-462a41f800c9",
   "metadata": {},
   "source": [
    "Количество пользователей в группах A и B:"
   ]
  },
  {
   "cell_type": "code",
   "execution_count": 59,
   "id": "76d310fd-96d7-4cf4-b4be-bac724d25fd0",
   "metadata": {},
   "outputs": [
    {
     "data": {
      "text/plain": [
       "1538"
      ]
     },
     "execution_count": 59,
     "metadata": {},
     "output_type": "execute_result"
    }
   ],
   "source": [
    "users_a.shape[0]"
   ]
  },
  {
   "cell_type": "code",
   "execution_count": 60,
   "id": "6858e4d0-68dc-4e7d-a068-4f898fc41b37",
   "metadata": {},
   "outputs": [
    {
     "data": {
      "text/plain": [
       "6803"
      ]
     },
     "execution_count": 60,
     "metadata": {},
     "output_type": "execute_result"
    }
   ],
   "source": [
    "users_b.shape[0]"
   ]
  },
  {
   "cell_type": "markdown",
   "id": "588aab8d-c37b-4210-b6d6-79eda5df8960",
   "metadata": {},
   "source": [
    "**Гипотеза H0**: ARPU в контрольной и тестовой группе не отличается\n",
    "\n",
    "**Гипотеза H1**: ARPU в тестовой группе отличается.\n",
    "\n",
    "**Доверительный интервал** : 0.95"
   ]
  },
  {
   "cell_type": "markdown",
   "id": "3c5fd097-5aa7-408e-9015-d39400fca36f",
   "metadata": {},
   "source": [
    "Используем Bootstrap, сгенерируем 10000 выборок из пользователей тестовой и контрольной группы.\n",
    "\n",
    "Для каждой выборки посчитаем ARPU и разницу между ARPU тестовой и контрольной выборки, в итоге получим 10000 значений разницы ARPU, если доверительный интервал будет включать в себя 0, то принимаем нулевую гипотезу."
   ]
  },
  {
   "cell_type": "code",
   "execution_count": 63,
   "id": "3c456674-d693-4616-b74f-49ad5be890aa",
   "metadata": {},
   "outputs": [],
   "source": [
    "arpu_diff = []\n",
    "for _ in range (10_000):\n",
    "    sample_a = users_a.sample(frac=1, replace = True)\n",
    "    sample_b = users_b.sample(frac=1, replace = True)\n",
    "    arpu_a = sample_a.rev.sum() / len(sample_a)\n",
    "    arpu_b = sample_b.rev.sum() / len(sample_b)\n",
    "    arpu_diff.append(arpu_b - arpu_a)\n",
    "    "
   ]
  },
  {
   "cell_type": "code",
   "execution_count": 64,
   "id": "7ed9667e-0568-42a5-917e-6bb5c93599cb",
   "metadata": {},
   "outputs": [],
   "source": [
    "def calc_confidence_interval(data, confidence):\n",
    "    sd = np.std(data)\n",
    "    mean = np.mean(data)\n",
    "    confidence_level = 1 - confidence # 0.95 -> 0.05\n",
    "    right_bound = np.quantile(data, 1 - confidence_level / 2)\n",
    "    left_bound = np.quantile(data, confidence_level / 2)\n",
    "    print(f\"95% доверительный интервал находится в границах от {left_bound} до {right_bound}\")\n",
    "    if right_bound * left_bound < 0:\n",
    "        print(\"0 попал внуть доверительного интервала => принимаем нулевую гипотезу\")\n",
    "    else:\n",
    "        print(\"0 не попал внутрь доверительного интервала => отвергаем нулевую гипотезу\")"
   ]
  },
  {
   "cell_type": "code",
   "execution_count": 65,
   "id": "8d5c459a-a4c9-4834-b749-cb8337705a6f",
   "metadata": {},
   "outputs": [
    {
     "data": {
      "image/png": "[encoded data removed]",
      "text/plain": [
       "<Figure size 640x480 with 1 Axes>"
      ]
     },
     "metadata": {},
     "output_type": "display_data"
    }
   ],
   "source": [
    "plt.title('ARPU diff distribution')\n",
    "plt.xlabel(\"diff\")\n",
    "sns.histplot(arpu_diff)\n",
    "ax = plt.gca()\n",
    "ax.axes.yaxis.set_visible(False)\n"
   ]
  },
  {
   "cell_type": "code",
   "execution_count": 66,
   "id": "0cbc784e-4bcf-49f7-83eb-64fd5c4d31da",
   "metadata": {},
   "outputs": [
    {
     "name": "stdout",
     "output_type": "stream",
     "text": [
      "95% доверительный интервал находится в границах от -6.046975388317354 до 26.31008090981576\n",
      "0 попал внуть доверительного интервала => принимаем нулевую гипотезу\n"
     ]
    }
   ],
   "source": [
    "calc_confidence_interval(arpu_diff, 0.95)"
   ]
  },
  {
   "cell_type": "markdown",
   "id": "cc0e5536-74ab-42e1-895c-eeaf79f2ce5e",
   "metadata": {},
   "source": [
    "Различия между ARPU в тестовой и контрольной групе не значимы."
   ]
  },
  {
   "cell_type": "markdown",
   "id": "a2aaf0f0-ca21-4f4c-8d8a-4e408d6266d7",
   "metadata": {},
   "source": [
    "### 1.6 ARPPU"
   ]
  },
  {
   "cell_type": "markdown",
   "id": "650322ae-578b-4eeb-871b-98e41139c6dd",
   "metadata": {},
   "source": [
    "ARPPU - средний доход на платящего пользователя. Отношение суммы дохода к количеству платящих пользователей."
   ]
  },
  {
   "cell_type": "code",
   "execution_count": 575,
   "id": "580917c4-52d3-4997-b51d-054acd4e32aa",
   "metadata": {},
   "outputs": [],
   "source": [
    "arppu_groups = calculate_metric(users_info,'arppu')"
   ]
  },
  {
   "cell_type": "markdown",
   "id": "1fbbb7dc-b692-4f46-a1d5-151ade218c48",
   "metadata": {},
   "source": [
    "Средний доход на привлеченного платящего пользователя в тестовой группе вырос на 324 руб., необходимо проверить результат на статистическую значимость."
   ]
  },
  {
   "cell_type": "code",
   "execution_count": 581,
   "id": "b243e234-75d9-4a52-94a6-bac534ae3232",
   "metadata": {},
   "outputs": [
    {
     "name": "stdout",
     "output_type": "stream",
     "text": [
      "ARPPU в контрольной группе: 933.5897\n",
      "ARPPU в тестовой группе: 1257.879\n",
      "Разница по сравнению с контрольной группой: 324.29\n"
     ]
    }
   ],
   "source": [
    "print(f\"ARPPU в контрольной группе: {arppu_groups['arppu_control']}\")\n",
    "print(f\"ARPPU в тестовой группе: {arppu_groups['arppu_test']}\")\n",
    "print(f\"Разница по сравнению с контрольной группой: {arppu_groups['arppu_diff']}\")"
   ]
  },
  {
   "cell_type": "markdown",
   "id": "a7b6f87e-8393-45cf-8d37-2aedf7e34512",
   "metadata": {},
   "source": [
    "**Гипотеза H0**: ARPPU в контрольной и тестовой группе не отличается\n",
    "\n",
    "**Гипотеза H1**: ARPPU в тестовой группе отличается.\n",
    "\n",
    "**Доверительный интервал** : 0.95"
   ]
  },
  {
   "cell_type": "code",
   "execution_count": 78,
   "id": "766867dd-c7ab-468f-a7d1-d6507b43d328",
   "metadata": {},
   "outputs": [],
   "source": [
    "arppu_diff = []\n",
    "for _ in range (10_000):\n",
    "    sample_a = group_a.sample(frac=1, replace = True)\n",
    "    sample_b = group_b.sample(frac=1, replace = True)\n",
    "    arppu_a = sample_a.rev.sum() / len(sample_a)\n",
    "    arppu_b = sample_b.rev.sum() / len(sample_b)\n",
    "    arppu_diff.append(arppu_b - arppu_a)"
   ]
  },
  {
   "cell_type": "code",
   "execution_count": 79,
   "id": "b75c104f-d11a-438d-abf6-bfc1abd7cc00",
   "metadata": {},
   "outputs": [
    {
     "data": {
      "image/png": "[encoded data removed]",
      "text/plain": [
       "<Figure size 640x480 with 1 Axes>"
      ]
     },
     "metadata": {},
     "output_type": "display_data"
    }
   ],
   "source": [
    "plt.title('ARPPU diff distribution')\n",
    "plt.xlabel(\"diff\")\n",
    "sns.histplot(arppu_diff)\n",
    "ax = plt.gca()\n",
    "ax.axes.yaxis.set_visible(False)"
   ]
  },
  {
   "cell_type": "code",
   "execution_count": 80,
   "id": "d03f552b-6a40-4536-8a8c-b8ff90d69f09",
   "metadata": {},
   "outputs": [
    {
     "name": "stdout",
     "output_type": "stream",
     "text": [
      "95% доверительный интервал находится в границах от 99.17596878838002 до 537.3785543248817\n",
      "0 не попал внутрь доверительного интервала => отвергаем нулевую гипотезу\n"
     ]
    }
   ],
   "source": [
    "calc_confidence_interval(arppu_diff, 0.95)"
   ]
  },
  {
   "cell_type": "markdown",
   "id": "2fb05394-b077-4c57-b8d5-490f67932d4d",
   "metadata": {},
   "source": [
    "### 1.7 Выводы"
   ]
  },
  {
   "cell_type": "markdown",
   "id": "fe6ef2ed-2765-4f18-aa5c-8901dbbf93d7",
   "metadata": {},
   "source": [
    "1. Конверсия в покупку не изменилась\n",
    "2. ARPU (средний доход на привлеченного пользователя) - не изменился\n",
    "3. ARPPU (средний доход на платящего пользователя) - **статистически значимо увеличился**\n",
    "\n",
    "Изменение повлияло в основном только на платящих пользователей, их сумма трат значимо увеличилась. Однако это могло быть связано с другими изменениями, произошедшими во время эксперимента, мало входных данных об эксперименте.\n",
    "\n",
    "Я бы рекомендовала вводить данное изменение на всех пользователей, только если затраты на его внедрение в прод небольшие."
   ]
  },
  {
   "cell_type": "markdown",
   "id": "ba57e81e-9beb-4ebd-bf9e-552f32b88457",
   "metadata": {},
   "source": [
    "## Задание 2. SQL"
   ]
  },
  {
   "cell_type": "markdown",
   "id": "ac9344c2-c50c-4f09-8794-3fd6db2a0231",
   "metadata": {},
   "source": [
    "### 2.1 Количество усердных учеников:\r\n"
   ]
  },
  {
   "cell_type": "markdown",
   "id": "e4e16663-2180-4153-a041-29e826fc8cf3",
   "metadata": {},
   "source": [
    "Образовательные курсы состоят из различных уроков, каждый из которых состоит из нескольких маленьких заданий. Каждое такое маленькое задание называется \"горошиной\".\n",
    "\r\n",
    "Назовём очень усердным учеником того пользователя, который хотя бы раз за текущий месяц правильно решил 20 горошин.\r\n"
   ]
  },
  {
   "cell_type": "markdown",
   "id": "29a53f27-9565-4b11-a8e0-ba5a0c6a561a",
   "metadata": {},
   "source": [
    "| Название атрибута | Тип атрибута | Смысловое значение                       |\r\n",
    "|-------------------|--------------|------------------------------------------|\r\n",
    "| st_id             | int          | ID ученика                               |\r\n",
    "| timest            | timestamp    | Время решения карточки                   |\r\n",
    "| correct           | bool         | Правильно ли решена горошина?            |\r\n",
    "| subject           | text         | Дисциплина, в которой находится горошина |"
   ]
  },
  {
   "cell_type": "markdown",
   "id": "a7cf9108-518f-4f78-a390-88b89eec4bcf",
   "metadata": {},
   "source": [
    "Необходимо написать оптимальный запрос, который даст информацию о количестве очень усердных студентов.\n",
    "\n",
    "NB! Под очень усердным студентом мы понимаем студента, который правильно решил 20 задач за текущий месяц.\n",
    "\n",
    "Текущим месяцем считать октябрь 2021 года."
   ]
  },
  {
   "cell_type": "code",
   "execution_count": 88,
   "id": "aca694bc-8e5a-4bac-b456-9d6b201dbf39",
   "metadata": {},
   "outputs": [],
   "source": [
    "connection= dict(database = 'default',\n",
    "                  host = 'https://clickhouse.lab.karpov.courses',\n",
    "                  user = 'student',\n",
    "                  password = 'dpo_python_2020')"
   ]
  },
  {
   "cell_type": "code",
   "execution_count": 89,
   "id": "290e1c4c-b690-4ac5-b70f-35f978734bb8",
   "metadata": {},
   "outputs": [],
   "source": [
    "month = '2021-10'"
   ]
  },
  {
   "cell_type": "code",
   "execution_count": 90,
   "id": "07716625-ed20-4252-b728-cbeeba7d7bdb",
   "metadata": {},
   "outputs": [],
   "source": [
    "query = f\"\"\"\n",
    "SELECT COUNT (*) FROM \n",
    "    (SELECT\n",
    "        st_id\n",
    "    FROM peas\n",
    "    WHERE toStartOfMonth(timest) == '{month}-01'\n",
    "    GROUP BY st_id \n",
    "    HAVING sum(correct) > 20)\n",
    "\"\"\""
   ]
  },
  {
   "cell_type": "code",
   "execution_count": 91,
   "id": "5e000f62-a7c5-4165-9a02-b6fd9e798e1a",
   "metadata": {},
   "outputs": [
    {
     "data": {
      "text/html": [
       "<div>\n",
       "<style scoped>\n",
       "    .dataframe tbody tr th:only-of-type {\n",
       "        vertical-align: middle;\n",
       "    }\n",
       "\n",
       "    .dataframe tbody tr th {\n",
       "        vertical-align: top;\n",
       "    }\n",
       "\n",
       "    .dataframe thead th {\n",
       "        text-align: right;\n",
       "    }\n",
       "</style>\n",
       "<table border=\"1\" class=\"dataframe\">\n",
       "  <thead>\n",
       "    <tr style=\"text-align: right;\">\n",
       "      <th></th>\n",
       "      <th>count()</th>\n",
       "    </tr>\n",
       "  </thead>\n",
       "  <tbody>\n",
       "    <tr>\n",
       "      <th>0</th>\n",
       "      <td>130</td>\n",
       "    </tr>\n",
       "  </tbody>\n",
       "</table>\n",
       "</div>"
      ],
      "text/plain": [
       "   count()\n",
       "0      130"
      ]
     },
     "execution_count": 91,
     "metadata": {},
     "output_type": "execute_result"
    }
   ],
   "source": [
    "count = ph.read_clickhouse(query,connection = connection)\n",
    "count"
   ]
  },
  {
   "cell_type": "markdown",
   "id": "f0185992-1251-44e0-92be-533dab3f8041",
   "metadata": {},
   "source": [
    "### 2.2 Оптимизация воронки"
   ]
  },
  {
   "cell_type": "markdown",
   "id": "688ab944-f246-4dee-b20d-02db97e15e67",
   "metadata": {},
   "source": [
    "Образовательная платформа предлагает пройти студентам курсы по модели trial: студент может решить бесплатно лишь 30 горошин в день. Для неограниченного количества заданий в определенной дисциплине студенту необходимо приобрести полный доступ. Команда провела эксперимент, где был протестирован новый экран оплаты."
   ]
  },
  {
   "cell_type": "markdown",
   "id": "c7578367-bf06-433f-998b-0573d3a11e13",
   "metadata": {},
   "source": [
    "Дана таблицы: default.peas (см. выше), default.studs:"
   ]
  },
  {
   "cell_type": "markdown",
   "id": "c89c4d2d-b56a-4e52-aa90-4a24ffaaf80e",
   "metadata": {},
   "source": [
    "| Название атрибута | Тип атрибута | Смысловое значение                  |\r\n",
    "|-------------------|--------------|-------------------------------------|\r\n",
    "| st_id             | int          | ID ученика                          |\r\n",
    "| test_grp          | text         | Метка ученика в данном эксперименте |"
   ]
  },
  {
   "cell_type": "markdown",
   "id": "2ec6fcd8-14eb-4a60-b3aa-9c803f941325",
   "metadata": {},
   "source": [
    "default.final_project_check:"
   ]
  },
  {
   "cell_type": "markdown",
   "id": "68812320-c569-4297-a2a1-a595b4011722",
   "metadata": {},
   "source": [
    "| Название атрибута | Тип атрибута | Смысловое значение                             |\r\n",
    "|-------------------|--------------|------------------------------------------------|\r\n",
    "| st_id             | int          | ID ученика                                     |\r\n",
    "| sale_time         | timestamp    | Время покупки                                  |\r\n",
    "| money             | int          | Цена, по которой приобрели данный курс         |\r\n",
    "| subject           | text         | Дисциплина, на которую приобрели полный доступ |"
   ]
  },
  {
   "cell_type": "markdown",
   "id": "e962ecae-54b2-419f-8856-fbd4f36c5c50",
   "metadata": {},
   "source": [
    "Необходимо в одном запросе выгрузить следующую информацию о группах пользователей:"
   ]
  },
  {
   "cell_type": "markdown",
   "id": "219767dc-b94a-4d63-85eb-4c3188bc25b5",
   "metadata": {},
   "source": [
    "*\t`ARPU` - Average Revenue Per User, средний доход на привлеченного пользователя\n",
    "*\t`ARPAU` - Average Revenue Per Active User, средний доход на активного пользователя \n",
    "*\t`CR` в покупку - Conversion Rate, отношение числа купивших курс пользователей к числу всех пользователей\n",
    "*\t`СR` активного пользователя в покупку - Conversion Rate, отношение числа купивших курс пользователей к числу активных пользователей\n",
    "*\t`CR` пользователя из активности по математике (subject = ’math’) в покупку курса по математике\r\n"
   ]
  },
  {
   "cell_type": "markdown",
   "id": "890f960b-d027-4048-8c25-a8b9ba315df2",
   "metadata": {},
   "source": [
    "ARPU считается относительно всех пользователей, попавших в группы.\n",
    "\r\n",
    "Активным считается пользователь, за все время решивший больше 10 задач правильно в любых дисциплинах\n",
    ".\r\n",
    "Активным по математике считается пользователь, за все время решивший 2 или больше задач правильно по математике.\r\n"
   ]
  },
  {
   "cell_type": "markdown",
   "id": "277773a7-7977-41ad-8c39-f7dfa08e17cb",
   "metadata": {},
   "source": [
    "* Распределение всех пользователей по группам"
   ]
  },
  {
   "cell_type": "code",
   "execution_count": 171,
   "id": "167e35b8-8468-477c-a781-8b8ebc996393",
   "metadata": {},
   "outputs": [],
   "source": [
    "groups_count_query = \"\"\"\n",
    "SELECT test_grp, COUNT(distinct st_id) as count_st_id\n",
    "FROM default.studs\n",
    "GROUP BY test_grp\n",
    "\"\"\"\n",
    "groups_count = ph.read_clickhouse(groups_count_query,connection = connection)"
   ]
  },
  {
   "cell_type": "code",
   "execution_count": 159,
   "id": "12ca3ac6-5f20-4e46-9263-f9dee71bbef7",
   "metadata": {},
   "outputs": [
    {
     "data": {
      "text/html": [
       "<div>\n",
       "<style scoped>\n",
       "    .dataframe tbody tr th:only-of-type {\n",
       "        vertical-align: middle;\n",
       "    }\n",
       "\n",
       "    .dataframe tbody tr th {\n",
       "        vertical-align: top;\n",
       "    }\n",
       "\n",
       "    .dataframe thead th {\n",
       "        text-align: right;\n",
       "    }\n",
       "</style>\n",
       "<table border=\"1\" class=\"dataframe\">\n",
       "  <thead>\n",
       "    <tr style=\"text-align: right;\">\n",
       "      <th></th>\n",
       "      <th>test_grp</th>\n",
       "      <th>count_st_id</th>\n",
       "    </tr>\n",
       "  </thead>\n",
       "  <tbody>\n",
       "    <tr>\n",
       "      <th>0</th>\n",
       "      <td>control</td>\n",
       "      <td>305</td>\n",
       "    </tr>\n",
       "    <tr>\n",
       "      <th>1</th>\n",
       "      <td>pilot</td>\n",
       "      <td>295</td>\n",
       "    </tr>\n",
       "  </tbody>\n",
       "</table>\n",
       "</div>"
      ],
      "text/plain": [
       "  test_grp  count_st_id\n",
       "0  control          305\n",
       "1    pilot          295"
      ]
     },
     "execution_count": 159,
     "metadata": {},
     "output_type": "execute_result"
    }
   ],
   "source": [
    "groups_count"
   ]
  },
  {
   "cell_type": "markdown",
   "id": "33d7c354-fcf2-4d57-a616-d3c1e6a1bd7a",
   "metadata": {},
   "source": [
    "В эксперименте задействовано всего 600 пользователей, **305** в контрольной группе и **295** в тестовой"
   ]
  },
  {
   "cell_type": "markdown",
   "id": "1182100e-4db6-4afe-9f7d-66d277655af1",
   "metadata": {},
   "source": [
    "* Распределение активных пользователей по группам"
   ]
  },
  {
   "cell_type": "code",
   "execution_count": 173,
   "id": "d8fdfdb4-cba9-455e-b75d-e94a39110af0",
   "metadata": {},
   "outputs": [],
   "source": [
    "groups_active_count_query = \"\"\"\n",
    "SELECT test_grp, COUNT(st_id)\n",
    "FROM default.studs p LEFT JOIN default.final_project_check fc \n",
    "ON fc.st_id = p.st_id\n",
    "WHERE st_id IN -- отбираем только активных пользователей\n",
    "    (SELECT st_id\n",
    "    FROM default.peas\n",
    "    GROUP BY st_id\n",
    "    HAVING SUM(correct) > 10)\n",
    "GROUP BY test_grp\n",
    "\"\"\"\n",
    "groups_active_count = ph.read_clickhouse(groups_active_count_query,connection = connection)"
   ]
  },
  {
   "cell_type": "code",
   "execution_count": 175,
   "id": "b081f199-9acc-4432-91ed-37d2627014f1",
   "metadata": {},
   "outputs": [
    {
     "data": {
      "text/html": [
       "<div>\n",
       "<style scoped>\n",
       "    .dataframe tbody tr th:only-of-type {\n",
       "        vertical-align: middle;\n",
       "    }\n",
       "\n",
       "    .dataframe tbody tr th {\n",
       "        vertical-align: top;\n",
       "    }\n",
       "\n",
       "    .dataframe thead th {\n",
       "        text-align: right;\n",
       "    }\n",
       "</style>\n",
       "<table border=\"1\" class=\"dataframe\">\n",
       "  <thead>\n",
       "    <tr style=\"text-align: right;\">\n",
       "      <th></th>\n",
       "      <th>test_grp</th>\n",
       "      <th>count(st_id)</th>\n",
       "    </tr>\n",
       "  </thead>\n",
       "  <tbody>\n",
       "    <tr>\n",
       "      <th>0</th>\n",
       "      <td>control</td>\n",
       "      <td>130</td>\n",
       "    </tr>\n",
       "    <tr>\n",
       "      <th>1</th>\n",
       "      <td>pilot</td>\n",
       "      <td>106</td>\n",
       "    </tr>\n",
       "  </tbody>\n",
       "</table>\n",
       "</div>"
      ],
      "text/plain": [
       "  test_grp  count(st_id)\n",
       "0  control           130\n",
       "1    pilot           106"
      ]
     },
     "execution_count": 175,
     "metadata": {},
     "output_type": "execute_result"
    }
   ],
   "source": [
    "groups_active_count"
   ]
  },
  {
   "cell_type": "markdown",
   "id": "e512b6ef-52cd-4d41-a86b-9f5ce48a498d",
   "metadata": {},
   "source": [
    "Всего 236 активных пользователей, **130** в контрольной группе и **106** в тестовой"
   ]
  },
  {
   "cell_type": "markdown",
   "id": "98712b46-9977-4ef1-a69c-b435f51e486c",
   "metadata": {},
   "source": [
    "### План выполнения запроса"
   ]
  },
  {
   "cell_type": "markdown",
   "id": "1bc16cf9-d225-4bc5-a352-a0a6061dc34f",
   "metadata": {},
   "source": [
    "1. Получение ARPU и CR всех пользователей по группам\n"
   ]
  },
  {
   "cell_type": "code",
   "execution_count": 182,
   "id": "a9295f4a-1e37-4f3c-b93c-ee6b53a858a3",
   "metadata": {},
   "outputs": [],
   "source": [
    "ARPU_CR_all_query = \"\"\"\n",
    "SELECT \n",
    "    test_grp, \n",
    "    SUM(money) / COUNT (st_id) as ARPU,\n",
    "    COUNT(DISTINCT fc.st_id) / COUNT(DISTINCT st_id) as CR -- fc.st_id - купили курс, st_id - все пользователи\n",
    "FROM default.studs p LEFT JOIN default.final_project_check fc \n",
    "ON fc.st_id = p.st_id\n",
    "GROUP BY test_grp\n",
    "\"\"\"\n",
    "ARPU_CR_all = ph.read_clickhouse(ARPU_CR_all_query,connection = connection)"
   ]
  },
  {
   "cell_type": "code",
   "execution_count": 184,
   "id": "3116b4fe-2e83-437d-bc42-b350e0f28818",
   "metadata": {},
   "outputs": [
    {
     "data": {
      "text/html": [
       "<div>\n",
       "<style scoped>\n",
       "    .dataframe tbody tr th:only-of-type {\n",
       "        vertical-align: middle;\n",
       "    }\n",
       "\n",
       "    .dataframe tbody tr th {\n",
       "        vertical-align: top;\n",
       "    }\n",
       "\n",
       "    .dataframe thead th {\n",
       "        text-align: right;\n",
       "    }\n",
       "</style>\n",
       "<table border=\"1\" class=\"dataframe\">\n",
       "  <thead>\n",
       "    <tr style=\"text-align: right;\">\n",
       "      <th></th>\n",
       "      <th>test_grp</th>\n",
       "      <th>ARPU</th>\n",
       "      <th>CR</th>\n",
       "    </tr>\n",
       "  </thead>\n",
       "  <tbody>\n",
       "    <tr>\n",
       "      <th>0</th>\n",
       "      <td>control</td>\n",
       "      <td>4496.753247</td>\n",
       "      <td>0.052459</td>\n",
       "    </tr>\n",
       "    <tr>\n",
       "      <th>1</th>\n",
       "      <td>pilot</td>\n",
       "      <td>11094.771242</td>\n",
       "      <td>0.111864</td>\n",
       "    </tr>\n",
       "  </tbody>\n",
       "</table>\n",
       "</div>"
      ],
      "text/plain": [
       "  test_grp          ARPU        CR\n",
       "0  control   4496.753247  0.052459\n",
       "1    pilot  11094.771242  0.111864"
      ]
     },
     "execution_count": 184,
     "metadata": {},
     "output_type": "execute_result"
    }
   ],
   "source": [
    "ARPU_CR_all"
   ]
  },
  {
   "cell_type": "markdown",
   "id": "55dc8c9c-6aab-4c53-8fcf-fc700509e4a6",
   "metadata": {},
   "source": [
    "2. Получение ARPAU и CR активных пользователей"
   ]
  },
  {
   "cell_type": "code",
   "execution_count": 192,
   "id": "7c2f7817-4ec2-4087-932a-171129071174",
   "metadata": {},
   "outputs": [],
   "source": [
    "ARPU_CR_active_query = \"\"\"\n",
    "SELECT \n",
    "    test_grp,\n",
    "    SUM(money) / COUNT (st_id) as ARPAU,\n",
    "    COUNT(DISTINCT fc.st_id) / COUNT(DISTINCT st_id) as active_CR -- fc.st_id - купили курс, st_id - все пользователи\n",
    "FROM default.studs p LEFT JOIN default.final_project_check fc \n",
    "ON fc.st_id = p.st_id\n",
    "WHERE st_id IN -- отбираем только активных пользователей\n",
    "    (SELECT st_id\n",
    "    FROM default.peas\n",
    "    GROUP BY st_id\n",
    "    HAVING SUM(correct) > 10)\n",
    "GROUP BY test_grp\n",
    "\"\"\"\n",
    "ARPU_CR_active = ph.read_clickhouse(ARPU_CR_active_query,connection = connection)"
   ]
  },
  {
   "cell_type": "code",
   "execution_count": 190,
   "id": "b2c0dedc-21dc-4cef-b007-e9c3f5c25d9a",
   "metadata": {},
   "outputs": [
    {
     "data": {
      "text/html": [
       "<div>\n",
       "<style scoped>\n",
       "    .dataframe tbody tr th:only-of-type {\n",
       "        vertical-align: middle;\n",
       "    }\n",
       "\n",
       "    .dataframe tbody tr th {\n",
       "        vertical-align: top;\n",
       "    }\n",
       "\n",
       "    .dataframe thead th {\n",
       "        text-align: right;\n",
       "    }\n",
       "</style>\n",
       "<table border=\"1\" class=\"dataframe\">\n",
       "  <thead>\n",
       "    <tr style=\"text-align: right;\">\n",
       "      <th></th>\n",
       "      <th>test_grp</th>\n",
       "      <th>ARPAU</th>\n",
       "      <th>active_CR</th>\n",
       "    </tr>\n",
       "  </thead>\n",
       "  <tbody>\n",
       "    <tr>\n",
       "      <th>0</th>\n",
       "      <td>control</td>\n",
       "      <td>10153.846154</td>\n",
       "      <td>0.118110</td>\n",
       "    </tr>\n",
       "    <tr>\n",
       "      <th>1</th>\n",
       "      <td>pilot</td>\n",
       "      <td>26933.962264</td>\n",
       "      <td>0.270833</td>\n",
       "    </tr>\n",
       "  </tbody>\n",
       "</table>\n",
       "</div>"
      ],
      "text/plain": [
       "  test_grp         ARPAU  active_CR\n",
       "0  control  10153.846154   0.118110\n",
       "1    pilot  26933.962264   0.270833"
      ]
     },
     "execution_count": 190,
     "metadata": {},
     "output_type": "execute_result"
    }
   ],
   "source": [
    "ARPU_CR_active"
   ]
  },
  {
   "cell_type": "markdown",
   "id": "1ffd2b8c-4e10-429c-a095-d41f6a488fb8",
   "metadata": {},
   "source": [
    "3. Получение CR активных по математике пользователей"
   ]
  },
  {
   "cell_type": "code",
   "execution_count": 194,
   "id": "e3d8ff59-756b-485a-81db-6b7807da2e29",
   "metadata": {},
   "outputs": [],
   "source": [
    "CR_math_query = \"\"\"\n",
    "SELECT \n",
    "    test_grp,\n",
    "    COUNT(DISTINCT fc.st_id) / COUNT(DISTINCT st_id) as math_CR -- fc.st_id - купили курс, st_id - все пользователи\n",
    "FROM default.studs p LEFT JOIN default.final_project_check fc \n",
    "ON fc.st_id = p.st_id\n",
    "WHERE st_id IN -- отбираем только активных по математике пользователей\n",
    "    (SELECT st_id\n",
    "    FROM default.peas\n",
    "    WHERE subject = 'Math'\n",
    "    GROUP BY st_id\n",
    "    HAVING SUM(correct) > 1)\n",
    "GROUP BY test_grp\n",
    "\"\"\"\n",
    "CR_math = ph.read_clickhouse(CR_math_query,connection = connection)"
   ]
  },
  {
   "cell_type": "code",
   "execution_count": 196,
   "id": "9df1c260-22ff-42c2-8560-908b0b3bfaea",
   "metadata": {},
   "outputs": [
    {
     "data": {
      "text/html": [
       "<div>\n",
       "<style scoped>\n",
       "    .dataframe tbody tr th:only-of-type {\n",
       "        vertical-align: middle;\n",
       "    }\n",
       "\n",
       "    .dataframe tbody tr th {\n",
       "        vertical-align: top;\n",
       "    }\n",
       "\n",
       "    .dataframe thead th {\n",
       "        text-align: right;\n",
       "    }\n",
       "</style>\n",
       "<table border=\"1\" class=\"dataframe\">\n",
       "  <thead>\n",
       "    <tr style=\"text-align: right;\">\n",
       "      <th></th>\n",
       "      <th>test_grp</th>\n",
       "      <th>math_CR</th>\n",
       "    </tr>\n",
       "  </thead>\n",
       "  <tbody>\n",
       "    <tr>\n",
       "      <th>0</th>\n",
       "      <td>control</td>\n",
       "      <td>0.122449</td>\n",
       "    </tr>\n",
       "    <tr>\n",
       "      <th>1</th>\n",
       "      <td>pilot</td>\n",
       "      <td>0.166667</td>\n",
       "    </tr>\n",
       "  </tbody>\n",
       "</table>\n",
       "</div>"
      ],
      "text/plain": [
       "  test_grp   math_CR\n",
       "0  control  0.122449\n",
       "1    pilot  0.166667"
      ]
     },
     "execution_count": 196,
     "metadata": {},
     "output_type": "execute_result"
    }
   ],
   "source": [
    "CR_math"
   ]
  },
  {
   "cell_type": "markdown",
   "id": "bcc0aeaf-b0a1-4105-8e34-e904ff3d0ba2",
   "metadata": {},
   "source": [
    "4. Объединение всех метрик по группам"
   ]
  },
  {
   "cell_type": "code",
   "execution_count": 207,
   "id": "4a41eeba-5487-417a-8e40-7640f1186f0a",
   "metadata": {},
   "outputs": [],
   "source": [
    "full_query = \"\"\"\n",
    "SELECT \n",
    "    all_users.test_grp as group,\n",
    "    ARPU,\n",
    "    CR,\n",
    "    ARPAU,\n",
    "    active_CR,\n",
    "    math_CR\n",
    "FROM\n",
    "    -- ARPU и CR всех пользователей\n",
    "    (SELECT \n",
    "        test_grp, \n",
    "        SUM(money) / COUNT (st_id) as ARPU,\n",
    "        COUNT(DISTINCT fc.st_id) / COUNT(DISTINCT st_id) as CR -- fc.st_id - купили курс, st_id - все пользователи\n",
    "    FROM default.studs p LEFT JOIN default.final_project_check fc \n",
    "    ON fc.st_id = p.st_id\n",
    "    GROUP BY test_grp) all_users\n",
    "JOIN \n",
    "    -- ARPAU и CR активных пользователей\n",
    "    (SELECT \n",
    "        test_grp,\n",
    "        SUM(money) / COUNT (st_id) as ARPAU,\n",
    "        COUNT(DISTINCT fc.st_id) / COUNT(DISTINCT st_id) as active_CR -- fc.st_id - купили курс, st_id - все пользователи\n",
    "    FROM default.studs p LEFT JOIN default.final_project_check fc \n",
    "    ON fc.st_id = p.st_id\n",
    "    WHERE st_id IN -- отбираем только активных пользователей\n",
    "        (SELECT st_id\n",
    "        FROM default.peas\n",
    "        GROUP BY st_id\n",
    "        HAVING SUM(correct) > 10)\n",
    "    GROUP BY test_grp\n",
    "    ) active_users\n",
    "ON all_users.test_grp = active_users.test_grp\n",
    "JOIN\n",
    "    -- CR активных по математике пользователей\n",
    "    (SELECT \n",
    "        test_grp,\n",
    "        COUNT(DISTINCT fc.st_id) / COUNT(DISTINCT st_id) as math_CR -- fc.st_id - купили курс, st_id - все пользователи\n",
    "    FROM default.studs p LEFT JOIN default.final_project_check fc \n",
    "    ON fc.st_id = p.st_id\n",
    "    WHERE st_id IN -- отбираем только активных по математике пользователей\n",
    "        (SELECT st_id\n",
    "        FROM default.peas\n",
    "        WHERE subject = 'Math'\n",
    "        GROUP BY st_id\n",
    "        HAVING SUM(correct) > 1)\n",
    "    GROUP BY test_grp\n",
    "    ) math_users\n",
    "ON all_users.test_grp = math_users.test_grp\n",
    "\"\"\"\n",
    "full_metrics = ph.read_clickhouse(full_query,connection = connection)"
   ]
  },
  {
   "cell_type": "code",
   "execution_count": 209,
   "id": "1bf4e92a-117a-414b-b515-9761839a63c7",
   "metadata": {},
   "outputs": [
    {
     "data": {
      "text/html": [
       "<div>\n",
       "<style scoped>\n",
       "    .dataframe tbody tr th:only-of-type {\n",
       "        vertical-align: middle;\n",
       "    }\n",
       "\n",
       "    .dataframe tbody tr th {\n",
       "        vertical-align: top;\n",
       "    }\n",
       "\n",
       "    .dataframe thead th {\n",
       "        text-align: right;\n",
       "    }\n",
       "</style>\n",
       "<table border=\"1\" class=\"dataframe\">\n",
       "  <thead>\n",
       "    <tr style=\"text-align: right;\">\n",
       "      <th></th>\n",
       "      <th>group</th>\n",
       "      <th>ARPU</th>\n",
       "      <th>CR</th>\n",
       "      <th>ARPAU</th>\n",
       "      <th>active_CR</th>\n",
       "      <th>math_CR</th>\n",
       "    </tr>\n",
       "  </thead>\n",
       "  <tbody>\n",
       "    <tr>\n",
       "      <th>0</th>\n",
       "      <td>control</td>\n",
       "      <td>4496.753247</td>\n",
       "      <td>0.052459</td>\n",
       "      <td>10153.846154</td>\n",
       "      <td>0.118110</td>\n",
       "      <td>0.122449</td>\n",
       "    </tr>\n",
       "    <tr>\n",
       "      <th>1</th>\n",
       "      <td>pilot</td>\n",
       "      <td>11094.771242</td>\n",
       "      <td>0.111864</td>\n",
       "      <td>26933.962264</td>\n",
       "      <td>0.270833</td>\n",
       "      <td>0.166667</td>\n",
       "    </tr>\n",
       "  </tbody>\n",
       "</table>\n",
       "</div>"
      ],
      "text/plain": [
       "     group          ARPU        CR         ARPAU  active_CR   math_CR\n",
       "0  control   4496.753247  0.052459  10153.846154   0.118110  0.122449\n",
       "1    pilot  11094.771242  0.111864  26933.962264   0.270833  0.166667"
      ]
     },
     "execution_count": 209,
     "metadata": {},
     "output_type": "execute_result"
    }
   ],
   "source": [
    "full_metrics"
   ]
  },
  {
   "cell_type": "markdown",
   "id": "f9c875db-9ce5-482f-80cf-83d12f67675a",
   "metadata": {},
   "source": [
    "## Задание 3. Python"
   ]
  },
  {
   "cell_type": "markdown",
   "id": "d6d71762-8ee9-46f7-b268-1f36f92f730d",
   "metadata": {},
   "source": [
    "### 3.1 Выгрузка дополнительной информации"
   ]
  },
  {
   "cell_type": "markdown",
   "id": "f126de54-dcf8-48f5-9b35-ee833593e2d9",
   "metadata": {},
   "source": [
    "Реализуйте функцию, которая будет автоматически подгружать информацию из дополнительного файла groups_add.csv (заголовки могут отличаться) и на основании дополнительных параметров пересчитывать метрики."
   ]
  },
  {
   "cell_type": "markdown",
   "id": "1bb4c341-494a-427a-a7f7-9390fa5dd005",
   "metadata": {},
   "source": [
    "Добавление данных будет происходить в тестовый существующий датафрейм `test_data`"
   ]
  },
  {
   "cell_type": "code",
   "execution_count": 599,
   "id": "ad6b1f78-9aa8-4811-8e35-2ecb4c9a35f9",
   "metadata": {},
   "outputs": [
    {
     "data": {
      "text/html": [
       "<div>\n",
       "<style scoped>\n",
       "    .dataframe tbody tr th:only-of-type {\n",
       "        vertical-align: middle;\n",
       "    }\n",
       "\n",
       "    .dataframe tbody tr th {\n",
       "        vertical-align: top;\n",
       "    }\n",
       "\n",
       "    .dataframe thead th {\n",
       "        text-align: right;\n",
       "    }\n",
       "</style>\n",
       "<table border=\"1\" class=\"dataframe\">\n",
       "  <thead>\n",
       "    <tr style=\"text-align: right;\">\n",
       "      <th></th>\n",
       "      <th>id</th>\n",
       "      <th>grp</th>\n",
       "      <th>rev</th>\n",
       "      <th>is_purchase</th>\n",
       "    </tr>\n",
       "  </thead>\n",
       "  <tbody>\n",
       "    <tr>\n",
       "      <th>0</th>\n",
       "      <td>1627</td>\n",
       "      <td>A</td>\n",
       "      <td>990.0</td>\n",
       "      <td>1</td>\n",
       "    </tr>\n",
       "    <tr>\n",
       "      <th>1</th>\n",
       "      <td>2085</td>\n",
       "      <td>B</td>\n",
       "      <td>0.0</td>\n",
       "      <td>0</td>\n",
       "    </tr>\n",
       "    <tr>\n",
       "      <th>2</th>\n",
       "      <td>2215</td>\n",
       "      <td>B</td>\n",
       "      <td>0.0</td>\n",
       "      <td>0</td>\n",
       "    </tr>\n",
       "    <tr>\n",
       "      <th>3</th>\n",
       "      <td>3391</td>\n",
       "      <td>A</td>\n",
       "      <td>0.0</td>\n",
       "      <td>0</td>\n",
       "    </tr>\n",
       "    <tr>\n",
       "      <th>4</th>\n",
       "      <td>3401</td>\n",
       "      <td>B</td>\n",
       "      <td>0.0</td>\n",
       "      <td>0</td>\n",
       "    </tr>\n",
       "  </tbody>\n",
       "</table>\n",
       "</div>"
      ],
      "text/plain": [
       "     id grp    rev  is_purchase\n",
       "0  1627   A  990.0            1\n",
       "1  2085   B    0.0            0\n",
       "2  2215   B    0.0            0\n",
       "3  3391   A    0.0            0\n",
       "4  3401   B    0.0            0"
      ]
     },
     "execution_count": 599,
     "metadata": {},
     "output_type": "execute_result"
    }
   ],
   "source": [
    "test_data = pd.merge(left = groups, right = active_users, left_on = 'id', right_on = 'student_id').drop(columns='student_id')\n",
    "test_data = test_data.merge(checks, left_on = 'id', right_on = 'student_id', how = 'left').drop(columns='student_id').fillna(0)\n",
    "test_data['is_purchase'] = (test_data.rev != 0).astype(int)\n",
    "test_data.head()"
   ]
  },
  {
   "cell_type": "markdown",
   "id": "8cbd9a44-bda3-4055-a8ee-a6d6a6007e3b",
   "metadata": {},
   "source": [
    "Новые данные будут выгружаться по публичной ссылке (`add_csv_link`) с Яндекс-диска через API"
   ]
  },
  {
   "cell_type": "code",
   "execution_count": 936,
   "id": "9e4e9d24-a236-4faa-9243-eedfa16b062e",
   "metadata": {},
   "outputs": [],
   "source": [
    "add_csv_link = 'https://disk.yandex.ru/d/P_Fm8Qjta2ntng'"
   ]
  },
  {
   "cell_type": "code",
   "execution_count": 934,
   "id": "e4cd8de2-af65-4165-b2e3-fb5ab67461d5",
   "metadata": {},
   "outputs": [],
   "source": [
    "metrics_list = ['cr','arpu','arppu'] # отслеживаемые метрики"
   ]
  },
  {
   "cell_type": "code",
   "execution_count": 1233,
   "id": "bdb8c649-58e0-462a-b7f1-57d3062efbd1",
   "metadata": {},
   "outputs": [],
   "source": [
    "control_df = pd.DataFrame(columns = ['cr_control','cr_test','arpu_control','arpu_test','arppu_control','arppu_test','date']) # датафрейм для отслеживания метрик по дням"
   ]
  },
  {
   "cell_type": "code",
   "execution_count": 1235,
   "id": "b4b17f56-457f-49f3-a3f1-2128520985e5",
   "metadata": {},
   "outputs": [
    {
     "data": {
      "text/html": [
       "<div>\n",
       "<style scoped>\n",
       "    .dataframe tbody tr th:only-of-type {\n",
       "        vertical-align: middle;\n",
       "    }\n",
       "\n",
       "    .dataframe tbody tr th {\n",
       "        vertical-align: top;\n",
       "    }\n",
       "\n",
       "    .dataframe thead th {\n",
       "        text-align: right;\n",
       "    }\n",
       "</style>\n",
       "<table border=\"1\" class=\"dataframe\">\n",
       "  <thead>\n",
       "    <tr style=\"text-align: right;\">\n",
       "      <th></th>\n",
       "      <th>cr_control</th>\n",
       "      <th>cr_test</th>\n",
       "      <th>arpu_control</th>\n",
       "      <th>arpu_test</th>\n",
       "      <th>arppu_control</th>\n",
       "      <th>arppu_test</th>\n",
       "      <th>date</th>\n",
       "    </tr>\n",
       "  </thead>\n",
       "  <tbody>\n",
       "  </tbody>\n",
       "</table>\n",
       "</div>"
      ],
      "text/plain": [
       "Empty DataFrame\n",
       "Columns: [cr_control, cr_test, arpu_control, arpu_test, arppu_control, arppu_test, date]\n",
       "Index: []"
      ]
     },
     "execution_count": 1235,
     "metadata": {},
     "output_type": "execute_result"
    }
   ],
   "source": [
    "control_df"
   ]
  },
  {
   "cell_type": "code",
   "execution_count": 806,
   "id": "e97bf6d4-8a51-4652-bdb8-9d8653ce5e40",
   "metadata": {},
   "outputs": [],
   "source": [
    "'''\n",
    "Функция для получения датафрейма по ссылке Яндекс-диск\n",
    "Принимает на вход ссылку на csv-файл (link) и разделитель в данном файле (sep)\n",
    "Возвращает скачанный Pandas DataFrame\n",
    "'''\n",
    "def get_csv_from_yandex(link, sep = ','):\n",
    "    base_url = 'https://cloud-api.yandex.net/v1/disk/public/resources/download?' # базовый URL для API \n",
    "    final_url = base_url + urlencode(dict(public_key=link)) # ссылка с параметрами для запроса на API яндекса\n",
    "    try:\n",
    "        response = requests.get(final_url)\n",
    "        response.raise_for_status()\n",
    "        download_url = response.json()['href']\n",
    "        add_data = pd.read_csv(download_url, sep = sep)\n",
    "        return add_data\n",
    "    except requests.exceptions.RequestException as e:\n",
    "        print(f\"Ошибка при запросе для {link}\\n{e}\")\n",
    "    except Exception as e:\n",
    "        print(f\"Ошибка при обработке {link}\\n{e}\")\n",
    "    "
   ]
  },
  {
   "cell_type": "code",
   "execution_count": 930,
   "id": "36d8d3e2-260a-4d0e-8c50-64a51843c365",
   "metadata": {},
   "outputs": [],
   "source": [
    "'''\n",
    "Функция для добавления информации о состоянии метрик на текущий день в датафрейм с динамикой метрик по дням\n",
    "Принимает на вход:\n",
    "- df: Pandas DataFrame с данными, по которым будут просчитываться метрики\n",
    "(датафрейм должен удовлетворять структуре, указанной в функции calculate_metric)\n",
    "- metric_list: Метрики, которые необходимо посчитать\n",
    "- metric_df: Pandas DataFrame с данными о динамике метрик по дням, в него будут записаны данные о состоянии метрик на текущий день\n",
    "''' \n",
    "def update_metrics_df(df, metrics_list, metrics_df):\n",
    "    columns = []\n",
    "    metric_values = []\n",
    "    for metric in metrics_list:\n",
    "        calc = calculate_metric(df,metric)\n",
    "        for key, value in list(calc.items())[:2]:\n",
    "            columns.append(key)\n",
    "            metric_values.append(value)\n",
    "    columns.append('date')\n",
    "    metric_values.append(datetime.date.today())\n",
    "    metrics_today_dict = dict(zip(columns,metric_values))\n",
    "    metrics_df.loc[len(metrics_df)] = metrics_today_dict # добавление записи о состоянии метрик на текущий день\n",
    "    metrics_df.drop_duplicates(subset='date', inplace = True) # удаление дубликатов по дате"
   ]
  },
  {
   "cell_type": "code",
   "execution_count": 932,
   "id": "04f97658-c3ae-4d02-b56e-046bb4240a70",
   "metadata": {},
   "outputs": [],
   "source": [
    "'''\n",
    "Функция для обновления данных эксперимента с помощью скачанных с Яндекс-диска данных\n",
    "Принимает на вход:\n",
    "- old data : Pandas DataFrame со старыми данными\n",
    "- link ссылка на Яндекс-диск с новыми данными\n",
    "- metric_df: Pandas DataFrame с данными о динамике метрик по дням\n",
    "Возвращает обновленный Pandas DataFrame\n",
    "'''\n",
    "def update_data(old_data, update_link, metrics_df):\n",
    "    add_groups = get_csv_from_yandex(update_link) # получение новых данных\n",
    "    new_data = old_data.merge(add_groups, on = 'id', how = 'outer')\n",
    "    new_data[['grp_x','grp_y']] = new_data[['grp_x','grp_y']].fillna('')\n",
    "    new_data['grp'] = new_data.grp_x + new_data.grp_y\n",
    "    new_data = new_data.drop(columns=['grp_x','grp_y']).fillna(0)\n",
    "    update_metrics_df(new_data, metrics_list, metrics_df)\n",
    "    return new_data"
   ]
  },
  {
   "cell_type": "code",
   "execution_count": 1237,
   "id": "4a2f67d0-bd65-46e9-bcf8-3f1070dc58d0",
   "metadata": {},
   "outputs": [],
   "source": [
    "test_updated_data = update_data(test_data, add_csv_link, control_df)"
   ]
  },
  {
   "cell_type": "markdown",
   "id": "9562ac8b-052e-4312-a6bb-1f93fdd7dc42",
   "metadata": {},
   "source": [
    "Проверка работы функции:"
   ]
  },
  {
   "cell_type": "code",
   "execution_count": 1239,
   "id": "128a0c93-dbf2-4317-b09c-b9597967afda",
   "metadata": {},
   "outputs": [
    {
     "data": {
      "text/plain": [
       "8354"
      ]
     },
     "execution_count": 1239,
     "metadata": {},
     "output_type": "execute_result"
    }
   ],
   "source": [
    "test_data.shape[0]"
   ]
  },
  {
   "cell_type": "code",
   "execution_count": 1241,
   "id": "5f3feee0-c6ce-4e71-9512-be58f96cf061",
   "metadata": {},
   "outputs": [
    {
     "data": {
      "text/plain": [
       "8433"
      ]
     },
     "execution_count": 1241,
     "metadata": {},
     "output_type": "execute_result"
    }
   ],
   "source": [
    "test_updated_data.shape[0]"
   ]
  },
  {
   "cell_type": "code",
   "execution_count": 1243,
   "id": "6d3d4c09-fb24-45a3-98cd-32e29aa717a0",
   "metadata": {},
   "outputs": [
    {
     "data": {
      "text/html": [
       "<div>\n",
       "<style scoped>\n",
       "    .dataframe tbody tr th:only-of-type {\n",
       "        vertical-align: middle;\n",
       "    }\n",
       "\n",
       "    .dataframe tbody tr th {\n",
       "        vertical-align: top;\n",
       "    }\n",
       "\n",
       "    .dataframe thead th {\n",
       "        text-align: right;\n",
       "    }\n",
       "</style>\n",
       "<table border=\"1\" class=\"dataframe\">\n",
       "  <thead>\n",
       "    <tr style=\"text-align: right;\">\n",
       "      <th></th>\n",
       "      <th>cr_control</th>\n",
       "      <th>cr_test</th>\n",
       "      <th>arpu_control</th>\n",
       "      <th>arpu_test</th>\n",
       "      <th>arppu_control</th>\n",
       "      <th>arppu_test</th>\n",
       "      <th>date</th>\n",
       "    </tr>\n",
       "  </thead>\n",
       "  <tbody>\n",
       "    <tr>\n",
       "      <th>0</th>\n",
       "      <td>0.0502</td>\n",
       "      <td>0.0457</td>\n",
       "      <td>46.8597</td>\n",
       "      <td>57.3579</td>\n",
       "      <td>933.5897</td>\n",
       "      <td>1255.8275</td>\n",
       "      <td>2025-02-15</td>\n",
       "    </tr>\n",
       "  </tbody>\n",
       "</table>\n",
       "</div>"
      ],
      "text/plain": [
       "   cr_control  cr_test  arpu_control  arpu_test  arppu_control  arppu_test  \\\n",
       "0      0.0502   0.0457       46.8597    57.3579       933.5897   1255.8275   \n",
       "\n",
       "         date  \n",
       "0  2025-02-15  "
      ]
     },
     "execution_count": 1243,
     "metadata": {},
     "output_type": "execute_result"
    }
   ],
   "source": [
    "control_df"
   ]
  },
  {
   "cell_type": "markdown",
   "id": "dcc36e4d-ebb5-43e4-9a03-ed492fe50a00",
   "metadata": {},
   "source": [
    "### 3.2 Построение графиков по метрикам"
   ]
  },
  {
   "cell_type": "markdown",
   "id": "84c47512-ae58-4d8e-b57e-16622d00ba4d",
   "metadata": {},
   "source": [
    "Реализуйте функцию, которая будет строить графики по получаемым метрикам."
   ]
  },
  {
   "cell_type": "markdown",
   "id": "7ba7c33d-d751-4d53-b15a-deeb76e987fb",
   "metadata": {},
   "source": [
    "Для отслеживания динамики метрик на графиках добавим случайные данные в датафрейм с метриками по дням."
   ]
  },
  {
   "cell_type": "code",
   "execution_count": 1245,
   "id": "c6a2585d-69f3-4607-9919-e318afcda7a4",
   "metadata": {},
   "outputs": [],
   "source": [
    "def add_random_samples(control_df, n_samples):\n",
    "    columns = ['cr_control','cr_test','arpu_control','arpu_test','arppu_control','arppu_test','date']\n",
    "    for i in range (n_samples):\n",
    "        metrics = []\n",
    "        metrics.append(round(control_df.iloc[len(control_df) - 1,0] + random() / 50 - random() / 50,4))\n",
    "        metrics.append(round(control_df.iloc[len(control_df) - 1,1] + random() / 50 - random() / 50,4))\n",
    "        metrics.append(control_df.iloc[len(control_df) - 1,2] + randint(-10,10))\n",
    "        metrics.append(control_df.iloc[len(control_df) - 1,3] + randint(-10,10))\n",
    "        metrics.append(control_df.iloc[len(control_df) - 1,4] + randint(-50,50))\n",
    "        metrics.append(control_df.iloc[len(control_df) - 1,5] + randint(-50,50))\n",
    "        metrics.append(control_df.iloc[len(control_df) - 1, 6] + datetime.timedelta(1))\n",
    "        sample_dict = dict(zip(columns,metrics))\n",
    "        control_df.loc[len(control_df)] = sample_dict"
   ]
  },
  {
   "cell_type": "code",
   "execution_count": 1249,
   "id": "10bdc2d7-0c72-4eb4-a81b-951d32e1b5d4",
   "metadata": {},
   "outputs": [],
   "source": [
    "add_random_samples(control_df, 15)"
   ]
  },
  {
   "cell_type": "code",
   "execution_count": 1251,
   "id": "d8e88e41-e6d2-4004-b0b9-c355b3b8a402",
   "metadata": {},
   "outputs": [
    {
     "data": {
      "text/html": [
       "<div>\n",
       "<style scoped>\n",
       "    .dataframe tbody tr th:only-of-type {\n",
       "        vertical-align: middle;\n",
       "    }\n",
       "\n",
       "    .dataframe tbody tr th {\n",
       "        vertical-align: top;\n",
       "    }\n",
       "\n",
       "    .dataframe thead th {\n",
       "        text-align: right;\n",
       "    }\n",
       "</style>\n",
       "<table border=\"1\" class=\"dataframe\">\n",
       "  <thead>\n",
       "    <tr style=\"text-align: right;\">\n",
       "      <th></th>\n",
       "      <th>cr_control</th>\n",
       "      <th>cr_test</th>\n",
       "      <th>arpu_control</th>\n",
       "      <th>arpu_test</th>\n",
       "      <th>arppu_control</th>\n",
       "      <th>arppu_test</th>\n",
       "      <th>date</th>\n",
       "    </tr>\n",
       "  </thead>\n",
       "  <tbody>\n",
       "    <tr>\n",
       "      <th>0</th>\n",
       "      <td>0.0502</td>\n",
       "      <td>0.0457</td>\n",
       "      <td>46.8597</td>\n",
       "      <td>57.3579</td>\n",
       "      <td>933.5897</td>\n",
       "      <td>1255.8275</td>\n",
       "      <td>2025-02-15</td>\n",
       "    </tr>\n",
       "    <tr>\n",
       "      <th>1</th>\n",
       "      <td>0.0488</td>\n",
       "      <td>0.0485</td>\n",
       "      <td>49.8597</td>\n",
       "      <td>66.3579</td>\n",
       "      <td>950.5897</td>\n",
       "      <td>1264.8275</td>\n",
       "      <td>2025-02-16</td>\n",
       "    </tr>\n",
       "    <tr>\n",
       "      <th>2</th>\n",
       "      <td>0.0490</td>\n",
       "      <td>0.0382</td>\n",
       "      <td>43.8597</td>\n",
       "      <td>71.3579</td>\n",
       "      <td>939.5897</td>\n",
       "      <td>1233.8275</td>\n",
       "      <td>2025-02-17</td>\n",
       "    </tr>\n",
       "    <tr>\n",
       "      <th>3</th>\n",
       "      <td>0.0436</td>\n",
       "      <td>0.0455</td>\n",
       "      <td>46.8597</td>\n",
       "      <td>71.3579</td>\n",
       "      <td>944.5897</td>\n",
       "      <td>1230.8275</td>\n",
       "      <td>2025-02-18</td>\n",
       "    </tr>\n",
       "    <tr>\n",
       "      <th>4</th>\n",
       "      <td>0.0385</td>\n",
       "      <td>0.0368</td>\n",
       "      <td>52.8597</td>\n",
       "      <td>77.3579</td>\n",
       "      <td>963.5897</td>\n",
       "      <td>1253.8275</td>\n",
       "      <td>2025-02-19</td>\n",
       "    </tr>\n",
       "  </tbody>\n",
       "</table>\n",
       "</div>"
      ],
      "text/plain": [
       "   cr_control  cr_test  arpu_control  arpu_test  arppu_control  arppu_test  \\\n",
       "0      0.0502   0.0457       46.8597    57.3579       933.5897   1255.8275   \n",
       "1      0.0488   0.0485       49.8597    66.3579       950.5897   1264.8275   \n",
       "2      0.0490   0.0382       43.8597    71.3579       939.5897   1233.8275   \n",
       "3      0.0436   0.0455       46.8597    71.3579       944.5897   1230.8275   \n",
       "4      0.0385   0.0368       52.8597    77.3579       963.5897   1253.8275   \n",
       "\n",
       "         date  \n",
       "0  2025-02-15  \n",
       "1  2025-02-16  \n",
       "2  2025-02-17  \n",
       "3  2025-02-18  \n",
       "4  2025-02-19  "
      ]
     },
     "execution_count": 1251,
     "metadata": {},
     "output_type": "execute_result"
    }
   ],
   "source": [
    "control_df.head()"
   ]
  },
  {
   "cell_type": "code",
   "execution_count": 1397,
   "id": "f83ea337-384e-4689-946b-a3817f755c72",
   "metadata": {},
   "outputs": [],
   "source": [
    "'''\n",
    "Функция для построения графиков динамики отслеживаемых метрик\n",
    "Принимает на вход датафрейм со значениями метрик по дням\n",
    "'''\n",
    "def plot_metrics_dynamic(control_df):\n",
    "    fig, axes = plt.subplots(3,1,figsize=(12,14))\n",
    "    sns.lineplot(data = control_df, x = 'date', y = 'cr_control', label = 'control', ax = axes[0])\n",
    "    sns.lineplot(data = control_df, x = 'date', y = 'cr_test', label = 'test', ax = axes[0])\n",
    "    axes[0].legend()\n",
    "    axes[0].set_ylabel('CR')\n",
    "    axes[0].set_xlabel('')\n",
    "    axes[0].set_title('Conversion Rate dynamic')\n",
    "    \n",
    "    sns.lineplot(data = control_df, x = 'date', y = 'arpu_control', label = 'control', ax = axes[1])\n",
    "    sns.lineplot(data = control_df, x = 'date', y = 'arpu_test', label = 'test', ax = axes[1])\n",
    "    axes[1].legend()\n",
    "    axes[1].set_ylabel('ARPU')\n",
    "    axes[1].set_xlabel('')\n",
    "    axes[1].set_title('ARPU dynamic')\n",
    "    \n",
    "    sns.lineplot(data = control_df, x = 'date', y = 'arppu_control', label = 'control', ax = axes[2])\n",
    "    sns.lineplot(data = control_df, x = 'date', y = 'arppu_test', label = 'test', ax = axes[2])\n",
    "    axes[2].legend()\n",
    "    axes[2].set_ylabel('ARPPU')\n",
    "    axes[2].set_xlabel('')\n",
    "    axes[2].set_title('ARPPU dynamic')\n",
    "    plt.xticks(rotation=45, fontsize = 8)"
   ]
  },
  {
   "cell_type": "code",
   "execution_count": 1399,
   "id": "ec8b1cb5-3202-4416-bfe6-cb00e0e79912",
   "metadata": {},
   "outputs": [
    {
     "data": {
      "image/png": "[encoded data removed]",
      "text/plain": [
       "<Figure size 1200x1400 with 3 Axes>"
      ]
     },
     "metadata": {},
     "output_type": "display_data"
    }
   ],
   "source": [
    "plot_metrics_dynamic(control_df)"
   ]
  }
 ],
 "metadata": {
  "kernelspec": {
   "display_name": "Python 3 (ipykernel)",
   "language": "python",
   "name": "python3"
  },
  "language_info": {
   "codemirror_mode": {
    "name": "ipython",
    "version": 3
   },
   "file_extension": ".py",
   "mimetype": "text/x-python",
   "name": "python",
   "nbconvert_exporter": "python",
   "pygments_lexer": "ipython3",
   "version": "3.11.7"
  }
 },
 "nbformat": 4,
 "nbformat_minor": 5
}
