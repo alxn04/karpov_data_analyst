{
 "cells": [
  {
   "cell_type": "code",
   "execution_count": 1,
   "id": "b0165445-22b6-44e8-ab93-e759c4fa685c",
   "metadata": {},
   "outputs": [],
   "source": [
    "import pandas as pd\n",
    "import numpy as np\n",
    "import matplotlib.pyplot as plt\n",
    "import seaborn as sns\n",
    "%matplotlib inline"
   ]
  },
  {
   "cell_type": "markdown",
   "id": "aa878131-97bf-457e-a8d8-5e8e514dfb18",
   "metadata": {},
   "source": [
    "# Задание"
   ]
  },
  {
   "cell_type": "markdown",
   "id": "c3c29079-ef63-407a-a19c-3d3896d58580",
   "metadata": {},
   "source": [
    "Вы работаете продуктовым аналитиком в компании по доставке продуктов на дом. Сервис доступен как в приложении на ios, так и на android. Вы настроили фронтовую аналитику в AppMetrica, и в конце квартала маркетинг-менеджер попросил вас проанализировать поведение пользователей, а также оценить эффективность каналов их привлечения. "
   ]
  },
  {
   "cell_type": "markdown",
   "id": "ff280f0f-e5a8-4c30-839d-e11f626b3045",
   "metadata": {},
   "source": [
    "# Описание данных"
   ]
  },
  {
   "cell_type": "markdown",
   "id": "48cecb8e-b1bf-42ac-a69e-d613c08c16fb",
   "metadata": {},
   "source": [
    "- `date` - дата совершения события\n",
    "- `event` - событие <br>\n",
    "    app_install – установка приложения<br>\n",
    "    app_start – открыть приложения<br>\n",
    "    registration – зарегистрироваться <br>\n",
    "    search – перейти на страницу поиска товаров (каталог)<br>\n",
    "    open_item – открыть товар<br>\n",
    "    choose_item – отправить товар в корзину<br>\n",
    "    tap_basket – перейти в корзину<br>\n",
    "    purchase – подтверждение покупки<br>\n",
    "- `gender` - пол пользователя\n",
    "- `os_name` - платформа пользователя\n",
    "- `city` - город пользователя\n",
    "- `device_id` - идентификатор устройства пользователя\n",
    "- `urm_source` - канал, с которого пришел пользователь <br>\n",
    "    yandex-direct – Яндекс директ<br>\n",
    "    google_ads – реклама в Google<br>\n",
    "    vk_ads – реклама в ВК<br>\n",
    "    instagram_ads – реклама в instagram<br>\n",
    "    facebook_ads – реклама в facebook<br>\n",
    "    referral – акция «приведи друга»<br>\n",
    "    Если стоит ‘-’, то канал не определен или это скачивание приложения напрямую или посещение не с рекламы<br>\n",
    "- `purchase_sum` - сумма покупки при совершении события purchase"
   ]
  },
  {
   "cell_type": "markdown",
   "id": "0cf9e467-be02-40a7-a0cd-62d1963c9600",
   "metadata": {},
   "source": [
    "# 1. Подготовка данных, EDA"
   ]
  },
  {
   "cell_type": "code",
   "execution_count": 516,
   "id": "409a7cde-5cd0-43e3-b051-1af953b455b8",
   "metadata": {},
   "outputs": [],
   "source": [
    "df = pd.read_csv('KC_case_data .csv', parse_dates = ['date'])"
   ]
  },
  {
   "cell_type": "code",
   "execution_count": 518,
   "id": "8adf0371-b6bc-4412-8437-b42556242728",
   "metadata": {},
   "outputs": [
    {
     "data": {
      "text/html": [
       "<div>\n",
       "<style scoped>\n",
       "    .dataframe tbody tr th:only-of-type {\n",
       "        vertical-align: middle;\n",
       "    }\n",
       "\n",
       "    .dataframe tbody tr th {\n",
       "        vertical-align: top;\n",
       "    }\n",
       "\n",
       "    .dataframe thead th {\n",
       "        text-align: right;\n",
       "    }\n",
       "</style>\n",
       "<table border=\"1\" class=\"dataframe\">\n",
       "  <thead>\n",
       "    <tr style=\"text-align: right;\">\n",
       "      <th></th>\n",
       "      <th>date</th>\n",
       "      <th>event</th>\n",
       "      <th>purchase_sum</th>\n",
       "      <th>os_name</th>\n",
       "      <th>device_id</th>\n",
       "      <th>gender</th>\n",
       "      <th>city</th>\n",
       "      <th>utm_source</th>\n",
       "    </tr>\n",
       "  </thead>\n",
       "  <tbody>\n",
       "    <tr>\n",
       "      <th>0</th>\n",
       "      <td>2020-01-01</td>\n",
       "      <td>app_start</td>\n",
       "      <td>NaN</td>\n",
       "      <td>android</td>\n",
       "      <td>669460</td>\n",
       "      <td>female</td>\n",
       "      <td>Moscow</td>\n",
       "      <td>-</td>\n",
       "    </tr>\n",
       "    <tr>\n",
       "      <th>1</th>\n",
       "      <td>2020-01-01</td>\n",
       "      <td>app_start</td>\n",
       "      <td>NaN</td>\n",
       "      <td>ios</td>\n",
       "      <td>833621</td>\n",
       "      <td>male</td>\n",
       "      <td>Moscow</td>\n",
       "      <td>vk_ads</td>\n",
       "    </tr>\n",
       "    <tr>\n",
       "      <th>2</th>\n",
       "      <td>2020-01-01</td>\n",
       "      <td>app_start</td>\n",
       "      <td>NaN</td>\n",
       "      <td>android</td>\n",
       "      <td>1579237</td>\n",
       "      <td>male</td>\n",
       "      <td>Saint-Petersburg</td>\n",
       "      <td>referal</td>\n",
       "    </tr>\n",
       "    <tr>\n",
       "      <th>3</th>\n",
       "      <td>2020-01-01</td>\n",
       "      <td>app_start</td>\n",
       "      <td>NaN</td>\n",
       "      <td>android</td>\n",
       "      <td>1737182</td>\n",
       "      <td>female</td>\n",
       "      <td>Moscow</td>\n",
       "      <td>facebook_ads</td>\n",
       "    </tr>\n",
       "    <tr>\n",
       "      <th>4</th>\n",
       "      <td>2020-01-01</td>\n",
       "      <td>app_start</td>\n",
       "      <td>NaN</td>\n",
       "      <td>ios</td>\n",
       "      <td>4029024</td>\n",
       "      <td>female</td>\n",
       "      <td>Moscow</td>\n",
       "      <td>facebook_ads</td>\n",
       "    </tr>\n",
       "  </tbody>\n",
       "</table>\n",
       "</div>"
      ],
      "text/plain": [
       "        date      event  purchase_sum  os_name  device_id  gender  \\\n",
       "0 2020-01-01  app_start           NaN  android     669460  female   \n",
       "1 2020-01-01  app_start           NaN      ios     833621    male   \n",
       "2 2020-01-01  app_start           NaN  android    1579237    male   \n",
       "3 2020-01-01  app_start           NaN  android    1737182  female   \n",
       "4 2020-01-01  app_start           NaN      ios    4029024  female   \n",
       "\n",
       "               city    utm_source  \n",
       "0            Moscow             -  \n",
       "1            Moscow        vk_ads  \n",
       "2  Saint-Petersburg       referal  \n",
       "3            Moscow  facebook_ads  \n",
       "4            Moscow  facebook_ads  "
      ]
     },
     "execution_count": 518,
     "metadata": {},
     "output_type": "execute_result"
    }
   ],
   "source": [
    "df.head()"
   ]
  },
  {
   "cell_type": "code",
   "execution_count": 520,
   "id": "e7b3b821-9a4a-4151-ae21-a7d7798b6222",
   "metadata": {},
   "outputs": [
    {
     "data": {
      "text/plain": [
       "(2747968, 8)"
      ]
     },
     "execution_count": 520,
     "metadata": {},
     "output_type": "execute_result"
    }
   ],
   "source": [
    "df.shape"
   ]
  },
  {
   "cell_type": "code",
   "execution_count": 522,
   "id": "cb9332fc-a9d5-4fcd-8173-911a4f4b060c",
   "metadata": {},
   "outputs": [
    {
     "data": {
      "text/plain": [
       "date                  0\n",
       "event                 0\n",
       "purchase_sum    2606585\n",
       "os_name               0\n",
       "device_id             0\n",
       "gender                0\n",
       "city                  0\n",
       "utm_source            0\n",
       "dtype: int64"
      ]
     },
     "execution_count": 522,
     "metadata": {},
     "output_type": "execute_result"
    }
   ],
   "source": [
    "df.isna().sum()"
   ]
  },
  {
   "cell_type": "code",
   "execution_count": 524,
   "id": "ed369dd5-4008-48c1-8c9f-d69ddc2103b9",
   "metadata": {},
   "outputs": [
    {
     "data": {
      "text/plain": [
       "count    141383.000000\n",
       "mean        709.116092\n",
       "std        1289.458186\n",
       "min          61.000000\n",
       "25%         226.500000\n",
       "50%         394.000000\n",
       "75%         560.500000\n",
       "max        7884.000000\n",
       "Name: purchase_sum, dtype: float64"
      ]
     },
     "execution_count": 524,
     "metadata": {},
     "output_type": "execute_result"
    }
   ],
   "source": [
    "df.purchase_sum.describe()"
   ]
  },
  {
   "cell_type": "markdown",
   "id": "403c4430-ad1b-4bc0-a3d0-7dade277d1a5",
   "metadata": {},
   "source": [
    "# 2. Анализ каналов привлечения"
   ]
  },
  {
   "cell_type": "markdown",
   "id": "a31d91eb-cad3-4be3-aa5e-8921410363dd",
   "metadata": {},
   "source": [
    "### Количество установок по каналам"
   ]
  },
  {
   "cell_type": "code",
   "execution_count": 526,
   "id": "27b16e20-c5fe-4e1d-99f0-fa82e4884550",
   "metadata": {},
   "outputs": [],
   "source": [
    "df_channels = df[df.utm_source != '-']"
   ]
  },
  {
   "cell_type": "code",
   "execution_count": 528,
   "id": "a93c7d0a-ca17-467b-a3a7-236ff0348a56",
   "metadata": {},
   "outputs": [
    {
     "data": {
      "text/plain": [
       "(2137510, 8)"
      ]
     },
     "execution_count": 528,
     "metadata": {},
     "output_type": "execute_result"
    }
   ],
   "source": [
    "df_channels.shape"
   ]
  },
  {
   "cell_type": "code",
   "execution_count": 583,
   "id": "06951928-7432-445f-852f-1bdad787cfd4",
   "metadata": {},
   "outputs": [
    {
     "data": {
      "text/html": [
       "<div>\n",
       "<style scoped>\n",
       "    .dataframe tbody tr th:only-of-type {\n",
       "        vertical-align: middle;\n",
       "    }\n",
       "\n",
       "    .dataframe tbody tr th {\n",
       "        vertical-align: top;\n",
       "    }\n",
       "\n",
       "    .dataframe thead th {\n",
       "        text-align: right;\n",
       "    }\n",
       "</style>\n",
       "<table border=\"1\" class=\"dataframe\">\n",
       "  <thead>\n",
       "    <tr style=\"text-align: right;\">\n",
       "      <th></th>\n",
       "      <th>date</th>\n",
       "      <th>event</th>\n",
       "      <th>purchase_sum</th>\n",
       "      <th>os_name</th>\n",
       "      <th>device_id</th>\n",
       "      <th>gender</th>\n",
       "      <th>city</th>\n",
       "      <th>utm_source</th>\n",
       "    </tr>\n",
       "  </thead>\n",
       "  <tbody>\n",
       "    <tr>\n",
       "      <th>2515061</th>\n",
       "      <td>2020-01-01</td>\n",
       "      <td>app_install</td>\n",
       "      <td>NaN</td>\n",
       "      <td>ios</td>\n",
       "      <td>4921563</td>\n",
       "      <td>male</td>\n",
       "      <td>Moscow</td>\n",
       "      <td>vk_ads</td>\n",
       "    </tr>\n",
       "    <tr>\n",
       "      <th>2515065</th>\n",
       "      <td>2020-01-01</td>\n",
       "      <td>app_install</td>\n",
       "      <td>NaN</td>\n",
       "      <td>ios</td>\n",
       "      <td>8798567</td>\n",
       "      <td>male</td>\n",
       "      <td>Saint-Petersburg</td>\n",
       "      <td>referal</td>\n",
       "    </tr>\n",
       "    <tr>\n",
       "      <th>2515066</th>\n",
       "      <td>2020-01-01</td>\n",
       "      <td>app_install</td>\n",
       "      <td>NaN</td>\n",
       "      <td>android</td>\n",
       "      <td>8423608</td>\n",
       "      <td>female</td>\n",
       "      <td>Saint-Petersburg</td>\n",
       "      <td>referal</td>\n",
       "    </tr>\n",
       "    <tr>\n",
       "      <th>2515067</th>\n",
       "      <td>2020-01-01</td>\n",
       "      <td>app_install</td>\n",
       "      <td>NaN</td>\n",
       "      <td>android</td>\n",
       "      <td>532710</td>\n",
       "      <td>male</td>\n",
       "      <td>Moscow</td>\n",
       "      <td>yandex-direct</td>\n",
       "    </tr>\n",
       "    <tr>\n",
       "      <th>2515068</th>\n",
       "      <td>2020-01-01</td>\n",
       "      <td>app_install</td>\n",
       "      <td>NaN</td>\n",
       "      <td>ios</td>\n",
       "      <td>16060092</td>\n",
       "      <td>female</td>\n",
       "      <td>Moscow</td>\n",
       "      <td>vk_ads</td>\n",
       "    </tr>\n",
       "  </tbody>\n",
       "</table>\n",
       "</div>"
      ],
      "text/plain": [
       "              date        event  purchase_sum  os_name  device_id  gender  \\\n",
       "2515061 2020-01-01  app_install           NaN      ios    4921563    male   \n",
       "2515065 2020-01-01  app_install           NaN      ios    8798567    male   \n",
       "2515066 2020-01-01  app_install           NaN  android    8423608  female   \n",
       "2515067 2020-01-01  app_install           NaN  android     532710    male   \n",
       "2515068 2020-01-01  app_install           NaN      ios   16060092  female   \n",
       "\n",
       "                     city     utm_source  \n",
       "2515061            Moscow         vk_ads  \n",
       "2515065  Saint-Petersburg        referal  \n",
       "2515066  Saint-Petersburg        referal  \n",
       "2515067            Moscow  yandex-direct  \n",
       "2515068            Moscow         vk_ads  "
      ]
     },
     "execution_count": 583,
     "metadata": {},
     "output_type": "execute_result"
    }
   ],
   "source": [
    "installs = df_channels.query('event == \"app_install\"').drop_duplicates(subset='device_id')\n",
    "installs.head()"
   ]
  },
  {
   "cell_type": "code",
   "execution_count": 532,
   "id": "a422a8af-a090-42dc-b768-47edb855edef",
   "metadata": {},
   "outputs": [
    {
     "name": "stderr",
     "output_type": "stream",
     "text": [
      "C:\\Users\\фвьшт\\AppData\\Local\\Temp\\ipykernel_15784\\4244859674.py:1: SettingWithCopyWarning: \n",
      "A value is trying to be set on a copy of a slice from a DataFrame.\n",
      "Try using .loc[row_indexer,col_indexer] = value instead\n",
      "\n",
      "See the caveats in the documentation: https://pandas.pydata.org/pandas-docs/stable/user_guide/indexing.html#returning-a-view-versus-a-copy\n",
      "  installs['month'] = installs.date.dt.month\n"
     ]
    }
   ],
   "source": [
    "installs['month'] = installs.date.dt.month"
   ]
  },
  {
   "cell_type": "code",
   "execution_count": 534,
   "id": "1d550916-3ba6-4b66-b2de-dc9f1b354e5a",
   "metadata": {},
   "outputs": [
    {
     "data": {
      "text/html": [
       "<div>\n",
       "<style scoped>\n",
       "    .dataframe tbody tr th:only-of-type {\n",
       "        vertical-align: middle;\n",
       "    }\n",
       "\n",
       "    .dataframe tbody tr th {\n",
       "        vertical-align: top;\n",
       "    }\n",
       "\n",
       "    .dataframe thead th {\n",
       "        text-align: right;\n",
       "    }\n",
       "</style>\n",
       "<table border=\"1\" class=\"dataframe\">\n",
       "  <thead>\n",
       "    <tr style=\"text-align: right;\">\n",
       "      <th></th>\n",
       "      <th>month</th>\n",
       "      <th>utm_source</th>\n",
       "      <th>device_id</th>\n",
       "    </tr>\n",
       "  </thead>\n",
       "  <tbody>\n",
       "    <tr>\n",
       "      <th>0</th>\n",
       "      <td>1</td>\n",
       "      <td>facebook_ads</td>\n",
       "      <td>7264</td>\n",
       "    </tr>\n",
       "    <tr>\n",
       "      <th>1</th>\n",
       "      <td>1</td>\n",
       "      <td>google_ads</td>\n",
       "      <td>13710</td>\n",
       "    </tr>\n",
       "    <tr>\n",
       "      <th>2</th>\n",
       "      <td>1</td>\n",
       "      <td>instagram_ads</td>\n",
       "      <td>10409</td>\n",
       "    </tr>\n",
       "    <tr>\n",
       "      <th>3</th>\n",
       "      <td>1</td>\n",
       "      <td>referal</td>\n",
       "      <td>4817</td>\n",
       "    </tr>\n",
       "    <tr>\n",
       "      <th>4</th>\n",
       "      <td>1</td>\n",
       "      <td>vk_ads</td>\n",
       "      <td>12175</td>\n",
       "    </tr>\n",
       "  </tbody>\n",
       "</table>\n",
       "</div>"
      ],
      "text/plain": [
       "   month     utm_source  device_id\n",
       "0      1   facebook_ads       7264\n",
       "1      1     google_ads      13710\n",
       "2      1  instagram_ads      10409\n",
       "3      1        referal       4817\n",
       "4      1         vk_ads      12175"
      ]
     },
     "execution_count": 534,
     "metadata": {},
     "output_type": "execute_result"
    }
   ],
   "source": [
    "dynamic_installs = installs.groupby(['month','utm_source'], as_index = False).device_id.count()\n",
    "dynamic_installs.head()"
   ]
  },
  {
   "cell_type": "markdown",
   "id": "b806ee11-e28d-46c6-a703-7e786547e42c",
   "metadata": {},
   "source": [
    "* С какого канала пришло больше всего пользователей?"
   ]
  },
  {
   "cell_type": "code",
   "execution_count": 536,
   "id": "188583cf-8ae9-4774-855f-e38010f6e1da",
   "metadata": {},
   "outputs": [
    {
     "data": {
      "text/plain": [
       "utm_source\n",
       "yandex-direct    29368\n",
       "google_ads       26286\n",
       "vk_ads           23189\n",
       "instagram_ads    20096\n",
       "facebook_ads     13916\n",
       "referal           9282\n",
       "Name: device_id, dtype: int64"
      ]
     },
     "execution_count": 536,
     "metadata": {},
     "output_type": "execute_result"
    }
   ],
   "source": [
    "dynamic_installs.groupby('utm_source').device_id.sum().sort_values(ascending = False)"
   ]
  },
  {
   "cell_type": "markdown",
   "id": "36f365ce-4e2d-4bbc-82cf-88ba9bf1c2b9",
   "metadata": {},
   "source": [
    "* В каком месяце больше всего установок?"
   ]
  },
  {
   "cell_type": "code",
   "execution_count": 538,
   "id": "563fecec-afa2-4f17-8a71-3261b23ed4fb",
   "metadata": {},
   "outputs": [
    {
     "data": {
      "text/plain": [
       "month\n",
       "1    63430\n",
       "2    30153\n",
       "3    28554\n",
       "Name: device_id, dtype: int64"
      ]
     },
     "execution_count": 538,
     "metadata": {},
     "output_type": "execute_result"
    }
   ],
   "source": [
    "dynamic_installs.groupby('month').device_id.sum()"
   ]
  },
  {
   "cell_type": "code",
   "execution_count": 540,
   "id": "ea76ad3a-8694-4e04-a117-bbf87803f465",
   "metadata": {},
   "outputs": [
    {
     "name": "stderr",
     "output_type": "stream",
     "text": [
      "D:\\Anaconda\\Lib\\site-packages\\seaborn\\_oldcore.py:1119: FutureWarning: use_inf_as_na option is deprecated and will be removed in a future version. Convert inf values to NaN before operating instead.\n",
      "  with pd.option_context('mode.use_inf_as_na', True):\n",
      "D:\\Anaconda\\Lib\\site-packages\\seaborn\\_oldcore.py:1119: FutureWarning: use_inf_as_na option is deprecated and will be removed in a future version. Convert inf values to NaN before operating instead.\n",
      "  with pd.option_context('mode.use_inf_as_na', True):\n"
     ]
    },
    {
     "data": {
      "text/plain": [
       "<Axes: title={'center': 'installs'}, xlabel='month', ylabel='device_id'>"
      ]
     },
     "execution_count": 540,
     "metadata": {},
     "output_type": "execute_result"
    },
    {
     "data": {
      "image/png": "[encoded data removed]",
      "text/plain": [
       "<Figure size 1500x800 with 1 Axes>"
      ]
     },
     "metadata": {},
     "output_type": "display_data"
    }
   ],
   "source": [
    "ax, fig = plt.subplots(figsize=(15,8))\n",
    "fig.set_title('installs')\n",
    "sns.lineplot(dynamic_installs, x = 'month', y = 'device_id', hue = 'utm_source')"
   ]
  },
  {
   "cell_type": "markdown",
   "id": "6d6c3c5f-c8f6-4bd0-9e84-e508996c8eac",
   "metadata": {},
   "source": [
    "### Конверсия в первую покупку по каналам"
   ]
  },
  {
   "cell_type": "markdown",
   "id": "e331597b-3759-4183-8965-85190c17ea33",
   "metadata": {},
   "source": [
    "CR = кол-во юзеров, впервые совершивших покупку / кол-во юзеров впервые открывших приложение"
   ]
  },
  {
   "cell_type": "code",
   "execution_count": 780,
   "id": "4b757f02-28d4-40fc-ae35-2b3a3af589fa",
   "metadata": {},
   "outputs": [
    {
     "data": {
      "text/html": [
       "<div>\n",
       "<style scoped>\n",
       "    .dataframe tbody tr th:only-of-type {\n",
       "        vertical-align: middle;\n",
       "    }\n",
       "\n",
       "    .dataframe tbody tr th {\n",
       "        vertical-align: top;\n",
       "    }\n",
       "\n",
       "    .dataframe thead th {\n",
       "        text-align: right;\n",
       "    }\n",
       "</style>\n",
       "<table border=\"1\" class=\"dataframe\">\n",
       "  <thead>\n",
       "    <tr style=\"text-align: right;\">\n",
       "      <th></th>\n",
       "      <th>purchase_date</th>\n",
       "      <th>device_id</th>\n",
       "      <th>utm_source</th>\n",
       "      <th>purchase_sum</th>\n",
       "    </tr>\n",
       "  </thead>\n",
       "  <tbody>\n",
       "    <tr>\n",
       "      <th>7692</th>\n",
       "      <td>2020-01-01</td>\n",
       "      <td>77448</td>\n",
       "      <td>yandex-direct</td>\n",
       "      <td>374.0</td>\n",
       "    </tr>\n",
       "    <tr>\n",
       "      <th>7693</th>\n",
       "      <td>2020-01-01</td>\n",
       "      <td>7458607</td>\n",
       "      <td>instagram_ads</td>\n",
       "      <td>98.5</td>\n",
       "    </tr>\n",
       "    <tr>\n",
       "      <th>7694</th>\n",
       "      <td>2020-01-01</td>\n",
       "      <td>3520947</td>\n",
       "      <td>instagram_ads</td>\n",
       "      <td>304.5</td>\n",
       "    </tr>\n",
       "    <tr>\n",
       "      <th>7695</th>\n",
       "      <td>2020-01-01</td>\n",
       "      <td>1170605</td>\n",
       "      <td>google_ads</td>\n",
       "      <td>153.5</td>\n",
       "    </tr>\n",
       "    <tr>\n",
       "      <th>7697</th>\n",
       "      <td>2020-01-01</td>\n",
       "      <td>27612889</td>\n",
       "      <td>google_ads</td>\n",
       "      <td>580.5</td>\n",
       "    </tr>\n",
       "    <tr>\n",
       "      <th>...</th>\n",
       "      <td>...</td>\n",
       "      <td>...</td>\n",
       "      <td>...</td>\n",
       "      <td>...</td>\n",
       "    </tr>\n",
       "    <tr>\n",
       "      <th>2507462</th>\n",
       "      <td>2020-03-31</td>\n",
       "      <td>17964402</td>\n",
       "      <td>instagram_ads</td>\n",
       "      <td>3595.0</td>\n",
       "    </tr>\n",
       "    <tr>\n",
       "      <th>2507463</th>\n",
       "      <td>2020-03-31</td>\n",
       "      <td>8700073</td>\n",
       "      <td>vk_ads</td>\n",
       "      <td>2861.0</td>\n",
       "    </tr>\n",
       "    <tr>\n",
       "      <th>2507467</th>\n",
       "      <td>2020-03-31</td>\n",
       "      <td>13278240</td>\n",
       "      <td>instagram_ads</td>\n",
       "      <td>6948.0</td>\n",
       "    </tr>\n",
       "    <tr>\n",
       "      <th>2507469</th>\n",
       "      <td>2020-03-31</td>\n",
       "      <td>11864116</td>\n",
       "      <td>google_ads</td>\n",
       "      <td>6546.5</td>\n",
       "    </tr>\n",
       "    <tr>\n",
       "      <th>2507471</th>\n",
       "      <td>2020-03-31</td>\n",
       "      <td>26120362</td>\n",
       "      <td>google_ads</td>\n",
       "      <td>2857.5</td>\n",
       "    </tr>\n",
       "  </tbody>\n",
       "</table>\n",
       "<p>57503 rows × 4 columns</p>\n",
       "</div>"
      ],
      "text/plain": [
       "        purchase_date  device_id     utm_source  purchase_sum\n",
       "7692       2020-01-01      77448  yandex-direct         374.0\n",
       "7693       2020-01-01    7458607  instagram_ads          98.5\n",
       "7694       2020-01-01    3520947  instagram_ads         304.5\n",
       "7695       2020-01-01    1170605     google_ads         153.5\n",
       "7697       2020-01-01   27612889     google_ads         580.5\n",
       "...               ...        ...            ...           ...\n",
       "2507462    2020-03-31   17964402  instagram_ads        3595.0\n",
       "2507463    2020-03-31    8700073         vk_ads        2861.0\n",
       "2507467    2020-03-31   13278240  instagram_ads        6948.0\n",
       "2507469    2020-03-31   11864116     google_ads        6546.5\n",
       "2507471    2020-03-31   26120362     google_ads        2857.5\n",
       "\n",
       "[57503 rows x 4 columns]"
      ]
     },
     "execution_count": 780,
     "metadata": {},
     "output_type": "execute_result"
    }
   ],
   "source": [
    "first_purchases = df_channels.query('event == \"purchase\"').drop_duplicates(subset = 'device_id')\n",
    "first_purchases = first_purchases[['date','device_id','utm_source', 'purchase_sum']].rename(columns = {'date' : 'purchase_date'})\n",
    "first_purchases"
   ]
  },
  {
   "cell_type": "code",
   "execution_count": 751,
   "id": "c707b745-9ce6-4eb6-aaff-2e98c0e5ee4c",
   "metadata": {},
   "outputs": [
    {
     "data": {
      "text/html": [
       "<div>\n",
       "<style scoped>\n",
       "    .dataframe tbody tr th:only-of-type {\n",
       "        vertical-align: middle;\n",
       "    }\n",
       "\n",
       "    .dataframe tbody tr th {\n",
       "        vertical-align: top;\n",
       "    }\n",
       "\n",
       "    .dataframe thead th {\n",
       "        text-align: right;\n",
       "    }\n",
       "</style>\n",
       "<table border=\"1\" class=\"dataframe\">\n",
       "  <thead>\n",
       "    <tr style=\"text-align: right;\">\n",
       "      <th></th>\n",
       "      <th>utm_source</th>\n",
       "      <th>device_id</th>\n",
       "    </tr>\n",
       "  </thead>\n",
       "  <tbody>\n",
       "    <tr>\n",
       "      <th>1</th>\n",
       "      <td>vk_ads</td>\n",
       "      <td>833621</td>\n",
       "    </tr>\n",
       "    <tr>\n",
       "      <th>2</th>\n",
       "      <td>referal</td>\n",
       "      <td>1579237</td>\n",
       "    </tr>\n",
       "    <tr>\n",
       "      <th>3</th>\n",
       "      <td>facebook_ads</td>\n",
       "      <td>1737182</td>\n",
       "    </tr>\n",
       "    <tr>\n",
       "      <th>4</th>\n",
       "      <td>facebook_ads</td>\n",
       "      <td>4029024</td>\n",
       "    </tr>\n",
       "    <tr>\n",
       "      <th>6</th>\n",
       "      <td>vk_ads</td>\n",
       "      <td>8383386</td>\n",
       "    </tr>\n",
       "    <tr>\n",
       "      <th>...</th>\n",
       "      <td>...</td>\n",
       "      <td>...</td>\n",
       "    </tr>\n",
       "    <tr>\n",
       "      <th>2502760</th>\n",
       "      <td>instagram_ads</td>\n",
       "      <td>3925522</td>\n",
       "    </tr>\n",
       "    <tr>\n",
       "      <th>2502764</th>\n",
       "      <td>google_ads</td>\n",
       "      <td>6369878</td>\n",
       "    </tr>\n",
       "    <tr>\n",
       "      <th>2502766</th>\n",
       "      <td>referal</td>\n",
       "      <td>9883386</td>\n",
       "    </tr>\n",
       "    <tr>\n",
       "      <th>2502771</th>\n",
       "      <td>instagram_ads</td>\n",
       "      <td>18983670</td>\n",
       "    </tr>\n",
       "    <tr>\n",
       "      <th>2502777</th>\n",
       "      <td>yandex-direct</td>\n",
       "      <td>29262521</td>\n",
       "    </tr>\n",
       "  </tbody>\n",
       "</table>\n",
       "<p>158283 rows × 2 columns</p>\n",
       "</div>"
      ],
      "text/plain": [
       "            utm_source  device_id\n",
       "1               vk_ads     833621\n",
       "2              referal    1579237\n",
       "3         facebook_ads    1737182\n",
       "4         facebook_ads    4029024\n",
       "6               vk_ads    8383386\n",
       "...                ...        ...\n",
       "2502760  instagram_ads    3925522\n",
       "2502764     google_ads    6369878\n",
       "2502766        referal    9883386\n",
       "2502771  instagram_ads   18983670\n",
       "2502777  yandex-direct   29262521\n",
       "\n",
       "[158283 rows x 2 columns]"
      ]
     },
     "execution_count": 751,
     "metadata": {},
     "output_type": "execute_result"
    }
   ],
   "source": [
    "first_start = df_channels.query('event == \"app_start\"').drop_duplicates(subset = 'device_id')\n",
    "first_start = first_start[['utm_source','device_id']]\n",
    "first_start"
   ]
  },
  {
   "cell_type": "code",
   "execution_count": 765,
   "id": "5a172cd7-1947-470c-b48d-23402cc65f14",
   "metadata": {},
   "outputs": [
    {
     "data": {
      "text/html": [
       "<div>\n",
       "<style scoped>\n",
       "    .dataframe tbody tr th:only-of-type {\n",
       "        vertical-align: middle;\n",
       "    }\n",
       "\n",
       "    .dataframe tbody tr th {\n",
       "        vertical-align: top;\n",
       "    }\n",
       "\n",
       "    .dataframe thead th {\n",
       "        text-align: right;\n",
       "    }\n",
       "</style>\n",
       "<table border=\"1\" class=\"dataframe\">\n",
       "  <thead>\n",
       "    <tr style=\"text-align: right;\">\n",
       "      <th></th>\n",
       "      <th>utm_source</th>\n",
       "      <th>count_purchases</th>\n",
       "    </tr>\n",
       "  </thead>\n",
       "  <tbody>\n",
       "    <tr>\n",
       "      <th>0</th>\n",
       "      <td>facebook_ads</td>\n",
       "      <td>8140</td>\n",
       "    </tr>\n",
       "    <tr>\n",
       "      <th>1</th>\n",
       "      <td>google_ads</td>\n",
       "      <td>10483</td>\n",
       "    </tr>\n",
       "    <tr>\n",
       "      <th>2</th>\n",
       "      <td>instagram_ads</td>\n",
       "      <td>10036</td>\n",
       "    </tr>\n",
       "    <tr>\n",
       "      <th>3</th>\n",
       "      <td>referal</td>\n",
       "      <td>5937</td>\n",
       "    </tr>\n",
       "    <tr>\n",
       "      <th>4</th>\n",
       "      <td>vk_ads</td>\n",
       "      <td>11682</td>\n",
       "    </tr>\n",
       "    <tr>\n",
       "      <th>5</th>\n",
       "      <td>yandex-direct</td>\n",
       "      <td>11225</td>\n",
       "    </tr>\n",
       "  </tbody>\n",
       "</table>\n",
       "</div>"
      ],
      "text/plain": [
       "      utm_source  count_purchases\n",
       "0   facebook_ads             8140\n",
       "1     google_ads            10483\n",
       "2  instagram_ads            10036\n",
       "3        referal             5937\n",
       "4         vk_ads            11682\n",
       "5  yandex-direct            11225"
      ]
     },
     "execution_count": 765,
     "metadata": {},
     "output_type": "execute_result"
    }
   ],
   "source": [
    "channels_purchases = first_purchases.groupby(['utm_source'], as_index = False).device_id.count().rename(columns = {'device_id' : 'count_purchases'})\n",
    "channels_purchases"
   ]
  },
  {
   "cell_type": "code",
   "execution_count": 767,
   "id": "1eea8fda-1544-48f9-bcc0-ac7b538b64f2",
   "metadata": {},
   "outputs": [
    {
     "data": {
      "text/html": [
       "<div>\n",
       "<style scoped>\n",
       "    .dataframe tbody tr th:only-of-type {\n",
       "        vertical-align: middle;\n",
       "    }\n",
       "\n",
       "    .dataframe tbody tr th {\n",
       "        vertical-align: top;\n",
       "    }\n",
       "\n",
       "    .dataframe thead th {\n",
       "        text-align: right;\n",
       "    }\n",
       "</style>\n",
       "<table border=\"1\" class=\"dataframe\">\n",
       "  <thead>\n",
       "    <tr style=\"text-align: right;\">\n",
       "      <th></th>\n",
       "      <th>utm_source</th>\n",
       "      <th>count_starts</th>\n",
       "    </tr>\n",
       "  </thead>\n",
       "  <tbody>\n",
       "    <tr>\n",
       "      <th>0</th>\n",
       "      <td>facebook_ads</td>\n",
       "      <td>20429</td>\n",
       "    </tr>\n",
       "    <tr>\n",
       "      <th>1</th>\n",
       "      <td>google_ads</td>\n",
       "      <td>33110</td>\n",
       "    </tr>\n",
       "    <tr>\n",
       "      <th>2</th>\n",
       "      <td>instagram_ads</td>\n",
       "      <td>26370</td>\n",
       "    </tr>\n",
       "    <tr>\n",
       "      <th>3</th>\n",
       "      <td>referal</td>\n",
       "      <td>12908</td>\n",
       "    </tr>\n",
       "    <tr>\n",
       "      <th>4</th>\n",
       "      <td>vk_ads</td>\n",
       "      <td>29378</td>\n",
       "    </tr>\n",
       "    <tr>\n",
       "      <th>5</th>\n",
       "      <td>yandex-direct</td>\n",
       "      <td>36088</td>\n",
       "    </tr>\n",
       "  </tbody>\n",
       "</table>\n",
       "</div>"
      ],
      "text/plain": [
       "      utm_source  count_starts\n",
       "0   facebook_ads         20429\n",
       "1     google_ads         33110\n",
       "2  instagram_ads         26370\n",
       "3        referal         12908\n",
       "4         vk_ads         29378\n",
       "5  yandex-direct         36088"
      ]
     },
     "execution_count": 767,
     "metadata": {},
     "output_type": "execute_result"
    }
   ],
   "source": [
    "channels_starts = first_start.groupby(['utm_source'], as_index = False).device_id.count().rename(columns = {'device_id' : 'count_starts'})\n",
    "channels_starts"
   ]
  },
  {
   "cell_type": "markdown",
   "id": "1dcbe1ed-5a66-43e6-a944-a740d1e26d8f",
   "metadata": {},
   "source": [
    "Самая низкая конверсия в покупку у канала **yandex-direct**"
   ]
  },
  {
   "cell_type": "code",
   "execution_count": 775,
   "id": "1cf6badb-c06d-4634-b79e-04efc8becfcd",
   "metadata": {},
   "outputs": [
    {
     "data": {
      "text/html": [
       "<div>\n",
       "<style scoped>\n",
       "    .dataframe tbody tr th:only-of-type {\n",
       "        vertical-align: middle;\n",
       "    }\n",
       "\n",
       "    .dataframe tbody tr th {\n",
       "        vertical-align: top;\n",
       "    }\n",
       "\n",
       "    .dataframe thead th {\n",
       "        text-align: right;\n",
       "    }\n",
       "</style>\n",
       "<table border=\"1\" class=\"dataframe\">\n",
       "  <thead>\n",
       "    <tr style=\"text-align: right;\">\n",
       "      <th></th>\n",
       "      <th>utm_source</th>\n",
       "      <th>count_starts</th>\n",
       "      <th>count_purchases</th>\n",
       "      <th>cr_purchase</th>\n",
       "    </tr>\n",
       "  </thead>\n",
       "  <tbody>\n",
       "    <tr>\n",
       "      <th>3</th>\n",
       "      <td>referal</td>\n",
       "      <td>12908</td>\n",
       "      <td>5937</td>\n",
       "      <td>0.459947</td>\n",
       "    </tr>\n",
       "    <tr>\n",
       "      <th>0</th>\n",
       "      <td>facebook_ads</td>\n",
       "      <td>20429</td>\n",
       "      <td>8140</td>\n",
       "      <td>0.398453</td>\n",
       "    </tr>\n",
       "    <tr>\n",
       "      <th>4</th>\n",
       "      <td>vk_ads</td>\n",
       "      <td>29378</td>\n",
       "      <td>11682</td>\n",
       "      <td>0.397644</td>\n",
       "    </tr>\n",
       "    <tr>\n",
       "      <th>2</th>\n",
       "      <td>instagram_ads</td>\n",
       "      <td>26370</td>\n",
       "      <td>10036</td>\n",
       "      <td>0.380584</td>\n",
       "    </tr>\n",
       "    <tr>\n",
       "      <th>1</th>\n",
       "      <td>google_ads</td>\n",
       "      <td>33110</td>\n",
       "      <td>10483</td>\n",
       "      <td>0.316611</td>\n",
       "    </tr>\n",
       "    <tr>\n",
       "      <th>5</th>\n",
       "      <td>yandex-direct</td>\n",
       "      <td>36088</td>\n",
       "      <td>11225</td>\n",
       "      <td>0.311045</td>\n",
       "    </tr>\n",
       "  </tbody>\n",
       "</table>\n",
       "</div>"
      ],
      "text/plain": [
       "      utm_source  count_starts  count_purchases  cr_purchase\n",
       "3        referal         12908             5937     0.459947\n",
       "0   facebook_ads         20429             8140     0.398453\n",
       "4         vk_ads         29378            11682     0.397644\n",
       "2  instagram_ads         26370            10036     0.380584\n",
       "1     google_ads         33110            10483     0.316611\n",
       "5  yandex-direct         36088            11225     0.311045"
      ]
     },
     "execution_count": 775,
     "metadata": {},
     "output_type": "execute_result"
    }
   ],
   "source": [
    "channels_cr = pd.merge(channels_starts, channels_purchases, on = 'utm_source')\n",
    "channels_cr['cr_purchase'] = channels_cr.count_purchases / channels_cr.count_starts\n",
    "channels_cr = channels_cr.sort_values('cr_purchase', ascending = False)\n",
    "channels_cr"
   ]
  },
  {
   "cell_type": "markdown",
   "id": "2c2fb984-5e4d-4c32-9570-457a7e380f76",
   "metadata": {},
   "source": [
    "### Медианный первый чек по каналам"
   ]
  },
  {
   "cell_type": "code",
   "execution_count": 786,
   "id": "5f266dc6-ab78-4938-8b8d-6e50e68e0b70",
   "metadata": {},
   "outputs": [
    {
     "data": {
      "text/plain": [
       "utm_source\n",
       "referal          395.50\n",
       "instagram_ads    393.50\n",
       "yandex-direct    393.00\n",
       "vk_ads           392.50\n",
       "google_ads       389.50\n",
       "facebook_ads     389.25\n",
       "Name: purchase_sum, dtype: float64"
      ]
     },
     "execution_count": 786,
     "metadata": {},
     "output_type": "execute_result"
    }
   ],
   "source": [
    "first_purchases.groupby('utm_source').purchase_sum.median().sort_values(ascending = False)"
   ]
  },
  {
   "cell_type": "markdown",
   "id": "45d63830-a516-4e81-9ef7-c0a66f38b00c",
   "metadata": {},
   "source": [
    "### ROMI по каналам"
   ]
  },
  {
   "cell_type": "markdown",
   "id": "e851023b-c973-4880-9653-51021b53206b",
   "metadata": {},
   "source": [
    "`ROMI (return on marketing investments)` - отдача на маркетинговые инвестиции"
   ]
  },
  {
   "cell_type": "markdown",
   "id": "aff3a666-28fe-42b2-8b84-29dc316c2289",
   "metadata": {},
   "source": [
    "**Маркетинговые расходы по каналам**\n",
    "\n",
    "Yandex = 10 491 707 руб. <br>\n",
    "Google = 10 534 878 руб. <br>\n",
    "Facebook = 8 590 498 руб. <br>\n",
    "Instagramm = 8 561 626 руб. <br>\n",
    "VK = 9 553 531 руб. <br>"
   ]
  },
  {
   "cell_type": "code",
   "execution_count": 796,
   "id": "7ff70b5f-fb4b-48a2-8725-3cbebefc8b77",
   "metadata": {},
   "outputs": [],
   "source": [
    "yandex_cost = 10_491_707\n",
    "google_cost = 10_534_878\n",
    "facebook_cost = 8_590_498\n",
    "insta_cost = 8_561_626\n",
    "vk_cost = 9_553_531"
   ]
  },
  {
   "cell_type": "code",
   "execution_count": 802,
   "id": "e9568211-fadd-45a8-bb2d-944914c6a176",
   "metadata": {},
   "outputs": [
    {
     "data": {
      "text/plain": [
       "utm_source\n",
       "-                21449749.5\n",
       "facebook_ads     12249901.0\n",
       "google_ads       12868276.0\n",
       "instagram_ads    14546969.0\n",
       "referal           8837044.5\n",
       "vk_ads           16389652.5\n",
       "yandex-direct    13915368.0\n",
       "Name: purchase_sum, dtype: float64"
      ]
     },
     "execution_count": 802,
     "metadata": {},
     "output_type": "execute_result"
    }
   ],
   "source": [
    "channels_revenue = df.groupby('utm_source').purchase_sum.sum()\n",
    "channels_revenue"
   ]
  },
  {
   "cell_type": "code",
   "execution_count": 810,
   "id": "46ffbc6b-6580-4c09-bfb6-be309146710f",
   "metadata": {},
   "outputs": [
    {
     "name": "stdout",
     "output_type": "stream",
     "text": [
      "Yandex ROMI = 32.63%\n",
      "Google ROMI = 22.15%\n",
      "Facebook ROMI = 42.6%\n",
      "Instagram ROMI = 69.91%\n",
      "VK ROMI = 71.56%\n"
     ]
    }
   ],
   "source": [
    "print(f\"Yandex ROMI = {round((channels_revenue['yandex-direct'] - yandex_cost)/ yandex_cost * 100, 2)}%\")\n",
    "print(f\"Google ROMI = {round((channels_revenue['google_ads'] - google_cost)/ google_cost * 100, 2)}%\")\n",
    "print(f\"Facebook ROMI = {round((channels_revenue['facebook_ads'] - facebook_cost)/ facebook_cost * 100, 2)}%\")\n",
    "print(f\"Instagram ROMI = {round((channels_revenue['instagram_ads'] - insta_cost)/ insta_cost * 100, 2)}%\")\n",
    "print(f\"VK ROMI = {round((channels_revenue['vk_ads'] - vk_cost)/ vk_cost * 100, 2)}%\")"
   ]
  },
  {
   "cell_type": "code",
   "execution_count": 792,
   "id": "f5d87292-61e1-48ed-a550-7c2529d588c2",
   "metadata": {},
   "outputs": [
    {
     "data": {
      "text/plain": [
       "utm_source\n",
       "facebook_ads     5626536.5\n",
       "google_ads       7360449.5\n",
       "instagram_ads    7176913.5\n",
       "referal          4144941.0\n",
       "vk_ads           8370120.5\n",
       "yandex-direct    8148486.5\n",
       "Name: purchase_sum, dtype: float64"
      ]
     },
     "execution_count": 792,
     "metadata": {},
     "output_type": "execute_result"
    }
   ],
   "source": [
    "first_purchases.groupby('utm_source').purchase_sum.sum()"
   ]
  },
  {
   "cell_type": "markdown",
   "id": "5b903564-9ade-4602-89b0-31ccb185f356",
   "metadata": {},
   "source": [
    "# 3. Анализ поведения пользователей"
   ]
  },
  {
   "cell_type": "markdown",
   "id": "b3377450-04cb-44d7-ad62-d22ddbae3665",
   "metadata": {},
   "source": [
    "### Динамика посещений"
   ]
  },
  {
   "cell_type": "code",
   "execution_count": 542,
   "id": "5c25b8ac-20f9-41d1-88f7-8db440c764f9",
   "metadata": {},
   "outputs": [
    {
     "data": {
      "text/html": [
       "<div>\n",
       "<style scoped>\n",
       "    .dataframe tbody tr th:only-of-type {\n",
       "        vertical-align: middle;\n",
       "    }\n",
       "\n",
       "    .dataframe tbody tr th {\n",
       "        vertical-align: top;\n",
       "    }\n",
       "\n",
       "    .dataframe thead th {\n",
       "        text-align: right;\n",
       "    }\n",
       "</style>\n",
       "<table border=\"1\" class=\"dataframe\">\n",
       "  <thead>\n",
       "    <tr style=\"text-align: right;\">\n",
       "      <th></th>\n",
       "      <th>date</th>\n",
       "      <th>event</th>\n",
       "      <th>purchase_sum</th>\n",
       "      <th>os_name</th>\n",
       "      <th>device_id</th>\n",
       "      <th>gender</th>\n",
       "      <th>city</th>\n",
       "      <th>utm_source</th>\n",
       "    </tr>\n",
       "  </thead>\n",
       "  <tbody>\n",
       "    <tr>\n",
       "      <th>0</th>\n",
       "      <td>2020-01-01</td>\n",
       "      <td>app_start</td>\n",
       "      <td>NaN</td>\n",
       "      <td>android</td>\n",
       "      <td>669460</td>\n",
       "      <td>female</td>\n",
       "      <td>Moscow</td>\n",
       "      <td>-</td>\n",
       "    </tr>\n",
       "    <tr>\n",
       "      <th>1</th>\n",
       "      <td>2020-01-01</td>\n",
       "      <td>app_start</td>\n",
       "      <td>NaN</td>\n",
       "      <td>ios</td>\n",
       "      <td>833621</td>\n",
       "      <td>male</td>\n",
       "      <td>Moscow</td>\n",
       "      <td>vk_ads</td>\n",
       "    </tr>\n",
       "    <tr>\n",
       "      <th>2</th>\n",
       "      <td>2020-01-01</td>\n",
       "      <td>app_start</td>\n",
       "      <td>NaN</td>\n",
       "      <td>android</td>\n",
       "      <td>1579237</td>\n",
       "      <td>male</td>\n",
       "      <td>Saint-Petersburg</td>\n",
       "      <td>referal</td>\n",
       "    </tr>\n",
       "    <tr>\n",
       "      <th>3</th>\n",
       "      <td>2020-01-01</td>\n",
       "      <td>app_start</td>\n",
       "      <td>NaN</td>\n",
       "      <td>android</td>\n",
       "      <td>1737182</td>\n",
       "      <td>female</td>\n",
       "      <td>Moscow</td>\n",
       "      <td>facebook_ads</td>\n",
       "    </tr>\n",
       "    <tr>\n",
       "      <th>4</th>\n",
       "      <td>2020-01-01</td>\n",
       "      <td>app_start</td>\n",
       "      <td>NaN</td>\n",
       "      <td>ios</td>\n",
       "      <td>4029024</td>\n",
       "      <td>female</td>\n",
       "      <td>Moscow</td>\n",
       "      <td>facebook_ads</td>\n",
       "    </tr>\n",
       "  </tbody>\n",
       "</table>\n",
       "</div>"
      ],
      "text/plain": [
       "        date      event  purchase_sum  os_name  device_id  gender  \\\n",
       "0 2020-01-01  app_start           NaN  android     669460  female   \n",
       "1 2020-01-01  app_start           NaN      ios     833621    male   \n",
       "2 2020-01-01  app_start           NaN  android    1579237    male   \n",
       "3 2020-01-01  app_start           NaN  android    1737182  female   \n",
       "4 2020-01-01  app_start           NaN      ios    4029024  female   \n",
       "\n",
       "               city    utm_source  \n",
       "0            Moscow             -  \n",
       "1            Moscow        vk_ads  \n",
       "2  Saint-Petersburg       referal  \n",
       "3            Moscow  facebook_ads  \n",
       "4            Moscow  facebook_ads  "
      ]
     },
     "execution_count": 542,
     "metadata": {},
     "output_type": "execute_result"
    }
   ],
   "source": [
    "df.head()"
   ]
  },
  {
   "cell_type": "code",
   "execution_count": 564,
   "id": "171f67c7-c211-47ef-9ca9-69e2f07d1eb2",
   "metadata": {},
   "outputs": [
    {
     "name": "stderr",
     "output_type": "stream",
     "text": [
      "C:\\Users\\фвьшт\\AppData\\Local\\Temp\\ipykernel_15784\\2217251545.py:2: SettingWithCopyWarning: \n",
      "A value is trying to be set on a copy of a slice from a DataFrame.\n",
      "Try using .loc[row_indexer,col_indexer] = value instead\n",
      "\n",
      "See the caveats in the documentation: https://pandas.pydata.org/pandas-docs/stable/user_guide/indexing.html#returning-a-view-versus-a-copy\n",
      "  visits['month'] = visits.date.dt.month\n",
      "C:\\Users\\фвьшт\\AppData\\Local\\Temp\\ipykernel_15784\\2217251545.py:3: SettingWithCopyWarning: \n",
      "A value is trying to be set on a copy of a slice from a DataFrame.\n",
      "Try using .loc[row_indexer,col_indexer] = value instead\n",
      "\n",
      "See the caveats in the documentation: https://pandas.pydata.org/pandas-docs/stable/user_guide/indexing.html#returning-a-view-versus-a-copy\n",
      "  visits['week_number'] = visits.date.dt.isocalendar().week\n"
     ]
    },
    {
     "data": {
      "text/html": [
       "<div>\n",
       "<style scoped>\n",
       "    .dataframe tbody tr th:only-of-type {\n",
       "        vertical-align: middle;\n",
       "    }\n",
       "\n",
       "    .dataframe tbody tr th {\n",
       "        vertical-align: top;\n",
       "    }\n",
       "\n",
       "    .dataframe thead th {\n",
       "        text-align: right;\n",
       "    }\n",
       "</style>\n",
       "<table border=\"1\" class=\"dataframe\">\n",
       "  <thead>\n",
       "    <tr style=\"text-align: right;\">\n",
       "      <th></th>\n",
       "      <th>date</th>\n",
       "      <th>event</th>\n",
       "      <th>purchase_sum</th>\n",
       "      <th>os_name</th>\n",
       "      <th>device_id</th>\n",
       "      <th>gender</th>\n",
       "      <th>city</th>\n",
       "      <th>utm_source</th>\n",
       "      <th>month</th>\n",
       "      <th>week_number</th>\n",
       "    </tr>\n",
       "  </thead>\n",
       "  <tbody>\n",
       "    <tr>\n",
       "      <th>0</th>\n",
       "      <td>2020-01-01</td>\n",
       "      <td>app_start</td>\n",
       "      <td>NaN</td>\n",
       "      <td>android</td>\n",
       "      <td>669460</td>\n",
       "      <td>female</td>\n",
       "      <td>Moscow</td>\n",
       "      <td>-</td>\n",
       "      <td>1</td>\n",
       "      <td>1</td>\n",
       "    </tr>\n",
       "    <tr>\n",
       "      <th>1</th>\n",
       "      <td>2020-01-01</td>\n",
       "      <td>app_start</td>\n",
       "      <td>NaN</td>\n",
       "      <td>ios</td>\n",
       "      <td>833621</td>\n",
       "      <td>male</td>\n",
       "      <td>Moscow</td>\n",
       "      <td>vk_ads</td>\n",
       "      <td>1</td>\n",
       "      <td>1</td>\n",
       "    </tr>\n",
       "    <tr>\n",
       "      <th>2</th>\n",
       "      <td>2020-01-01</td>\n",
       "      <td>app_start</td>\n",
       "      <td>NaN</td>\n",
       "      <td>android</td>\n",
       "      <td>1579237</td>\n",
       "      <td>male</td>\n",
       "      <td>Saint-Petersburg</td>\n",
       "      <td>referal</td>\n",
       "      <td>1</td>\n",
       "      <td>1</td>\n",
       "    </tr>\n",
       "    <tr>\n",
       "      <th>3</th>\n",
       "      <td>2020-01-01</td>\n",
       "      <td>app_start</td>\n",
       "      <td>NaN</td>\n",
       "      <td>android</td>\n",
       "      <td>1737182</td>\n",
       "      <td>female</td>\n",
       "      <td>Moscow</td>\n",
       "      <td>facebook_ads</td>\n",
       "      <td>1</td>\n",
       "      <td>1</td>\n",
       "    </tr>\n",
       "    <tr>\n",
       "      <th>4</th>\n",
       "      <td>2020-01-01</td>\n",
       "      <td>app_start</td>\n",
       "      <td>NaN</td>\n",
       "      <td>ios</td>\n",
       "      <td>4029024</td>\n",
       "      <td>female</td>\n",
       "      <td>Moscow</td>\n",
       "      <td>facebook_ads</td>\n",
       "      <td>1</td>\n",
       "      <td>1</td>\n",
       "    </tr>\n",
       "  </tbody>\n",
       "</table>\n",
       "</div>"
      ],
      "text/plain": [
       "        date      event  purchase_sum  os_name  device_id  gender  \\\n",
       "0 2020-01-01  app_start           NaN  android     669460  female   \n",
       "1 2020-01-01  app_start           NaN      ios     833621    male   \n",
       "2 2020-01-01  app_start           NaN  android    1579237    male   \n",
       "3 2020-01-01  app_start           NaN  android    1737182  female   \n",
       "4 2020-01-01  app_start           NaN      ios    4029024  female   \n",
       "\n",
       "               city    utm_source  month  week_number  \n",
       "0            Moscow             -      1            1  \n",
       "1            Moscow        vk_ads      1            1  \n",
       "2  Saint-Petersburg       referal      1            1  \n",
       "3            Moscow  facebook_ads      1            1  \n",
       "4            Moscow  facebook_ads      1            1  "
      ]
     },
     "execution_count": 564,
     "metadata": {},
     "output_type": "execute_result"
    }
   ],
   "source": [
    "visits = df[df.event == 'app_start']\n",
    "visits['month'] = visits.date.dt.month\n",
    "visits['week_number'] = visits.date.dt.isocalendar().week\n",
    "visits.head()"
   ]
  },
  {
   "cell_type": "code",
   "execution_count": 566,
   "id": "c6bbefa4-bfeb-4393-9605-9f4d58bca8f0",
   "metadata": {},
   "outputs": [],
   "source": [
    "DAU = visits.groupby('date').agg({'device_id':'nunique'})"
   ]
  },
  {
   "cell_type": "code",
   "execution_count": 568,
   "id": "349875ae-1893-4791-9d14-3ef7a2fe230b",
   "metadata": {},
   "outputs": [
    {
     "name": "stderr",
     "output_type": "stream",
     "text": [
      "D:\\Anaconda\\Lib\\site-packages\\seaborn\\_oldcore.py:1119: FutureWarning: use_inf_as_na option is deprecated and will be removed in a future version. Convert inf values to NaN before operating instead.\n",
      "  with pd.option_context('mode.use_inf_as_na', True):\n",
      "D:\\Anaconda\\Lib\\site-packages\\seaborn\\_oldcore.py:1119: FutureWarning: use_inf_as_na option is deprecated and will be removed in a future version. Convert inf values to NaN before operating instead.\n",
      "  with pd.option_context('mode.use_inf_as_na', True):\n"
     ]
    },
    {
     "data": {
      "text/plain": [
       "<Axes: title={'center': 'DAU'}, xlabel='date'>"
      ]
     },
     "execution_count": 568,
     "metadata": {},
     "output_type": "execute_result"
    },
    {
     "data": {
      "image/png": "[encoded data removed]",
      "text/plain": [
       "<Figure size 1500x800 with 1 Axes>"
      ]
     },
     "metadata": {},
     "output_type": "display_data"
    }
   ],
   "source": [
    "ax, fig = plt.subplots(figsize=(15,8))\n",
    "fig.set_title('DAU', fontsize=15)\n",
    "plt.xticks(rotation=90, fontsize = 9)\n",
    "sns.lineplot(DAU)"
   ]
  },
  {
   "cell_type": "code",
   "execution_count": 570,
   "id": "7f8a1187-dc63-406b-accb-b7ae4d7341bd",
   "metadata": {},
   "outputs": [],
   "source": [
    "WAU = visits.groupby('week_number', as_index = False).agg({'device_id':'nunique'})"
   ]
  },
  {
   "cell_type": "code",
   "execution_count": 572,
   "id": "6e1d354f-5e81-4b4f-ad54-3bdfe9e02e72",
   "metadata": {},
   "outputs": [],
   "source": [
    "WAU['week_number'] = WAU['week_number'].astype('int64')"
   ]
  },
  {
   "cell_type": "code",
   "execution_count": 574,
   "id": "2a9ec58f-d9d1-48c5-95eb-252958d0bd65",
   "metadata": {},
   "outputs": [
    {
     "name": "stderr",
     "output_type": "stream",
     "text": [
      "D:\\Anaconda\\Lib\\site-packages\\seaborn\\_oldcore.py:1119: FutureWarning: use_inf_as_na option is deprecated and will be removed in a future version. Convert inf values to NaN before operating instead.\n",
      "  with pd.option_context('mode.use_inf_as_na', True):\n",
      "D:\\Anaconda\\Lib\\site-packages\\seaborn\\_oldcore.py:1119: FutureWarning: use_inf_as_na option is deprecated and will be removed in a future version. Convert inf values to NaN before operating instead.\n",
      "  with pd.option_context('mode.use_inf_as_na', True):\n"
     ]
    },
    {
     "data": {
      "text/plain": [
       "<Axes: title={'center': 'WAU'}, xlabel='week_number', ylabel='device_id'>"
      ]
     },
     "execution_count": 574,
     "metadata": {},
     "output_type": "execute_result"
    },
    {
     "data": {
      "image/png": "[encoded data removed]",
      "text/plain": [
       "<Figure size 1500x800 with 1 Axes>"
      ]
     },
     "metadata": {},
     "output_type": "display_data"
    }
   ],
   "source": [
    "ax, fig = plt.subplots(figsize=(15,8))\n",
    "fig.set_title('WAU', fontsize=15)\n",
    "plt.xticks(rotation=90, fontsize = 9)\n",
    "sns.lineplot(data = WAU, x = 'week_number', y = 'device_id')"
   ]
  },
  {
   "cell_type": "code",
   "execution_count": 576,
   "id": "196e1e8d-9c90-4fcc-aa29-a3306f552b02",
   "metadata": {},
   "outputs": [
    {
     "data": {
      "text/html": [
       "<div>\n",
       "<style scoped>\n",
       "    .dataframe tbody tr th:only-of-type {\n",
       "        vertical-align: middle;\n",
       "    }\n",
       "\n",
       "    .dataframe tbody tr th {\n",
       "        vertical-align: top;\n",
       "    }\n",
       "\n",
       "    .dataframe thead th {\n",
       "        text-align: right;\n",
       "    }\n",
       "</style>\n",
       "<table border=\"1\" class=\"dataframe\">\n",
       "  <thead>\n",
       "    <tr style=\"text-align: right;\">\n",
       "      <th></th>\n",
       "      <th>device_id</th>\n",
       "    </tr>\n",
       "    <tr>\n",
       "      <th>month</th>\n",
       "      <th></th>\n",
       "    </tr>\n",
       "  </thead>\n",
       "  <tbody>\n",
       "    <tr>\n",
       "      <th>1</th>\n",
       "      <td>99161</td>\n",
       "    </tr>\n",
       "    <tr>\n",
       "      <th>2</th>\n",
       "      <td>75032</td>\n",
       "    </tr>\n",
       "    <tr>\n",
       "      <th>3</th>\n",
       "      <td>74623</td>\n",
       "    </tr>\n",
       "  </tbody>\n",
       "</table>\n",
       "</div>"
      ],
      "text/plain": [
       "       device_id\n",
       "month           \n",
       "1          99161\n",
       "2          75032\n",
       "3          74623"
      ]
     },
     "execution_count": 576,
     "metadata": {},
     "output_type": "execute_result"
    }
   ],
   "source": [
    "MAU = visits.groupby('month').agg({'device_id':'nunique'})\n",
    "MAU"
   ]
  },
  {
   "cell_type": "markdown",
   "id": "55379c34-87c5-40fb-a7a2-cdbc8901d346",
   "metadata": {},
   "source": [
    "### Конверсии по воронке для зарегистрированных пользователей"
   ]
  },
  {
   "cell_type": "markdown",
   "id": "415be734-1db6-40a3-b25b-cfd7c85bebc9",
   "metadata": {},
   "source": [
    "Зарегистрированными пользователями считаются те, у которых дата регистрации < дата совершения события"
   ]
  },
  {
   "cell_type": "code",
   "execution_count": 603,
   "id": "d74d515a-86c0-4917-8879-99270227ad31",
   "metadata": {},
   "outputs": [
    {
     "data": {
      "text/html": [
       "<div>\n",
       "<style scoped>\n",
       "    .dataframe tbody tr th:only-of-type {\n",
       "        vertical-align: middle;\n",
       "    }\n",
       "\n",
       "    .dataframe tbody tr th {\n",
       "        vertical-align: top;\n",
       "    }\n",
       "\n",
       "    .dataframe thead th {\n",
       "        text-align: right;\n",
       "    }\n",
       "</style>\n",
       "<table border=\"1\" class=\"dataframe\">\n",
       "  <thead>\n",
       "    <tr style=\"text-align: right;\">\n",
       "      <th></th>\n",
       "      <th>reg_date</th>\n",
       "      <th>device_id</th>\n",
       "    </tr>\n",
       "  </thead>\n",
       "  <tbody>\n",
       "    <tr>\n",
       "      <th>2669658</th>\n",
       "      <td>2020-01-01</td>\n",
       "      <td>294193</td>\n",
       "    </tr>\n",
       "    <tr>\n",
       "      <th>2669659</th>\n",
       "      <td>2020-01-01</td>\n",
       "      <td>22917617</td>\n",
       "    </tr>\n",
       "    <tr>\n",
       "      <th>2669660</th>\n",
       "      <td>2020-01-01</td>\n",
       "      <td>15248490</td>\n",
       "    </tr>\n",
       "    <tr>\n",
       "      <th>2669661</th>\n",
       "      <td>2020-01-01</td>\n",
       "      <td>252062</td>\n",
       "    </tr>\n",
       "    <tr>\n",
       "      <th>2669662</th>\n",
       "      <td>2020-01-01</td>\n",
       "      <td>2251583</td>\n",
       "    </tr>\n",
       "  </tbody>\n",
       "</table>\n",
       "</div>"
      ],
      "text/plain": [
       "          reg_date  device_id\n",
       "2669658 2020-01-01     294193\n",
       "2669659 2020-01-01   22917617\n",
       "2669660 2020-01-01   15248490\n",
       "2669661 2020-01-01     252062\n",
       "2669662 2020-01-01    2251583"
      ]
     },
     "execution_count": 603,
     "metadata": {},
     "output_type": "execute_result"
    }
   ],
   "source": [
    "reg_df = df.query('event == \"register\"')[['date','device_id']] \\\n",
    "   .drop_duplicates(subset='device_id') \\\n",
    "   .rename(columns = {'date' : 'reg_date'})\n",
    "reg_df.head()"
   ]
  },
  {
   "cell_type": "code",
   "execution_count": 709,
   "id": "750eca5a-9eda-4447-8816-b936d60045d9",
   "metadata": {},
   "outputs": [],
   "source": [
    "already_reg = pd.merge(df, reg_df, on = 'device_id')\n",
    "already_reg = already_reg.query('reg_date < date')"
   ]
  },
  {
   "cell_type": "code",
   "execution_count": 697,
   "id": "fb41b363-ec44-4408-b7ed-85deef2c9f10",
   "metadata": {},
   "outputs": [
    {
     "data": {
      "text/html": [
       "<div>\n",
       "<style scoped>\n",
       "    .dataframe tbody tr th:only-of-type {\n",
       "        vertical-align: middle;\n",
       "    }\n",
       "\n",
       "    .dataframe tbody tr th {\n",
       "        vertical-align: top;\n",
       "    }\n",
       "\n",
       "    .dataframe thead th {\n",
       "        text-align: right;\n",
       "    }\n",
       "</style>\n",
       "<table border=\"1\" class=\"dataframe\">\n",
       "  <thead>\n",
       "    <tr style=\"text-align: right;\">\n",
       "      <th></th>\n",
       "      <th>date</th>\n",
       "      <th>event</th>\n",
       "      <th>purchase_sum</th>\n",
       "      <th>os_name</th>\n",
       "      <th>device_id</th>\n",
       "      <th>gender</th>\n",
       "      <th>city</th>\n",
       "      <th>utm_source</th>\n",
       "      <th>reg_date</th>\n",
       "    </tr>\n",
       "  </thead>\n",
       "  <tbody>\n",
       "    <tr>\n",
       "      <th>16</th>\n",
       "      <td>2020-01-08</td>\n",
       "      <td>app_start</td>\n",
       "      <td>NaN</td>\n",
       "      <td>android</td>\n",
       "      <td>669460</td>\n",
       "      <td>female</td>\n",
       "      <td>Moscow</td>\n",
       "      <td>-</td>\n",
       "      <td>2020-01-07</td>\n",
       "    </tr>\n",
       "    <tr>\n",
       "      <th>17</th>\n",
       "      <td>2020-01-08</td>\n",
       "      <td>choose_item</td>\n",
       "      <td>NaN</td>\n",
       "      <td>android</td>\n",
       "      <td>669460</td>\n",
       "      <td>female</td>\n",
       "      <td>Moscow</td>\n",
       "      <td>-</td>\n",
       "      <td>2020-01-07</td>\n",
       "    </tr>\n",
       "    <tr>\n",
       "      <th>18</th>\n",
       "      <td>2020-01-08</td>\n",
       "      <td>search</td>\n",
       "      <td>NaN</td>\n",
       "      <td>android</td>\n",
       "      <td>669460</td>\n",
       "      <td>female</td>\n",
       "      <td>Moscow</td>\n",
       "      <td>-</td>\n",
       "      <td>2020-01-07</td>\n",
       "    </tr>\n",
       "    <tr>\n",
       "      <th>19</th>\n",
       "      <td>2020-01-08</td>\n",
       "      <td>tap_basket</td>\n",
       "      <td>NaN</td>\n",
       "      <td>android</td>\n",
       "      <td>669460</td>\n",
       "      <td>female</td>\n",
       "      <td>Moscow</td>\n",
       "      <td>-</td>\n",
       "      <td>2020-01-07</td>\n",
       "    </tr>\n",
       "    <tr>\n",
       "      <th>20</th>\n",
       "      <td>2020-01-09</td>\n",
       "      <td>app_start</td>\n",
       "      <td>NaN</td>\n",
       "      <td>android</td>\n",
       "      <td>669460</td>\n",
       "      <td>female</td>\n",
       "      <td>Moscow</td>\n",
       "      <td>-</td>\n",
       "      <td>2020-01-07</td>\n",
       "    </tr>\n",
       "  </tbody>\n",
       "</table>\n",
       "</div>"
      ],
      "text/plain": [
       "         date        event  purchase_sum  os_name  device_id  gender    city  \\\n",
       "16 2020-01-08    app_start           NaN  android     669460  female  Moscow   \n",
       "17 2020-01-08  choose_item           NaN  android     669460  female  Moscow   \n",
       "18 2020-01-08       search           NaN  android     669460  female  Moscow   \n",
       "19 2020-01-08   tap_basket           NaN  android     669460  female  Moscow   \n",
       "20 2020-01-09    app_start           NaN  android     669460  female  Moscow   \n",
       "\n",
       "   utm_source   reg_date  \n",
       "16          - 2020-01-07  \n",
       "17          - 2020-01-07  \n",
       "18          - 2020-01-07  \n",
       "19          - 2020-01-07  \n",
       "20          - 2020-01-07  "
      ]
     },
     "execution_count": 697,
     "metadata": {},
     "output_type": "execute_result"
    }
   ],
   "source": [
    "already_reg.head()"
   ]
  },
  {
   "cell_type": "code",
   "execution_count": 699,
   "id": "3d5daddb-86fe-4d9f-87d1-36ddab389e62",
   "metadata": {},
   "outputs": [
    {
     "data": {
      "text/plain": [
       "(1463946, 9)"
      ]
     },
     "execution_count": 699,
     "metadata": {},
     "output_type": "execute_result"
    }
   ],
   "source": [
    "already_reg.shape"
   ]
  },
  {
   "cell_type": "code",
   "execution_count": 701,
   "id": "ed412100-9717-4c84-9696-4a48008467a0",
   "metadata": {},
   "outputs": [
    {
     "data": {
      "text/plain": [
       "event\n",
       "app_start      40991\n",
       "choose_item    37926\n",
       "purchase       24880\n",
       "search         40482\n",
       "tap_basket     34517\n",
       "Name: device_id, dtype: int64"
      ]
     },
     "execution_count": 701,
     "metadata": {},
     "output_type": "execute_result"
    }
   ],
   "source": [
    "already_reg.groupby('event').device_id.nunique()"
   ]
  },
  {
   "cell_type": "code",
   "execution_count": 662,
   "id": "a7961a47-260b-4012-a794-c15f9082875d",
   "metadata": {},
   "outputs": [
    {
     "data": {
      "text/plain": [
       "array(['app_start', 'choose_item', 'search', 'tap_basket', 'purchase',\n",
       "       'app_install'], dtype=object)"
      ]
     },
     "execution_count": 662,
     "metadata": {},
     "output_type": "execute_result"
    }
   ],
   "source": [
    "already_reg.event.unique()"
   ]
  },
  {
   "cell_type": "code",
   "execution_count": 707,
   "id": "5b1c41d0-f8e6-47d5-a8cc-11c7f49efe4e",
   "metadata": {},
   "outputs": [
    {
     "data": {
      "text/plain": [
       "41007"
      ]
     },
     "execution_count": 707,
     "metadata": {},
     "output_type": "execute_result"
    }
   ],
   "source": [
    "# Количество уникальных зарегистрированных пользователей\n",
    "users_count = already_reg.device_id.nunique()\n",
    "users_count"
   ]
  },
  {
   "cell_type": "markdown",
   "id": "e86b058a-fd81-4191-9c98-1586a69be6a5",
   "metadata": {},
   "source": [
    "Воронка для зарегистрированных пользователей выглядит следующим образом:\n",
    "\n",
    "1. Открытие приложения (app_start)\n",
    "2. Переход на страницу поиска товаров (search)\n",
    "3. Отправить товар в корзину (choose_item) \n",
    "4. Переход в корзину (tap_basket)\n",
    "5. Подтверждение покупки (purchase) "
   ]
  },
  {
   "cell_type": "markdown",
   "id": "74c998a4-0ac4-4617-a14a-b8c1ceaa436f",
   "metadata": {},
   "source": [
    "* Конверсия из открытия приложения в поиск "
   ]
  },
  {
   "cell_type": "code",
   "execution_count": 711,
   "id": "b3ea0fff-4273-448b-b296-ce0670526e36",
   "metadata": {},
   "outputs": [
    {
     "data": {
      "text/plain": [
       "40991"
      ]
     },
     "execution_count": 711,
     "metadata": {},
     "output_type": "execute_result"
    }
   ],
   "source": [
    "start_count = already_reg.query('event == \"app_start\"').device_id.nunique()\n",
    "start_count"
   ]
  },
  {
   "cell_type": "code",
   "execution_count": 713,
   "id": "d2b0f23a-0cda-45dd-a10a-eb0146763b94",
   "metadata": {},
   "outputs": [
    {
     "data": {
      "text/plain": [
       "40482"
      ]
     },
     "execution_count": 713,
     "metadata": {},
     "output_type": "execute_result"
    }
   ],
   "source": [
    "search_count = already_reg.query('event == \"search\"').device_id.nunique()\n",
    "search_count"
   ]
  },
  {
   "cell_type": "code",
   "execution_count": 715,
   "id": "aeac285a-115d-41d5-b99f-b707e711ca9e",
   "metadata": {},
   "outputs": [
    {
     "name": "stdout",
     "output_type": "stream",
     "text": [
      "Конверсия из открытия приложения в поиск: 98.76%\n"
     ]
    }
   ],
   "source": [
    "print(f\"Конверсия из открытия приложения в поиск: {round(search_count / start_count * 100,2)}%\")"
   ]
  },
  {
   "cell_type": "markdown",
   "id": "7d60a898-9e3d-4ea8-b423-2133c9497f03",
   "metadata": {},
   "source": [
    "* Конверсия из открытия каталога в перемещение товара в корзину"
   ]
  },
  {
   "cell_type": "code",
   "execution_count": 717,
   "id": "ced06ce2-692f-43f6-acfd-6b8c8acb06c3",
   "metadata": {},
   "outputs": [
    {
     "data": {
      "text/plain": [
       "37926"
      ]
     },
     "execution_count": 717,
     "metadata": {},
     "output_type": "execute_result"
    }
   ],
   "source": [
    "choose_count = already_reg.query('event == \"choose_item\"').device_id.nunique()\n",
    "choose_count"
   ]
  },
  {
   "cell_type": "code",
   "execution_count": 719,
   "id": "9356ca5a-eb94-4704-a7a1-4681bf0bcec3",
   "metadata": {},
   "outputs": [
    {
     "name": "stdout",
     "output_type": "stream",
     "text": [
      "Конверсия из открытия каталога в перемещение товара в корзину: 93.69%\n",
      "Конверсия из открытия приложения в перемещение товара в корзину: 92.52%\n"
     ]
    }
   ],
   "source": [
    "print(f\"Конверсия из открытия каталога в перемещение товара в корзину: {round(choose_count / search_count * 100,2)}%\")\n",
    "print(f\"Конверсия из открытия приложения в перемещение товара в корзину: {round(choose_count / start_count * 100,2)}%\")"
   ]
  },
  {
   "cell_type": "markdown",
   "id": "9bdf31a9-fa11-4190-a6ab-3b223774a5b1",
   "metadata": {},
   "source": [
    "* Конверсия перехода в корзину"
   ]
  },
  {
   "cell_type": "code",
   "execution_count": 723,
   "id": "96b86bf1-c0ea-495c-adc3-5cdc945ba47c",
   "metadata": {},
   "outputs": [
    {
     "data": {
      "text/plain": [
       "34517"
      ]
     },
     "execution_count": 723,
     "metadata": {},
     "output_type": "execute_result"
    }
   ],
   "source": [
    "basket_count = already_reg.query('event == \"tap_basket\"').device_id.nunique()\n",
    "basket_count"
   ]
  },
  {
   "cell_type": "code",
   "execution_count": 725,
   "id": "809cc2b1-1a9c-4bc0-b3ff-34d20e45bd96",
   "metadata": {},
   "outputs": [
    {
     "name": "stdout",
     "output_type": "stream",
     "text": [
      "Конверсия из перемещения товара в корзину в переход в корзину: 91.01%\n",
      "Конверсия из открытия приложения в переход в корзину: 84.21%\n"
     ]
    }
   ],
   "source": [
    "print(f\"Конверсия из перемещения товара в корзину в переход в корзину: {round(basket_count / choose_count * 100,2)}%\")\n",
    "print(f\"Конверсия из открытия приложения в переход в корзину: {round(basket_count / start_count * 100,2)}%\")"
   ]
  },
  {
   "cell_type": "markdown",
   "id": "d7578caf-909f-422e-b68a-8741613003be",
   "metadata": {},
   "source": [
    "* Конверсия подтверждения покупки"
   ]
  },
  {
   "cell_type": "code",
   "execution_count": 727,
   "id": "83a3c9f4-62b2-4761-a1fc-fa4d57fa90ea",
   "metadata": {},
   "outputs": [
    {
     "data": {
      "text/plain": [
       "24880"
      ]
     },
     "execution_count": 727,
     "metadata": {},
     "output_type": "execute_result"
    }
   ],
   "source": [
    "purchase_count = already_reg.query('event == \"purchase\"').device_id.nunique()\n",
    "purchase_count "
   ]
  },
  {
   "cell_type": "code",
   "execution_count": 729,
   "id": "b3f86e49-e940-470f-b910-7e2d5d0809ee",
   "metadata": {},
   "outputs": [
    {
     "name": "stdout",
     "output_type": "stream",
     "text": [
      "Конверсия из перехода в корзину в покупку: 72.08%\n",
      "Конверсия из открытия приложения в покупку: 60.7%\n"
     ]
    }
   ],
   "source": [
    "print(f\"Конверсия из перехода в корзину в покупку: {round(purchase_count / basket_count * 100,2)}%\")\n",
    "print(f\"Конверсия из открытия приложения в покупку: {round(purchase_count  / start_count * 100,2)}%\")"
   ]
  },
  {
   "cell_type": "markdown",
   "id": "d0fc21e5-6365-4691-a442-49a2804638fa",
   "metadata": {},
   "source": [
    "### Конверсия из установки в покупку за 7 дней"
   ]
  },
  {
   "cell_type": "markdown",
   "id": "9ad1cb05-6b63-4f19-abdc-fb433062ac04",
   "metadata": {},
   "source": [
    "Для разбивки по когортам будем использовать дату регистрации."
   ]
  },
  {
   "cell_type": "code",
   "execution_count": 412,
   "id": "d64604f9-97b5-4b09-9b86-952fe983980a",
   "metadata": {},
   "outputs": [
    {
     "data": {
      "text/html": [
       "<div>\n",
       "<style scoped>\n",
       "    .dataframe tbody tr th:only-of-type {\n",
       "        vertical-align: middle;\n",
       "    }\n",
       "\n",
       "    .dataframe tbody tr th {\n",
       "        vertical-align: top;\n",
       "    }\n",
       "\n",
       "    .dataframe thead th {\n",
       "        text-align: right;\n",
       "    }\n",
       "</style>\n",
       "<table border=\"1\" class=\"dataframe\">\n",
       "  <thead>\n",
       "    <tr style=\"text-align: right;\">\n",
       "      <th></th>\n",
       "      <th>install_date</th>\n",
       "      <th>device_id</th>\n",
       "    </tr>\n",
       "  </thead>\n",
       "  <tbody>\n",
       "    <tr>\n",
       "      <th>2515061</th>\n",
       "      <td>2020-01-01</td>\n",
       "      <td>4921563</td>\n",
       "    </tr>\n",
       "    <tr>\n",
       "      <th>2515065</th>\n",
       "      <td>2020-01-01</td>\n",
       "      <td>8798567</td>\n",
       "    </tr>\n",
       "    <tr>\n",
       "      <th>2515066</th>\n",
       "      <td>2020-01-01</td>\n",
       "      <td>8423608</td>\n",
       "    </tr>\n",
       "    <tr>\n",
       "      <th>2515067</th>\n",
       "      <td>2020-01-01</td>\n",
       "      <td>532710</td>\n",
       "    </tr>\n",
       "    <tr>\n",
       "      <th>2515068</th>\n",
       "      <td>2020-01-01</td>\n",
       "      <td>16060092</td>\n",
       "    </tr>\n",
       "  </tbody>\n",
       "</table>\n",
       "</div>"
      ],
      "text/plain": [
       "        install_date  device_id\n",
       "2515061   2020-01-01    4921563\n",
       "2515065   2020-01-01    8798567\n",
       "2515066   2020-01-01    8423608\n",
       "2515067   2020-01-01     532710\n",
       "2515068   2020-01-01   16060092"
      ]
     },
     "execution_count": 412,
     "metadata": {},
     "output_type": "execute_result"
    }
   ],
   "source": [
    "install_df = installs[['date','device_id']].rename(columns={'date':'install_date'})\n",
    "install_df.head()"
   ]
  },
  {
   "cell_type": "code",
   "execution_count": 424,
   "id": "0484945a-1db0-4a0c-a298-63724da58b93",
   "metadata": {},
   "outputs": [
    {
     "data": {
      "text/html": [
       "<div>\n",
       "<style scoped>\n",
       "    .dataframe tbody tr th:only-of-type {\n",
       "        vertical-align: middle;\n",
       "    }\n",
       "\n",
       "    .dataframe tbody tr th {\n",
       "        vertical-align: top;\n",
       "    }\n",
       "\n",
       "    .dataframe thead th {\n",
       "        text-align: right;\n",
       "    }\n",
       "</style>\n",
       "<table border=\"1\" class=\"dataframe\">\n",
       "  <thead>\n",
       "    <tr style=\"text-align: right;\">\n",
       "      <th></th>\n",
       "      <th>purchase_date</th>\n",
       "      <th>device_id</th>\n",
       "    </tr>\n",
       "  </thead>\n",
       "  <tbody>\n",
       "    <tr>\n",
       "      <th>7691</th>\n",
       "      <td>2020-01-01</td>\n",
       "      <td>6081155</td>\n",
       "    </tr>\n",
       "    <tr>\n",
       "      <th>7692</th>\n",
       "      <td>2020-01-01</td>\n",
       "      <td>77448</td>\n",
       "    </tr>\n",
       "    <tr>\n",
       "      <th>7693</th>\n",
       "      <td>2020-01-01</td>\n",
       "      <td>7458607</td>\n",
       "    </tr>\n",
       "    <tr>\n",
       "      <th>7694</th>\n",
       "      <td>2020-01-01</td>\n",
       "      <td>3520947</td>\n",
       "    </tr>\n",
       "    <tr>\n",
       "      <th>7695</th>\n",
       "      <td>2020-01-01</td>\n",
       "      <td>1170605</td>\n",
       "    </tr>\n",
       "    <tr>\n",
       "      <th>...</th>\n",
       "      <td>...</td>\n",
       "      <td>...</td>\n",
       "    </tr>\n",
       "    <tr>\n",
       "      <th>2507462</th>\n",
       "      <td>2020-03-31</td>\n",
       "      <td>17964402</td>\n",
       "    </tr>\n",
       "    <tr>\n",
       "      <th>2507463</th>\n",
       "      <td>2020-03-31</td>\n",
       "      <td>8700073</td>\n",
       "    </tr>\n",
       "    <tr>\n",
       "      <th>2507467</th>\n",
       "      <td>2020-03-31</td>\n",
       "      <td>13278240</td>\n",
       "    </tr>\n",
       "    <tr>\n",
       "      <th>2507469</th>\n",
       "      <td>2020-03-31</td>\n",
       "      <td>11864116</td>\n",
       "    </tr>\n",
       "    <tr>\n",
       "      <th>2507471</th>\n",
       "      <td>2020-03-31</td>\n",
       "      <td>26120362</td>\n",
       "    </tr>\n",
       "  </tbody>\n",
       "</table>\n",
       "<p>70875 rows × 2 columns</p>\n",
       "</div>"
      ],
      "text/plain": [
       "        purchase_date  device_id\n",
       "7691       2020-01-01    6081155\n",
       "7692       2020-01-01      77448\n",
       "7693       2020-01-01    7458607\n",
       "7694       2020-01-01    3520947\n",
       "7695       2020-01-01    1170605\n",
       "...               ...        ...\n",
       "2507462    2020-03-31   17964402\n",
       "2507463    2020-03-31    8700073\n",
       "2507467    2020-03-31   13278240\n",
       "2507469    2020-03-31   11864116\n",
       "2507471    2020-03-31   26120362\n",
       "\n",
       "[70875 rows x 2 columns]"
      ]
     },
     "execution_count": 424,
     "metadata": {},
     "output_type": "execute_result"
    }
   ],
   "source": [
    "purchases_df = df.query('event == \"purchase\"')[['date','device_id']].rename(columns={'date':'purchase_date'})\n",
    "purchases_df.drop_duplicates(inplace = True, subset = 'device_id')\n",
    "purchases_df"
   ]
  },
  {
   "cell_type": "markdown",
   "id": "908ecbfa-3f9d-4aa9-a52e-8e4809eafc72",
   "metadata": {},
   "source": [
    "Получим информацию о каждом пользователе: дата регистрации, дата первой покупки"
   ]
  },
  {
   "cell_type": "code",
   "execution_count": 426,
   "id": "f33c7096-55c1-4a40-8a5d-d06ea8d65da7",
   "metadata": {},
   "outputs": [],
   "source": [
    "cohorts_df = pd.merge(install_df, purchases_df, on = 'device_id', how = 'left')"
   ]
  },
  {
   "cell_type": "code",
   "execution_count": 434,
   "id": "16dba237-3085-4899-b68e-84ffeca7134d",
   "metadata": {},
   "outputs": [
    {
     "data": {
      "text/html": [
       "<div>\n",
       "<style scoped>\n",
       "    .dataframe tbody tr th:only-of-type {\n",
       "        vertical-align: middle;\n",
       "    }\n",
       "\n",
       "    .dataframe tbody tr th {\n",
       "        vertical-align: top;\n",
       "    }\n",
       "\n",
       "    .dataframe thead th {\n",
       "        text-align: right;\n",
       "    }\n",
       "</style>\n",
       "<table border=\"1\" class=\"dataframe\">\n",
       "  <thead>\n",
       "    <tr style=\"text-align: right;\">\n",
       "      <th></th>\n",
       "      <th>install_date</th>\n",
       "      <th>device_id</th>\n",
       "      <th>purchase_date</th>\n",
       "    </tr>\n",
       "  </thead>\n",
       "  <tbody>\n",
       "    <tr>\n",
       "      <th>0</th>\n",
       "      <td>2020-01-01</td>\n",
       "      <td>4921563</td>\n",
       "      <td>2020-01-10</td>\n",
       "    </tr>\n",
       "    <tr>\n",
       "      <th>1</th>\n",
       "      <td>2020-01-01</td>\n",
       "      <td>8798567</td>\n",
       "      <td>NaT</td>\n",
       "    </tr>\n",
       "    <tr>\n",
       "      <th>2</th>\n",
       "      <td>2020-01-01</td>\n",
       "      <td>8423608</td>\n",
       "      <td>2020-01-06</td>\n",
       "    </tr>\n",
       "    <tr>\n",
       "      <th>3</th>\n",
       "      <td>2020-01-01</td>\n",
       "      <td>532710</td>\n",
       "      <td>2020-01-03</td>\n",
       "    </tr>\n",
       "    <tr>\n",
       "      <th>4</th>\n",
       "      <td>2020-01-01</td>\n",
       "      <td>16060092</td>\n",
       "      <td>NaT</td>\n",
       "    </tr>\n",
       "  </tbody>\n",
       "</table>\n",
       "</div>"
      ],
      "text/plain": [
       "  install_date  device_id purchase_date\n",
       "0   2020-01-01    4921563    2020-01-10\n",
       "1   2020-01-01    8798567           NaT\n",
       "2   2020-01-01    8423608    2020-01-06\n",
       "3   2020-01-01     532710    2020-01-03\n",
       "4   2020-01-01   16060092           NaT"
      ]
     },
     "execution_count": 434,
     "metadata": {},
     "output_type": "execute_result"
    }
   ],
   "source": [
    "cohorts_df.head()"
   ]
  },
  {
   "cell_type": "markdown",
   "id": "010bc944-3dbe-4929-ab4d-82d50cd424a7",
   "metadata": {},
   "source": [
    "Если пользователь не совершал покупок (NaT в поле purchase_date) можем заполнить пропуски датой, превышающей 7 дней с момента регистрации, чтобы считать этих пользователей не сконвертированными."
   ]
  },
  {
   "cell_type": "code",
   "execution_count": 440,
   "id": "460a7285-c995-4551-ae0d-7f2a0bdf23b3",
   "metadata": {},
   "outputs": [],
   "source": [
    "cohorts_df.purchase_date = cohorts_df.purchase_date.fillna('2024-10-10')"
   ]
  },
  {
   "cell_type": "code",
   "execution_count": 444,
   "id": "5bd2a0b8-b22b-44fa-a4d1-566c90a929ad",
   "metadata": {},
   "outputs": [],
   "source": [
    "cohorts_df['days_diff'] = (cohorts_df.purchase_date - cohorts_df.install_date).dt.days"
   ]
  },
  {
   "cell_type": "code",
   "execution_count": 446,
   "id": "fcf2eaba-66db-4d1a-a6f2-f9eb1431c238",
   "metadata": {},
   "outputs": [],
   "source": [
    "cohorts_df['diff_less_7_days'] = cohorts_df.days_diff <= 7 "
   ]
  },
  {
   "cell_type": "code",
   "execution_count": 454,
   "id": "d2a03764-3c12-4984-9a22-66e13f074643",
   "metadata": {},
   "outputs": [],
   "source": [
    "cohorts_df['diff_less_7_days'] = cohorts_df.diff_less_7_days.astype('int')"
   ]
  },
  {
   "cell_type": "code",
   "execution_count": 466,
   "id": "b46e53ef-42d0-4c66-8b83-ba9eb9a4075f",
   "metadata": {},
   "outputs": [
    {
     "data": {
      "text/html": [
       "<div>\n",
       "<style scoped>\n",
       "    .dataframe tbody tr th:only-of-type {\n",
       "        vertical-align: middle;\n",
       "    }\n",
       "\n",
       "    .dataframe tbody tr th {\n",
       "        vertical-align: top;\n",
       "    }\n",
       "\n",
       "    .dataframe thead th {\n",
       "        text-align: right;\n",
       "    }\n",
       "</style>\n",
       "<table border=\"1\" class=\"dataframe\">\n",
       "  <thead>\n",
       "    <tr style=\"text-align: right;\">\n",
       "      <th></th>\n",
       "      <th>user_count</th>\n",
       "      <th>diff_less_7_days</th>\n",
       "      <th>cr</th>\n",
       "    </tr>\n",
       "    <tr>\n",
       "      <th>install_date</th>\n",
       "      <th></th>\n",
       "      <th></th>\n",
       "      <th></th>\n",
       "    </tr>\n",
       "  </thead>\n",
       "  <tbody>\n",
       "    <tr>\n",
       "      <th>2020-01-01</th>\n",
       "      <td>2818</td>\n",
       "      <td>1094</td>\n",
       "      <td>38.82</td>\n",
       "    </tr>\n",
       "    <tr>\n",
       "      <th>2020-01-02</th>\n",
       "      <td>2470</td>\n",
       "      <td>924</td>\n",
       "      <td>37.41</td>\n",
       "    </tr>\n",
       "    <tr>\n",
       "      <th>2020-01-03</th>\n",
       "      <td>1888</td>\n",
       "      <td>641</td>\n",
       "      <td>33.95</td>\n",
       "    </tr>\n",
       "    <tr>\n",
       "      <th>2020-01-04</th>\n",
       "      <td>1444</td>\n",
       "      <td>491</td>\n",
       "      <td>34.00</td>\n",
       "    </tr>\n",
       "    <tr>\n",
       "      <th>2020-01-05</th>\n",
       "      <td>1336</td>\n",
       "      <td>464</td>\n",
       "      <td>34.73</td>\n",
       "    </tr>\n",
       "    <tr>\n",
       "      <th>...</th>\n",
       "      <td>...</td>\n",
       "      <td>...</td>\n",
       "      <td>...</td>\n",
       "    </tr>\n",
       "    <tr>\n",
       "      <th>2020-03-27</th>\n",
       "      <td>927</td>\n",
       "      <td>207</td>\n",
       "      <td>22.33</td>\n",
       "    </tr>\n",
       "    <tr>\n",
       "      <th>2020-03-28</th>\n",
       "      <td>859</td>\n",
       "      <td>171</td>\n",
       "      <td>19.91</td>\n",
       "    </tr>\n",
       "    <tr>\n",
       "      <th>2020-03-29</th>\n",
       "      <td>878</td>\n",
       "      <td>168</td>\n",
       "      <td>19.13</td>\n",
       "    </tr>\n",
       "    <tr>\n",
       "      <th>2020-03-30</th>\n",
       "      <td>779</td>\n",
       "      <td>165</td>\n",
       "      <td>21.18</td>\n",
       "    </tr>\n",
       "    <tr>\n",
       "      <th>2020-03-31</th>\n",
       "      <td>747</td>\n",
       "      <td>185</td>\n",
       "      <td>24.77</td>\n",
       "    </tr>\n",
       "  </tbody>\n",
       "</table>\n",
       "<p>91 rows × 3 columns</p>\n",
       "</div>"
      ],
      "text/plain": [
       "              user_count  diff_less_7_days     cr\n",
       "install_date                                     \n",
       "2020-01-01          2818              1094  38.82\n",
       "2020-01-02          2470               924  37.41\n",
       "2020-01-03          1888               641  33.95\n",
       "2020-01-04          1444               491  34.00\n",
       "2020-01-05          1336               464  34.73\n",
       "...                  ...               ...    ...\n",
       "2020-03-27           927               207  22.33\n",
       "2020-03-28           859               171  19.91\n",
       "2020-03-29           878               168  19.13\n",
       "2020-03-30           779               165  21.18\n",
       "2020-03-31           747               185  24.77\n",
       "\n",
       "[91 rows x 3 columns]"
      ]
     },
     "execution_count": 466,
     "metadata": {},
     "output_type": "execute_result"
    }
   ],
   "source": [
    "purchase_cr = cohorts_df.groupby('install_date').agg({'device_id' : 'count', 'diff_less_7_days' : 'sum'}) \\\n",
    "                        .rename(columns={'device_id' : 'user_count'})\n",
    "purchase_cr['cr'] = round(purchase_cr.diff_less_7_days / purchase_cr.user_count * 100,2)\n",
    "purchase_cr"
   ]
  },
  {
   "cell_type": "code",
   "execution_count": 468,
   "id": "7e56e14a-0b96-42e2-aa17-91646a91ca27",
   "metadata": {},
   "outputs": [
    {
     "data": {
      "text/html": [
       "<div>\n",
       "<style scoped>\n",
       "    .dataframe tbody tr th:only-of-type {\n",
       "        vertical-align: middle;\n",
       "    }\n",
       "\n",
       "    .dataframe tbody tr th {\n",
       "        vertical-align: top;\n",
       "    }\n",
       "\n",
       "    .dataframe thead th {\n",
       "        text-align: right;\n",
       "    }\n",
       "</style>\n",
       "<table border=\"1\" class=\"dataframe\">\n",
       "  <thead>\n",
       "    <tr style=\"text-align: right;\">\n",
       "      <th></th>\n",
       "      <th>user_count</th>\n",
       "      <th>diff_less_7_days</th>\n",
       "      <th>cr</th>\n",
       "    </tr>\n",
       "    <tr>\n",
       "      <th>install_date</th>\n",
       "      <th></th>\n",
       "      <th></th>\n",
       "      <th></th>\n",
       "    </tr>\n",
       "  </thead>\n",
       "  <tbody>\n",
       "    <tr>\n",
       "      <th>2020-01-09</th>\n",
       "      <td>1124</td>\n",
       "      <td>443</td>\n",
       "      <td>39.41</td>\n",
       "    </tr>\n",
       "    <tr>\n",
       "      <th>2020-01-01</th>\n",
       "      <td>2818</td>\n",
       "      <td>1094</td>\n",
       "      <td>38.82</td>\n",
       "    </tr>\n",
       "    <tr>\n",
       "      <th>2020-01-13</th>\n",
       "      <td>3582</td>\n",
       "      <td>1358</td>\n",
       "      <td>37.91</td>\n",
       "    </tr>\n",
       "    <tr>\n",
       "      <th>2020-01-14</th>\n",
       "      <td>4054</td>\n",
       "      <td>1536</td>\n",
       "      <td>37.89</td>\n",
       "    </tr>\n",
       "    <tr>\n",
       "      <th>2020-01-15</th>\n",
       "      <td>3390</td>\n",
       "      <td>1274</td>\n",
       "      <td>37.58</td>\n",
       "    </tr>\n",
       "    <tr>\n",
       "      <th>...</th>\n",
       "      <td>...</td>\n",
       "      <td>...</td>\n",
       "      <td>...</td>\n",
       "    </tr>\n",
       "    <tr>\n",
       "      <th>2020-03-22</th>\n",
       "      <td>1007</td>\n",
       "      <td>202</td>\n",
       "      <td>20.06</td>\n",
       "    </tr>\n",
       "    <tr>\n",
       "      <th>2020-03-28</th>\n",
       "      <td>859</td>\n",
       "      <td>171</td>\n",
       "      <td>19.91</td>\n",
       "    </tr>\n",
       "    <tr>\n",
       "      <th>2020-03-18</th>\n",
       "      <td>921</td>\n",
       "      <td>182</td>\n",
       "      <td>19.76</td>\n",
       "    </tr>\n",
       "    <tr>\n",
       "      <th>2020-03-29</th>\n",
       "      <td>878</td>\n",
       "      <td>168</td>\n",
       "      <td>19.13</td>\n",
       "    </tr>\n",
       "    <tr>\n",
       "      <th>2020-03-06</th>\n",
       "      <td>4991</td>\n",
       "      <td>634</td>\n",
       "      <td>12.70</td>\n",
       "    </tr>\n",
       "  </tbody>\n",
       "</table>\n",
       "<p>91 rows × 3 columns</p>\n",
       "</div>"
      ],
      "text/plain": [
       "              user_count  diff_less_7_days     cr\n",
       "install_date                                     \n",
       "2020-01-09          1124               443  39.41\n",
       "2020-01-01          2818              1094  38.82\n",
       "2020-01-13          3582              1358  37.91\n",
       "2020-01-14          4054              1536  37.89\n",
       "2020-01-15          3390              1274  37.58\n",
       "...                  ...               ...    ...\n",
       "2020-03-22          1007               202  20.06\n",
       "2020-03-28           859               171  19.91\n",
       "2020-03-18           921               182  19.76\n",
       "2020-03-29           878               168  19.13\n",
       "2020-03-06          4991               634  12.70\n",
       "\n",
       "[91 rows x 3 columns]"
      ]
     },
     "execution_count": 468,
     "metadata": {},
     "output_type": "execute_result"
    }
   ],
   "source": [
    "purchase_cr.sort_values('cr', ascending = False)"
   ]
  }
 ],
 "metadata": {
  "kernelspec": {
   "display_name": "Python 3 (ipykernel)",
   "language": "python",
   "name": "python3"
  },
  "language_info": {
   "codemirror_mode": {
    "name": "ipython",
    "version": 3
   },
   "file_extension": ".py",
   "mimetype": "text/x-python",
   "name": "python",
   "nbconvert_exporter": "python",
   "pygments_lexer": "ipython3",
   "version": "3.11.7"
  }
 },
 "nbformat": 4,
 "nbformat_minor": 5
}
